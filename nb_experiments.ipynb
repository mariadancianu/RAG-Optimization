{
 "cells": [
  {
   "cell_type": "code",
   "execution_count": null,
   "id": "b0accd0d-fb0b-4c5e-be02-8063d3b6a2c9",
   "metadata": {},
   "outputs": [
    {
     "name": "stderr",
     "output_type": "stream",
     "text": [
      "/Users/mariadancianu/Desktop/Git Projects/SQuAD_RAG_experiments/.venv/lib/python3.12/site-packages/tqdm/auto.py:21: TqdmWarning: IProgress not found. Please update jupyter and ipywidgets. See https://ipywidgets.readthedocs.io/en/stable/user_install.html\n",
      "  from .autonotebook import tqdm as notebook_tqdm\n"
     ]
    },
    {
     "data": {
      "text/plain": [
       "True"
      ]
     },
     "execution_count": 1,
     "metadata": {},
     "output_type": "execute_result"
    }
   ],
   "source": [
    "import json\n",
    "import os \n",
    "import pandas as pd\n",
    "import numpy as np \n",
    "import seaborn as sns\n",
    "import matplotlib.pyplot as plt\n",
    "from tqdm.auto import tqdm\n",
    "from rag_fine_tuning import create_vector_store, convert_context_to_langchain_docs\n",
    "from rag_fine_tuning import query_vector_store, save_llm_answers, fine_tune_rag\n",
    "from data_utils import convert_json_to_dataframe, create_json_subset, collect_all_results\n",
    "sns.set_style(\"whitegrid\")\n",
    "from langchain.embeddings import HuggingFaceEmbeddings\n",
    "from langchain_openai import OpenAIEmbeddings\n",
    "from dotenv import load_dotenv\n",
    "load_dotenv()"
   ]
  },
  {
   "cell_type": "markdown",
   "id": "1ece24fd",
   "metadata": {},
   "source": [
    "# Useful material \n",
    "# SQuAD Evaluation guidelines: \n",
    "# https://worksheets.codalab.org/worksheets/0x8212d84ca41c4150b555a075b19ccc05/\n",
    "# https://rajpurkar.github.io/SQuAD-explorer/"
   ]
  },
  {
   "cell_type": "markdown",
   "id": "868b749b",
   "metadata": {},
   "source": [
    "# Convert json data to pandas dataframe "
   ]
  },
  {
   "cell_type": "code",
   "execution_count": 2,
   "id": "f49d8df1-cea0-410b-9c27-985406ea208b",
   "metadata": {},
   "outputs": [
    {
     "name": "stdout",
     "output_type": "stream",
     "text": [
      "Saving dataframe of shape:  (11873, 14)\n"
     ]
    }
   ],
   "source": [
    "convert_json_to_dataframe()"
   ]
  },
  {
   "cell_type": "code",
   "execution_count": 6,
   "id": "a2a6d356",
   "metadata": {},
   "outputs": [
    {
     "data": {
      "text/plain": [
       "(11873, 14)"
      ]
     },
     "execution_count": 6,
     "metadata": {},
     "output_type": "execute_result"
    }
   ],
   "source": [
    "df_all_data = pd.read_csv(\"dataset.csv\")\n",
    "df_all_data.shape"
   ]
  },
  {
   "cell_type": "code",
   "execution_count": 9,
   "id": "5771778e-ae9e-49b4-9216-658bdefc8db8",
   "metadata": {},
   "outputs": [],
   "source": [
    "df_selected = df_all_data.copy()"
   ]
  },
  {
   "cell_type": "code",
   "execution_count": 10,
   "id": "81f2eebd-70b9-4118-b691-0c6c96e72a95",
   "metadata": {},
   "outputs": [],
   "source": [
    "# some rough statistics for the context length \n",
    "df_selected.loc[:, \"context_chars\"] = df_selected[\"context\"].apply(lambda x: len(x))\n",
    "df_selected.loc[:, \"context_words\"] = df_selected.loc[:, \"context\"].apply(lambda x: len(x.split(\" \")))"
   ]
  },
  {
   "cell_type": "code",
   "execution_count": 12,
   "id": "80f66f8e-3eb9-4943-9b2e-40df68068a8f",
   "metadata": {},
   "outputs": [
    {
     "data": {
      "text/html": [
       "<div>\n",
       "<style scoped>\n",
       "    .dataframe tbody tr th:only-of-type {\n",
       "        vertical-align: middle;\n",
       "    }\n",
       "\n",
       "    .dataframe tbody tr th {\n",
       "        vertical-align: top;\n",
       "    }\n",
       "\n",
       "    .dataframe thead th {\n",
       "        text-align: right;\n",
       "    }\n",
       "</style>\n",
       "<table border=\"1\" class=\"dataframe\">\n",
       "  <thead>\n",
       "    <tr style=\"text-align: right;\">\n",
       "      <th></th>\n",
       "      <th>question</th>\n",
       "      <th>list_idx</th>\n",
       "      <th>paragraph_idx</th>\n",
       "      <th>question_idx</th>\n",
       "      <th>id</th>\n",
       "      <th>is_impossible</th>\n",
       "      <th>answer_0</th>\n",
       "      <th>answer_1</th>\n",
       "      <th>answer_2</th>\n",
       "      <th>answer_3</th>\n",
       "      <th>context</th>\n",
       "      <th>title</th>\n",
       "      <th>answer_4</th>\n",
       "      <th>answer_5</th>\n",
       "      <th>context_chars</th>\n",
       "      <th>context_words</th>\n",
       "    </tr>\n",
       "  </thead>\n",
       "  <tbody>\n",
       "    <tr>\n",
       "      <th>0</th>\n",
       "      <td>In what country is Normandy located?</td>\n",
       "      <td>0</td>\n",
       "      <td>0</td>\n",
       "      <td>0</td>\n",
       "      <td>56ddde6b9a695914005b9628</td>\n",
       "      <td>False</td>\n",
       "      <td>France</td>\n",
       "      <td>France</td>\n",
       "      <td>France</td>\n",
       "      <td>France</td>\n",
       "      <td>The Normans (Norman: Nourmands; French: Norman...</td>\n",
       "      <td>Normans</td>\n",
       "      <td>NaN</td>\n",
       "      <td>NaN</td>\n",
       "      <td>742</td>\n",
       "      <td>113</td>\n",
       "    </tr>\n",
       "    <tr>\n",
       "      <th>1</th>\n",
       "      <td>When were the Normans in Normandy?</td>\n",
       "      <td>0</td>\n",
       "      <td>0</td>\n",
       "      <td>1</td>\n",
       "      <td>56ddde6b9a695914005b9629</td>\n",
       "      <td>False</td>\n",
       "      <td>10th and 11th centuries</td>\n",
       "      <td>in the 10th and 11th centuries</td>\n",
       "      <td>10th and 11th centuries</td>\n",
       "      <td>10th and 11th centuries</td>\n",
       "      <td>The Normans (Norman: Nourmands; French: Norman...</td>\n",
       "      <td>Normans</td>\n",
       "      <td>NaN</td>\n",
       "      <td>NaN</td>\n",
       "      <td>742</td>\n",
       "      <td>113</td>\n",
       "    </tr>\n",
       "  </tbody>\n",
       "</table>\n",
       "</div>"
      ],
      "text/plain": [
       "                               question  list_idx  paragraph_idx  \\\n",
       "0  In what country is Normandy located?         0              0   \n",
       "1    When were the Normans in Normandy?         0              0   \n",
       "\n",
       "   question_idx                        id  is_impossible  \\\n",
       "0             0  56ddde6b9a695914005b9628          False   \n",
       "1             1  56ddde6b9a695914005b9629          False   \n",
       "\n",
       "                  answer_0                        answer_1  \\\n",
       "0                   France                          France   \n",
       "1  10th and 11th centuries  in the 10th and 11th centuries   \n",
       "\n",
       "                  answer_2                 answer_3  \\\n",
       "0                   France                   France   \n",
       "1  10th and 11th centuries  10th and 11th centuries   \n",
       "\n",
       "                                             context    title answer_4  \\\n",
       "0  The Normans (Norman: Nourmands; French: Norman...  Normans      NaN   \n",
       "1  The Normans (Norman: Nourmands; French: Norman...  Normans      NaN   \n",
       "\n",
       "  answer_5  context_chars  context_words  \n",
       "0      NaN            742            113  \n",
       "1      NaN            742            113  "
      ]
     },
     "execution_count": 12,
     "metadata": {},
     "output_type": "execute_result"
    }
   ],
   "source": [
    "df_selected.head(2)"
   ]
  },
  {
   "cell_type": "code",
   "execution_count": 13,
   "id": "f8cab993-b3ab-4947-acb5-016382d1321b",
   "metadata": {},
   "outputs": [
    {
     "data": {
      "text/plain": [
       "<Axes: xlabel='context_chars', ylabel='Count'>"
      ]
     },
     "execution_count": 13,
     "metadata": {},
     "output_type": "execute_result"
    },
    {
     "data": {
      "image/png": "[encoded data removed]",
      "text/plain": [
       "<Figure size 800x500 with 1 Axes>"
      ]
     },
     "metadata": {},
     "output_type": "display_data"
    }
   ],
   "source": [
    "plt.figure(figsize=[8, 5])\n",
    "sns.histplot(df_selected.drop_duplicates(subset=\"context\")[\"context_chars\"])"
   ]
  },
  {
   "cell_type": "code",
   "execution_count": 14,
   "id": "6cfb1095-e0d8-4f06-b203-08ff1689aeaa",
   "metadata": {},
   "outputs": [
    {
     "data": {
      "text/plain": [
       "<Axes: xlabel='context_words', ylabel='Count'>"
      ]
     },
     "execution_count": 14,
     "metadata": {},
     "output_type": "execute_result"
    },
    {
     "data": {
      "image/png": "[encoded data removed]",
      "text/plain": [
       "<Figure size 800x500 with 1 Axes>"
      ]
     },
     "metadata": {},
     "output_type": "display_data"
    }
   ],
   "source": [
    "plt.figure(figsize=[8, 5])\n",
    "sns.histplot(df_selected.drop_duplicates(subset=\"context\")[\"context_words\"])"
   ]
  },
  {
   "cell_type": "code",
   "execution_count": null,
   "id": "6a9848fc",
   "metadata": {},
   "outputs": [],
   "source": [
    "# create original json structure for only a subset of questions, used for tests and fine-tuning \n",
    "# this file will be used by the evaluation.py file \n",
    "\n",
    "df = pd.read_csv(\"dataset.csv\")\n",
    "df_sel = df[0:500]\n",
    "df_sel.head(2)\n",
    "\n",
    "create_json_subset(df_sel)"
   ]
  },
  {
   "cell_type": "markdown",
   "id": "ef7c8057-750e-44d6-81c8-d8ad6717b311",
   "metadata": {},
   "source": [
    "# RAG architecture"
   ]
  },
  {
   "cell_type": "markdown",
   "id": "8caf8664-3381-4701-b297-bbcfa5176872",
   "metadata": {},
   "source": [
    "Steps:\n",
    "\n",
    "**Data Indexing**\n",
    "\n",
    "Converting text data into a searchable database of vector embeddings, which represent the meaning of the text in a format that computers can easily understand.\n",
    "- **Documents Chunking**: The collection of documents is split into smaller chunks of text. This allows for more precise and relevant pieces of information to be fed into the language model when needed, avoiding information overload.\n",
    "- **Vector Embeddings**: The chunks of text are then transformed into vector embeddings. These embeddings encode the meaning of natural language text into numerical representations.\n",
    "- **Vector Database**: Finally, the vector embeddings are stored in a vector database, making them easily searchable.\n",
    "\n",
    "**Documents -> Text chunks -> Vector Embeddings -> Vector DB**\n",
    "\n",
    "**Load -> Split -> Embed -> Store**"
   ]
  },
  {
   "cell_type": "markdown",
   "id": "f9dfc599",
   "metadata": {},
   "source": [
    "## Convert the pandas context to Langchain documents "
   ]
  },
  {
   "cell_type": "code",
   "execution_count": 2,
   "id": "957f241f-d54c-452e-94ad-cfcc8a81a836",
   "metadata": {},
   "outputs": [],
   "source": [
    "df = pd.read_csv(\"dataset.csv\")\n",
    "\n",
    "langchain_docs = convert_context_to_langchain_docs(df)"
   ]
  },
  {
   "cell_type": "code",
   "execution_count": 3,
   "id": "46d8e92a-9322-4359-b18b-f4217fb78003",
   "metadata": {},
   "outputs": [
    {
     "name": "stdout",
     "output_type": "stream",
     "text": [
      "1204\n",
      "page_content='The Normans (Norman: Nourmands; French: Normands; Latin: Normanni) were the people who in the 10th and 11th centuries gave their name to Normandy, a region in France. They were descended from Norse (\"Norman\" comes from \"Norseman\") raiders and pirates from Denmark, Iceland and Norway who, under their leader Rollo, agreed to swear fealty to King Charles III of West Francia. Through generations of assimilation and mixing with the native Frankish and Roman-Gaulish populations, their descendants would gradually merge with the Carolingian-based cultures of West Francia. The distinct cultural and ethnic identity of the Normans emerged initially in the first half of the 10th century, and it continued to evolve over the succeeding centuries.' metadata={'title': 'Normans'}\n",
      "page_content='The Norman dynasty had a major political, cultural and military impact on medieval Europe and even the Near East. The Normans were famed for their martial spirit and eventually for their Christian piety, becoming exponents of the Catholic orthodoxy into which they assimilated. They adopted the Gallo-Romance language of the Frankish land they settled, their dialect becoming known as Norman, Normaund or Norman French, an important literary language. The Duchy of Normandy, which they formed by treaty with the French crown, was a great fief of medieval France, and under Richard I of Normandy was forged into a cohesive and formidable principality in feudal tenure. The Normans are noted both for their culture, such as their unique Romanesque architecture and musical traditions, and for their significant military accomplishments and innovations. Norman adventurers founded the Kingdom of Sicily under Roger II after conquering southern Italy on the Saracens and Byzantines, and an expedition on behalf of their duke, William the Conqueror, led to the Norman conquest of England at the Battle of Hastings in 1066. Norman cultural and military influence spread from these new European centres to the Crusader states of the Near East, where their prince Bohemond I founded the Principality of Antioch in the Levant, to Scotland and Wales in Great Britain, to Ireland, and to the coasts of north Africa and the Canary Islands.' metadata={'title': 'Normans'}\n"
     ]
    }
   ],
   "source": [
    "print(len(langchain_docs))\n",
    "print(langchain_docs[0])\n",
    "print(langchain_docs[1])"
   ]
  },
  {
   "cell_type": "markdown",
   "id": "d2075d54",
   "metadata": {},
   "source": [
    "## Vector database"
   ]
  },
  {
   "cell_type": "code",
   "execution_count": 3,
   "id": "6e9878b4",
   "metadata": {},
   "outputs": [],
   "source": [
    "embeddings_model = \"text-embedding-3-small\"\n",
    "embeddings = OpenAIEmbeddings(model=embeddings_model)\n",
    "\n",
    "db_dir = os.path.join(os.getcwd(), \"vector_databases\")\n"
   ]
  },
  {
   "cell_type": "code",
   "execution_count": 12,
   "id": "c7086c9d-a7e4-4f99-86d7-d6803c3a7ec9",
   "metadata": {},
   "outputs": [
    {
     "name": "stdout",
     "output_type": "stream",
     "text": [
      "Vector store test_vector_store already exists. No need to initialize.\n"
     ]
    }
   ],
   "source": [
    "create_vector_store(langchain_docs, embeddings, store_name=\"test_vector_store\", db_dir=db_dir, chunk_size=200, chunk_overlap=15)"
   ]
  },
  {
   "cell_type": "markdown",
   "id": "b0571139",
   "metadata": {},
   "source": [
    "## Querying the vector database "
   ]
  },
  {
   "cell_type": "code",
   "execution_count": null,
   "id": "20c5fcd1-6677-4a48-823c-7b899bfee9fc",
   "metadata": {},
   "outputs": [
    {
     "name": "stderr",
     "output_type": "stream",
     "text": [
      "/Users/mariadancianu/Desktop/Git Projects/SQuAD_RAG_experiments/rag_fine_tuning.py:90: LangChainDeprecationWarning: The class `Chroma` was deprecated in LangChain 0.2.9 and will be removed in 1.0. An updated version of the class exists in the :class:`~langchain-chroma package and should be used instead. To use it run `pip install -U :class:`~langchain-chroma` and import as `from :class:`~langchain_chroma import Chroma``.\n",
      "  db = Chroma(\n",
      "No relevant docs were retrieved using the relevance score threshold 0.1\n"
     ]
    },
    {
     "name": "stdout",
     "output_type": "stream",
     "text": [
      "[]\n"
     ]
    }
   ],
   "source": [
    "query = \"How is the weather today in Milan?\"\n",
    "store_name =  \"test_vector_store\"\n",
    "relevant_docs = query_vector_store(store_name, query, embeddings, db_dir, k=3, score_threshold=0.1)\n",
    "\n",
    "print(relevant_docs)"
   ]
  },
  {
   "cell_type": "code",
   "execution_count": 6,
   "id": "d473dd71",
   "metadata": {},
   "outputs": [
    {
     "name": "stderr",
     "output_type": "stream",
     "text": [
      "/Users/mariadancianu/Desktop/Git Projects/SQuAD_RAG_experiments/rag_fine_tuning.py:91: LangChainDeprecationWarning: The class `Chroma` was deprecated in LangChain 0.2.9 and will be removed in 1.0. An updated version of the class exists in the :class:`~langchain-chroma package and should be used instead. To use it run `pip install -U :class:`~langchain-chroma` and import as `from :class:`~langchain_chroma import Chroma``.\n",
      "  db = Chroma(\n"
     ]
    },
    {
     "name": "stdout",
     "output_type": "stream",
     "text": [
      "3\n",
      "The Normans (Norman: Nourmands; French: Normands; Latin: Normanni) were the people who in the 10th and 11th centuries gave their name to Normandy, a region in France\n",
      ". The distinct cultural and ethnic identity of the Normans emerged initially in the first half of the 10th century, and it continued to evolve over the succeeding centuries.\n",
      ". The Normans were famed for their martial spirit and eventually for their Christian piety, becoming exponents of the Catholic orthodoxy into which they assimilated\n"
     ]
    }
   ],
   "source": [
    "query = \"Who were the normans?\"\n",
    "store_name =  \"test_vector_store\"\n",
    "relevant_docs = query_vector_store(store_name, query, embeddings, db_dir, k=3, score_threshold=0.1)\n",
    "\n",
    "print(len(relevant_docs))\n",
    "\n",
    "for doc in relevant_docs:\n",
    "    print(doc.page_content)"
   ]
  },
  {
   "cell_type": "markdown",
   "id": "2e5aa673",
   "metadata": {},
   "source": [
    "## Run the RAG over a subset of questions and save the answers "
   ]
  },
  {
   "cell_type": "code",
   "execution_count": 5,
   "id": "bb0a1187",
   "metadata": {},
   "outputs": [],
   "source": [
    "df_to_test = pd.read_csv(\"dataset.csv\")\n",
    "df_to_test = df_to_test[0:500]"
   ]
  },
  {
   "cell_type": "code",
   "execution_count": null,
   "id": "ff098d54",
   "metadata": {},
   "outputs": [
    {
     "name": "stdout",
     "output_type": "stream",
     "text": [
      "/Users/mariadancianu/Desktop/Git Projects/SQuAD_RAG_experiments/vector_databases/db_150_text-embedding-3-small\n",
      "Vector store chroma_db_openai already exists. No need to initialize.\n"
     ]
    },
    {
     "name": "stderr",
     "output_type": "stream",
     "text": [
      "  0%|          | 0/500 [00:00<?, ?it/s]/Users/mariadancianu/Desktop/Git Projects/SQuAD_RAG_experiments/rag_fine_tuning.py:91: LangChainDeprecationWarning: The class `Chroma` was deprecated in LangChain 0.2.9 and will be removed in 1.0. An updated version of the class exists in the :class:`~langchain-chroma package and should be used instead. To use it run `pip install -U :class:`~langchain-chroma` and import as `from :class:`~langchain_chroma import Chroma``.\n",
      "  db = Chroma(\n",
      " 24%|██▍       | 120/500 [03:47<05:11,  1.22it/s] No relevant docs were retrieved using the relevance score threshold 0.1\n",
      " 81%|████████  | 403/500 [08:27<03:06,  1.92s/it]/Users/mariadancianu/Desktop/Git Projects/SQuAD_RAG_experiments/.venv/lib/python3.12/site-packages/langchain_core/vectorstores/base.py:1076: UserWarning: Relevance scores must be between 0 and 1, got [(Document(metadata={'start_index': 451, 'title': 'Force'}, page_content='from ordered to more random conditions as entropy increases'), -0.10112879189601554), (Document(metadata={'start_index': 103, 'title': 'Force'}, page_content='. This is often due to macrophysical considerations that yield forces as arising from a macroscopic statistical average of microstates'), -0.15138979590236068), (Document(metadata={'start_index': 1085, 'title': 'Force'}, page_content='how complicated the machine'), -0.15391167569041775)]\n",
      "  self.vectorstore.similarity_search_with_relevance_scores(\n",
      "No relevant docs were retrieved using the relevance score threshold 0.1\n",
      "100%|██████████| 500/500 [10:17<00:00,  1.23s/it]\n"
     ]
    }
   ],
   "source": [
    "embeddings_model = \"text-embedding-3-small\"\n",
    "embeddings = OpenAIEmbeddings(model=embeddings_model)\n",
    "\n",
    "save_llm_answers(df_to_test, langchain_docs, embeddings, embeddings_model, chunk_size=150, filename=\"test_predictions.json\")"
   ]
  },
  {
   "cell_type": "markdown",
   "id": "e11654ce",
   "metadata": {},
   "source": []
  },
  {
   "cell_type": "markdown",
   "id": "b204b4fa",
   "metadata": {},
   "source": [
    "## RAG Fine-tuning "
   ]
  },
  {
   "cell_type": "markdown",
   "id": "273535f0",
   "metadata": {},
   "source": [
    "Comments\n",
    "Peak distribution for number of characters in the documents is ~600 words. \n",
    "- smaller chunks: reduced noise from irrelevant content - works well with dense embeddings*\n",
    "- larger chunks: preserves context better; ideal if queries require full document context, works well with hybrid search*\n",
    "\n",
    "TEXT CHUNKING \n",
    "\n",
    "1. CHARACTER SPLITTING : divide the text into N-character sized chunks. Can split words in the middle. \n",
    "2. RECURSIVE CHARACTER SPLITTING: preserves sentences. Avoids splitting sentences midword (note that RecursiveCharacterTextSplitter with separator does exactly that). Split the\n",
    "document where a double new line is present, then, if the chunk size is still exceeded, split at new lines, and so on.\n",
    "3. SEMANTIC SPLITTING: keeps related content together. Use embeddings to split based on meaning.\n",
    "+ other techniques\n",
    "\n",
    "EMBEDDINGS \n",
    "Create fixed-length vector representation of text, focusing on semanting meaning for tasks like similarity comparison. \n",
    "Most up to date embedding models, both proprietary and open source, with performance metrics across different tasks: https://huggingface.co/spaces/mteb/leaderboard \n",
    "This contains also a \"retrieval\" column with performance metrics. Click on the column to sort the models.\n",
    "Interesting article: https://www.mongodb.com/developer/products/atlas/choose-embedding-model-rag/\n"
   ]
  },
  {
   "cell_type": "code",
   "execution_count": null,
   "id": "f0830832",
   "metadata": {},
   "outputs": [
    {
     "name": "stdout",
     "output_type": "stream",
     "text": [
      "Running gpt-3.5-turbo - 100 - text-embedding-3-small\n",
      "Results already exist for these settings: skipping!\n",
      "Running gpt-3.5-turbo - 200 - text-embedding-3-small\n",
      "/Users/mariadancianu/Desktop/Git Projects/SQuAD_RAG_experiments/vector_databases/db_200_text-embedding-3-small\n",
      "Vector store chroma_db_openai already exists. No need to initialize.\n"
     ]
    },
    {
     "name": "stderr",
     "output_type": "stream",
     "text": [
      "  0%|          | 0/500 [00:00<?, ?it/s]/Users/mariadancianu/Desktop/Git Projects/SQuAD_RAG_experiments/rag_fine_tuning.py:95: LangChainDeprecationWarning: The class `Chroma` was deprecated in LangChain 0.2.9 and will be removed in 1.0. An updated version of the class exists in the :class:`~langchain-chroma package and should be used instead. To use it run `pip install -U :class:`~langchain-chroma` and import as `from :class:`~langchain_chroma import Chroma``.\n",
      "  db = Chroma(\n",
      "No relevant docs were retrieved using the relevance score threshold 0.1\n",
      "  0%|          | 1/500 [00:02<18:32,  2.23s/it]No relevant docs were retrieved using the relevance score threshold 0.1\n",
      "  0%|          | 2/500 [00:03<14:08,  1.70s/it]No relevant docs were retrieved using the relevance score threshold 0.1\n",
      "  1%|          | 3/500 [00:04<11:08,  1.34s/it]No relevant docs were retrieved using the relevance score threshold 0.1\n",
      "  1%|          | 4/500 [00:05<10:04,  1.22s/it]No relevant docs were retrieved using the relevance score threshold 0.1\n",
      "  1%|          | 5/500 [00:06<10:04,  1.22s/it]No relevant docs were retrieved using the relevance score threshold 0.1\n",
      "  1%|          | 6/500 [00:08<10:40,  1.30s/it]No relevant docs were retrieved using the relevance score threshold 0.1\n",
      "  1%|▏         | 7/500 [00:08<08:56,  1.09s/it]No relevant docs were retrieved using the relevance score threshold 0.1\n",
      "  2%|▏         | 8/500 [00:09<07:53,  1.04it/s]No relevant docs were retrieved using the relevance score threshold 0.1\n",
      "  2%|▏         | 9/500 [00:10<07:40,  1.07it/s]No relevant docs were retrieved using the relevance score threshold 0.1\n",
      "  2%|▏         | 10/500 [00:11<07:48,  1.05it/s]No relevant docs were retrieved using the relevance score threshold 0.1\n",
      "  2%|▏         | 11/500 [00:12<08:48,  1.08s/it]No relevant docs were retrieved using the relevance score threshold 0.1\n",
      "  2%|▏         | 12/500 [00:13<08:41,  1.07s/it]No relevant docs were retrieved using the relevance score threshold 0.1\n",
      "  3%|▎         | 13/500 [00:14<08:13,  1.01s/it]No relevant docs were retrieved using the relevance score threshold 0.1\n",
      "  3%|▎         | 14/500 [00:15<08:51,  1.09s/it]No relevant docs were retrieved using the relevance score threshold 0.1\n",
      "  3%|▎         | 15/500 [00:16<08:30,  1.05s/it]No relevant docs were retrieved using the relevance score threshold 0.1\n",
      "  3%|▎         | 16/500 [00:17<08:25,  1.04s/it]No relevant docs were retrieved using the relevance score threshold 0.1\n",
      "  3%|▎         | 17/500 [00:18<07:36,  1.06it/s]No relevant docs were retrieved using the relevance score threshold 0.1\n",
      "  4%|▎         | 18/500 [00:19<07:11,  1.12it/s]No relevant docs were retrieved using the relevance score threshold 0.1\n",
      "  4%|▍         | 19/500 [00:20<07:43,  1.04it/s]No relevant docs were retrieved using the relevance score threshold 0.1\n",
      "  4%|▍         | 20/500 [00:21<07:50,  1.02it/s]No relevant docs were retrieved using the relevance score threshold 0.1\n",
      "  4%|▍         | 21/500 [00:22<08:06,  1.02s/it]No relevant docs were retrieved using the relevance score threshold 0.1\n",
      "  4%|▍         | 22/500 [00:23<07:09,  1.11it/s]No relevant docs were retrieved using the relevance score threshold 0.1\n",
      "  5%|▍         | 23/500 [00:24<08:50,  1.11s/it]No relevant docs were retrieved using the relevance score threshold 0.1\n",
      "  5%|▍         | 24/500 [00:25<07:56,  1.00s/it]No relevant docs were retrieved using the relevance score threshold 0.1\n",
      "  5%|▌         | 25/500 [00:26<07:26,  1.06it/s]No relevant docs were retrieved using the relevance score threshold 0.1\n",
      "  5%|▌         | 26/500 [00:27<06:47,  1.16it/s]No relevant docs were retrieved using the relevance score threshold 0.1\n",
      "  5%|▌         | 27/500 [00:29<09:46,  1.24s/it]No relevant docs were retrieved using the relevance score threshold 0.1\n",
      "  6%|▌         | 28/500 [00:30<09:27,  1.20s/it]No relevant docs were retrieved using the relevance score threshold 0.1\n",
      "  6%|▌         | 29/500 [00:31<08:18,  1.06s/it]No relevant docs were retrieved using the relevance score threshold 0.1\n",
      "  6%|▌         | 30/500 [00:31<07:43,  1.01it/s]No relevant docs were retrieved using the relevance score threshold 0.1\n",
      "  6%|▌         | 31/500 [00:32<07:35,  1.03it/s]No relevant docs were retrieved using the relevance score threshold 0.1\n",
      "  6%|▋         | 32/500 [00:33<07:49,  1.00s/it]No relevant docs were retrieved using the relevance score threshold 0.1\n",
      "  7%|▋         | 33/500 [00:34<07:12,  1.08it/s]No relevant docs were retrieved using the relevance score threshold 0.1\n",
      "  7%|▋         | 34/500 [00:35<06:45,  1.15it/s]No relevant docs were retrieved using the relevance score threshold 0.1\n",
      "  7%|▋         | 35/500 [00:36<06:32,  1.18it/s]No relevant docs were retrieved using the relevance score threshold 0.1\n",
      "  7%|▋         | 36/500 [00:36<06:20,  1.22it/s]No relevant docs were retrieved using the relevance score threshold 0.1\n",
      "  7%|▋         | 37/500 [00:38<07:41,  1.00it/s]No relevant docs were retrieved using the relevance score threshold 0.1\n",
      "  8%|▊         | 38/500 [00:39<07:11,  1.07it/s]No relevant docs were retrieved using the relevance score threshold 0.1\n",
      "  8%|▊         | 39/500 [00:39<06:37,  1.16it/s]No relevant docs were retrieved using the relevance score threshold 0.1\n",
      "  8%|▊         | 40/500 [00:41<07:38,  1.00it/s]No relevant docs were retrieved using the relevance score threshold 0.1\n",
      "  8%|▊         | 41/500 [00:41<07:01,  1.09it/s]No relevant docs were retrieved using the relevance score threshold 0.1\n",
      "  8%|▊         | 42/500 [00:42<06:50,  1.12it/s]No relevant docs were retrieved using the relevance score threshold 0.1\n",
      "  9%|▊         | 43/500 [00:43<06:51,  1.11it/s]No relevant docs were retrieved using the relevance score threshold 0.1\n",
      "  9%|▉         | 44/500 [00:44<06:29,  1.17it/s]No relevant docs were retrieved using the relevance score threshold 0.1\n",
      "  9%|▉         | 45/500 [00:45<06:09,  1.23it/s]No relevant docs were retrieved using the relevance score threshold 0.1\n",
      "  9%|▉         | 46/500 [00:46<06:23,  1.18it/s]No relevant docs were retrieved using the relevance score threshold 0.1\n",
      "  9%|▉         | 47/500 [00:46<05:56,  1.27it/s]No relevant docs were retrieved using the relevance score threshold 0.1\n",
      " 10%|▉         | 48/500 [00:47<06:09,  1.22it/s]No relevant docs were retrieved using the relevance score threshold 0.1\n",
      " 10%|▉         | 49/500 [00:48<05:54,  1.27it/s]No relevant docs were retrieved using the relevance score threshold 0.1\n",
      " 10%|█         | 50/500 [00:49<05:58,  1.26it/s]No relevant docs were retrieved using the relevance score threshold 0.1\n",
      " 10%|█         | 51/500 [00:49<05:53,  1.27it/s]No relevant docs were retrieved using the relevance score threshold 0.1\n",
      " 10%|█         | 52/500 [00:50<05:50,  1.28it/s]No relevant docs were retrieved using the relevance score threshold 0.1\n",
      " 11%|█         | 53/500 [00:51<05:41,  1.31it/s]No relevant docs were retrieved using the relevance score threshold 0.1\n",
      " 11%|█         | 54/500 [00:52<05:34,  1.33it/s]No relevant docs were retrieved using the relevance score threshold 0.1\n",
      " 11%|█         | 55/500 [00:53<05:56,  1.25it/s]No relevant docs were retrieved using the relevance score threshold 0.1\n",
      " 11%|█         | 56/500 [00:54<06:52,  1.08it/s]No relevant docs were retrieved using the relevance score threshold 0.1\n",
      " 11%|█▏        | 57/500 [00:55<06:50,  1.08it/s]No relevant docs were retrieved using the relevance score threshold 0.1\n",
      " 12%|█▏        | 58/500 [00:55<06:27,  1.14it/s]No relevant docs were retrieved using the relevance score threshold 0.1\n",
      " 12%|█▏        | 59/500 [00:56<06:06,  1.20it/s]No relevant docs were retrieved using the relevance score threshold 0.1\n",
      " 12%|█▏        | 60/500 [00:57<05:52,  1.25it/s]No relevant docs were retrieved using the relevance score threshold 0.1\n",
      " 12%|█▏        | 61/500 [00:58<05:46,  1.27it/s]No relevant docs were retrieved using the relevance score threshold 0.1\n",
      " 12%|█▏        | 62/500 [00:59<06:01,  1.21it/s]No relevant docs were retrieved using the relevance score threshold 0.1\n",
      " 13%|█▎        | 63/500 [00:59<05:36,  1.30it/s]No relevant docs were retrieved using the relevance score threshold 0.1\n",
      " 13%|█▎        | 64/500 [01:00<05:38,  1.29it/s]No relevant docs were retrieved using the relevance score threshold 0.1\n",
      " 13%|█▎        | 65/500 [01:01<05:47,  1.25it/s]No relevant docs were retrieved using the relevance score threshold 0.1\n",
      " 13%|█▎        | 66/500 [01:02<05:58,  1.21it/s]No relevant docs were retrieved using the relevance score threshold 0.1\n",
      " 13%|█▎        | 67/500 [01:02<05:38,  1.28it/s]No relevant docs were retrieved using the relevance score threshold 0.1\n",
      " 14%|█▎        | 68/500 [01:03<05:25,  1.33it/s]No relevant docs were retrieved using the relevance score threshold 0.1\n",
      " 14%|█▍        | 69/500 [01:04<05:29,  1.31it/s]No relevant docs were retrieved using the relevance score threshold 0.1\n",
      " 14%|█▍        | 70/500 [01:05<05:48,  1.24it/s]No relevant docs were retrieved using the relevance score threshold 0.1\n",
      " 14%|█▍        | 71/500 [01:06<05:48,  1.23it/s]No relevant docs were retrieved using the relevance score threshold 0.1\n",
      " 14%|█▍        | 72/500 [01:06<05:36,  1.27it/s]No relevant docs were retrieved using the relevance score threshold 0.1\n",
      " 15%|█▍        | 73/500 [01:07<05:18,  1.34it/s]No relevant docs were retrieved using the relevance score threshold 0.1\n",
      " 15%|█▍        | 74/500 [01:08<05:14,  1.35it/s]No relevant docs were retrieved using the relevance score threshold 0.1\n",
      " 15%|█▌        | 75/500 [01:09<05:26,  1.30it/s]No relevant docs were retrieved using the relevance score threshold 0.1\n",
      " 15%|█▌        | 76/500 [01:10<06:15,  1.13it/s]No relevant docs were retrieved using the relevance score threshold 0.1\n",
      " 15%|█▌        | 77/500 [01:11<07:21,  1.04s/it]No relevant docs were retrieved using the relevance score threshold 0.1\n",
      " 16%|█▌        | 78/500 [01:12<06:41,  1.05it/s]No relevant docs were retrieved using the relevance score threshold 0.1\n",
      " 16%|█▌        | 79/500 [01:13<06:10,  1.13it/s]No relevant docs were retrieved using the relevance score threshold 0.1\n",
      " 16%|█▌        | 80/500 [01:13<06:11,  1.13it/s]No relevant docs were retrieved using the relevance score threshold 0.1\n",
      " 16%|█▌        | 81/500 [01:14<05:53,  1.19it/s]No relevant docs were retrieved using the relevance score threshold 0.1\n",
      " 16%|█▋        | 82/500 [01:15<05:48,  1.20it/s]No relevant docs were retrieved using the relevance score threshold 0.1\n",
      " 17%|█▋        | 83/500 [01:16<05:33,  1.25it/s]No relevant docs were retrieved using the relevance score threshold 0.1\n",
      " 17%|█▋        | 84/500 [01:17<05:44,  1.21it/s]No relevant docs were retrieved using the relevance score threshold 0.1\n",
      " 17%|█▋        | 85/500 [01:18<05:59,  1.16it/s]No relevant docs were retrieved using the relevance score threshold 0.1\n",
      " 17%|█▋        | 86/500 [01:18<05:23,  1.28it/s]No relevant docs were retrieved using the relevance score threshold 0.1\n",
      " 17%|█▋        | 87/500 [01:19<05:21,  1.29it/s]No relevant docs were retrieved using the relevance score threshold 0.1\n",
      " 18%|█▊        | 88/500 [01:20<05:26,  1.26it/s]No relevant docs were retrieved using the relevance score threshold 0.1\n",
      " 18%|█▊        | 89/500 [01:20<05:09,  1.33it/s]No relevant docs were retrieved using the relevance score threshold 0.1\n",
      " 18%|█▊        | 90/500 [01:21<05:08,  1.33it/s]No relevant docs were retrieved using the relevance score threshold 0.1\n",
      " 18%|█▊        | 91/500 [01:23<06:25,  1.06it/s]No relevant docs were retrieved using the relevance score threshold 0.1\n",
      " 18%|█▊        | 92/500 [01:23<05:56,  1.14it/s]No relevant docs were retrieved using the relevance score threshold 0.1\n",
      " 19%|█▊        | 93/500 [01:24<06:28,  1.05it/s]No relevant docs were retrieved using the relevance score threshold 0.1\n",
      " 19%|█▉        | 94/500 [01:25<06:01,  1.12it/s]No relevant docs were retrieved using the relevance score threshold 0.1\n",
      " 19%|█▉        | 95/500 [01:26<05:26,  1.24it/s]No relevant docs were retrieved using the relevance score threshold 0.1\n",
      " 19%|█▉        | 96/500 [01:27<05:21,  1.26it/s]No relevant docs were retrieved using the relevance score threshold 0.1\n",
      " 19%|█▉        | 97/500 [01:29<09:33,  1.42s/it]No relevant docs were retrieved using the relevance score threshold 0.1\n",
      " 20%|█▉        | 98/500 [01:30<08:17,  1.24s/it]No relevant docs were retrieved using the relevance score threshold 0.1\n",
      " 20%|█▉        | 99/500 [01:31<07:18,  1.09s/it]No relevant docs were retrieved using the relevance score threshold 0.1\n",
      " 20%|██        | 100/500 [01:32<06:26,  1.03it/s]No relevant docs were retrieved using the relevance score threshold 0.1\n",
      " 20%|██        | 101/500 [01:34<08:16,  1.25s/it]No relevant docs were retrieved using the relevance score threshold 0.1\n",
      " 20%|██        | 102/500 [01:34<07:14,  1.09s/it]No relevant docs were retrieved using the relevance score threshold 0.1\n",
      " 21%|██        | 103/500 [01:35<06:38,  1.00s/it]No relevant docs were retrieved using the relevance score threshold 0.1\n",
      " 21%|██        | 104/500 [01:36<06:03,  1.09it/s]No relevant docs were retrieved using the relevance score threshold 0.1\n",
      " 21%|██        | 105/500 [01:37<06:15,  1.05it/s]No relevant docs were retrieved using the relevance score threshold 0.1\n",
      " 21%|██        | 106/500 [01:37<05:32,  1.19it/s]No relevant docs were retrieved using the relevance score threshold 0.1\n",
      " 21%|██▏       | 107/500 [01:38<05:18,  1.23it/s]No relevant docs were retrieved using the relevance score threshold 0.1\n",
      " 22%|██▏       | 108/500 [01:39<05:06,  1.28it/s]No relevant docs were retrieved using the relevance score threshold 0.1\n",
      " 22%|██▏       | 109/500 [01:40<04:54,  1.33it/s]No relevant docs were retrieved using the relevance score threshold 0.1\n",
      " 22%|██▏       | 110/500 [01:40<04:47,  1.36it/s]No relevant docs were retrieved using the relevance score threshold 0.1\n",
      " 22%|██▏       | 111/500 [01:41<04:50,  1.34it/s]No relevant docs were retrieved using the relevance score threshold 0.1\n",
      " 22%|██▏       | 112/500 [01:42<05:21,  1.21it/s]No relevant docs were retrieved using the relevance score threshold 0.1\n",
      " 23%|██▎       | 113/500 [01:43<05:55,  1.09it/s]No relevant docs were retrieved using the relevance score threshold 0.1\n",
      " 23%|██▎       | 114/500 [01:44<05:19,  1.21it/s]No relevant docs were retrieved using the relevance score threshold 0.1\n",
      " 23%|██▎       | 115/500 [01:45<05:24,  1.19it/s]No relevant docs were retrieved using the relevance score threshold 0.1\n",
      " 23%|██▎       | 116/500 [01:45<04:52,  1.31it/s]No relevant docs were retrieved using the relevance score threshold 0.1\n",
      " 23%|██▎       | 117/500 [01:46<05:17,  1.21it/s]No relevant docs were retrieved using the relevance score threshold 0.1\n",
      " 24%|██▎       | 118/500 [01:47<05:35,  1.14it/s]No relevant docs were retrieved using the relevance score threshold 0.1\n",
      " 24%|██▍       | 119/500 [01:48<05:51,  1.08it/s]No relevant docs were retrieved using the relevance score threshold 0.1\n",
      " 24%|██▍       | 120/500 [01:49<05:44,  1.10it/s]No relevant docs were retrieved using the relevance score threshold 0.1\n",
      " 24%|██▍       | 121/500 [01:50<06:06,  1.03it/s]No relevant docs were retrieved using the relevance score threshold 0.1\n",
      " 24%|██▍       | 122/500 [01:51<06:25,  1.02s/it]No relevant docs were retrieved using the relevance score threshold 0.1\n",
      " 25%|██▍       | 123/500 [01:53<06:47,  1.08s/it]No relevant docs were retrieved using the relevance score threshold 0.1\n",
      " 25%|██▍       | 124/500 [01:55<08:35,  1.37s/it]No relevant docs were retrieved using the relevance score threshold 0.1\n",
      " 25%|██▌       | 125/500 [01:55<07:23,  1.18s/it]No relevant docs were retrieved using the relevance score threshold 0.1\n",
      " 25%|██▌       | 126/500 [01:56<06:28,  1.04s/it]No relevant docs were retrieved using the relevance score threshold 0.1\n",
      " 25%|██▌       | 127/500 [01:57<06:01,  1.03it/s]No relevant docs were retrieved using the relevance score threshold 0.1\n",
      " 26%|██▌       | 128/500 [01:58<05:35,  1.11it/s]No relevant docs were retrieved using the relevance score threshold 0.1\n",
      " 26%|██▌       | 129/500 [01:59<05:50,  1.06it/s]No relevant docs were retrieved using the relevance score threshold 0.1\n",
      " 26%|██▌       | 130/500 [02:00<06:56,  1.13s/it]No relevant docs were retrieved using the relevance score threshold 0.1\n",
      " 26%|██▌       | 131/500 [02:01<06:14,  1.02s/it]No relevant docs were retrieved using the relevance score threshold 0.1\n",
      " 26%|██▋       | 132/500 [02:02<05:52,  1.05it/s]No relevant docs were retrieved using the relevance score threshold 0.1\n",
      " 27%|██▋       | 133/500 [02:03<05:29,  1.11it/s]No relevant docs were retrieved using the relevance score threshold 0.1\n",
      " 27%|██▋       | 134/500 [02:03<04:59,  1.22it/s]No relevant docs were retrieved using the relevance score threshold 0.1\n",
      " 27%|██▋       | 135/500 [02:04<05:04,  1.20it/s]No relevant docs were retrieved using the relevance score threshold 0.1\n",
      " 27%|██▋       | 136/500 [02:07<08:11,  1.35s/it]No relevant docs were retrieved using the relevance score threshold 0.1\n",
      " 27%|██▋       | 137/500 [02:07<06:51,  1.13s/it]No relevant docs were retrieved using the relevance score threshold 0.1\n",
      " 28%|██▊       | 138/500 [02:10<09:07,  1.51s/it]No relevant docs were retrieved using the relevance score threshold 0.1\n",
      " 28%|██▊       | 139/500 [02:11<09:17,  1.54s/it]No relevant docs were retrieved using the relevance score threshold 0.1\n",
      " 28%|██▊       | 140/500 [02:12<07:53,  1.31s/it]No relevant docs were retrieved using the relevance score threshold 0.1\n",
      " 28%|██▊       | 141/500 [02:13<06:46,  1.13s/it]No relevant docs were retrieved using the relevance score threshold 0.1\n",
      " 28%|██▊       | 142/500 [02:14<06:01,  1.01s/it]No relevant docs were retrieved using the relevance score threshold 0.1\n",
      " 29%|██▊       | 143/500 [02:14<05:16,  1.13it/s]No relevant docs were retrieved using the relevance score threshold 0.1\n",
      " 29%|██▉       | 144/500 [02:15<05:12,  1.14it/s]No relevant docs were retrieved using the relevance score threshold 0.1\n",
      " 29%|██▉       | 145/500 [02:16<05:11,  1.14it/s]No relevant docs were retrieved using the relevance score threshold 0.1\n",
      " 29%|██▉       | 146/500 [02:17<04:50,  1.22it/s]No relevant docs were retrieved using the relevance score threshold 0.1\n",
      " 29%|██▉       | 147/500 [02:17<04:54,  1.20it/s]No relevant docs were retrieved using the relevance score threshold 0.1\n",
      " 30%|██▉       | 148/500 [02:18<05:16,  1.11it/s]No relevant docs were retrieved using the relevance score threshold 0.1\n",
      " 30%|██▉       | 149/500 [02:19<04:47,  1.22it/s]No relevant docs were retrieved using the relevance score threshold 0.1\n",
      " 30%|███       | 150/500 [02:20<04:20,  1.34it/s]No relevant docs were retrieved using the relevance score threshold 0.1\n",
      " 30%|███       | 151/500 [02:20<04:06,  1.41it/s]No relevant docs were retrieved using the relevance score threshold 0.1\n",
      " 30%|███       | 152/500 [02:21<04:02,  1.44it/s]No relevant docs were retrieved using the relevance score threshold 0.1\n",
      " 31%|███       | 153/500 [02:22<03:59,  1.45it/s]No relevant docs were retrieved using the relevance score threshold 0.1\n",
      " 31%|███       | 154/500 [02:22<04:00,  1.44it/s]No relevant docs were retrieved using the relevance score threshold 0.1\n",
      " 31%|███       | 155/500 [02:23<04:10,  1.38it/s]No relevant docs were retrieved using the relevance score threshold 0.1\n",
      " 31%|███       | 156/500 [02:24<03:57,  1.45it/s]No relevant docs were retrieved using the relevance score threshold 0.1\n",
      " 31%|███▏      | 157/500 [02:24<04:04,  1.40it/s]No relevant docs were retrieved using the relevance score threshold 0.1\n",
      " 32%|███▏      | 158/500 [02:25<04:00,  1.42it/s]No relevant docs were retrieved using the relevance score threshold 0.1\n",
      " 32%|███▏      | 159/500 [02:26<04:19,  1.31it/s]No relevant docs were retrieved using the relevance score threshold 0.1\n",
      " 32%|███▏      | 160/500 [02:27<04:18,  1.32it/s]No relevant docs were retrieved using the relevance score threshold 0.1\n",
      " 32%|███▏      | 161/500 [02:27<04:03,  1.39it/s]No relevant docs were retrieved using the relevance score threshold 0.1\n",
      " 32%|███▏      | 162/500 [02:28<03:54,  1.44it/s]No relevant docs were retrieved using the relevance score threshold 0.1\n",
      " 33%|███▎      | 163/500 [02:29<04:07,  1.36it/s]No relevant docs were retrieved using the relevance score threshold 0.1\n",
      " 33%|███▎      | 164/500 [02:30<04:21,  1.28it/s]No relevant docs were retrieved using the relevance score threshold 0.1\n",
      " 33%|███▎      | 165/500 [02:30<04:09,  1.34it/s]No relevant docs were retrieved using the relevance score threshold 0.1\n",
      " 33%|███▎      | 166/500 [02:31<04:10,  1.33it/s]No relevant docs were retrieved using the relevance score threshold 0.1\n",
      " 33%|███▎      | 167/500 [02:32<04:06,  1.35it/s]No relevant docs were retrieved using the relevance score threshold 0.1\n",
      " 34%|███▎      | 168/500 [02:33<04:00,  1.38it/s]No relevant docs were retrieved using the relevance score threshold 0.1\n",
      " 34%|███▍      | 169/500 [02:34<04:31,  1.22it/s]No relevant docs were retrieved using the relevance score threshold 0.1\n",
      " 34%|███▍      | 170/500 [02:35<04:42,  1.17it/s]No relevant docs were retrieved using the relevance score threshold 0.1\n",
      " 34%|███▍      | 171/500 [02:36<04:57,  1.10it/s]No relevant docs were retrieved using the relevance score threshold 0.1\n",
      " 34%|███▍      | 172/500 [02:36<04:41,  1.17it/s]No relevant docs were retrieved using the relevance score threshold 0.1\n",
      " 35%|███▍      | 173/500 [02:37<04:23,  1.24it/s]No relevant docs were retrieved using the relevance score threshold 0.1\n",
      " 35%|███▍      | 174/500 [02:38<04:24,  1.23it/s]No relevant docs were retrieved using the relevance score threshold 0.1\n",
      " 35%|███▌      | 175/500 [02:39<04:44,  1.14it/s]No relevant docs were retrieved using the relevance score threshold 0.1\n",
      " 35%|███▌      | 176/500 [02:40<04:27,  1.21it/s]No relevant docs were retrieved using the relevance score threshold 0.1\n",
      " 35%|███▌      | 177/500 [02:40<04:16,  1.26it/s]No relevant docs were retrieved using the relevance score threshold 0.1\n",
      " 36%|███▌      | 178/500 [02:41<04:31,  1.19it/s]No relevant docs were retrieved using the relevance score threshold 0.1\n",
      " 36%|███▌      | 179/500 [02:42<04:24,  1.21it/s]No relevant docs were retrieved using the relevance score threshold 0.1\n",
      " 36%|███▌      | 180/500 [02:43<04:20,  1.23it/s]No relevant docs were retrieved using the relevance score threshold 0.1\n",
      " 36%|███▌      | 181/500 [02:44<04:02,  1.31it/s]No relevant docs were retrieved using the relevance score threshold 0.1\n",
      " 36%|███▋      | 182/500 [02:44<03:53,  1.36it/s]No relevant docs were retrieved using the relevance score threshold 0.1\n",
      " 37%|███▋      | 183/500 [02:45<03:53,  1.35it/s]No relevant docs were retrieved using the relevance score threshold 0.1\n",
      " 37%|███▋      | 184/500 [02:46<03:53,  1.35it/s]No relevant docs were retrieved using the relevance score threshold 0.1\n",
      " 37%|███▋      | 185/500 [02:46<03:44,  1.40it/s]No relevant docs were retrieved using the relevance score threshold 0.1\n",
      " 37%|███▋      | 186/500 [02:47<04:09,  1.26it/s]No relevant docs were retrieved using the relevance score threshold 0.1\n",
      " 37%|███▋      | 187/500 [02:48<04:27,  1.17it/s]No relevant docs were retrieved using the relevance score threshold 0.1\n",
      " 38%|███▊      | 188/500 [02:49<04:06,  1.26it/s]No relevant docs were retrieved using the relevance score threshold 0.1\n",
      " 38%|███▊      | 189/500 [02:50<03:59,  1.30it/s]No relevant docs were retrieved using the relevance score threshold 0.1\n",
      " 38%|███▊      | 190/500 [02:51<04:12,  1.23it/s]No relevant docs were retrieved using the relevance score threshold 0.1\n",
      " 38%|███▊      | 191/500 [02:51<04:08,  1.25it/s]No relevant docs were retrieved using the relevance score threshold 0.1\n",
      " 38%|███▊      | 192/500 [02:52<03:57,  1.30it/s]No relevant docs were retrieved using the relevance score threshold 0.1\n",
      " 39%|███▊      | 193/500 [02:53<03:41,  1.38it/s]No relevant docs were retrieved using the relevance score threshold 0.1\n",
      " 39%|███▉      | 194/500 [02:54<04:24,  1.16it/s]No relevant docs were retrieved using the relevance score threshold 0.1\n",
      " 39%|███▉      | 195/500 [02:55<04:59,  1.02it/s]No relevant docs were retrieved using the relevance score threshold 0.1\n",
      " 39%|███▉      | 196/500 [02:56<04:41,  1.08it/s]No relevant docs were retrieved using the relevance score threshold 0.1\n",
      " 39%|███▉      | 197/500 [02:57<04:28,  1.13it/s]No relevant docs were retrieved using the relevance score threshold 0.1\n",
      " 40%|███▉      | 198/500 [02:58<04:44,  1.06it/s]No relevant docs were retrieved using the relevance score threshold 0.1\n",
      " 40%|███▉      | 199/500 [02:58<04:18,  1.16it/s]No relevant docs were retrieved using the relevance score threshold 0.1\n",
      " 40%|████      | 200/500 [02:59<04:07,  1.21it/s]No relevant docs were retrieved using the relevance score threshold 0.1\n",
      " 40%|████      | 201/500 [03:00<03:56,  1.26it/s]No relevant docs were retrieved using the relevance score threshold 0.1\n",
      " 40%|████      | 202/500 [03:01<03:59,  1.24it/s]No relevant docs were retrieved using the relevance score threshold 0.1\n",
      " 41%|████      | 203/500 [03:01<03:51,  1.28it/s]No relevant docs were retrieved using the relevance score threshold 0.1\n",
      " 41%|████      | 204/500 [03:02<03:43,  1.32it/s]No relevant docs were retrieved using the relevance score threshold 0.1\n",
      " 41%|████      | 205/500 [03:03<03:44,  1.31it/s]No relevant docs were retrieved using the relevance score threshold 0.1\n",
      " 41%|████      | 206/500 [03:04<04:28,  1.09it/s]No relevant docs were retrieved using the relevance score threshold 0.1\n",
      " 41%|████▏     | 207/500 [03:05<04:40,  1.04it/s]No relevant docs were retrieved using the relevance score threshold 0.1\n",
      " 42%|████▏     | 208/500 [03:06<04:15,  1.14it/s]No relevant docs were retrieved using the relevance score threshold 0.1\n",
      " 42%|████▏     | 209/500 [03:11<09:38,  1.99s/it]No relevant docs were retrieved using the relevance score threshold 0.1\n",
      " 42%|████▏     | 210/500 [03:12<08:23,  1.74s/it]No relevant docs were retrieved using the relevance score threshold 0.1\n",
      " 42%|████▏     | 211/500 [03:12<06:45,  1.40s/it]No relevant docs were retrieved using the relevance score threshold 0.1\n",
      " 42%|████▏     | 212/500 [03:13<05:51,  1.22s/it]No relevant docs were retrieved using the relevance score threshold 0.1\n",
      " 43%|████▎     | 213/500 [03:14<05:07,  1.07s/it]No relevant docs were retrieved using the relevance score threshold 0.1\n",
      " 43%|████▎     | 214/500 [03:14<04:29,  1.06it/s]No relevant docs were retrieved using the relevance score threshold 0.1\n",
      " 43%|████▎     | 215/500 [03:15<04:29,  1.06it/s]No relevant docs were retrieved using the relevance score threshold 0.1\n",
      " 43%|████▎     | 216/500 [03:16<04:07,  1.15it/s]No relevant docs were retrieved using the relevance score threshold 0.1\n",
      " 43%|████▎     | 217/500 [03:17<03:49,  1.23it/s]No relevant docs were retrieved using the relevance score threshold 0.1\n",
      " 44%|████▎     | 218/500 [03:18<03:57,  1.19it/s]No relevant docs were retrieved using the relevance score threshold 0.1\n",
      " 44%|████▍     | 219/500 [03:18<03:45,  1.25it/s]No relevant docs were retrieved using the relevance score threshold 0.1\n",
      " 44%|████▍     | 220/500 [03:19<03:52,  1.21it/s]No relevant docs were retrieved using the relevance score threshold 0.1\n",
      " 44%|████▍     | 221/500 [03:20<04:00,  1.16it/s]No relevant docs were retrieved using the relevance score threshold 0.1\n",
      " 44%|████▍     | 222/500 [03:21<03:58,  1.16it/s]No relevant docs were retrieved using the relevance score threshold 0.1\n",
      " 45%|████▍     | 223/500 [03:22<03:40,  1.26it/s]No relevant docs were retrieved using the relevance score threshold 0.1\n",
      " 45%|████▍     | 224/500 [03:23<03:48,  1.21it/s]No relevant docs were retrieved using the relevance score threshold 0.1\n",
      " 45%|████▌     | 225/500 [03:23<03:35,  1.28it/s]No relevant docs were retrieved using the relevance score threshold 0.1\n",
      " 45%|████▌     | 226/500 [03:24<03:32,  1.29it/s]No relevant docs were retrieved using the relevance score threshold 0.1\n",
      " 45%|████▌     | 227/500 [03:25<03:43,  1.22it/s]No relevant docs were retrieved using the relevance score threshold 0.1\n",
      " 46%|████▌     | 228/500 [03:26<03:22,  1.34it/s]No relevant docs were retrieved using the relevance score threshold 0.1\n",
      " 46%|████▌     | 229/500 [03:26<03:23,  1.33it/s]No relevant docs were retrieved using the relevance score threshold 0.1\n",
      " 46%|████▌     | 230/500 [03:28<05:12,  1.16s/it]No relevant docs were retrieved using the relevance score threshold 0.1\n",
      " 46%|████▌     | 231/500 [03:29<05:00,  1.12s/it]No relevant docs were retrieved using the relevance score threshold 0.1\n",
      " 46%|████▋     | 232/500 [03:30<04:30,  1.01s/it]No relevant docs were retrieved using the relevance score threshold 0.1\n",
      " 47%|████▋     | 233/500 [03:31<04:01,  1.11it/s]No relevant docs were retrieved using the relevance score threshold 0.1\n",
      " 47%|████▋     | 234/500 [03:32<03:44,  1.19it/s]No relevant docs were retrieved using the relevance score threshold 0.1\n",
      " 47%|████▋     | 235/500 [03:32<03:35,  1.23it/s]No relevant docs were retrieved using the relevance score threshold 0.1\n",
      " 47%|████▋     | 236/500 [03:33<03:20,  1.32it/s]No relevant docs were retrieved using the relevance score threshold 0.1\n",
      " 47%|████▋     | 237/500 [03:34<03:18,  1.33it/s]No relevant docs were retrieved using the relevance score threshold 0.1\n",
      " 48%|████▊     | 238/500 [03:34<03:12,  1.36it/s]No relevant docs were retrieved using the relevance score threshold 0.1\n",
      " 48%|████▊     | 239/500 [03:35<03:02,  1.43it/s]No relevant docs were retrieved using the relevance score threshold 0.1\n",
      " 48%|████▊     | 240/500 [03:36<03:13,  1.35it/s]No relevant docs were retrieved using the relevance score threshold 0.1\n",
      " 48%|████▊     | 241/500 [03:37<03:18,  1.31it/s]No relevant docs were retrieved using the relevance score threshold 0.1\n",
      " 48%|████▊     | 242/500 [03:37<03:17,  1.31it/s]No relevant docs were retrieved using the relevance score threshold 0.1\n",
      " 49%|████▊     | 243/500 [03:38<03:15,  1.31it/s]No relevant docs were retrieved using the relevance score threshold 0.1\n",
      " 49%|████▉     | 244/500 [03:39<03:13,  1.33it/s]No relevant docs were retrieved using the relevance score threshold 0.1\n",
      " 49%|████▉     | 245/500 [03:40<03:08,  1.35it/s]No relevant docs were retrieved using the relevance score threshold 0.1\n",
      " 49%|████▉     | 246/500 [03:40<03:13,  1.31it/s]No relevant docs were retrieved using the relevance score threshold 0.1\n",
      " 49%|████▉     | 247/500 [03:42<03:46,  1.12it/s]No relevant docs were retrieved using the relevance score threshold 0.1\n",
      " 50%|████▉     | 248/500 [03:42<03:29,  1.20it/s]No relevant docs were retrieved using the relevance score threshold 0.1\n",
      " 50%|████▉     | 249/500 [03:43<03:17,  1.27it/s]No relevant docs were retrieved using the relevance score threshold 0.1\n",
      " 50%|█████     | 250/500 [03:45<04:51,  1.17s/it]No relevant docs were retrieved using the relevance score threshold 0.1\n",
      " 50%|█████     | 251/500 [03:49<07:43,  1.86s/it]No relevant docs were retrieved using the relevance score threshold 0.1\n",
      " 50%|█████     | 252/500 [03:49<06:32,  1.58s/it]No relevant docs were retrieved using the relevance score threshold 0.1\n",
      " 51%|█████     | 253/500 [03:50<05:31,  1.34s/it]No relevant docs were retrieved using the relevance score threshold 0.1\n",
      " 51%|█████     | 254/500 [03:51<04:45,  1.16s/it]No relevant docs were retrieved using the relevance score threshold 0.1\n",
      " 51%|█████     | 255/500 [03:52<04:34,  1.12s/it]No relevant docs were retrieved using the relevance score threshold 0.1\n",
      " 51%|█████     | 256/500 [03:53<04:41,  1.16s/it]No relevant docs were retrieved using the relevance score threshold 0.1\n",
      " 51%|█████▏    | 257/500 [03:54<04:29,  1.11s/it]No relevant docs were retrieved using the relevance score threshold 0.1\n",
      " 52%|█████▏    | 258/500 [03:55<04:08,  1.03s/it]No relevant docs were retrieved using the relevance score threshold 0.1\n",
      " 52%|█████▏    | 259/500 [03:56<03:42,  1.08it/s]No relevant docs were retrieved using the relevance score threshold 0.1\n",
      " 52%|█████▏    | 260/500 [03:56<03:22,  1.19it/s]No relevant docs were retrieved using the relevance score threshold 0.1\n",
      " 52%|█████▏    | 261/500 [03:57<03:30,  1.14it/s]No relevant docs were retrieved using the relevance score threshold 0.1\n",
      " 52%|█████▏    | 262/500 [03:58<03:21,  1.18it/s]No relevant docs were retrieved using the relevance score threshold 0.1\n",
      " 53%|█████▎    | 263/500 [03:59<03:18,  1.19it/s]No relevant docs were retrieved using the relevance score threshold 0.1\n",
      " 53%|█████▎    | 264/500 [04:00<03:10,  1.24it/s]No relevant docs were retrieved using the relevance score threshold 0.1\n",
      " 53%|█████▎    | 265/500 [04:01<03:09,  1.24it/s]No relevant docs were retrieved using the relevance score threshold 0.1\n",
      " 53%|█████▎    | 266/500 [04:01<03:04,  1.27it/s]No relevant docs were retrieved using the relevance score threshold 0.1\n",
      " 53%|█████▎    | 267/500 [04:02<03:19,  1.17it/s]No relevant docs were retrieved using the relevance score threshold 0.1\n",
      " 54%|█████▎    | 268/500 [04:03<03:21,  1.15it/s]No relevant docs were retrieved using the relevance score threshold 0.1\n",
      " 54%|█████▍    | 269/500 [04:04<03:24,  1.13it/s]No relevant docs were retrieved using the relevance score threshold 0.1\n",
      " 54%|█████▍    | 270/500 [04:05<03:19,  1.16it/s]No relevant docs were retrieved using the relevance score threshold 0.1\n",
      " 54%|█████▍    | 271/500 [04:06<03:08,  1.22it/s]No relevant docs were retrieved using the relevance score threshold 0.1\n",
      " 54%|█████▍    | 272/500 [04:06<03:00,  1.27it/s]No relevant docs were retrieved using the relevance score threshold 0.1\n",
      " 55%|█████▍    | 273/500 [04:07<03:01,  1.25it/s]No relevant docs were retrieved using the relevance score threshold 0.1\n",
      " 55%|█████▍    | 274/500 [04:08<03:01,  1.24it/s]No relevant docs were retrieved using the relevance score threshold 0.1\n",
      " 55%|█████▌    | 275/500 [04:09<02:55,  1.28it/s]No relevant docs were retrieved using the relevance score threshold 0.1\n",
      " 55%|█████▌    | 276/500 [04:09<02:45,  1.36it/s]No relevant docs were retrieved using the relevance score threshold 0.1\n",
      " 55%|█████▌    | 277/500 [04:10<02:55,  1.27it/s]No relevant docs were retrieved using the relevance score threshold 0.1\n",
      " 56%|█████▌    | 278/500 [04:11<03:04,  1.20it/s]No relevant docs were retrieved using the relevance score threshold 0.1\n",
      " 56%|█████▌    | 279/500 [04:12<03:08,  1.17it/s]No relevant docs were retrieved using the relevance score threshold 0.1\n",
      " 56%|█████▌    | 280/500 [04:14<03:46,  1.03s/it]No relevant docs were retrieved using the relevance score threshold 0.1\n",
      " 56%|█████▌    | 281/500 [04:14<03:29,  1.05it/s]No relevant docs were retrieved using the relevance score threshold 0.1\n",
      " 56%|█████▋    | 282/500 [04:15<03:26,  1.06it/s]No relevant docs were retrieved using the relevance score threshold 0.1\n",
      " 57%|█████▋    | 283/500 [04:16<03:18,  1.09it/s]No relevant docs were retrieved using the relevance score threshold 0.1\n",
      " 57%|█████▋    | 284/500 [04:17<03:00,  1.20it/s]No relevant docs were retrieved using the relevance score threshold 0.1\n",
      " 57%|█████▋    | 285/500 [04:18<03:03,  1.17it/s]No relevant docs were retrieved using the relevance score threshold 0.1\n",
      " 57%|█████▋    | 286/500 [04:18<02:58,  1.20it/s]No relevant docs were retrieved using the relevance score threshold 0.1\n",
      " 57%|█████▋    | 287/500 [04:19<02:51,  1.24it/s]No relevant docs were retrieved using the relevance score threshold 0.1\n",
      " 58%|█████▊    | 288/500 [04:20<02:50,  1.24it/s]No relevant docs were retrieved using the relevance score threshold 0.1\n",
      " 58%|█████▊    | 289/500 [04:21<02:38,  1.33it/s]No relevant docs were retrieved using the relevance score threshold 0.1\n",
      " 58%|█████▊    | 290/500 [04:21<02:37,  1.33it/s]No relevant docs were retrieved using the relevance score threshold 0.1\n",
      " 58%|█████▊    | 291/500 [04:22<02:36,  1.33it/s]No relevant docs were retrieved using the relevance score threshold 0.1\n",
      " 58%|█████▊    | 292/500 [04:23<03:01,  1.15it/s]No relevant docs were retrieved using the relevance score threshold 0.1\n",
      " 59%|█████▊    | 293/500 [04:24<02:49,  1.22it/s]No relevant docs were retrieved using the relevance score threshold 0.1\n",
      " 59%|█████▉    | 294/500 [04:25<02:49,  1.21it/s]No relevant docs were retrieved using the relevance score threshold 0.1\n",
      " 59%|█████▉    | 295/500 [04:25<02:35,  1.32it/s]No relevant docs were retrieved using the relevance score threshold 0.1\n",
      " 59%|█████▉    | 296/500 [04:26<02:33,  1.33it/s]No relevant docs were retrieved using the relevance score threshold 0.1\n",
      " 59%|█████▉    | 297/500 [04:27<02:38,  1.28it/s]No relevant docs were retrieved using the relevance score threshold 0.1\n",
      " 60%|█████▉    | 298/500 [04:28<02:50,  1.18it/s]No relevant docs were retrieved using the relevance score threshold 0.1\n",
      " 60%|█████▉    | 299/500 [04:31<04:58,  1.48s/it]No relevant docs were retrieved using the relevance score threshold 0.1\n",
      " 60%|██████    | 300/500 [04:32<04:16,  1.28s/it]No relevant docs were retrieved using the relevance score threshold 0.1\n",
      " 60%|██████    | 301/500 [04:32<03:40,  1.11s/it]No relevant docs were retrieved using the relevance score threshold 0.1\n",
      " 60%|██████    | 302/500 [04:35<05:00,  1.52s/it]No relevant docs were retrieved using the relevance score threshold 0.1\n",
      " 61%|██████    | 303/500 [04:36<04:29,  1.37s/it]No relevant docs were retrieved using the relevance score threshold 0.1\n",
      " 61%|██████    | 304/500 [04:37<03:50,  1.17s/it]No relevant docs were retrieved using the relevance score threshold 0.1\n",
      " 61%|██████    | 305/500 [04:37<03:23,  1.04s/it]No relevant docs were retrieved using the relevance score threshold 0.1\n",
      " 61%|██████    | 306/500 [04:38<03:08,  1.03it/s]No relevant docs were retrieved using the relevance score threshold 0.1\n",
      " 61%|██████▏   | 307/500 [04:39<02:49,  1.14it/s]No relevant docs were retrieved using the relevance score threshold 0.1\n",
      " 62%|██████▏   | 308/500 [04:39<02:33,  1.25it/s]No relevant docs were retrieved using the relevance score threshold 0.1\n",
      " 62%|██████▏   | 309/500 [04:41<03:12,  1.01s/it]No relevant docs were retrieved using the relevance score threshold 0.1\n",
      " 62%|██████▏   | 310/500 [04:42<03:23,  1.07s/it]No relevant docs were retrieved using the relevance score threshold 0.1\n",
      " 62%|██████▏   | 311/500 [04:43<03:13,  1.03s/it]No relevant docs were retrieved using the relevance score threshold 0.1\n",
      " 62%|██████▏   | 312/500 [04:44<02:55,  1.07it/s]No relevant docs were retrieved using the relevance score threshold 0.1\n",
      " 63%|██████▎   | 313/500 [04:45<02:48,  1.11it/s]No relevant docs were retrieved using the relevance score threshold 0.1\n",
      " 63%|██████▎   | 314/500 [04:45<02:36,  1.19it/s]No relevant docs were retrieved using the relevance score threshold 0.1\n",
      " 63%|██████▎   | 315/500 [04:46<02:39,  1.16it/s]No relevant docs were retrieved using the relevance score threshold 0.1\n",
      " 63%|██████▎   | 316/500 [04:47<02:31,  1.21it/s]No relevant docs were retrieved using the relevance score threshold 0.1\n",
      " 63%|██████▎   | 317/500 [04:48<02:18,  1.32it/s]No relevant docs were retrieved using the relevance score threshold 0.1\n",
      " 64%|██████▎   | 318/500 [04:49<02:38,  1.15it/s]No relevant docs were retrieved using the relevance score threshold 0.1\n",
      " 64%|██████▍   | 319/500 [04:49<02:28,  1.22it/s]No relevant docs were retrieved using the relevance score threshold 0.1\n",
      " 64%|██████▍   | 320/500 [04:50<02:26,  1.23it/s]No relevant docs were retrieved using the relevance score threshold 0.1\n",
      " 64%|██████▍   | 321/500 [04:51<02:12,  1.35it/s]No relevant docs were retrieved using the relevance score threshold 0.1\n",
      " 64%|██████▍   | 322/500 [04:51<02:07,  1.39it/s]No relevant docs were retrieved using the relevance score threshold 0.1\n",
      " 65%|██████▍   | 323/500 [04:52<02:17,  1.28it/s]No relevant docs were retrieved using the relevance score threshold 0.1\n",
      " 65%|██████▍   | 324/500 [04:53<02:20,  1.25it/s]No relevant docs were retrieved using the relevance score threshold 0.1\n",
      " 65%|██████▌   | 325/500 [04:54<02:12,  1.32it/s]No relevant docs were retrieved using the relevance score threshold 0.1\n",
      " 65%|██████▌   | 326/500 [04:55<02:23,  1.21it/s]No relevant docs were retrieved using the relevance score threshold 0.1\n",
      " 65%|██████▌   | 327/500 [04:56<02:22,  1.21it/s]No relevant docs were retrieved using the relevance score threshold 0.1\n",
      " 66%|██████▌   | 328/500 [04:56<02:12,  1.29it/s]No relevant docs were retrieved using the relevance score threshold 0.1\n",
      " 66%|██████▌   | 329/500 [04:57<02:09,  1.32it/s]No relevant docs were retrieved using the relevance score threshold 0.1\n",
      " 66%|██████▌   | 330/500 [05:02<05:48,  2.05s/it]No relevant docs were retrieved using the relevance score threshold 0.1\n",
      " 66%|██████▌   | 331/500 [05:03<04:39,  1.65s/it]No relevant docs were retrieved using the relevance score threshold 0.1\n",
      " 66%|██████▋   | 332/500 [05:05<05:19,  1.90s/it]No relevant docs were retrieved using the relevance score threshold 0.1\n",
      " 67%|██████▋   | 333/500 [05:06<04:30,  1.62s/it]No relevant docs were retrieved using the relevance score threshold 0.1\n",
      " 67%|██████▋   | 334/500 [05:07<03:53,  1.41s/it]No relevant docs were retrieved using the relevance score threshold 0.1\n",
      " 67%|██████▋   | 335/500 [05:13<07:18,  2.66s/it]No relevant docs were retrieved using the relevance score threshold 0.1\n",
      " 67%|██████▋   | 336/500 [05:14<06:17,  2.30s/it]No relevant docs were retrieved using the relevance score threshold 0.1\n",
      " 67%|██████▋   | 337/500 [05:15<05:13,  1.93s/it]No relevant docs were retrieved using the relevance score threshold 0.1\n",
      " 68%|██████▊   | 338/500 [05:19<06:14,  2.31s/it]No relevant docs were retrieved using the relevance score threshold 0.1\n",
      " 68%|██████▊   | 339/500 [05:21<06:14,  2.32s/it]No relevant docs were retrieved using the relevance score threshold 0.1\n",
      " 68%|██████▊   | 340/500 [05:22<04:59,  1.87s/it]No relevant docs were retrieved using the relevance score threshold 0.1\n",
      " 68%|██████▊   | 341/500 [05:22<04:02,  1.53s/it]No relevant docs were retrieved using the relevance score threshold 0.1\n",
      " 68%|██████▊   | 342/500 [05:23<03:36,  1.37s/it]No relevant docs were retrieved using the relevance score threshold 0.1\n",
      " 69%|██████▊   | 343/500 [05:24<03:06,  1.19s/it]No relevant docs were retrieved using the relevance score threshold 0.1\n",
      " 69%|██████▉   | 344/500 [05:25<02:56,  1.13s/it]No relevant docs were retrieved using the relevance score threshold 0.1\n",
      " 69%|██████▉   | 345/500 [05:27<03:04,  1.19s/it]No relevant docs were retrieved using the relevance score threshold 0.1\n",
      " 69%|██████▉   | 346/500 [05:27<02:51,  1.11s/it]No relevant docs were retrieved using the relevance score threshold 0.1\n",
      " 69%|██████▉   | 347/500 [05:28<02:42,  1.06s/it]No relevant docs were retrieved using the relevance score threshold 0.1\n",
      " 70%|██████▉   | 348/500 [05:29<02:28,  1.02it/s]No relevant docs were retrieved using the relevance score threshold 0.1\n",
      " 70%|██████▉   | 349/500 [05:30<02:18,  1.09it/s]No relevant docs were retrieved using the relevance score threshold 0.1\n",
      " 70%|███████   | 350/500 [05:31<02:15,  1.11it/s]No relevant docs were retrieved using the relevance score threshold 0.1\n",
      " 70%|███████   | 351/500 [05:32<02:19,  1.07it/s]No relevant docs were retrieved using the relevance score threshold 0.1\n",
      " 70%|███████   | 352/500 [05:33<02:10,  1.14it/s]No relevant docs were retrieved using the relevance score threshold 0.1\n",
      " 71%|███████   | 353/500 [05:33<02:02,  1.20it/s]No relevant docs were retrieved using the relevance score threshold 0.1\n",
      " 71%|███████   | 354/500 [05:34<01:59,  1.22it/s]No relevant docs were retrieved using the relevance score threshold 0.1\n",
      " 71%|███████   | 355/500 [05:35<01:58,  1.22it/s]No relevant docs were retrieved using the relevance score threshold 0.1\n",
      " 71%|███████   | 356/500 [05:36<01:53,  1.26it/s]No relevant docs were retrieved using the relevance score threshold 0.1\n",
      " 71%|███████▏  | 357/500 [05:36<01:53,  1.26it/s]No relevant docs were retrieved using the relevance score threshold 0.1\n",
      " 72%|███████▏  | 358/500 [05:37<01:52,  1.26it/s]No relevant docs were retrieved using the relevance score threshold 0.1\n",
      " 72%|███████▏  | 359/500 [05:41<04:16,  1.82s/it]No relevant docs were retrieved using the relevance score threshold 0.1\n",
      " 72%|███████▏  | 360/500 [05:42<03:32,  1.51s/it]No relevant docs were retrieved using the relevance score threshold 0.1\n",
      " 72%|███████▏  | 361/500 [05:43<03:00,  1.30s/it]No relevant docs were retrieved using the relevance score threshold 0.1\n",
      " 72%|███████▏  | 362/500 [05:44<02:32,  1.11s/it]No relevant docs were retrieved using the relevance score threshold 0.1\n",
      " 73%|███████▎  | 363/500 [05:44<02:12,  1.04it/s]No relevant docs were retrieved using the relevance score threshold 0.1\n",
      " 73%|███████▎  | 364/500 [05:45<02:02,  1.11it/s]No relevant docs were retrieved using the relevance score threshold 0.1\n",
      " 73%|███████▎  | 365/500 [05:46<02:05,  1.08it/s]No relevant docs were retrieved using the relevance score threshold 0.1\n",
      " 73%|███████▎  | 366/500 [05:47<02:22,  1.07s/it]No relevant docs were retrieved using the relevance score threshold 0.1\n",
      " 73%|███████▎  | 367/500 [05:49<02:46,  1.25s/it]No relevant docs were retrieved using the relevance score threshold 0.1\n",
      " 74%|███████▎  | 368/500 [05:50<02:23,  1.08s/it]No relevant docs were retrieved using the relevance score threshold 0.1\n",
      " 74%|███████▍  | 369/500 [05:51<02:04,  1.05it/s]No relevant docs were retrieved using the relevance score threshold 0.1\n",
      " 74%|███████▍  | 370/500 [05:51<01:55,  1.12it/s]No relevant docs were retrieved using the relevance score threshold 0.1\n",
      " 74%|███████▍  | 371/500 [05:52<01:45,  1.22it/s]No relevant docs were retrieved using the relevance score threshold 0.1\n",
      " 74%|███████▍  | 372/500 [05:53<01:37,  1.31it/s]No relevant docs were retrieved using the relevance score threshold 0.1\n",
      " 75%|███████▍  | 373/500 [05:53<01:35,  1.33it/s]No relevant docs were retrieved using the relevance score threshold 0.1\n",
      " 75%|███████▍  | 374/500 [05:54<01:29,  1.40it/s]No relevant docs were retrieved using the relevance score threshold 0.1\n",
      " 75%|███████▌  | 375/500 [05:55<01:33,  1.34it/s]No relevant docs were retrieved using the relevance score threshold 0.1\n",
      " 75%|███████▌  | 376/500 [05:55<01:33,  1.33it/s]No relevant docs were retrieved using the relevance score threshold 0.1\n",
      " 75%|███████▌  | 377/500 [05:56<01:42,  1.21it/s]No relevant docs were retrieved using the relevance score threshold 0.1\n",
      " 76%|███████▌  | 378/500 [05:57<01:35,  1.28it/s]No relevant docs were retrieved using the relevance score threshold 0.1\n",
      " 76%|███████▌  | 379/500 [05:58<01:39,  1.21it/s]No relevant docs were retrieved using the relevance score threshold 0.1\n",
      " 76%|███████▌  | 380/500 [05:59<01:42,  1.17it/s]No relevant docs were retrieved using the relevance score threshold 0.1\n",
      " 76%|███████▌  | 381/500 [06:00<01:36,  1.23it/s]No relevant docs were retrieved using the relevance score threshold 0.1\n",
      " 76%|███████▋  | 382/500 [06:00<01:29,  1.32it/s]No relevant docs were retrieved using the relevance score threshold 0.1\n",
      " 77%|███████▋  | 383/500 [06:01<01:30,  1.30it/s]No relevant docs were retrieved using the relevance score threshold 0.1\n",
      " 77%|███████▋  | 384/500 [06:02<01:29,  1.30it/s]No relevant docs were retrieved using the relevance score threshold 0.1\n",
      " 77%|███████▋  | 385/500 [06:03<01:30,  1.27it/s]No relevant docs were retrieved using the relevance score threshold 0.1\n",
      " 77%|███████▋  | 386/500 [06:04<01:29,  1.28it/s]No relevant docs were retrieved using the relevance score threshold 0.1\n",
      " 77%|███████▋  | 387/500 [06:05<01:39,  1.13it/s]No relevant docs were retrieved using the relevance score threshold 0.1\n",
      " 78%|███████▊  | 388/500 [06:05<01:32,  1.21it/s]No relevant docs were retrieved using the relevance score threshold 0.1\n",
      " 78%|███████▊  | 389/500 [06:06<01:27,  1.27it/s]No relevant docs were retrieved using the relevance score threshold 0.1\n",
      " 78%|███████▊  | 390/500 [06:07<01:25,  1.28it/s]No relevant docs were retrieved using the relevance score threshold 0.1\n",
      " 78%|███████▊  | 391/500 [06:08<01:26,  1.26it/s]No relevant docs were retrieved using the relevance score threshold 0.1\n",
      " 78%|███████▊  | 392/500 [06:08<01:22,  1.31it/s]No relevant docs were retrieved using the relevance score threshold 0.1\n",
      " 79%|███████▊  | 393/500 [06:09<01:20,  1.33it/s]No relevant docs were retrieved using the relevance score threshold 0.1\n",
      " 79%|███████▉  | 394/500 [06:10<01:16,  1.38it/s]No relevant docs were retrieved using the relevance score threshold 0.1\n",
      " 79%|███████▉  | 395/500 [06:10<01:14,  1.41it/s]No relevant docs were retrieved using the relevance score threshold 0.1\n",
      " 79%|███████▉  | 396/500 [06:14<02:43,  1.57s/it]No relevant docs were retrieved using the relevance score threshold 0.1\n",
      " 79%|███████▉  | 397/500 [06:15<02:31,  1.47s/it]No relevant docs were retrieved using the relevance score threshold 0.1\n",
      " 80%|███████▉  | 398/500 [06:16<02:12,  1.30s/it]No relevant docs were retrieved using the relevance score threshold 0.1\n",
      " 80%|███████▉  | 399/500 [06:17<02:00,  1.19s/it]No relevant docs were retrieved using the relevance score threshold 0.1\n",
      " 80%|████████  | 400/500 [06:18<01:48,  1.09s/it]No relevant docs were retrieved using the relevance score threshold 0.1\n",
      " 80%|████████  | 401/500 [06:19<01:38,  1.00it/s]No relevant docs were retrieved using the relevance score threshold 0.1\n",
      " 80%|████████  | 402/500 [06:19<01:26,  1.14it/s]No relevant docs were retrieved using the relevance score threshold 0.1\n",
      " 81%|████████  | 403/500 [06:22<02:20,  1.45s/it]No relevant docs were retrieved using the relevance score threshold 0.1\n",
      " 81%|████████  | 404/500 [06:23<02:06,  1.32s/it]No relevant docs were retrieved using the relevance score threshold 0.1\n",
      " 81%|████████  | 405/500 [06:24<01:48,  1.14s/it]No relevant docs were retrieved using the relevance score threshold 0.1\n",
      " 81%|████████  | 406/500 [06:25<01:36,  1.02s/it]No relevant docs were retrieved using the relevance score threshold 0.1\n",
      " 81%|████████▏ | 407/500 [06:26<01:45,  1.14s/it]No relevant docs were retrieved using the relevance score threshold 0.1\n",
      " 82%|████████▏ | 408/500 [06:27<01:41,  1.10s/it]No relevant docs were retrieved using the relevance score threshold 0.1\n",
      " 82%|████████▏ | 409/500 [06:28<01:29,  1.01it/s]No relevant docs were retrieved using the relevance score threshold 0.1\n",
      " 82%|████████▏ | 410/500 [06:28<01:23,  1.08it/s]No relevant docs were retrieved using the relevance score threshold 0.1\n",
      " 82%|████████▏ | 411/500 [06:30<01:25,  1.04it/s]No relevant docs were retrieved using the relevance score threshold 0.1\n",
      " 82%|████████▏ | 412/500 [06:30<01:23,  1.05it/s]No relevant docs were retrieved using the relevance score threshold 0.1\n",
      " 83%|████████▎ | 413/500 [06:31<01:16,  1.14it/s]No relevant docs were retrieved using the relevance score threshold 0.1\n",
      " 83%|████████▎ | 414/500 [06:32<01:14,  1.16it/s]No relevant docs were retrieved using the relevance score threshold 0.1\n",
      " 83%|████████▎ | 415/500 [06:33<01:07,  1.26it/s]No relevant docs were retrieved using the relevance score threshold 0.1\n",
      " 83%|████████▎ | 416/500 [06:33<01:02,  1.34it/s]No relevant docs were retrieved using the relevance score threshold 0.1\n",
      " 83%|████████▎ | 417/500 [06:34<01:03,  1.32it/s]No relevant docs were retrieved using the relevance score threshold 0.1\n",
      " 84%|████████▎ | 418/500 [06:35<01:00,  1.35it/s]No relevant docs were retrieved using the relevance score threshold 0.1\n",
      " 84%|████████▍ | 419/500 [06:36<01:02,  1.30it/s]No relevant docs were retrieved using the relevance score threshold 0.1\n",
      " 84%|████████▍ | 420/500 [06:36<01:02,  1.28it/s]No relevant docs were retrieved using the relevance score threshold 0.1\n",
      " 84%|████████▍ | 421/500 [06:37<01:00,  1.31it/s]No relevant docs were retrieved using the relevance score threshold 0.1\n",
      " 84%|████████▍ | 422/500 [06:38<01:00,  1.28it/s]No relevant docs were retrieved using the relevance score threshold 0.1\n",
      " 85%|████████▍ | 423/500 [06:39<00:58,  1.31it/s]No relevant docs were retrieved using the relevance score threshold 0.1\n",
      " 85%|████████▍ | 424/500 [06:40<01:03,  1.19it/s]No relevant docs were retrieved using the relevance score threshold 0.1\n",
      " 85%|████████▌ | 425/500 [06:41<01:04,  1.16it/s]No relevant docs were retrieved using the relevance score threshold 0.1\n",
      " 85%|████████▌ | 426/500 [06:41<00:59,  1.24it/s]No relevant docs were retrieved using the relevance score threshold 0.1\n",
      " 85%|████████▌ | 427/500 [06:42<00:55,  1.32it/s]No relevant docs were retrieved using the relevance score threshold 0.1\n",
      " 86%|████████▌ | 428/500 [06:43<00:53,  1.33it/s]No relevant docs were retrieved using the relevance score threshold 0.1\n",
      " 86%|████████▌ | 429/500 [06:44<01:03,  1.12it/s]No relevant docs were retrieved using the relevance score threshold 0.1\n",
      " 86%|████████▌ | 430/500 [06:45<00:58,  1.19it/s]No relevant docs were retrieved using the relevance score threshold 0.1\n",
      " 86%|████████▌ | 431/500 [06:45<00:56,  1.23it/s]No relevant docs were retrieved using the relevance score threshold 0.1\n",
      " 86%|████████▋ | 432/500 [06:46<00:52,  1.29it/s]No relevant docs were retrieved using the relevance score threshold 0.1\n",
      " 87%|████████▋ | 433/500 [06:47<00:54,  1.22it/s]No relevant docs were retrieved using the relevance score threshold 0.1\n",
      " 87%|████████▋ | 434/500 [06:48<00:51,  1.27it/s]No relevant docs were retrieved using the relevance score threshold 0.1\n",
      " 87%|████████▋ | 435/500 [06:48<00:51,  1.27it/s]No relevant docs were retrieved using the relevance score threshold 0.1\n",
      " 87%|████████▋ | 436/500 [06:49<00:49,  1.29it/s]No relevant docs were retrieved using the relevance score threshold 0.1\n",
      " 87%|████████▋ | 437/500 [06:50<00:49,  1.27it/s]No relevant docs were retrieved using the relevance score threshold 0.1\n",
      " 88%|████████▊ | 438/500 [06:51<00:46,  1.34it/s]No relevant docs were retrieved using the relevance score threshold 0.1\n",
      " 88%|████████▊ | 439/500 [06:51<00:45,  1.35it/s]No relevant docs were retrieved using the relevance score threshold 0.1\n",
      " 88%|████████▊ | 440/500 [06:52<00:43,  1.36it/s]No relevant docs were retrieved using the relevance score threshold 0.1\n",
      " 88%|████████▊ | 441/500 [06:53<00:47,  1.23it/s]No relevant docs were retrieved using the relevance score threshold 0.1\n",
      " 88%|████████▊ | 442/500 [06:54<00:46,  1.24it/s]No relevant docs were retrieved using the relevance score threshold 0.1\n",
      " 89%|████████▊ | 443/500 [06:55<00:43,  1.31it/s]No relevant docs were retrieved using the relevance score threshold 0.1\n",
      " 89%|████████▉ | 444/500 [06:55<00:42,  1.33it/s]No relevant docs were retrieved using the relevance score threshold 0.1\n",
      " 89%|████████▉ | 445/500 [06:56<00:41,  1.33it/s]No relevant docs were retrieved using the relevance score threshold 0.1\n",
      " 89%|████████▉ | 446/500 [06:57<00:41,  1.32it/s]No relevant docs were retrieved using the relevance score threshold 0.1\n",
      " 89%|████████▉ | 447/500 [06:58<00:42,  1.25it/s]No relevant docs were retrieved using the relevance score threshold 0.1\n",
      " 90%|████████▉ | 448/500 [06:59<00:43,  1.20it/s]No relevant docs were retrieved using the relevance score threshold 0.1\n",
      " 90%|████████▉ | 449/500 [06:59<00:39,  1.29it/s]No relevant docs were retrieved using the relevance score threshold 0.1\n",
      " 90%|█████████ | 450/500 [07:00<00:38,  1.32it/s]No relevant docs were retrieved using the relevance score threshold 0.1\n",
      " 90%|█████████ | 451/500 [07:01<00:39,  1.25it/s]No relevant docs were retrieved using the relevance score threshold 0.1\n",
      " 90%|█████████ | 452/500 [07:02<00:37,  1.29it/s]No relevant docs were retrieved using the relevance score threshold 0.1\n",
      " 91%|█████████ | 453/500 [07:02<00:35,  1.34it/s]No relevant docs were retrieved using the relevance score threshold 0.1\n",
      " 91%|█████████ | 454/500 [07:03<00:34,  1.34it/s]No relevant docs were retrieved using the relevance score threshold 0.1\n",
      " 91%|█████████ | 455/500 [07:04<00:35,  1.28it/s]No relevant docs were retrieved using the relevance score threshold 0.1\n",
      " 91%|█████████ | 456/500 [07:05<00:34,  1.29it/s]No relevant docs were retrieved using the relevance score threshold 0.1\n",
      " 91%|█████████▏| 457/500 [07:05<00:31,  1.36it/s]No relevant docs were retrieved using the relevance score threshold 0.1\n",
      " 92%|█████████▏| 458/500 [07:06<00:33,  1.27it/s]No relevant docs were retrieved using the relevance score threshold 0.1\n",
      " 92%|█████████▏| 459/500 [07:07<00:30,  1.37it/s]No relevant docs were retrieved using the relevance score threshold 0.1\n",
      " 92%|█████████▏| 460/500 [07:08<00:30,  1.30it/s]No relevant docs were retrieved using the relevance score threshold 0.1\n",
      " 92%|█████████▏| 461/500 [07:08<00:29,  1.31it/s]No relevant docs were retrieved using the relevance score threshold 0.1\n",
      " 92%|█████████▏| 462/500 [07:09<00:28,  1.34it/s]No relevant docs were retrieved using the relevance score threshold 0.1\n",
      " 93%|█████████▎| 463/500 [07:10<00:27,  1.37it/s]No relevant docs were retrieved using the relevance score threshold 0.1\n",
      " 93%|█████████▎| 464/500 [07:11<00:28,  1.28it/s]No relevant docs were retrieved using the relevance score threshold 0.1\n",
      " 93%|█████████▎| 465/500 [07:11<00:26,  1.34it/s]No relevant docs were retrieved using the relevance score threshold 0.1\n",
      " 93%|█████████▎| 466/500 [07:12<00:26,  1.28it/s]No relevant docs were retrieved using the relevance score threshold 0.1\n",
      " 93%|█████████▎| 467/500 [07:13<00:28,  1.17it/s]No relevant docs were retrieved using the relevance score threshold 0.1\n",
      " 94%|█████████▎| 468/500 [07:14<00:26,  1.21it/s]No relevant docs were retrieved using the relevance score threshold 0.1\n",
      " 94%|█████████▍| 469/500 [07:15<00:25,  1.23it/s]No relevant docs were retrieved using the relevance score threshold 0.1\n",
      " 94%|█████████▍| 470/500 [07:16<00:25,  1.18it/s]No relevant docs were retrieved using the relevance score threshold 0.1\n",
      " 94%|█████████▍| 471/500 [07:16<00:23,  1.21it/s]No relevant docs were retrieved using the relevance score threshold 0.1\n",
      " 94%|█████████▍| 472/500 [07:17<00:21,  1.28it/s]No relevant docs were retrieved using the relevance score threshold 0.1\n",
      " 95%|█████████▍| 473/500 [07:18<00:20,  1.34it/s]No relevant docs were retrieved using the relevance score threshold 0.1\n",
      " 95%|█████████▍| 474/500 [07:19<00:20,  1.29it/s]No relevant docs were retrieved using the relevance score threshold 0.1\n",
      " 95%|█████████▌| 475/500 [07:19<00:18,  1.33it/s]No relevant docs were retrieved using the relevance score threshold 0.1\n",
      " 95%|█████████▌| 476/500 [07:20<00:17,  1.40it/s]No relevant docs were retrieved using the relevance score threshold 0.1\n",
      " 95%|█████████▌| 477/500 [07:21<00:16,  1.40it/s]No relevant docs were retrieved using the relevance score threshold 0.1\n",
      " 96%|█████████▌| 478/500 [07:21<00:15,  1.42it/s]No relevant docs were retrieved using the relevance score threshold 0.1\n",
      " 96%|█████████▌| 479/500 [07:22<00:15,  1.39it/s]No relevant docs were retrieved using the relevance score threshold 0.1\n",
      " 96%|█████████▌| 480/500 [07:23<00:15,  1.33it/s]No relevant docs were retrieved using the relevance score threshold 0.1\n",
      " 96%|█████████▌| 481/500 [07:24<00:13,  1.37it/s]No relevant docs were retrieved using the relevance score threshold 0.1\n",
      " 96%|█████████▋| 482/500 [07:24<00:13,  1.33it/s]No relevant docs were retrieved using the relevance score threshold 0.1\n",
      " 97%|█████████▋| 483/500 [07:25<00:13,  1.30it/s]No relevant docs were retrieved using the relevance score threshold 0.1\n",
      " 97%|█████████▋| 484/500 [07:26<00:13,  1.23it/s]No relevant docs were retrieved using the relevance score threshold 0.1\n",
      " 97%|█████████▋| 485/500 [07:28<00:17,  1.14s/it]No relevant docs were retrieved using the relevance score threshold 0.1\n",
      " 97%|█████████▋| 486/500 [07:29<00:14,  1.05s/it]No relevant docs were retrieved using the relevance score threshold 0.1\n",
      " 97%|█████████▋| 487/500 [07:30<00:12,  1.03it/s]No relevant docs were retrieved using the relevance score threshold 0.1\n",
      " 98%|█████████▊| 488/500 [07:31<00:11,  1.07it/s]No relevant docs were retrieved using the relevance score threshold 0.1\n",
      " 98%|█████████▊| 489/500 [07:31<00:09,  1.13it/s]No relevant docs were retrieved using the relevance score threshold 0.1\n",
      " 98%|█████████▊| 490/500 [07:32<00:08,  1.22it/s]No relevant docs were retrieved using the relevance score threshold 0.1\n",
      " 98%|█████████▊| 491/500 [07:33<00:07,  1.23it/s]No relevant docs were retrieved using the relevance score threshold 0.1\n",
      " 98%|█████████▊| 492/500 [07:34<00:06,  1.19it/s]No relevant docs were retrieved using the relevance score threshold 0.1\n",
      " 99%|█████████▊| 493/500 [07:34<00:05,  1.25it/s]No relevant docs were retrieved using the relevance score threshold 0.1\n",
      " 99%|█████████▉| 494/500 [07:35<00:04,  1.23it/s]No relevant docs were retrieved using the relevance score threshold 0.1\n",
      " 99%|█████████▉| 495/500 [07:36<00:03,  1.27it/s]No relevant docs were retrieved using the relevance score threshold 0.1\n",
      " 99%|█████████▉| 496/500 [07:37<00:03,  1.26it/s]No relevant docs were retrieved using the relevance score threshold 0.1\n",
      " 99%|█████████▉| 497/500 [07:38<00:02,  1.20it/s]No relevant docs were retrieved using the relevance score threshold 0.1\n",
      "100%|█████████▉| 498/500 [07:39<00:01,  1.16it/s]No relevant docs were retrieved using the relevance score threshold 0.1\n",
      "100%|█████████▉| 499/500 [07:39<00:00,  1.19it/s]No relevant docs were retrieved using the relevance score threshold 0.1\n",
      "100%|██████████| 500/500 [07:40<00:00,  1.09it/s]\n"
     ]
    },
    {
     "name": "stdout",
     "output_type": "stream",
     "text": [
      "Running gpt-3.5-turbo - 400 - text-embedding-3-small\n",
      "/Users/mariadancianu/Desktop/Git Projects/SQuAD_RAG_experiments/vector_databases/db_400_text-embedding-3-small\n",
      "\n",
      "--- Creating vector store chroma_db_openai ---\n",
      "--- Finished creating vector store chroma_db_openai ---\n"
     ]
    },
    {
     "name": "stderr",
     "output_type": "stream",
     "text": [
      " 13%|█▎        | 67/500 [01:08<06:34,  1.10it/s]No relevant docs were retrieved using the relevance score threshold 0.1\n",
      " 14%|█▍        | 71/500 [01:11<06:09,  1.16it/s]No relevant docs were retrieved using the relevance score threshold 0.1\n",
      " 14%|█▍        | 72/500 [01:12<06:05,  1.17it/s]No relevant docs were retrieved using the relevance score threshold 0.1\n",
      " 16%|█▋        | 82/500 [01:20<05:49,  1.20it/s]/Users/mariadancianu/Desktop/Git Projects/SQuAD_RAG_experiments/.venv/lib/python3.12/site-packages/langchain_core/vectorstores/base.py:1076: UserWarning: Relevance scores must be between 0 and 1, got [(Document(metadata={'start_index': 428, 'title': 'Normans'}, page_content=\". Having spent time at the court of Henry I of England (married to David's sister Maud of Scotland), and needing them to wrestle the kingdom from his half-brother Máel Coluim mac Alaxandair, David had to reward many with lands. The process was continued under David's successors, most intensely of all under William the Lion\"), -0.032232881102496336), (Document(metadata={'start_index': 691, 'title': 'Huguenot'}, page_content='. They were very successful at marriage and property speculation. After petitioning the British Crown in 1697 for the right to own land in the Baronies, they prospered as slave owners on the Cooper, Ashepoo, Ashley and Santee River plantations they purchased from the British Landgrave Edmund Bellinger'), -0.04168380611888223), (Document(metadata={'start_index': 663, 'title': 'Scottish_Parliament'}, page_content='dissolved by the Queen by royal proclamation'), -0.04263202591668036)]\n",
      "  self.vectorstore.similarity_search_with_relevance_scores(\n",
      "No relevant docs were retrieved using the relevance score threshold 0.1\n",
      " 17%|█▋        | 83/500 [01:21<05:12,  1.34it/s]/Users/mariadancianu/Desktop/Git Projects/SQuAD_RAG_experiments/.venv/lib/python3.12/site-packages/langchain_core/vectorstores/base.py:1076: UserWarning: Relevance scores must be between 0 and 1, got [(Document(metadata={'start_index': 387, 'title': 'Normans'}, page_content=\". Because of this, Ethelred fled to Normandy in 1013, when he was forced from his kingdom by Sweyn Forkbeard. His stay in Normandy (until 1016) influenced him and his sons by Emma, who stayed in Normandy after Cnut the Great's conquest of the isle.\"), 0.037110485815507355), (Document(metadata={'start_index': 367, 'title': 'Normans'}, page_content='. He appointed Robert of Jumièges archbishop of Canterbury and made Ralph the Timid earl of Hereford. He invited his brother-in-law Eustace II, Count of Boulogne to his court in 1051, an event which resulted in the greatest of early conflicts between Saxon and Norman and ultimately resulted in the exile of Earl Godwin of Wessex.'), -0.015475041253473876), (Document(metadata={'start_index': 0, 'title': 'Normans'}, page_content='The Normans were in contact with England from an early date. Not only were their original Viking brethren still ravaging the English coasts, they occupied most of the important ports opposite England across the English Channel. This relationship eventually produced closer ties of blood through the marriage of Emma, sister of Duke Richard II of Normandy, and King Ethelred II of England'), -0.027391388320352927)]\n",
      "  self.vectorstore.similarity_search_with_relevance_scores(\n",
      "No relevant docs were retrieved using the relevance score threshold 0.1\n",
      " 21%|██        | 106/500 [01:42<05:05,  1.29it/s]No relevant docs were retrieved using the relevance score threshold 0.1\n",
      " 23%|██▎       | 113/500 [01:48<05:07,  1.26it/s]No relevant docs were retrieved using the relevance score threshold 0.1\n",
      " 23%|██▎       | 114/500 [01:48<04:50,  1.33it/s]No relevant docs were retrieved using the relevance score threshold 0.1\n",
      " 23%|██▎       | 116/500 [01:50<04:55,  1.30it/s]No relevant docs were retrieved using the relevance score threshold 0.1\n",
      " 24%|██▍       | 120/500 [01:53<04:59,  1.27it/s]/Users/mariadancianu/Desktop/Git Projects/SQuAD_RAG_experiments/.venv/lib/python3.12/site-packages/langchain_core/vectorstores/base.py:1076: UserWarning: Relevance scores must be between 0 and 1, got [(Document(metadata={'start_index': 199, 'title': 'Normans'}, page_content='. King David I of Scotland, whose elder brother Alexander I had married Sybilla of Normandy, was instrumental in introducing Normans and Norman culture to Scotland, part of the process some scholars call the \"Davidian Revolution\"'), 0.04491439628578453), (Document(metadata={'start_index': 428, 'title': 'Normans'}, page_content=\". Having spent time at the court of Henry I of England (married to David's sister Maud of Scotland), and needing them to wrestle the kingdom from his half-brother Máel Coluim mac Alaxandair, David had to reward many with lands. The process was continued under David's successors, most intensely of all under William the Lion\"), -0.002678499402293255), (Document(metadata={'start_index': 290, 'title': 'Yuan_dynasty'}, page_content='. The Mongol custom of long standing quda/marriage alliance with Mongol clans, the Onggirat, and the Ikeres, kept the imperial blood purely Mongol until the reign of Tugh Temur, whose mother was a Tangut concubine. The Mongol Emperors had built large palaces and pavilions, but some still continued to live as nomads at times'), -0.048872456894597294)]\n",
      "  self.vectorstore.similarity_search_with_relevance_scores(\n",
      "No relevant docs were retrieved using the relevance score threshold 0.1\n",
      " 31%|███       | 153/500 [02:28<10:31,  1.82s/it]No relevant docs were retrieved using the relevance score threshold 0.1\n",
      " 31%|███       | 156/500 [02:30<06:42,  1.17s/it]/Users/mariadancianu/Desktop/Git Projects/SQuAD_RAG_experiments/.venv/lib/python3.12/site-packages/langchain_core/vectorstores/base.py:1076: UserWarning: Relevance scores must be between 0 and 1, got [(Document(metadata={'start_index': 723, 'title': 'French_and_Indian_War'}, page_content='. When Clinton did not respond to his satisfaction, Chief Hendrick said that the \"Covenant Chain\", a long-standing friendly relationship between the Iroquois Confederacy and the British Crown, was broken.'), 0.029425345164333927), (Document(metadata={'start_index': 538, 'title': 'Oxygen'}, page_content='2. This method of welding and cutting metal later became common.'), -0.015536912827087912), (Document(metadata={'start_index': 583, 'title': 'French_and_Indian_War'}, page_content='. Traders married daughters of chiefs, creating high-ranking unions.'), -0.033869696111265446)]\n",
      "  self.vectorstore.similarity_search_with_relevance_scores(\n",
      "No relevant docs were retrieved using the relevance score threshold 0.1\n",
      " 32%|███▏      | 158/500 [02:31<05:20,  1.07it/s]/Users/mariadancianu/Desktop/Git Projects/SQuAD_RAG_experiments/.venv/lib/python3.12/site-packages/langchain_core/vectorstores/base.py:1076: UserWarning: Relevance scores must be between 0 and 1, got [(Document(metadata={'start_index': 382, 'title': 'Normans'}, page_content='. But Isaac changed his mind and tried to escape. Richard then proceeded to conquer the whole island, his troops being led by Guy de Lusignan. Isaac surrendered and was confined with silver chains, because Richard had promised that he would not place him in irons. By 1 June, Richard had conquered the whole island'), 0.13685353162744873), (Document(metadata={'start_index': 0, 'title': 'Normans'}, page_content='Various princes of the Holy Land arrived in Limassol at the same time, in particular Guy de Lusignan. All declared their support for Richard provided that he support Guy against his rival Conrad of Montferrat. The local barons abandoned Isaac, who considered making peace with Richard, joining him on the crusade, and offering his daughter in marriage to the person named by Richard'), 0.03623728740805865), (Document(metadata={'start_index': 428, 'title': 'Normans'}, page_content=\". Having spent time at the court of Henry I of England (married to David's sister Maud of Scotland), and needing them to wrestle the kingdom from his half-brother Máel Coluim mac Alaxandair, David had to reward many with lands. The process was continued under David's successors, most intensely of all under William the Lion\"), -0.03096957146523094)]\n",
      "  self.vectorstore.similarity_search_with_relevance_scores(\n",
      "100%|██████████| 500/500 [08:40<00:00,  1.04s/it]\n"
     ]
    },
    {
     "name": "stdout",
     "output_type": "stream",
     "text": [
      "Running gpt-3.5-turbo - 500 - text-embedding-3-small\n",
      "/Users/mariadancianu/Desktop/Git Projects/SQuAD_RAG_experiments/vector_databases/db_500_text-embedding-3-small\n",
      "\n",
      "--- Creating vector store chroma_db_openai ---\n",
      "--- Finished creating vector store chroma_db_openai ---\n"
     ]
    },
    {
     "name": "stderr",
     "output_type": "stream",
     "text": [
      " 13%|█▎        | 67/500 [01:41<07:36,  1.05s/it]  No relevant docs were retrieved using the relevance score threshold 0.1\n",
      " 14%|█▍        | 71/500 [01:45<06:46,  1.06it/s]No relevant docs were retrieved using the relevance score threshold 0.1\n",
      " 14%|█▍        | 72/500 [01:46<07:28,  1.05s/it]No relevant docs were retrieved using the relevance score threshold 0.1\n",
      " 16%|█▋        | 82/500 [01:55<06:40,  1.04it/s]/Users/mariadancianu/Desktop/Git Projects/SQuAD_RAG_experiments/.venv/lib/python3.12/site-packages/langchain_core/vectorstores/base.py:1076: UserWarning: Relevance scores must be between 0 and 1, got [(Document(metadata={'start_index': 495, 'title': 'Normans'}, page_content=\". His stay in Normandy (until 1016) influenced him and his sons by Emma, who stayed in Normandy after Cnut the Great's conquest of the isle.\"), 0.03684403343922149), (Document(metadata={'start_index': 276, 'title': 'Huguenot'}, page_content='. After the Revocation of the Edict of Nantes in 1685, several Huguenot families of Norman and Carolingian nobility and descent, including Edmund Bohun of Suffolk England from the Humphrey de Bohun line of French royalty descended from Charlemagne, Jean Postell of Dieppe France, Alexander Pepin, Antoine Poitevin of Orsement France, and Jacques de Bordeaux of Grenoble, immigrated to the Charleston Orange district. They were very successful at marriage and property speculation'), -0.06144452463060901), (Document(metadata={'start_index': 0, 'title': 'Normans'}, page_content='The Normans were in contact with England from an early date. Not only were their original Viking brethren still ravaging the English coasts, they occupied most of the important ports opposite England across the English Channel. This relationship eventually produced closer ties of blood through the marriage of Emma, sister of Duke Richard II of Normandy, and King Ethelred II of England. Because of this, Ethelred fled to Normandy in 1013, when he was forced from his kingdom by Sweyn Forkbeard'), -0.06177352293008509)]\n",
      "  self.vectorstore.similarity_search_with_relevance_scores(\n",
      "No relevant docs were retrieved using the relevance score threshold 0.1\n",
      " 17%|█▋        | 83/500 [01:56<06:25,  1.08it/s]/Users/mariadancianu/Desktop/Git Projects/SQuAD_RAG_experiments/.venv/lib/python3.12/site-packages/langchain_core/vectorstores/base.py:1076: UserWarning: Relevance scores must be between 0 and 1, got [(Document(metadata={'start_index': 495, 'title': 'Normans'}, page_content=\". His stay in Normandy (until 1016) influenced him and his sons by Emma, who stayed in Normandy after Cnut the Great's conquest of the isle.\"), 0.1132267669955147), (Document(metadata={'start_index': 467, 'title': 'Normans'}, page_content='. He invited his brother-in-law Eustace II, Count of Boulogne to his court in 1051, an event which resulted in the greatest of early conflicts between Saxon and Norman and ultimately resulted in the exile of Earl Godwin of Wessex.'), 0.016347599539888624), (Document(metadata={'start_index': 0, 'title': 'Normans'}, page_content='The Normans were in contact with England from an early date. Not only were their original Viking brethren still ravaging the English coasts, they occupied most of the important ports opposite England across the English Channel. This relationship eventually produced closer ties of blood through the marriage of Emma, sister of Duke Richard II of Normandy, and King Ethelred II of England. Because of this, Ethelred fled to Normandy in 1013, when he was forced from his kingdom by Sweyn Forkbeard'), -0.009515139699245445)]\n",
      "  self.vectorstore.similarity_search_with_relevance_scores(\n",
      " 21%|██        | 106/500 [02:20<05:47,  1.13it/s]No relevant docs were retrieved using the relevance score threshold 0.1\n",
      " 23%|██▎       | 113/500 [02:26<05:06,  1.26it/s]No relevant docs were retrieved using the relevance score threshold 0.1\n",
      " 23%|██▎       | 114/500 [02:27<05:38,  1.14it/s]No relevant docs were retrieved using the relevance score threshold 0.1\n",
      " 23%|██▎       | 116/500 [02:28<05:44,  1.12it/s]No relevant docs were retrieved using the relevance score threshold 0.1\n",
      " 24%|██▍       | 120/500 [02:36<07:41,  1.22s/it]/Users/mariadancianu/Desktop/Git Projects/SQuAD_RAG_experiments/.venv/lib/python3.12/site-packages/langchain_core/vectorstores/base.py:1076: UserWarning: Relevance scores must be between 0 and 1, got [(Document(metadata={'start_index': 428, 'title': 'Normans'}, page_content=\". Having spent time at the court of Henry I of England (married to David's sister Maud of Scotland), and needing them to wrestle the kingdom from his half-brother Máel Coluim mac Alaxandair, David had to reward many with lands. The process was continued under David's successors, most intensely of all under William the Lion. The Norman-derived feudal system was applied in varying degrees to most of Scotland\"), -0.025608323747251083), (Document(metadata={'start_index': 290, 'title': 'Yuan_dynasty'}, page_content='. The Mongol custom of long standing quda/marriage alliance with Mongol clans, the Onggirat, and the Ikeres, kept the imperial blood purely Mongol until the reign of Tugh Temur, whose mother was a Tangut concubine. The Mongol Emperors had built large palaces and pavilions, but some still continued to live as nomads at times'), -0.04886782074126117), (Document(metadata={'start_index': 372, 'title': 'Normans'}, page_content='. Malcolm submitted, paid homage to William and surrendered his son Duncan as a hostage, beginning a series of arguments as to whether the Scottish Crown owed allegiance to the King of England.'), -0.08656927255231706)]\n",
      "  self.vectorstore.similarity_search_with_relevance_scores(\n",
      "No relevant docs were retrieved using the relevance score threshold 0.1\n",
      " 25%|██▌       | 126/500 [02:41<05:50,  1.07it/s]/Users/mariadancianu/Desktop/Git Projects/SQuAD_RAG_experiments/.venv/lib/python3.12/site-packages/langchain_core/vectorstores/base.py:1076: UserWarning: Relevance scores must be between 0 and 1, got [(Document(metadata={'start_index': 0, 'title': 'Normans'}, page_content='Even before the Norman Conquest of England, the Normans had come into contact with Wales. Edward the Confessor had set up the aforementioned Ralph as earl of Hereford and charged him with defending the Marches and warring with the Welsh. In these original ventures, the Normans failed to make any headway into Wales.'), 0.20622825580074455), (Document(metadata={'start_index': 0, 'title': 'Normans'}, page_content=\"When finally Edward the Confessor returned from his father's refuge in 1041, at the invitation of his half-brother Harthacnut, he brought with him a Norman-educated mind. He also brought many Norman counsellors and fighters, some of whom established an English cavalry force. This concept never really took root, but it is a typical example of the attitudes of Edward. He appointed Robert of Jumièges archbishop of Canterbury and made Ralph the Timid earl of Hereford\"), 0.15073063438075163), (Document(metadata={'start_index': 0, 'title': 'Harvard_University'}, page_content='Other: Civil rights leader W. E. B. Du Bois; philosopher Henry David Thoreau; authors Ralph Waldo Emerson and William S. Burroughs; educators Werner Baer, Harlan Hanson; poets Wallace Stevens, T. S. Eliot and E. E'), -0.017198257301690223)]\n",
      "  self.vectorstore.similarity_search_with_relevance_scores(\n",
      " 31%|███       | 153/500 [03:31<05:25,  1.07it/s]No relevant docs were retrieved using the relevance score threshold 0.1\n",
      " 31%|███       | 154/500 [03:32<05:12,  1.11it/s]/Users/mariadancianu/Desktop/Git Projects/SQuAD_RAG_experiments/.venv/lib/python3.12/site-packages/langchain_core/vectorstores/base.py:1076: UserWarning: Relevance scores must be between 0 and 1, got [(Document(metadata={'start_index': 430, 'title': 'Normans'}, page_content='. Richard then proceeded to conquer the whole island, his troops being led by Guy de Lusignan. Isaac surrendered and was confined with silver chains, because Richard had promised that he would not place him in irons. By 1 June, Richard had conquered the whole island. His exploit was well publicized and contributed to his reputation; he also derived significant financial gains from the conquest of the island. Richard left for Acre on 5 June, with his allies'), 0.07653835683526655), (Document(metadata={'start_index': 435, 'title': 'Normans'}, page_content=\". On 1 May 1191, Richard's fleet arrived in the port of Limassol on Cyprus. He ordered Isaac to release the prisoners and the treasure. Isaac refused, so Richard landed his troops and took Limassol.\"), 0.00355611531052924), (Document(metadata={'start_index': 0, 'title': 'Normans'}, page_content='Various princes of the Holy Land arrived in Limassol at the same time, in particular Guy de Lusignan. All declared their support for Richard provided that he support Guy against his rival Conrad of Montferrat. The local barons abandoned Isaac, who considered making peace with Richard, joining him on the crusade, and offering his daughter in marriage to the person named by Richard. But Isaac changed his mind and tried to escape'), -0.0224414095501424)]\n",
      "  self.vectorstore.similarity_search_with_relevance_scores(\n",
      "No relevant docs were retrieved using the relevance score threshold 0.1\n",
      " 31%|███       | 156/500 [03:33<05:09,  1.11it/s]/Users/mariadancianu/Desktop/Git Projects/SQuAD_RAG_experiments/.venv/lib/python3.12/site-packages/langchain_core/vectorstores/base.py:1076: UserWarning: Relevance scores must be between 0 and 1, got [(Document(metadata={'start_index': 1630, 'title': 'Pharmacy'}, page_content='. Living in the 10th century, he wrote The foundations of the true properties of Remedies, amongst others describing arsenious oxide, and being acquainted with silicic acid. He made clear distinction between sodium carbonate and potassium carbonate, and drew attention to the poisonous nature of copper compounds, especially copper vitriol, and also lead compounds. He also describes the distillation of sea-water for drinking.[verification needed]'), 0.05836252841494349), (Document(metadata={'start_index': 538, 'title': 'Oxygen'}, page_content='2. This method of welding and cutting metal later became common.'), -0.015536912827087912), (Document(metadata={'start_index': 479, 'title': 'French_and_Indian_War'}, page_content='. They met at Albany, New York with Governor Clinton and officials from some of the other American colonies. Mohawk Chief Hendrick, Speaker of their tribal council, insisted that the British abide by their obligations and block French expansion. When Clinton did not respond to his satisfaction, Chief Hendrick said that the \"Covenant Chain\", a long-standing friendly relationship between the Iroquois Confederacy and the British Crown, was broken.'), -0.01885361692380405)]\n",
      "  self.vectorstore.similarity_search_with_relevance_scores(\n",
      "No relevant docs were retrieved using the relevance score threshold 0.1\n",
      " 32%|███▏      | 158/500 [03:35<05:14,  1.09it/s]/Users/mariadancianu/Desktop/Git Projects/SQuAD_RAG_experiments/.venv/lib/python3.12/site-packages/langchain_core/vectorstores/base.py:1076: UserWarning: Relevance scores must be between 0 and 1, got [(Document(metadata={'start_index': 0, 'title': 'Normans'}, page_content='Various princes of the Holy Land arrived in Limassol at the same time, in particular Guy de Lusignan. All declared their support for Richard provided that he support Guy against his rival Conrad of Montferrat. The local barons abandoned Isaac, who considered making peace with Richard, joining him on the crusade, and offering his daughter in marriage to the person named by Richard. But Isaac changed his mind and tried to escape'), 0.09385708694427208), (Document(metadata={'start_index': 482, 'title': 'French_and_Indian_War'}, page_content='. Lawrence and Mississippi watersheds, did business with local tribes, and often married Indian women. Traders married daughters of chiefs, creating high-ranking unions.'), -0.020392314069239914), (Document(metadata={'start_index': 435, 'title': 'Normans'}, page_content=\". On 1 May 1191, Richard's fleet arrived in the port of Limassol on Cyprus. He ordered Isaac to release the prisoners and the treasure. Isaac refused, so Richard landed his troops and took Limassol.\"), -0.0300801043742569)]\n",
      "  self.vectorstore.similarity_search_with_relevance_scores(\n",
      "No relevant docs were retrieved using the relevance score threshold 0.1\n",
      " 32%|███▏      | 161/500 [03:38<05:47,  1.02s/it]/Users/mariadancianu/Desktop/Git Projects/SQuAD_RAG_experiments/.venv/lib/python3.12/site-packages/langchain_core/vectorstores/base.py:1076: UserWarning: Relevance scores must be between 0 and 1, got [(Document(metadata={'start_index': 384, 'title': 'Imperialism'}, page_content='. A distinction about empires is \"that although political empires were built mostly by expansion overland, economic and cultural influences spread at least as much by sea\". Some of the main aspects of trade that went overseas consisted of animals and plant products. European empires in Asia and Africa \"have come to be seen as the classic forms of imperialism: and indeed most books on the subject confine themselves to the European seaborne empires\"'), 0.006186921594579231), (Document(metadata={'start_index': 357, 'title': 'Normans'}, page_content='. Roussel de Bailleul even tried to carve out an independent state in Asia Minor with support from the local population, but he was stopped by the Byzantine general Alexius Komnenos.'), -0.013909960180870318), (Document(metadata={'start_index': 0, 'title': 'Imperialism'}, page_content='Imperialism has played an important role in the histories of Japan, Korea, the Assyrian Empire, the Chinese Empire, the Roman Empire, Greece, the Byzantine Empire, the Persian Empire, the Ottoman Empire, Ancient Egypt, the British Empire, India, and many other empires. Imperialism was a basic component to the conquests of Genghis Khan during the Mongol Empire, and of other war-lords. Historically recognized Muslim empires number in the dozens'), -0.025230182222411246)]\n",
      "  self.vectorstore.similarity_search_with_relevance_scores(\n",
      "No relevant docs were retrieved using the relevance score threshold 0.1\n",
      "100%|██████████| 500/500 [09:15<00:00,  1.11s/it]\n"
     ]
    },
    {
     "name": "stdout",
     "output_type": "stream",
     "text": [
      "Running gpt-3.5-turbo - 600 - text-embedding-3-small\n",
      "/Users/mariadancianu/Desktop/Git Projects/SQuAD_RAG_experiments/vector_databases/db_600_text-embedding-3-small\n",
      "\n",
      "--- Creating vector store chroma_db_openai ---\n",
      "--- Finished creating vector store chroma_db_openai ---\n"
     ]
    },
    {
     "name": "stderr",
     "output_type": "stream",
     "text": [
      " 13%|█▎        | 65/500 [01:02<08:47,  1.21s/it]No relevant docs were retrieved using the relevance score threshold 0.1\n",
      " 13%|█▎        | 67/500 [01:07<13:27,  1.87s/it]No relevant docs were retrieved using the relevance score threshold 0.1\n",
      " 14%|█▍        | 69/500 [01:08<08:56,  1.24s/it]No relevant docs were retrieved using the relevance score threshold 0.1\n",
      " 14%|█▍        | 71/500 [01:10<07:24,  1.04s/it]No relevant docs were retrieved using the relevance score threshold 0.1\n",
      " 14%|█▍        | 72/500 [01:11<06:50,  1.04it/s]No relevant docs were retrieved using the relevance score threshold 0.1\n",
      " 16%|█▋        | 82/500 [01:18<05:24,  1.29it/s]/Users/mariadancianu/Desktop/Git Projects/SQuAD_RAG_experiments/.venv/lib/python3.12/site-packages/langchain_core/vectorstores/base.py:1076: UserWarning: Relevance scores must be between 0 and 1, got [(Document(metadata={'start_index': 495, 'title': 'Normans'}, page_content=\". His stay in Normandy (until 1016) influenced him and his sons by Emma, who stayed in Normandy after Cnut the Great's conquest of the isle.\"), 0.03684403343922149), (Document(metadata={'start_index': 276, 'title': 'Huguenot'}, page_content='. After the Revocation of the Edict of Nantes in 1685, several Huguenot families of Norman and Carolingian nobility and descent, including Edmund Bohun of Suffolk England from the Humphrey de Bohun line of French royalty descended from Charlemagne, Jean Postell of Dieppe France, Alexander Pepin, Antoine Poitevin of Orsement France, and Jacques de Bordeaux of Grenoble, immigrated to the Charleston Orange district. They were very successful at marriage and property speculation'), -0.06144452463060901), (Document(metadata={'start_index': 0, 'title': 'Normans'}, page_content='The Normans were in contact with England from an early date. Not only were their original Viking brethren still ravaging the English coasts, they occupied most of the important ports opposite England across the English Channel. This relationship eventually produced closer ties of blood through the marriage of Emma, sister of Duke Richard II of Normandy, and King Ethelred II of England. Because of this, Ethelred fled to Normandy in 1013, when he was forced from his kingdom by Sweyn Forkbeard'), -0.06177352293008509)]\n",
      "  self.vectorstore.similarity_search_with_relevance_scores(\n",
      "No relevant docs were retrieved using the relevance score threshold 0.1\n",
      " 17%|█▋        | 83/500 [01:19<05:01,  1.38it/s]/Users/mariadancianu/Desktop/Git Projects/SQuAD_RAG_experiments/.venv/lib/python3.12/site-packages/langchain_core/vectorstores/base.py:1076: UserWarning: Relevance scores must be between 0 and 1, got [(Document(metadata={'start_index': 495, 'title': 'Normans'}, page_content=\". His stay in Normandy (until 1016) influenced him and his sons by Emma, who stayed in Normandy after Cnut the Great's conquest of the isle.\"), 0.1132267669955147), (Document(metadata={'start_index': 467, 'title': 'Normans'}, page_content='. He invited his brother-in-law Eustace II, Count of Boulogne to his court in 1051, an event which resulted in the greatest of early conflicts between Saxon and Norman and ultimately resulted in the exile of Earl Godwin of Wessex.'), 0.016347599539888624), (Document(metadata={'start_index': 0, 'title': 'Normans'}, page_content='The Normans were in contact with England from an early date. Not only were their original Viking brethren still ravaging the English coasts, they occupied most of the important ports opposite England across the English Channel. This relationship eventually produced closer ties of blood through the marriage of Emma, sister of Duke Richard II of Normandy, and King Ethelred II of England. Because of this, Ethelred fled to Normandy in 1013, when he was forced from his kingdom by Sweyn Forkbeard'), -0.009515139699245445)]\n",
      "  self.vectorstore.similarity_search_with_relevance_scores(\n",
      " 21%|██        | 106/500 [01:39<05:57,  1.10it/s]No relevant docs were retrieved using the relevance score threshold 0.1\n",
      " 23%|██▎       | 113/500 [01:46<06:31,  1.01s/it]/Users/mariadancianu/Desktop/Git Projects/SQuAD_RAG_experiments/.venv/lib/python3.12/site-packages/langchain_core/vectorstores/base.py:1076: UserWarning: Relevance scores must be between 0 and 1, got [(Document(metadata={'start_index': 0, 'title': 'Normans'}, page_content=\"One of the claimants of the English throne opposing William the Conqueror, Edgar Atheling, eventually fled to Scotland. King Malcolm III of Scotland married Edgar's sister Margaret, and came into opposition to William who had already disputed Scotland's southern borders. William invaded Scotland in 1072, riding as far as Abernethy where he met up with his fleet of ships. Malcolm submitted, paid homage to William and surrendered his son Duncan as a hostage, beginning a series of arguments as to whether the Scottish Crown owed allegiance to the King of England.\"), 0.04984591473634714), (Document(metadata={'start_index': 428, 'title': 'Normans'}, page_content=\". Having spent time at the court of Henry I of England (married to David's sister Maud of Scotland), and needing them to wrestle the kingdom from his half-brother Máel Coluim mac Alaxandair, David had to reward many with lands. The process was continued under David's successors, most intensely of all under William the Lion. The Norman-derived feudal system was applied in varying degrees to most of Scotland\"), 0.0219062630962934), (Document(metadata={'start_index': 449, 'title': 'French_and_Indian_War'}, page_content=\". Bogged down by disagreements and disputes with others, including William Johnson and New York's Governor Sir Charles Hardy, Shirley's plan had little support.\"), -0.00550756446173839)]\n",
      "  self.vectorstore.similarity_search_with_relevance_scores(\n",
      "No relevant docs were retrieved using the relevance score threshold 0.1\n",
      " 23%|██▎       | 114/500 [01:47<06:02,  1.06it/s]/Users/mariadancianu/Desktop/Git Projects/SQuAD_RAG_experiments/.venv/lib/python3.12/site-packages/langchain_core/vectorstores/base.py:1076: UserWarning: Relevance scores must be between 0 and 1, got [(Document(metadata={'start_index': 428, 'title': 'Normans'}, page_content=\". Having spent time at the court of Henry I of England (married to David's sister Maud of Scotland), and needing them to wrestle the kingdom from his half-brother Máel Coluim mac Alaxandair, David had to reward many with lands. The process was continued under David's successors, most intensely of all under William the Lion. The Norman-derived feudal system was applied in varying degrees to most of Scotland\"), 0.017495595399628305), (Document(metadata={'start_index': 0, 'title': 'Normans'}, page_content=\"One of the claimants of the English throne opposing William the Conqueror, Edgar Atheling, eventually fled to Scotland. King Malcolm III of Scotland married Edgar's sister Margaret, and came into opposition to William who had already disputed Scotland's southern borders. William invaded Scotland in 1072, riding as far as Abernethy where he met up with his fleet of ships. Malcolm submitted, paid homage to William and surrendered his son Duncan as a hostage, beginning a series of arguments as to whether the Scottish Crown owed allegiance to the King of England.\"), 0.014132361182155995), (Document(metadata={'start_index': 0, 'title': 'University_of_Chicago'}, page_content='In economics, notable Nobel Memorial Prize in Economic Sciences winners Milton Friedman, a major advisor to Republican U.S. President Ronald Reagan and Conservative British Prime Minister Margaret Thatcher, George Stigler, Nobel laureate and proponent of regulatory capture theory, Gary Becker, an important contributor to the family economics branch of economics, Herbert A'), -0.008850821073016713)]\n",
      "  self.vectorstore.similarity_search_with_relevance_scores(\n",
      "No relevant docs were retrieved using the relevance score threshold 0.1\n",
      " 23%|██▎       | 116/500 [01:49<05:50,  1.09it/s]No relevant docs were retrieved using the relevance score threshold 0.1\n",
      " 24%|██▍       | 120/500 [01:54<07:21,  1.16s/it]/Users/mariadancianu/Desktop/Git Projects/SQuAD_RAG_experiments/.venv/lib/python3.12/site-packages/langchain_core/vectorstores/base.py:1076: UserWarning: Relevance scores must be between 0 and 1, got [(Document(metadata={'start_index': 428, 'title': 'Normans'}, page_content=\". Having spent time at the court of Henry I of England (married to David's sister Maud of Scotland), and needing them to wrestle the kingdom from his half-brother Máel Coluim mac Alaxandair, David had to reward many with lands. The process was continued under David's successors, most intensely of all under William the Lion. The Norman-derived feudal system was applied in varying degrees to most of Scotland\"), -0.025628385647142204), (Document(metadata={'start_index': 478, 'title': 'Yuan_dynasty'}, page_content='. The surnames of his Jurchen wives were Mo-nien and Na-ho; the surname of his Korean wife was Li; and the surname of his Han Chinese wife was Shi. Shi Tianze defected to Mongol forces upon their invasion of the Jin dynasty. His son Shi Gang married a Kerait woman; the Kerait were Mongolified Turkic people and were considered part of the \"Mongol nation\". Shi Tianze (Shih T\\'ien-tse), Zhang Rou (Chang Jou, 張柔), and Yan Shi (Yen Shih, 嚴實) and other high ranking Chinese who served in the Jin dynasty and defected to the Mongols helped build the structure for the administration of the new state'), -0.0967485794046683), (Document(metadata={'start_index': 471, 'title': 'Yuan_dynasty'}, page_content='. Gegeen was assassinated in a coup involving five princes from a rival faction, perhaps steppe elite opposed to Confucian reforms. They placed Yesün Temür (or Taidingdi) on the throne, and, after an unsuccessful attempt to calm the princes, he also succumbed to regicide.'), -0.09880399691284758)]\n",
      "  self.vectorstore.similarity_search_with_relevance_scores(\n",
      "No relevant docs were retrieved using the relevance score threshold 0.1\n",
      " 25%|██▌       | 126/500 [02:03<09:10,  1.47s/it]/Users/mariadancianu/Desktop/Git Projects/SQuAD_RAG_experiments/.venv/lib/python3.12/site-packages/langchain_core/vectorstores/base.py:1076: UserWarning: Relevance scores must be between 0 and 1, got [(Document(metadata={'start_index': 0, 'title': 'Normans'}, page_content='Even before the Norman Conquest of England, the Normans had come into contact with Wales. Edward the Confessor had set up the aforementioned Ralph as earl of Hereford and charged him with defending the Marches and warring with the Welsh. In these original ventures, the Normans failed to make any headway into Wales.'), 0.20622825580074455), (Document(metadata={'start_index': 0, 'title': 'Normans'}, page_content=\"When finally Edward the Confessor returned from his father's refuge in 1041, at the invitation of his half-brother Harthacnut, he brought with him a Norman-educated mind. He also brought many Norman counsellors and fighters, some of whom established an English cavalry force. This concept never really took root, but it is a typical example of the attitudes of Edward. He appointed Robert of Jumièges archbishop of Canterbury and made Ralph the Timid earl of Hereford\"), 0.15073063438075163), (Document(metadata={'start_index': 0, 'title': 'Harvard_University'}, page_content='Other: Civil rights leader W. E. B. Du Bois; philosopher Henry David Thoreau; authors Ralph Waldo Emerson and William S. Burroughs; educators Werner Baer, Harlan Hanson; poets Wallace Stevens, T. S. Eliot and E. E'), -0.017198257301690223)]\n",
      "  self.vectorstore.similarity_search_with_relevance_scores(\n",
      " 31%|███       | 153/500 [02:30<04:31,  1.28it/s]/Users/mariadancianu/Desktop/Git Projects/SQuAD_RAG_experiments/.venv/lib/python3.12/site-packages/langchain_core/vectorstores/base.py:1076: UserWarning: Relevance scores must be between 0 and 1, got [(Document(metadata={'start_index': 0, 'title': 'Harvard_University'}, page_content=\"Older than The Game by 23 years, the Harvard-Yale Regatta was the original source of the athletic rivalry between the two schools. It is held annually in June on the Thames River in eastern Connecticut. The Harvard crew is typically considered to be one of the top teams in the country in rowing. Today, Harvard fields top teams in several other sports, such as the Harvard Crimson men's ice hockey team (with a strong rivalry against Cornell), squash, and even recently won NCAA titles in Men's and Women's Fencing\"), 0.0363485550881274), (Document(metadata={'start_index': 0, 'title': 'Normans'}, page_content='Various princes of the Holy Land arrived in Limassol at the same time, in particular Guy de Lusignan. All declared their support for Richard provided that he support Guy against his rival Conrad of Montferrat. The local barons abandoned Isaac, who considered making peace with Richard, joining him on the crusade, and offering his daughter in marriage to the person named by Richard. But Isaac changed his mind and tried to escape. Richard then proceeded to conquer the whole island, his troops being led by Guy de Lusignan'), 0.024456316018596547), (Document(metadata={'start_index': 0, 'title': 'Harvard_University'}, page_content='The Harvard Crimson competes in 42 intercollegiate sports in the NCAA Division I Ivy League. Harvard has an intense athletic rivalry with Yale University culminating in The Game, although the Harvard–Yale Regatta predates the football game. This rivalry, though, is put aside every two years when the Harvard and Yale Track and Field teams come together to compete against a combined Oxford University and Cambridge University team, a competition that is the oldest continuous international amateur competition in the world.'), -0.014659246853697017)]\n",
      "  self.vectorstore.similarity_search_with_relevance_scores(\n",
      "No relevant docs were retrieved using the relevance score threshold 0.1\n",
      " 31%|███       | 154/500 [02:31<04:15,  1.35it/s]/Users/mariadancianu/Desktop/Git Projects/SQuAD_RAG_experiments/.venv/lib/python3.12/site-packages/langchain_core/vectorstores/base.py:1076: UserWarning: Relevance scores must be between 0 and 1, got [(Document(metadata={'start_index': 523, 'title': 'Normans'}, page_content='. Isaac surrendered and was confined with silver chains, because Richard had promised that he would not place him in irons. By 1 June, Richard had conquered the whole island. His exploit was well publicized and contributed to his reputation; he also derived significant financial gains from the conquest of the island. Richard left for Acre on 5 June, with his allies. Before his departure, he named two of his Norman generals, Richard de Camville and Robert de Thornham, as governors of Cyprus.'), 0.17497518751815833), (Document(metadata={'start_index': 569, 'title': 'Normans'}, page_content='. Isaac refused, so Richard landed his troops and took Limassol.'), 0.08114981211823757), (Document(metadata={'start_index': 355, 'title': 'Force'}, page_content=\". Using such tools, some quantitative force laws were discovered: that the force of gravity is proportional to volume for objects of constant density (widely exploited for millennia to define standard weights); Archimedes' principle for buoyancy; Archimedes' analysis of the lever; Boyle's law for gas pressure; and Hooke's law for springs. These were all formulated and experimentally verified before Isaac Newton expounded his Three Laws of Motion.\"), -0.030571536627894025)]\n",
      "  self.vectorstore.similarity_search_with_relevance_scores(\n",
      " 31%|███       | 156/500 [02:33<04:22,  1.31it/s]/Users/mariadancianu/Desktop/Git Projects/SQuAD_RAG_experiments/.venv/lib/python3.12/site-packages/langchain_core/vectorstores/base.py:1076: UserWarning: Relevance scores must be between 0 and 1, got [(Document(metadata={'start_index': 1630, 'title': 'Pharmacy'}, page_content='. Living in the 10th century, he wrote The foundations of the true properties of Remedies, amongst others describing arsenious oxide, and being acquainted with silicic acid. He made clear distinction between sodium carbonate and potassium carbonate, and drew attention to the poisonous nature of copper compounds, especially copper vitriol, and also lead compounds. He also describes the distillation of sea-water for drinking.[verification needed]'), 0.05836252841494349), (Document(metadata={'start_index': 538, 'title': 'Oxygen'}, page_content='2. This method of welding and cutting metal later became common.'), -0.015536912827087912), (Document(metadata={'start_index': 583, 'title': 'French_and_Indian_War'}, page_content='. Traders married daughters of chiefs, creating high-ranking unions.'), -0.033869696111265446)]\n",
      "  self.vectorstore.similarity_search_with_relevance_scores(\n",
      "No relevant docs were retrieved using the relevance score threshold 0.1\n",
      " 32%|███▏      | 161/500 [02:36<04:29,  1.26it/s]No relevant docs were retrieved using the relevance score threshold 0.1\n",
      " 37%|███▋      | 186/500 [04:29<09:13,  1.76s/it]  No relevant docs were retrieved using the relevance score threshold 0.1\n",
      " 38%|███▊      | 190/500 [04:32<05:23,  1.04s/it]"
     ]
    }
   ],
   "source": [
    "df = pd.read_csv(\"dataset.csv\")\n",
    "df_to_test = df[0:500]\n",
    "\n",
    "langchain_docs = convert_context_to_langchain_docs(df)\n",
    "\n",
    "fine_tune_rag(df_to_test, langchain_docs)"
   ]
  },
  {
   "cell_type": "code",
   "execution_count": null,
   "id": "d407aed2",
   "metadata": {},
   "outputs": [],
   "source": [
    "df_all_res = collect_all_results()\n",
    "df_all_res.to_csv(\"eval_results/df_all_results.csv\", index=False)"
   ]
  }
 ],
 "metadata": {
  "kernelspec": {
   "display_name": ".venv",
   "language": "python",
   "name": "python3"
  },
  "language_info": {
   "codemirror_mode": {
    "name": "ipython",
    "version": 3
   },
   "file_extension": ".py",
   "mimetype": "text/x-python",
   "name": "python",
   "nbconvert_exporter": "python",
   "pygments_lexer": "ipython3",
   "version": "3.12.2"
  }
 },
 "nbformat": 4,
 "nbformat_minor": 5
}
