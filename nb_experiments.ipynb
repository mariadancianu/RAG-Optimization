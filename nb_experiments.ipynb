{
 "cells": [
  {
   "cell_type": "code",
   "execution_count": 1,
   "id": "b0accd0d-fb0b-4c5e-be02-8063d3b6a2c9",
   "metadata": {},
   "outputs": [
    {
     "data": {
      "text/plain": [
       "True"
      ]
     },
     "execution_count": 1,
     "metadata": {},
     "output_type": "execute_result"
    }
   ],
   "source": [
    "import json\n",
    "import os \n",
    "import pandas as pd\n",
    "import numpy as np \n",
    "import seaborn as sns\n",
    "import matplotlib.pyplot as plt\n",
    "from tqdm.auto import tqdm\n",
    "from rag_fine_tuning import convert_knowledge_base_to_langchain_docs, fine_tune_rag\n",
    "from data_utils import convert_json_to_dataframe, create_json_subset, collect_all_results, merge_results\n",
    "sns.set_style(\"whitegrid\")\n",
    "from langchain_openai import OpenAIEmbeddings\n",
    "from dotenv import load_dotenv\n",
    "load_dotenv()"
   ]
  },
  {
   "cell_type": "code",
   "execution_count": null,
   "id": "953814b1",
   "metadata": {},
   "outputs": [],
   "source": [
    "%load_ext autoreload"
   ]
  },
  {
   "cell_type": "markdown",
   "id": "1ece24fd",
   "metadata": {},
   "source": [
    "# Useful material \n",
    "# SQuAD Evaluation guidelines: \n",
    "# https://worksheets.codalab.org/worksheets/0x8212d84ca41c4150b555a075b19ccc05/\n",
    "# https://rajpurkar.github.io/SQuAD-explorer/"
   ]
  },
  {
   "cell_type": "markdown",
   "id": "868b749b",
   "metadata": {},
   "source": [
    "# Convert json data to pandas dataframe "
   ]
  },
  {
   "cell_type": "code",
   "execution_count": null,
   "id": "f49d8df1-cea0-410b-9c27-985406ea208b",
   "metadata": {},
   "outputs": [],
   "source": [
    "convert_json_to_dataframe()"
   ]
  },
  {
   "cell_type": "code",
   "execution_count": null,
   "id": "a2a6d356",
   "metadata": {},
   "outputs": [],
   "source": [
    "df_all_data = pd.read_csv(\"dataset.csv\")\n",
    "df_all_data.shape"
   ]
  },
  {
   "cell_type": "code",
   "execution_count": null,
   "id": "5771778e-ae9e-49b4-9216-658bdefc8db8",
   "metadata": {},
   "outputs": [],
   "source": [
    "df_selected = df_all_data.copy()"
   ]
  },
  {
   "cell_type": "code",
   "execution_count": null,
   "id": "81f2eebd-70b9-4118-b691-0c6c96e72a95",
   "metadata": {},
   "outputs": [],
   "source": [
    "# some rough statistics for the context length \n",
    "df_selected.loc[:, \"context_chars\"] = df_selected[\"context\"].apply(lambda x: len(x))\n",
    "df_selected.loc[:, \"context_words\"] = df_selected.loc[:, \"context\"].apply(lambda x: len(x.split(\" \")))"
   ]
  },
  {
   "cell_type": "code",
   "execution_count": null,
   "id": "80f66f8e-3eb9-4943-9b2e-40df68068a8f",
   "metadata": {},
   "outputs": [],
   "source": [
    "df_selected.head(2)"
   ]
  },
  {
   "cell_type": "code",
   "execution_count": null,
   "id": "f8cab993-b3ab-4947-acb5-016382d1321b",
   "metadata": {},
   "outputs": [],
   "source": [
    "plt.figure(figsize=[8, 5])\n",
    "sns.histplot(df_selected.drop_duplicates(subset=\"context\")[\"context_chars\"])"
   ]
  },
  {
   "cell_type": "code",
   "execution_count": null,
   "id": "6cfb1095-e0d8-4f06-b203-08ff1689aeaa",
   "metadata": {},
   "outputs": [],
   "source": [
    "plt.figure(figsize=[8, 5])\n",
    "sns.histplot(df_selected.drop_duplicates(subset=\"context\")[\"context_words\"])"
   ]
  },
  {
   "cell_type": "code",
   "execution_count": null,
   "id": "6a9848fc",
   "metadata": {},
   "outputs": [],
   "source": [
    "# create original json structure for only a subset of questions, used for tests and fine-tuning \n",
    "# this file will be used by the evaluation.py file \n",
    "\n",
    "df = pd.read_csv(\"dataset.csv\")\n",
    "df_sel = df[0:500]\n",
    "df_sel.head(2)\n",
    "\n",
    "create_json_subset(df_sel)"
   ]
  },
  {
   "cell_type": "markdown",
   "id": "ef7c8057-750e-44d6-81c8-d8ad6717b311",
   "metadata": {},
   "source": [
    "# RAG architecture"
   ]
  },
  {
   "cell_type": "markdown",
   "id": "8caf8664-3381-4701-b297-bbcfa5176872",
   "metadata": {},
   "source": [
    "Steps:\n",
    "\n",
    "**Data Indexing**\n",
    "\n",
    "Converting text data into a searchable database of vector embeddings, which represent the meaning of the text in a format that computers can easily understand.\n",
    "- **Documents Chunking**: The collection of documents is split into smaller chunks of text. This allows for more precise and relevant pieces of information to be fed into the language model when needed, avoiding information overload.\n",
    "- **Vector Embeddings**: The chunks of text are then transformed into vector embeddings. These embeddings encode the meaning of natural language text into numerical representations.\n",
    "- **Vector Database**: Finally, the vector embeddings are stored in a vector database, making them easily searchable.\n",
    "\n",
    "**Documents -> Text chunks -> Vector Embeddings -> Vector DB**\n",
    "\n",
    "**Load -> Split -> Embed -> Store**"
   ]
  },
  {
   "cell_type": "markdown",
   "id": "f9dfc599",
   "metadata": {},
   "source": [
    "## Convert the pandas context to Langchain documents "
   ]
  },
  {
   "cell_type": "code",
   "execution_count": null,
   "id": "957f241f-d54c-452e-94ad-cfcc8a81a836",
   "metadata": {},
   "outputs": [],
   "source": [
    "df = pd.read_csv(\"dataset.csv\")\n",
    "\n",
    "langchain_docs = convert_knowledge_base_to_langchain_docs(df)"
   ]
  },
  {
   "cell_type": "code",
   "execution_count": null,
   "id": "46d8e92a-9322-4359-b18b-f4217fb78003",
   "metadata": {},
   "outputs": [],
   "source": [
    "print(len(langchain_docs))\n",
    "print(langchain_docs[0])\n",
    "print(langchain_docs[1])"
   ]
  },
  {
   "cell_type": "markdown",
   "id": "d2075d54",
   "metadata": {},
   "source": [
    "## Vector database"
   ]
  },
  {
   "cell_type": "code",
   "execution_count": null,
   "id": "de25a07e",
   "metadata": {},
   "outputs": [],
   "source": [
    "from rag_fine_tuning import CustomRAG, prompt_message, convert_knowledge_base_to_langchain_docs\n",
    "\n",
    "parameters_dict = {\n",
    "    \"chunk_size\": 400,\n",
    "    \"chunk_overlap\": 15,\n",
    "    \"vector_database\": \"chromadb\",\n",
    "    \"embeddings_function\": {\n",
    "        \"model_name\": \"text-embedding-3-large\",    \n",
    "        \"platform\": \"OpenAI\"\n",
    "        }, \n",
    "    \"llm\": {\n",
    "        \"model_name\": \"gpt-3.5-turbo\",\n",
    "        \"client\": \"OpenAI\"\n",
    "        }\n",
    "}\n",
    "\n",
    "df_to_test = df[0:2]\n",
    "\n",
    "rag = CustomRAG(knowledge_base=langchain_docs, \n",
    "                prompt_message=prompt_message,\n",
    "                config=parameters_dict, \n",
    "                results_folder='/Users/mariadancianu/Desktop/Git Projects/SQuAD_RAG_experiments/eval_results/test_new_class', \n",
    "                vector_db_folder='/Users/mariadancianu/Desktop/Git Projects/SQuAD_RAG_experiments/vector_databases/test_new_class')"
   ]
  },
  {
   "cell_type": "code",
   "execution_count": null,
   "id": "6d08f77e",
   "metadata": {},
   "outputs": [],
   "source": [
    "rag.initialize_embeddings_function()"
   ]
  },
  {
   "cell_type": "code",
   "execution_count": null,
   "id": "6e9878b4",
   "metadata": {},
   "outputs": [],
   "source": [
    "embeddings_model = \"text-embedding-3-small\"\n",
    "embeddings = OpenAIEmbeddings(model=embeddings_model)\n",
    "\n",
    "db_dir = os.path.join(os.getcwd(), \"vector_databases\")\n",
    "\n",
    "rag.create_vector_database()"
   ]
  },
  {
   "cell_type": "markdown",
   "id": "b0571139",
   "metadata": {},
   "source": [
    "## Querying the vector database "
   ]
  },
  {
   "cell_type": "code",
   "execution_count": null,
   "id": "20c5fcd1-6677-4a48-823c-7b899bfee9fc",
   "metadata": {},
   "outputs": [],
   "source": [
    "query = \"How is the weather today in Milan?\"\n",
    "relevant_docs = rag.query_vector_store(query, n_results=3, score_threshold=0.1)\n",
    "\n",
    "print(relevant_docs)"
   ]
  },
  {
   "cell_type": "code",
   "execution_count": null,
   "id": "d473dd71",
   "metadata": {},
   "outputs": [],
   "source": [
    "query = \"Who were the normans?\"\n",
    "relevant_docs = rag.query_vector_store(query, n_results=3, score_threshold=0.1)\n",
    "\n",
    "print(len(relevant_docs))\n",
    "\n",
    "for doc in relevant_docs:\n",
    "    print(doc.page_content)"
   ]
  },
  {
   "cell_type": "markdown",
   "id": "2e5aa673",
   "metadata": {},
   "source": [
    "## Run the RAG over a subset of questions and save the answers "
   ]
  },
  {
   "cell_type": "code",
   "execution_count": null,
   "id": "bb0a1187",
   "metadata": {},
   "outputs": [],
   "source": [
    "df_to_test = pd.read_csv(\"dataset.csv\")\n",
    "df_to_test = df_to_test[0:5]"
   ]
  },
  {
   "cell_type": "code",
   "execution_count": null,
   "id": "ff098d54",
   "metadata": {},
   "outputs": [],
   "source": [
    "\n",
    "rag.get_llm_multiple_questions_answers(df_to_test)"
   ]
  },
  {
   "cell_type": "markdown",
   "id": "b204b4fa",
   "metadata": {},
   "source": [
    "## RAG Fine-tuning "
   ]
  },
  {
   "cell_type": "markdown",
   "id": "273535f0",
   "metadata": {},
   "source": [
    "TEXT CHUNKING \n",
    "\n",
    "1. CHARACTER SPLITTING : divide the text into N-character sized chunks. Can split words in the middle. \n",
    "2. RECURSIVE CHARACTER SPLITTING: preserves sentences. Avoids splitting sentences midword (note that RecursiveCharacterTextSplitter with separator does exactly that). Split the\n",
    "document where a double new line is present, then, if the chunk size is still exceeded, split at new lines, and so on.\n",
    "3. SEMANTIC SPLITTING: keeps related content together. Use embeddings to split based on meaning.\n",
    "+ other techniques\n",
    "\n",
    "EMBEDDINGS \n",
    "Create fixed-length vector representation of text, focusing on semanting meaning for tasks like similarity comparison. \n",
    "Most up to date embedding models, both proprietary and open source, with performance metrics across different tasks: https://huggingface.co/spaces/mteb/leaderboard.\n",
    "\n",
    "This contains also a \"retrieval\" column with performance metrics. \n"
   ]
  },
  {
   "cell_type": "code",
   "execution_count": 2,
   "id": "f0830832",
   "metadata": {},
   "outputs": [
    {
     "name": "stdout",
     "output_type": "stream",
     "text": [
      "Fine tuning RAG with the following parameters: \n",
      "{'chunk_sizes': [100, 200, 400, 500, 600],\n",
      " 'embed_options': {'text-embedding-3-large': 'OpenAI',\n",
      "                   'text-embedding-3-small': 'OpenAI',\n",
      "                   'text-embedding-ada-002': 'OpenAI'},\n",
      " 'models': {'gpt-3.5-turbo': 'OpenAI', 'mistral-large-latest': 'Mistral'}}\n",
      "Running gpt-3.5-turbo - 100 - text-embedding-3-small\n",
      "Results already exist for these settings: skipping!\n",
      "Running gpt-3.5-turbo - 200 - text-embedding-3-small\n",
      "Results already exist for these settings: skipping!\n",
      "Running gpt-3.5-turbo - 400 - text-embedding-3-small\n",
      "(\"CustomRAG config: {'chunk_size': 400, 'chunk_overlap': 15, \"\n",
      " \"'vector_database': 'chromadb', 'embeddings_function': {'model_name': \"\n",
      " \"'text-embedding-3-small', 'platform': 'OpenAI'}, 'llm': {'model_name': \"\n",
      " \"'gpt-3.5-turbo', 'client': 'OpenAI'}}\")\n",
      "Vector store 400_text-embedding-3-small already exists. No need to initialize.\n"
     ]
    },
    {
     "name": "stderr",
     "output_type": "stream",
     "text": [
      "  0%|          | 0/500 [00:00<?, ?it/s]/Users/mariadancianu/Desktop/Git Projects/SQuAD_RAG_experiments/rag_fine_tuning.py:282: LangChainDeprecationWarning: The class `Chroma` was deprecated in LangChain 0.2.9 and will be removed in 1.0. An updated version of the class exists in the :class:`~langchain-chroma package and should be used instead. To use it run `pip install -U :class:`~langchain-chroma` and import as `from :class:`~langchain_chroma import Chroma``.\n",
      "  db = Chroma(\n",
      " 13%|█▎        | 67/500 [01:18<06:05,  1.18it/s]No relevant docs were retrieved using the relevance score threshold 0.1\n",
      " 14%|█▍        | 71/500 [01:23<07:44,  1.08s/it]No relevant docs were retrieved using the relevance score threshold 0.1\n",
      " 14%|█▍        | 72/500 [01:24<07:18,  1.02s/it]No relevant docs were retrieved using the relevance score threshold 0.1\n",
      " 16%|█▋        | 82/500 [01:32<06:45,  1.03it/s]/Users/mariadancianu/Desktop/Git Projects/SQuAD_RAG_experiments/.venv/lib/python3.12/site-packages/langchain_core/vectorstores/base.py:1076: UserWarning: Relevance scores must be between 0 and 1, got [(Document(metadata={'start_index': 428, 'title': 'Normans'}, page_content=\". Having spent time at the court of Henry I of England (married to David's sister Maud of Scotland), and needing them to wrestle the kingdom from his half-brother Máel Coluim mac Alaxandair, David had to reward many with lands. The process was continued under David's successors, most intensely of all under William the Lion\"), -0.032232881102496336), (Document(metadata={'start_index': 691, 'title': 'Huguenot'}, page_content='. They were very successful at marriage and property speculation. After petitioning the British Crown in 1697 for the right to own land in the Baronies, they prospered as slave owners on the Cooper, Ashepoo, Ashley and Santee River plantations they purchased from the British Landgrave Edmund Bellinger'), -0.04168380611888223), (Document(metadata={'start_index': 663, 'title': 'Scottish_Parliament'}, page_content='dissolved by the Queen by royal proclamation'), -0.04269305455332417)]\n",
      "  self.vectorstore.similarity_search_with_relevance_scores(\n",
      "No relevant docs were retrieved using the relevance score threshold 0.1\n",
      " 17%|█▋        | 83/500 [01:33<06:14,  1.11it/s]/Users/mariadancianu/Desktop/Git Projects/SQuAD_RAG_experiments/.venv/lib/python3.12/site-packages/langchain_core/vectorstores/base.py:1076: UserWarning: Relevance scores must be between 0 and 1, got [(Document(metadata={'start_index': 387, 'title': 'Normans'}, page_content=\". Because of this, Ethelred fled to Normandy in 1013, when he was forced from his kingdom by Sweyn Forkbeard. His stay in Normandy (until 1016) influenced him and his sons by Emma, who stayed in Normandy after Cnut the Great's conquest of the isle.\"), 0.037110485815507355), (Document(metadata={'start_index': 367, 'title': 'Normans'}, page_content='. He appointed Robert of Jumièges archbishop of Canterbury and made Ralph the Timid earl of Hereford. He invited his brother-in-law Eustace II, Count of Boulogne to his court in 1051, an event which resulted in the greatest of early conflicts between Saxon and Norman and ultimately resulted in the exile of Earl Godwin of Wessex.'), -0.015475041253473876), (Document(metadata={'start_index': 0, 'title': 'Normans'}, page_content='The Normans were in contact with England from an early date. Not only were their original Viking brethren still ravaging the English coasts, they occupied most of the important ports opposite England across the English Channel. This relationship eventually produced closer ties of blood through the marriage of Emma, sister of Duke Richard II of Normandy, and King Ethelred II of England'), -0.027391388320352927)]\n",
      "  self.vectorstore.similarity_search_with_relevance_scores(\n",
      "No relevant docs were retrieved using the relevance score threshold 0.1\n",
      " 21%|██        | 106/500 [02:02<09:24,  1.43s/it]No relevant docs were retrieved using the relevance score threshold 0.1\n",
      " 23%|██▎       | 113/500 [02:08<05:03,  1.27it/s]No relevant docs were retrieved using the relevance score threshold 0.1\n",
      " 23%|██▎       | 114/500 [02:08<04:59,  1.29it/s]No relevant docs were retrieved using the relevance score threshold 0.1\n",
      " 23%|██▎       | 116/500 [02:10<05:11,  1.23it/s]No relevant docs were retrieved using the relevance score threshold 0.1\n",
      " 24%|██▍       | 120/500 [02:13<05:28,  1.16it/s]/Users/mariadancianu/Desktop/Git Projects/SQuAD_RAG_experiments/.venv/lib/python3.12/site-packages/langchain_core/vectorstores/base.py:1076: UserWarning: Relevance scores must be between 0 and 1, got [(Document(metadata={'start_index': 199, 'title': 'Normans'}, page_content='. King David I of Scotland, whose elder brother Alexander I had married Sybilla of Normandy, was instrumental in introducing Normans and Norman culture to Scotland, part of the process some scholars call the \"Davidian Revolution\"'), 0.044869467745271896), (Document(metadata={'start_index': 428, 'title': 'Normans'}, page_content=\". Having spent time at the court of Henry I of England (married to David's sister Maud of Scotland), and needing them to wrestle the kingdom from his half-brother Máel Coluim mac Alaxandair, David had to reward many with lands. The process was continued under David's successors, most intensely of all under William the Lion\"), -0.002612581731222141), (Document(metadata={'start_index': 290, 'title': 'Yuan_dynasty'}, page_content='. The Mongol custom of long standing quda/marriage alliance with Mongol clans, the Onggirat, and the Ikeres, kept the imperial blood purely Mongol until the reign of Tugh Temur, whose mother was a Tangut concubine. The Mongol Emperors had built large palaces and pavilions, but some still continued to live as nomads at times'), -0.04877551914302236)]\n",
      "  self.vectorstore.similarity_search_with_relevance_scores(\n",
      "No relevant docs were retrieved using the relevance score threshold 0.1\n",
      " 31%|███       | 153/500 [02:40<05:16,  1.10it/s]No relevant docs were retrieved using the relevance score threshold 0.1\n",
      " 31%|███       | 156/500 [02:43<05:03,  1.13it/s]/Users/mariadancianu/Desktop/Git Projects/SQuAD_RAG_experiments/.venv/lib/python3.12/site-packages/langchain_core/vectorstores/base.py:1076: UserWarning: Relevance scores must be between 0 and 1, got [(Document(metadata={'start_index': 1802, 'title': 'Pharmacy'}, page_content='. He made clear distinction between sodium carbonate and potassium carbonate, and drew attention to the poisonous nature of copper compounds, especially copper vitriol, and also lead compounds. He also describes the distillation of sea-water for drinking.[verification needed]'), 0.10854281913310504), (Document(metadata={'start_index': 538, 'title': 'Oxygen'}, page_content='2. This method of welding and cutting metal later became common.'), -0.015536912827087912), (Document(metadata={'start_index': 0, 'title': 'Oxygen'}, page_content='Highly combustible materials that leave little residue, such as wood or coal, were thought to be made mostly of phlogiston; whereas non-combustible substances that corrode, such as iron, contained very little'), -0.027138085760802566)]\n",
      "  self.vectorstore.similarity_search_with_relevance_scores(\n",
      " 32%|███▏      | 158/500 [02:45<05:13,  1.09it/s]/Users/mariadancianu/Desktop/Git Projects/SQuAD_RAG_experiments/.venv/lib/python3.12/site-packages/langchain_core/vectorstores/base.py:1076: UserWarning: Relevance scores must be between 0 and 1, got [(Document(metadata={'start_index': 382, 'title': 'Normans'}, page_content='. But Isaac changed his mind and tried to escape. Richard then proceeded to conquer the whole island, his troops being led by Guy de Lusignan. Isaac surrendered and was confined with silver chains, because Richard had promised that he would not place him in irons. By 1 June, Richard had conquered the whole island'), 0.1368571562564207), (Document(metadata={'start_index': 0, 'title': 'Normans'}, page_content='Various princes of the Holy Land arrived in Limassol at the same time, in particular Guy de Lusignan. All declared their support for Richard provided that he support Guy against his rival Conrad of Montferrat. The local barons abandoned Isaac, who considered making peace with Richard, joining him on the crusade, and offering his daughter in marriage to the person named by Richard'), 0.03622085013713938), (Document(metadata={'start_index': 428, 'title': 'Normans'}, page_content=\". Having spent time at the court of Henry I of England (married to David's sister Maud of Scotland), and needing them to wrestle the kingdom from his half-brother Máel Coluim mac Alaxandair, David had to reward many with lands. The process was continued under David's successors, most intensely of all under William the Lion\"), -0.030985081505482848)]\n",
      "  self.vectorstore.similarity_search_with_relevance_scores(\n",
      "100%|██████████| 500/500 [08:41<00:00,  1.04s/it]\n"
     ]
    },
    {
     "name": "stdout",
     "output_type": "stream",
     "text": [
      "Running gpt-3.5-turbo - 500 - text-embedding-3-small\n",
      "(\"CustomRAG config: {'chunk_size': 500, 'chunk_overlap': 15, \"\n",
      " \"'vector_database': 'chromadb', 'embeddings_function': {'model_name': \"\n",
      " \"'text-embedding-3-small', 'platform': 'OpenAI'}, 'llm': {'model_name': \"\n",
      " \"'gpt-3.5-turbo', 'client': 'OpenAI'}}\")\n",
      "Creating vector store 500_text-embedding-3-small\n",
      "Finished creating vector store 500_text-embedding-3-small\n"
     ]
    },
    {
     "name": "stderr",
     "output_type": "stream",
     "text": [
      " 13%|█▎        | 67/500 [01:04<06:18,  1.14it/s]No relevant docs were retrieved using the relevance score threshold 0.1\n",
      " 14%|█▍        | 71/500 [01:08<06:32,  1.09it/s]No relevant docs were retrieved using the relevance score threshold 0.1\n",
      " 14%|█▍        | 72/500 [01:09<06:21,  1.12it/s]No relevant docs were retrieved using the relevance score threshold 0.1\n",
      " 16%|█▋        | 82/500 [01:17<06:15,  1.11it/s]/Users/mariadancianu/Desktop/Git Projects/SQuAD_RAG_experiments/.venv/lib/python3.12/site-packages/langchain_core/vectorstores/base.py:1076: UserWarning: Relevance scores must be between 0 and 1, got [(Document(metadata={'start_index': 495, 'title': 'Normans'}, page_content=\". His stay in Normandy (until 1016) influenced him and his sons by Emma, who stayed in Normandy after Cnut the Great's conquest of the isle.\"), 0.03684403343922149), (Document(metadata={'start_index': 276, 'title': 'Huguenot'}, page_content='. After the Revocation of the Edict of Nantes in 1685, several Huguenot families of Norman and Carolingian nobility and descent, including Edmund Bohun of Suffolk England from the Humphrey de Bohun line of French royalty descended from Charlemagne, Jean Postell of Dieppe France, Alexander Pepin, Antoine Poitevin of Orsement France, and Jacques de Bordeaux of Grenoble, immigrated to the Charleston Orange district. They were very successful at marriage and property speculation'), -0.06144452463060901), (Document(metadata={'start_index': 0, 'title': 'Normans'}, page_content='The Normans were in contact with England from an early date. Not only were their original Viking brethren still ravaging the English coasts, they occupied most of the important ports opposite England across the English Channel. This relationship eventually produced closer ties of blood through the marriage of Emma, sister of Duke Richard II of Normandy, and King Ethelred II of England. Because of this, Ethelred fled to Normandy in 1013, when he was forced from his kingdom by Sweyn Forkbeard'), -0.06177352293008509)]\n",
      "  self.vectorstore.similarity_search_with_relevance_scores(\n",
      "No relevant docs were retrieved using the relevance score threshold 0.1\n",
      " 17%|█▋        | 83/500 [01:18<05:54,  1.18it/s]/Users/mariadancianu/Desktop/Git Projects/SQuAD_RAG_experiments/.venv/lib/python3.12/site-packages/langchain_core/vectorstores/base.py:1076: UserWarning: Relevance scores must be between 0 and 1, got [(Document(metadata={'start_index': 495, 'title': 'Normans'}, page_content=\". His stay in Normandy (until 1016) influenced him and his sons by Emma, who stayed in Normandy after Cnut the Great's conquest of the isle.\"), 0.1132158088149019), (Document(metadata={'start_index': 467, 'title': 'Normans'}, page_content='. He invited his brother-in-law Eustace II, Count of Boulogne to his court in 1051, an event which resulted in the greatest of early conflicts between Saxon and Norman and ultimately resulted in the exile of Earl Godwin of Wessex.'), 0.01634094033782385), (Document(metadata={'start_index': 0, 'title': 'Normans'}, page_content='The Normans were in contact with England from an early date. Not only were their original Viking brethren still ravaging the English coasts, they occupied most of the important ports opposite England across the English Channel. This relationship eventually produced closer ties of blood through the marriage of Emma, sister of Duke Richard II of Normandy, and King Ethelred II of England. Because of this, Ethelred fled to Normandy in 1013, when he was forced from his kingdom by Sweyn Forkbeard'), -0.009542788031868588)]\n",
      "  self.vectorstore.similarity_search_with_relevance_scores(\n",
      " 21%|██        | 106/500 [01:39<06:55,  1.06s/it]No relevant docs were retrieved using the relevance score threshold 0.1\n",
      " 23%|██▎       | 113/500 [01:46<06:27,  1.00s/it]No relevant docs were retrieved using the relevance score threshold 0.1\n",
      " 23%|██▎       | 114/500 [01:47<05:51,  1.10it/s]No relevant docs were retrieved using the relevance score threshold 0.1\n",
      " 23%|██▎       | 116/500 [01:48<05:24,  1.18it/s]No relevant docs were retrieved using the relevance score threshold 0.1\n",
      " 24%|██▍       | 120/500 [01:51<04:47,  1.32it/s]/Users/mariadancianu/Desktop/Git Projects/SQuAD_RAG_experiments/.venv/lib/python3.12/site-packages/langchain_core/vectorstores/base.py:1076: UserWarning: Relevance scores must be between 0 and 1, got [(Document(metadata={'start_index': 428, 'title': 'Normans'}, page_content=\". Having spent time at the court of Henry I of England (married to David's sister Maud of Scotland), and needing them to wrestle the kingdom from his half-brother Máel Coluim mac Alaxandair, David had to reward many with lands. The process was continued under David's successors, most intensely of all under William the Lion. The Norman-derived feudal system was applied in varying degrees to most of Scotland\"), -0.02551661220489132), (Document(metadata={'start_index': 290, 'title': 'Yuan_dynasty'}, page_content='. The Mongol custom of long standing quda/marriage alliance with Mongol clans, the Onggirat, and the Ikeres, kept the imperial blood purely Mongol until the reign of Tugh Temur, whose mother was a Tangut concubine. The Mongol Emperors had built large palaces and pavilions, but some still continued to live as nomads at times'), -0.048765656780470845), (Document(metadata={'start_index': 372, 'title': 'Normans'}, page_content='. Malcolm submitted, paid homage to William and surrendered his son Duncan as a hostage, beginning a series of arguments as to whether the Scottish Crown owed allegiance to the King of England.'), -0.08642656332325926)]\n",
      "  self.vectorstore.similarity_search_with_relevance_scores(\n",
      "No relevant docs were retrieved using the relevance score threshold 0.1\n",
      " 25%|██▌       | 126/500 [01:57<05:26,  1.15it/s]/Users/mariadancianu/Desktop/Git Projects/SQuAD_RAG_experiments/.venv/lib/python3.12/site-packages/langchain_core/vectorstores/base.py:1076: UserWarning: Relevance scores must be between 0 and 1, got [(Document(metadata={'start_index': 0, 'title': 'Normans'}, page_content='Even before the Norman Conquest of England, the Normans had come into contact with Wales. Edward the Confessor had set up the aforementioned Ralph as earl of Hereford and charged him with defending the Marches and warring with the Welsh. In these original ventures, the Normans failed to make any headway into Wales.'), 0.20621249287940147), (Document(metadata={'start_index': 0, 'title': 'Normans'}, page_content=\"When finally Edward the Confessor returned from his father's refuge in 1041, at the invitation of his half-brother Harthacnut, he brought with him a Norman-educated mind. He also brought many Norman counsellors and fighters, some of whom established an English cavalry force. This concept never really took root, but it is a typical example of the attitudes of Edward. He appointed Robert of Jumièges archbishop of Canterbury and made Ralph the Timid earl of Hereford\"), 0.15076612202719786), (Document(metadata={'start_index': 0, 'title': 'Harvard_University'}, page_content='Other: Civil rights leader W. E. B. Du Bois; philosopher Henry David Thoreau; authors Ralph Waldo Emerson and William S. Burroughs; educators Werner Baer, Harlan Hanson; poets Wallace Stevens, T. S. Eliot and E. E'), -0.017225821340616454)]\n",
      "  self.vectorstore.similarity_search_with_relevance_scores(\n",
      " 31%|███       | 153/500 [02:20<04:15,  1.36it/s]No relevant docs were retrieved using the relevance score threshold 0.1\n",
      " 31%|███       | 154/500 [02:20<04:40,  1.24it/s]/Users/mariadancianu/Desktop/Git Projects/SQuAD_RAG_experiments/.venv/lib/python3.12/site-packages/langchain_core/vectorstores/base.py:1076: UserWarning: Relevance scores must be between 0 and 1, got [(Document(metadata={'start_index': 430, 'title': 'Normans'}, page_content='. Richard then proceeded to conquer the whole island, his troops being led by Guy de Lusignan. Isaac surrendered and was confined with silver chains, because Richard had promised that he would not place him in irons. By 1 June, Richard had conquered the whole island. His exploit was well publicized and contributed to his reputation; he also derived significant financial gains from the conquest of the island. Richard left for Acre on 5 June, with his allies'), 0.07646645431170696), (Document(metadata={'start_index': 435, 'title': 'Normans'}, page_content=\". On 1 May 1191, Richard's fleet arrived in the port of Limassol on Cyprus. He ordered Isaac to release the prisoners and the treasure. Isaac refused, so Richard landed his troops and took Limassol.\"), 0.0034597676148333534), (Document(metadata={'start_index': 0, 'title': 'Normans'}, page_content='Various princes of the Holy Land arrived in Limassol at the same time, in particular Guy de Lusignan. All declared their support for Richard provided that he support Guy against his rival Conrad of Montferrat. The local barons abandoned Isaac, who considered making peace with Richard, joining him on the crusade, and offering his daughter in marriage to the person named by Richard. But Isaac changed his mind and tried to escape'), -0.022492154355749694)]\n",
      "  self.vectorstore.similarity_search_with_relevance_scores(\n",
      "No relevant docs were retrieved using the relevance score threshold 0.1\n",
      " 31%|███       | 156/500 [02:22<04:41,  1.22it/s]/Users/mariadancianu/Desktop/Git Projects/SQuAD_RAG_experiments/.venv/lib/python3.12/site-packages/langchain_core/vectorstores/base.py:1076: UserWarning: Relevance scores must be between 0 and 1, got [(Document(metadata={'start_index': 1630, 'title': 'Pharmacy'}, page_content='. Living in the 10th century, he wrote The foundations of the true properties of Remedies, amongst others describing arsenious oxide, and being acquainted with silicic acid. He made clear distinction between sodium carbonate and potassium carbonate, and drew attention to the poisonous nature of copper compounds, especially copper vitriol, and also lead compounds. He also describes the distillation of sea-water for drinking.[verification needed]'), 0.05844935092287595), (Document(metadata={'start_index': 538, 'title': 'Oxygen'}, page_content='2. This method of welding and cutting metal later became common.'), -0.015575182165535661), (Document(metadata={'start_index': 479, 'title': 'French_and_Indian_War'}, page_content='. They met at Albany, New York with Governor Clinton and officials from some of the other American colonies. Mohawk Chief Hendrick, Speaker of their tribal council, insisted that the British abide by their obligations and block French expansion. When Clinton did not respond to his satisfaction, Chief Hendrick said that the \"Covenant Chain\", a long-standing friendly relationship between the Iroquois Confederacy and the British Crown, was broken.'), -0.018808266914806415)]\n",
      "  self.vectorstore.similarity_search_with_relevance_scores(\n",
      "No relevant docs were retrieved using the relevance score threshold 0.1\n",
      " 32%|███▏      | 158/500 [02:24<04:57,  1.15it/s]/Users/mariadancianu/Desktop/Git Projects/SQuAD_RAG_experiments/.venv/lib/python3.12/site-packages/langchain_core/vectorstores/base.py:1076: UserWarning: Relevance scores must be between 0 and 1, got [(Document(metadata={'start_index': 0, 'title': 'Normans'}, page_content='Various princes of the Holy Land arrived in Limassol at the same time, in particular Guy de Lusignan. All declared their support for Richard provided that he support Guy against his rival Conrad of Montferrat. The local barons abandoned Isaac, who considered making peace with Richard, joining him on the crusade, and offering his daughter in marriage to the person named by Richard. But Isaac changed his mind and tried to escape'), 0.09385708694427208), (Document(metadata={'start_index': 482, 'title': 'French_and_Indian_War'}, page_content='. Lawrence and Mississippi watersheds, did business with local tribes, and often married Indian women. Traders married daughters of chiefs, creating high-ranking unions.'), -0.020161602220491126), (Document(metadata={'start_index': 435, 'title': 'Normans'}, page_content=\". On 1 May 1191, Richard's fleet arrived in the port of Limassol on Cyprus. He ordered Isaac to release the prisoners and the treasure. Isaac refused, so Richard landed his troops and took Limassol.\"), -0.0300801043742569)]\n",
      "  self.vectorstore.similarity_search_with_relevance_scores(\n",
      "No relevant docs were retrieved using the relevance score threshold 0.1\n",
      " 32%|███▏      | 161/500 [02:26<04:28,  1.26it/s]/Users/mariadancianu/Desktop/Git Projects/SQuAD_RAG_experiments/.venv/lib/python3.12/site-packages/langchain_core/vectorstores/base.py:1076: UserWarning: Relevance scores must be between 0 and 1, got [(Document(metadata={'start_index': 384, 'title': 'Imperialism'}, page_content='. A distinction about empires is \"that although political empires were built mostly by expansion overland, economic and cultural influences spread at least as much by sea\". Some of the main aspects of trade that went overseas consisted of animals and plant products. European empires in Asia and Africa \"have come to be seen as the classic forms of imperialism: and indeed most books on the subject confine themselves to the European seaborne empires\"'), 0.006186921594579231), (Document(metadata={'start_index': 357, 'title': 'Normans'}, page_content='. Roussel de Bailleul even tried to carve out an independent state in Asia Minor with support from the local population, but he was stopped by the Byzantine general Alexius Komnenos.'), -0.013909960180870318), (Document(metadata={'start_index': 0, 'title': 'Imperialism'}, page_content='Imperialism has played an important role in the histories of Japan, Korea, the Assyrian Empire, the Chinese Empire, the Roman Empire, Greece, the Byzantine Empire, the Persian Empire, the Ottoman Empire, Ancient Egypt, the British Empire, India, and many other empires. Imperialism was a basic component to the conquests of Genghis Khan during the Mongol Empire, and of other war-lords. Historically recognized Muslim empires number in the dozens'), -0.025230182222411246)]\n",
      "  self.vectorstore.similarity_search_with_relevance_scores(\n",
      "No relevant docs were retrieved using the relevance score threshold 0.1\n",
      "100%|██████████| 500/500 [08:04<00:00,  1.03it/s]\n"
     ]
    },
    {
     "name": "stdout",
     "output_type": "stream",
     "text": [
      "Running gpt-3.5-turbo - 600 - text-embedding-3-small\n",
      "(\"CustomRAG config: {'chunk_size': 600, 'chunk_overlap': 15, \"\n",
      " \"'vector_database': 'chromadb', 'embeddings_function': {'model_name': \"\n",
      " \"'text-embedding-3-small', 'platform': 'OpenAI'}, 'llm': {'model_name': \"\n",
      " \"'gpt-3.5-turbo', 'client': 'OpenAI'}}\")\n",
      "Creating vector store 600_text-embedding-3-small\n",
      "Finished creating vector store 600_text-embedding-3-small\n"
     ]
    },
    {
     "name": "stderr",
     "output_type": "stream",
     "text": [
      " 13%|█▎        | 65/500 [01:04<06:38,  1.09it/s]No relevant docs were retrieved using the relevance score threshold 0.1\n",
      " 13%|█▎        | 67/500 [01:06<06:11,  1.17it/s]No relevant docs were retrieved using the relevance score threshold 0.1\n",
      " 14%|█▍        | 69/500 [01:07<05:37,  1.28it/s]No relevant docs were retrieved using the relevance score threshold 0.1\n",
      " 14%|█▍        | 71/500 [01:10<07:46,  1.09s/it]No relevant docs were retrieved using the relevance score threshold 0.1\n",
      " 14%|█▍        | 72/500 [01:11<06:52,  1.04it/s]No relevant docs were retrieved using the relevance score threshold 0.1\n",
      " 16%|█▋        | 82/500 [01:20<06:56,  1.00it/s]/Users/mariadancianu/Desktop/Git Projects/SQuAD_RAG_experiments/.venv/lib/python3.12/site-packages/langchain_core/vectorstores/base.py:1076: UserWarning: Relevance scores must be between 0 and 1, got [(Document(metadata={'start_index': 495, 'title': 'Normans'}, page_content=\". His stay in Normandy (until 1016) influenced him and his sons by Emma, who stayed in Normandy after Cnut the Great's conquest of the isle.\"), 0.03684403343922149), (Document(metadata={'start_index': 276, 'title': 'Huguenot'}, page_content='. After the Revocation of the Edict of Nantes in 1685, several Huguenot families of Norman and Carolingian nobility and descent, including Edmund Bohun of Suffolk England from the Humphrey de Bohun line of French royalty descended from Charlemagne, Jean Postell of Dieppe France, Alexander Pepin, Antoine Poitevin of Orsement France, and Jacques de Bordeaux of Grenoble, immigrated to the Charleston Orange district. They were very successful at marriage and property speculation'), -0.06144452463060901), (Document(metadata={'start_index': 0, 'title': 'Normans'}, page_content='The Normans were in contact with England from an early date. Not only were their original Viking brethren still ravaging the English coasts, they occupied most of the important ports opposite England across the English Channel. This relationship eventually produced closer ties of blood through the marriage of Emma, sister of Duke Richard II of Normandy, and King Ethelred II of England. Because of this, Ethelred fled to Normandy in 1013, when he was forced from his kingdom by Sweyn Forkbeard'), -0.06177352293008509)]\n",
      "  self.vectorstore.similarity_search_with_relevance_scores(\n",
      "No relevant docs were retrieved using the relevance score threshold 0.1\n",
      " 17%|█▋        | 83/500 [01:21<06:26,  1.08it/s]/Users/mariadancianu/Desktop/Git Projects/SQuAD_RAG_experiments/.venv/lib/python3.12/site-packages/langchain_core/vectorstores/base.py:1076: UserWarning: Relevance scores must be between 0 and 1, got [(Document(metadata={'start_index': 495, 'title': 'Normans'}, page_content=\". His stay in Normandy (until 1016) influenced him and his sons by Emma, who stayed in Normandy after Cnut the Great's conquest of the isle.\"), 0.11321867480060066), (Document(metadata={'start_index': 467, 'title': 'Normans'}, page_content='. He invited his brother-in-law Eustace II, Count of Boulogne to his court in 1051, an event which resulted in the greatest of early conflicts between Saxon and Norman and ultimately resulted in the exile of Earl Godwin of Wessex.'), 0.016277382890269476), (Document(metadata={'start_index': 0, 'title': 'Normans'}, page_content='The Normans were in contact with England from an early date. Not only were their original Viking brethren still ravaging the English coasts, they occupied most of the important ports opposite England across the English Channel. This relationship eventually produced closer ties of blood through the marriage of Emma, sister of Duke Richard II of Normandy, and King Ethelred II of England. Because of this, Ethelred fled to Normandy in 1013, when he was forced from his kingdom by Sweyn Forkbeard'), -0.009545569723870218)]\n",
      "  self.vectorstore.similarity_search_with_relevance_scores(\n",
      " 21%|██        | 106/500 [01:42<05:35,  1.17it/s]No relevant docs were retrieved using the relevance score threshold 0.1\n",
      " 23%|██▎       | 113/500 [01:51<06:27,  1.00s/it]/Users/mariadancianu/Desktop/Git Projects/SQuAD_RAG_experiments/.venv/lib/python3.12/site-packages/langchain_core/vectorstores/base.py:1076: UserWarning: Relevance scores must be between 0 and 1, got [(Document(metadata={'start_index': 0, 'title': 'Normans'}, page_content=\"One of the claimants of the English throne opposing William the Conqueror, Edgar Atheling, eventually fled to Scotland. King Malcolm III of Scotland married Edgar's sister Margaret, and came into opposition to William who had already disputed Scotland's southern borders. William invaded Scotland in 1072, riding as far as Abernethy where he met up with his fleet of ships. Malcolm submitted, paid homage to William and surrendered his son Duncan as a hostage, beginning a series of arguments as to whether the Scottish Crown owed allegiance to the King of England.\"), 0.04981346166299383), (Document(metadata={'start_index': 428, 'title': 'Normans'}, page_content=\". Having spent time at the court of Henry I of England (married to David's sister Maud of Scotland), and needing them to wrestle the kingdom from his half-brother Máel Coluim mac Alaxandair, David had to reward many with lands. The process was continued under David's successors, most intensely of all under William the Lion. The Norman-derived feudal system was applied in varying degrees to most of Scotland\"), 0.021853073773472675), (Document(metadata={'start_index': 449, 'title': 'French_and_Indian_War'}, page_content=\". Bogged down by disagreements and disputes with others, including William Johnson and New York's Governor Sir Charles Hardy, Shirley's plan had little support.\"), -0.005554684638373608)]\n",
      "  self.vectorstore.similarity_search_with_relevance_scores(\n",
      "No relevant docs were retrieved using the relevance score threshold 0.1\n",
      " 23%|██▎       | 114/500 [01:52<06:07,  1.05it/s]/Users/mariadancianu/Desktop/Git Projects/SQuAD_RAG_experiments/.venv/lib/python3.12/site-packages/langchain_core/vectorstores/base.py:1076: UserWarning: Relevance scores must be between 0 and 1, got [(Document(metadata={'start_index': 428, 'title': 'Normans'}, page_content=\". Having spent time at the court of Henry I of England (married to David's sister Maud of Scotland), and needing them to wrestle the kingdom from his half-brother Máel Coluim mac Alaxandair, David had to reward many with lands. The process was continued under David's successors, most intensely of all under William the Lion. The Norman-derived feudal system was applied in varying degrees to most of Scotland\"), 0.014552312380718524), (Document(metadata={'start_index': 0, 'title': 'Normans'}, page_content=\"One of the claimants of the English throne opposing William the Conqueror, Edgar Atheling, eventually fled to Scotland. King Malcolm III of Scotland married Edgar's sister Margaret, and came into opposition to William who had already disputed Scotland's southern borders. William invaded Scotland in 1072, riding as far as Abernethy where he met up with his fleet of ships. Malcolm submitted, paid homage to William and surrendered his son Duncan as a hostage, beginning a series of arguments as to whether the Scottish Crown owed allegiance to the King of England.\"), 0.013328957955841325), (Document(metadata={'start_index': 449, 'title': 'French_and_Indian_War'}, page_content=\". Bogged down by disagreements and disputes with others, including William Johnson and New York's Governor Sir Charles Hardy, Shirley's plan had little support.\"), -0.011044227363220527)]\n",
      "  self.vectorstore.similarity_search_with_relevance_scores(\n",
      "No relevant docs were retrieved using the relevance score threshold 0.1\n",
      " 23%|██▎       | 116/500 [01:54<07:00,  1.09s/it]No relevant docs were retrieved using the relevance score threshold 0.1\n",
      " 24%|██▍       | 120/500 [01:57<05:31,  1.15it/s]/Users/mariadancianu/Desktop/Git Projects/SQuAD_RAG_experiments/.venv/lib/python3.12/site-packages/langchain_core/vectorstores/base.py:1076: UserWarning: Relevance scores must be between 0 and 1, got [(Document(metadata={'start_index': 428, 'title': 'Normans'}, page_content=\". Having spent time at the court of Henry I of England (married to David's sister Maud of Scotland), and needing them to wrestle the kingdom from his half-brother Máel Coluim mac Alaxandair, David had to reward many with lands. The process was continued under David's successors, most intensely of all under William the Lion. The Norman-derived feudal system was applied in varying degrees to most of Scotland\"), -0.025716556854227024), (Document(metadata={'start_index': 478, 'title': 'Yuan_dynasty'}, page_content='. The surnames of his Jurchen wives were Mo-nien and Na-ho; the surname of his Korean wife was Li; and the surname of his Han Chinese wife was Shi. Shi Tianze defected to Mongol forces upon their invasion of the Jin dynasty. His son Shi Gang married a Kerait woman; the Kerait were Mongolified Turkic people and were considered part of the \"Mongol nation\". Shi Tianze (Shih T\\'ien-tse), Zhang Rou (Chang Jou, 張柔), and Yan Shi (Yen Shih, 嚴實) and other high ranking Chinese who served in the Jin dynasty and defected to the Mongols helped build the structure for the administration of the new state'), -0.09675262550212538), (Document(metadata={'start_index': 471, 'title': 'Yuan_dynasty'}, page_content='. Gegeen was assassinated in a coup involving five princes from a rival faction, perhaps steppe elite opposed to Confucian reforms. They placed Yesün Temür (or Taidingdi) on the throne, and, after an unsuccessful attempt to calm the princes, he also succumbed to regicide.'), -0.09870402458817962)]\n",
      "  self.vectorstore.similarity_search_with_relevance_scores(\n",
      "No relevant docs were retrieved using the relevance score threshold 0.1\n",
      " 25%|██▌       | 126/500 [02:02<04:58,  1.25it/s]/Users/mariadancianu/Desktop/Git Projects/SQuAD_RAG_experiments/.venv/lib/python3.12/site-packages/langchain_core/vectorstores/base.py:1076: UserWarning: Relevance scores must be between 0 and 1, got [(Document(metadata={'start_index': 0, 'title': 'Normans'}, page_content='Even before the Norman Conquest of England, the Normans had come into contact with Wales. Edward the Confessor had set up the aforementioned Ralph as earl of Hereford and charged him with defending the Marches and warring with the Welsh. In these original ventures, the Normans failed to make any headway into Wales.'), 0.20622825580074455), (Document(metadata={'start_index': 0, 'title': 'Normans'}, page_content=\"When finally Edward the Confessor returned from his father's refuge in 1041, at the invitation of his half-brother Harthacnut, he brought with him a Norman-educated mind. He also brought many Norman counsellors and fighters, some of whom established an English cavalry force. This concept never really took root, but it is a typical example of the attitudes of Edward. He appointed Robert of Jumièges archbishop of Canterbury and made Ralph the Timid earl of Hereford\"), 0.15073063438075163), (Document(metadata={'start_index': 0, 'title': 'Harvard_University'}, page_content='Other: Civil rights leader W. E. B. Du Bois; philosopher Henry David Thoreau; authors Ralph Waldo Emerson and William S. Burroughs; educators Werner Baer, Harlan Hanson; poets Wallace Stevens, T. S. Eliot and E. E'), -0.017198257301690223)]\n",
      "  self.vectorstore.similarity_search_with_relevance_scores(\n",
      " 31%|███       | 153/500 [02:50<22:34,  3.90s/it]/Users/mariadancianu/Desktop/Git Projects/SQuAD_RAG_experiments/.venv/lib/python3.12/site-packages/langchain_core/vectorstores/base.py:1076: UserWarning: Relevance scores must be between 0 and 1, got [(Document(metadata={'start_index': 0, 'title': 'Harvard_University'}, page_content=\"Older than The Game by 23 years, the Harvard-Yale Regatta was the original source of the athletic rivalry between the two schools. It is held annually in June on the Thames River in eastern Connecticut. The Harvard crew is typically considered to be one of the top teams in the country in rowing. Today, Harvard fields top teams in several other sports, such as the Harvard Crimson men's ice hockey team (with a strong rivalry against Cornell), squash, and even recently won NCAA titles in Men's and Women's Fencing\"), 0.0363485550881274), (Document(metadata={'start_index': 0, 'title': 'Normans'}, page_content='Various princes of the Holy Land arrived in Limassol at the same time, in particular Guy de Lusignan. All declared their support for Richard provided that he support Guy against his rival Conrad of Montferrat. The local barons abandoned Isaac, who considered making peace with Richard, joining him on the crusade, and offering his daughter in marriage to the person named by Richard. But Isaac changed his mind and tried to escape. Richard then proceeded to conquer the whole island, his troops being led by Guy de Lusignan'), 0.024456316018596547), (Document(metadata={'start_index': 0, 'title': 'Harvard_University'}, page_content='The Harvard Crimson competes in 42 intercollegiate sports in the NCAA Division I Ivy League. Harvard has an intense athletic rivalry with Yale University culminating in The Game, although the Harvard–Yale Regatta predates the football game. This rivalry, though, is put aside every two years when the Harvard and Yale Track and Field teams come together to compete against a combined Oxford University and Cambridge University team, a competition that is the oldest continuous international amateur competition in the world.'), -0.014659246853697017)]\n",
      "  self.vectorstore.similarity_search_with_relevance_scores(\n",
      "No relevant docs were retrieved using the relevance score threshold 0.1\n",
      " 31%|███       | 154/500 [02:51<17:16,  3.00s/it]/Users/mariadancianu/Desktop/Git Projects/SQuAD_RAG_experiments/.venv/lib/python3.12/site-packages/langchain_core/vectorstores/base.py:1076: UserWarning: Relevance scores must be between 0 and 1, got [(Document(metadata={'start_index': 523, 'title': 'Normans'}, page_content='. Isaac surrendered and was confined with silver chains, because Richard had promised that he would not place him in irons. By 1 June, Richard had conquered the whole island. His exploit was well publicized and contributed to his reputation; he also derived significant financial gains from the conquest of the island. Richard left for Acre on 5 June, with his allies. Before his departure, he named two of his Norman generals, Richard de Camville and Robert de Thornham, as governors of Cyprus.'), 0.17497518751815833), (Document(metadata={'start_index': 569, 'title': 'Normans'}, page_content='. Isaac refused, so Richard landed his troops and took Limassol.'), 0.08114981211823757), (Document(metadata={'start_index': 355, 'title': 'Force'}, page_content=\". Using such tools, some quantitative force laws were discovered: that the force of gravity is proportional to volume for objects of constant density (widely exploited for millennia to define standard weights); Archimedes' principle for buoyancy; Archimedes' analysis of the lever; Boyle's law for gas pressure; and Hooke's law for springs. These were all formulated and experimentally verified before Isaac Newton expounded his Three Laws of Motion.\"), -0.030521887640348133)]\n",
      "  self.vectorstore.similarity_search_with_relevance_scores(\n",
      " 31%|███       | 156/500 [02:53<10:47,  1.88s/it]/Users/mariadancianu/Desktop/Git Projects/SQuAD_RAG_experiments/.venv/lib/python3.12/site-packages/langchain_core/vectorstores/base.py:1076: UserWarning: Relevance scores must be between 0 and 1, got [(Document(metadata={'start_index': 1630, 'title': 'Pharmacy'}, page_content='. Living in the 10th century, he wrote The foundations of the true properties of Remedies, amongst others describing arsenious oxide, and being acquainted with silicic acid. He made clear distinction between sodium carbonate and potassium carbonate, and drew attention to the poisonous nature of copper compounds, especially copper vitriol, and also lead compounds. He also describes the distillation of sea-water for drinking.[verification needed]'), 0.0583286423487408), (Document(metadata={'start_index': 538, 'title': 'Oxygen'}, page_content='2. This method of welding and cutting metal later became common.'), -0.015536912827087912), (Document(metadata={'start_index': 583, 'title': 'French_and_Indian_War'}, page_content='. Traders married daughters of chiefs, creating high-ranking unions.'), -0.033869696111265446)]\n",
      "  self.vectorstore.similarity_search_with_relevance_scores(\n",
      "No relevant docs were retrieved using the relevance score threshold 0.1\n",
      " 32%|███▏      | 161/500 [02:57<05:45,  1.02s/it]No relevant docs were retrieved using the relevance score threshold 0.1\n",
      " 37%|███▋      | 186/500 [03:22<06:58,  1.33s/it]No relevant docs were retrieved using the relevance score threshold 0.1\n",
      " 64%|██████▍   | 319/500 [05:24<02:51,  1.05it/s]/Users/mariadancianu/Desktop/Git Projects/SQuAD_RAG_experiments/.venv/lib/python3.12/site-packages/langchain_core/vectorstores/base.py:1076: UserWarning: Relevance scores must be between 0 and 1, got [(Document(metadata={'start_index': 0, 'title': 'Computational_complexity_theory'}, page_content='A Turing machine is a mathematical model of a general computing machine. It is a theoretical device that manipulates symbols contained on a strip of tape. Turing machines are not intended as a practical computing technology, but rather as a thought experiment representing a computing machine—anything from an advanced supercomputer to a mathematician with a pencil and paper. It is believed that if a problem can be solved by an algorithm, there exists a Turing machine that solves the problem. Indeed, this is the statement of the Church–Turing thesis'), 0.2018417803951248), (Document(metadata={'start_index': 0, 'title': 'Computational_complexity_theory'}, page_content='Many machine models different from the standard multi-tape Turing machines have been proposed in the literature, for example random access machines. Perhaps surprisingly, each of these models can be converted to another without providing any extra computational power. The time and memory consumption of these alternate models may vary. What all these models have in common is that the machines operate deterministically.'), 0.1135791989427628), (Document(metadata={'start_index': 0, 'title': 'Packet_switching'}, page_content='Starting in the late 1950s, American computer scientist Paul Baran developed the concept Distributed Adaptive Message Block Switching with the goal to provide a fault-tolerant, efficient routing method for telecommunication messages as part of a research program at the RAND Corporation, funded by the US Department of Defense. This concept contrasted and contradicted the theretofore established principles of pre-allocation of network bandwidth, largely fortified by the development of telecommunications in the Bell System'), -0.004903515828880378)]\n",
      "  self.vectorstore.similarity_search_with_relevance_scores(\n",
      "100%|██████████| 500/500 [08:11<00:00,  1.02it/s]\n"
     ]
    },
    {
     "name": "stdout",
     "output_type": "stream",
     "text": [
      "Running mistral-large-latest - 100 - text-embedding-3-small\n",
      "(\"CustomRAG config: {'chunk_size': 100, 'chunk_overlap': 15, \"\n",
      " \"'vector_database': 'chromadb', 'embeddings_function': {'model_name': \"\n",
      " \"'text-embedding-3-small', 'platform': 'OpenAI'}, 'llm': {'model_name': \"\n",
      " \"'mistral-large-latest', 'client': 'Mistral'}}\")\n",
      "Vector store 100_text-embedding-3-small already exists. No need to initialize.\n"
     ]
    },
    {
     "name": "stderr",
     "output_type": "stream",
     "text": [
      "  0%|          | 0/500 [00:00<?, ?it/s]\n"
     ]
    },
    {
     "ename": "AttributeError",
     "evalue": "'Chat' object has no attribute 'completions'",
     "output_type": "error",
     "traceback": [
      "\u001b[31m---------------------------------------------------------------------------\u001b[39m",
      "\u001b[31mAttributeError\u001b[39m                            Traceback (most recent call last)",
      "\u001b[36mCell\u001b[39m\u001b[36m \u001b[39m\u001b[32mIn[2]\u001b[39m\u001b[32m, line 6\u001b[39m\n\u001b[32m      2\u001b[39m df_to_test = df[\u001b[32m0\u001b[39m:\u001b[32m500\u001b[39m]\n\u001b[32m      4\u001b[39m langchain_docs = convert_knowledge_base_to_langchain_docs(df)\n\u001b[32m----> \u001b[39m\u001b[32m6\u001b[39m \u001b[43mfine_tune_rag\u001b[49m\u001b[43m(\u001b[49m\u001b[43mdf_to_test\u001b[49m\u001b[43m,\u001b[49m\u001b[43m \u001b[49m\n\u001b[32m      7\u001b[39m \u001b[43m              \u001b[49m\u001b[43mlangchain_docs\u001b[49m\u001b[43m,\u001b[49m\u001b[43m \u001b[49m\n\u001b[32m      8\u001b[39m \u001b[43m              \u001b[49m\u001b[43mresults_folder\u001b[49m\u001b[43m=\u001b[49m\u001b[33;43m\"\u001b[39;49m\u001b[33;43meval_results/test_new_class\u001b[39;49m\u001b[33;43m\"\u001b[39;49m\u001b[43m,\u001b[49m\u001b[43m \u001b[49m\n\u001b[32m      9\u001b[39m \u001b[43m              \u001b[49m\u001b[43mvector_db_folder\u001b[49m\u001b[43m=\u001b[49m\u001b[33;43m\"\u001b[39;49m\u001b[33;43mvector_databases/test_new_class\u001b[39;49m\u001b[33;43m\"\u001b[39;49m\u001b[43m,\u001b[49m\u001b[43m)\u001b[49m\n",
      "\u001b[36mFile \u001b[39m\u001b[32m~/Desktop/Git Projects/SQuAD_RAG_experiments/rag_fine_tuning.py:550\u001b[39m, in \u001b[36mfine_tune_rag\u001b[39m\u001b[34m(df, knowledge_base_docs, parameters_dict, results_folder, vector_db_folder)\u001b[39m\n\u001b[32m    531\u001b[39m parameters_dict = {\n\u001b[32m    532\u001b[39m     \u001b[33m\"\u001b[39m\u001b[33mchunk_size\u001b[39m\u001b[33m\"\u001b[39m: chunk_size,\n\u001b[32m    533\u001b[39m     \u001b[33m\"\u001b[39m\u001b[33mchunk_overlap\u001b[39m\u001b[33m\"\u001b[39m: \u001b[32m15\u001b[39m,\n\u001b[32m   (...)\u001b[39m\u001b[32m    539\u001b[39m     \u001b[33m\"\u001b[39m\u001b[33mllm\u001b[39m\u001b[33m\"\u001b[39m: {\u001b[33m\"\u001b[39m\u001b[33mmodel_name\u001b[39m\u001b[33m\"\u001b[39m: model_name, \u001b[33m\"\u001b[39m\u001b[33mclient\u001b[39m\u001b[33m\"\u001b[39m: client},\n\u001b[32m    540\u001b[39m }\n\u001b[32m    542\u001b[39m rag = CustomRAG(\n\u001b[32m    543\u001b[39m     knowledge_base=knowledge_base_docs,\n\u001b[32m    544\u001b[39m     prompt_message=prompt_message,\n\u001b[32m   (...)\u001b[39m\u001b[32m    547\u001b[39m     vector_db_folder=vector_db_folder,\n\u001b[32m    548\u001b[39m )\n\u001b[32m--> \u001b[39m\u001b[32m550\u001b[39m \u001b[43mrag\u001b[49m\u001b[43m.\u001b[49m\u001b[43mget_llm_multiple_questions_answers\u001b[49m\u001b[43m(\u001b[49m\u001b[43mdf\u001b[49m\u001b[43m)\u001b[49m\n",
      "\u001b[36mFile \u001b[39m\u001b[32m~/Desktop/Git Projects/SQuAD_RAG_experiments/rag_fine_tuning.py:394\u001b[39m, in \u001b[36mCustomRAG.get_llm_multiple_questions_answers\u001b[39m\u001b[34m(self, questions_df)\u001b[39m\n\u001b[32m    391\u001b[39m questions_ids = questions_df[\u001b[33m\"\u001b[39m\u001b[33mid\u001b[39m\u001b[33m\"\u001b[39m]\n\u001b[32m    393\u001b[39m \u001b[38;5;28;01mfor\u001b[39;00m query \u001b[38;5;129;01min\u001b[39;00m tqdm.tqdm(questions):\n\u001b[32m--> \u001b[39m\u001b[32m394\u001b[39m     answer, context = \u001b[38;5;28;43mself\u001b[39;49m\u001b[43m.\u001b[49m\u001b[43mget_llm_single_question_answer\u001b[49m\u001b[43m(\u001b[49m\u001b[43mquery\u001b[49m\u001b[43m)\u001b[49m\n\u001b[32m    396\u001b[39m     answers.append(answer)\n\u001b[32m    397\u001b[39m     contexts.append(context)\n",
      "\u001b[36mFile \u001b[39m\u001b[32m~/Desktop/Git Projects/SQuAD_RAG_experiments/rag_fine_tuning.py:339\u001b[39m, in \u001b[36mCustomRAG.get_llm_single_question_answer\u001b[39m\u001b[34m(self, query)\u001b[39m\n\u001b[32m    335\u001b[39m \u001b[38;5;66;03m# print(f\"** Context: {context}\")\u001b[39;00m\n\u001b[32m    337\u001b[39m prompt = \u001b[38;5;28mself\u001b[39m.prompt_message % (context, query)\n\u001b[32m--> \u001b[39m\u001b[32m339\u001b[39m response = \u001b[38;5;28;43mself\u001b[39;49m\u001b[43m.\u001b[49m\u001b[43mllm_initialized_client\u001b[49m\u001b[43m.\u001b[49m\u001b[43mchat\u001b[49m\u001b[43m.\u001b[49m\u001b[43mcompletions\u001b[49m.create(\n\u001b[32m    340\u001b[39m     model=\u001b[38;5;28mself\u001b[39m.llm,\n\u001b[32m    341\u001b[39m     messages=[\n\u001b[32m    342\u001b[39m         {\u001b[33m\"\u001b[39m\u001b[33mrole\u001b[39m\u001b[33m\"\u001b[39m: \u001b[33m\"\u001b[39m\u001b[33msystem\u001b[39m\u001b[33m\"\u001b[39m, \u001b[33m\"\u001b[39m\u001b[33mcontent\u001b[39m\u001b[33m\"\u001b[39m: prompt},\n\u001b[32m    343\u001b[39m         {\u001b[33m\"\u001b[39m\u001b[33mrole\u001b[39m\u001b[33m\"\u001b[39m: \u001b[33m\"\u001b[39m\u001b[33muser\u001b[39m\u001b[33m\"\u001b[39m, \u001b[33m\"\u001b[39m\u001b[33mcontent\u001b[39m\u001b[33m\"\u001b[39m: query},\n\u001b[32m    344\u001b[39m     ],\n\u001b[32m    345\u001b[39m )\n\u001b[32m    347\u001b[39m answer = response.choices[\u001b[32m0\u001b[39m].message.content\n\u001b[32m    349\u001b[39m \u001b[38;5;28;01mreturn\u001b[39;00m answer, context\n",
      "\u001b[31mAttributeError\u001b[39m: 'Chat' object has no attribute 'completions'"
     ]
    }
   ],
   "source": [
    "df = pd.read_csv(\"dataset.csv\")\n",
    "df_to_test = df[0:500]\n",
    "\n",
    "langchain_docs = convert_knowledge_base_to_langchain_docs(df)\n",
    "\n",
    "fine_tune_rag(df_to_test, \n",
    "              langchain_docs, \n",
    "              results_folder=\"eval_results/test_new_class\", \n",
    "              vector_db_folder=\"vector_databases/test_new_class\",)"
   ]
  },
  {
   "cell_type": "code",
   "execution_count": null,
   "id": "d407aed2",
   "metadata": {},
   "outputs": [],
   "source": [
    "df_all_res = collect_all_results('/Users/mariadancianu/Desktop/Git Projects/SQuAD_RAG_experiments/eval_results/initial_eval_results')\n",
    "df_all_res.sort_values(by=\"HasAns_f1\", ascending=False, inplace=True)\n",
    "df_all_res.to_csv(\"eval_results/initial_eval_results/df_all_results.csv\", index=False)"
   ]
  },
  {
   "cell_type": "code",
   "execution_count": null,
   "id": "f78f94bb",
   "metadata": {},
   "outputs": [],
   "source": [
    "df_all_res"
   ]
  },
  {
   "cell_type": "markdown",
   "id": "1c923406",
   "metadata": {},
   "source": [
    "# Investigate the results"
   ]
  },
  {
   "cell_type": "code",
   "execution_count": null,
   "id": "008528cb",
   "metadata": {},
   "outputs": [],
   "source": [
    "# Pick the best results and merge the scores by question id to the original df in order to inspect the errors.\n",
    "# The idea is to understand why the results are so poor for the NoAns questions, when the HasAns questions have \n",
    "# a high f1 score, in order to understand how the workflow can be optimized"
   ]
  },
  {
   "cell_type": "code",
   "execution_count": null,
   "id": "4aeaa4a6",
   "metadata": {},
   "outputs": [],
   "source": [
    "best_result_path = os.path.join(os.getcwd(), \"eval_results/initial_eval_results\", df_all_res.experiment.iloc[0])\n",
    "split_path = best_result_path.split(\"/\")\n",
    "split_path[-1] = split_path[-1].replace(\"eval_\", \"\")\n",
    "best_result_path = \"/\".join(split_path)\n",
    "best_result_path"
   ]
  },
  {
   "cell_type": "code",
   "execution_count": null,
   "id": "f1beec24",
   "metadata": {},
   "outputs": [],
   "source": [
    "! python eval_results/evaluation.py \"/Users/mariadancianu/Desktop/Git Projects/SQuAD_RAG_experiments/eval_results/data_updated_500.json\" \"/Users/mariadancianu/Desktop/Git Projects/SQuAD_RAG_experiments/eval_results/debugging_eval_results/pred_500_400_text-embedding-3-large_gpt-3.5-turbo.json\""
   ]
  },
  {
   "cell_type": "code",
   "execution_count": null,
   "id": "44cd3a5f",
   "metadata": {},
   "outputs": [],
   "source": [
    "df_merged = merge_results(f1_filepath=os.path.join(os.getcwd(), \"eval_results/debugging_eval_results/f1_thresh_by_qid.json\"), \n",
    "                          exact_filepath=os.path.join(os.getcwd(), \"eval_results/debugging_eval_results/exact_thresh_by_qid.json\"), \n",
    "                          pred_filepath=os.path.join(os.getcwd(), \"eval_results/debugging_eval_results/pred_500_400_text-embedding-3-large_gpt-3.5-turbo.json\"), \n",
    "                          filepath_500=os.path.join(os.getcwd(), \"eval_results/debugging_eval_results/pred_500_400_text-embedding-3-large_gpt-3.5-turbo.json\"),\n",
    "                          context_filepath=os.path.join(os.getcwd(), \"eval_results/debugging_eval_results/context_500_400_text-embedding-3-large_gpt-3.5-turbo.json\"), \n",
    "                          df_questions_filepath=\"dataset.csv\", \n",
    "                          filter_500=True)\n",
    "\n",
    "df_merged.shape"
   ]
  },
  {
   "cell_type": "code",
   "execution_count": null,
   "id": "585095c4",
   "metadata": {},
   "outputs": [],
   "source": [
    "df_merged.columns"
   ]
  },
  {
   "cell_type": "code",
   "execution_count": null,
   "id": "9e9391a9",
   "metadata": {},
   "outputs": [],
   "source": [
    "df_merged[df_merged.is_impossible][[\"id\", \"is_impossible\", \"f1_score\", \"exact_score\", \"question\", \"pred\"]].tail(10)"
   ]
  },
  {
   "cell_type": "code",
   "execution_count": null,
   "id": "cf1c16c7",
   "metadata": {},
   "outputs": [],
   "source": [
    "print(df_merged.loc[479, \"context\"].replace(\". \", \".\\n\"))"
   ]
  },
  {
   "cell_type": "code",
   "execution_count": null,
   "id": "91da5f32",
   "metadata": {},
   "outputs": [],
   "source": [
    "print(df_merged.loc[479, \"rag_retrieved_context\"])"
   ]
  },
  {
   "cell_type": "markdown",
   "id": "44cef210",
   "metadata": {},
   "source": [
    "# Evaluate with other LLMS"
   ]
  },
  {
   "cell_type": "code",
   "execution_count": null,
   "id": "1e53f063",
   "metadata": {},
   "outputs": [],
   "source": [
    "# run the RAG with best parameters, and save also the context\n",
    "parameters_dict = {\n",
    "    \"chunk_sizes\": [400],\n",
    "    \"embed_options\": { \n",
    "        \"text-embedding-3-large\": \"OpenAI\", \n",
    "        },\n",
    "    \"models\": {\"mistral-large-latest\": \"Mistral\"}\n",
    "}\n",
    "\n",
    "results_folder = os.path.join(os.getcwd(), \"eval_results/optimize_results\")\n",
    "vector_db_folder = os.path.join(os.getcwd(), \"vector_dabases/optimize_results\")\n",
    "\n",
    "if not os.path.exists(results_folder):\n",
    "    os.mkdir(results_folder)\n",
    "\n",
    "df = pd.read_csv(\"dataset.csv\")\n",
    "df_to_test = df[0:500]\n",
    "\n",
    "langchain_docs = convert_knowledge_base_to_langchain_docs(df)\n",
    "\n",
    "fine_tune_rag(df_to_test, \n",
    "              langchain_docs, \n",
    "              parameters_dict,\n",
    "              results_fodler=results_folder, \n",
    "              vector_db_folder=vector_db_folder)"
   ]
  },
  {
   "cell_type": "markdown",
   "id": "765bcaf5",
   "metadata": {},
   "source": [
    "# Evaluate RAG SOTA embeddings: snowflake-artic-embed-l-v2.0"
   ]
  },
  {
   "cell_type": "code",
   "execution_count": null,
   "id": "bb576fc3",
   "metadata": {},
   "outputs": [],
   "source": [
    "# very slow - likely due to GPU/CPU memory issues"
   ]
  },
  {
   "cell_type": "code",
   "execution_count": null,
   "id": "ae2faae7",
   "metadata": {},
   "outputs": [],
   "source": [
    "# run the RAG with SOTA embeddings \n",
    "parameters_dict = {\n",
    "    \"chunk_sizes\": [400],\n",
    "    \"embed_options\": { \n",
    "        \"Snowflake/snowflake-arctic-embed-l-v2.0\": \"SentenceTransformers\" # ranked 6th, 568M params, released in december 2024 \n",
    "        },\n",
    "    \"models\": {\"gpt-3.5-turbo\": \"OpenAI\"}\n",
    "}\n",
    "\n",
    "results_folder = os.path.join(os.getcwd(), \"eval_results/optimize_results\")\n",
    "vector_db_folder = os.path.join(os.getcwd(), \"vector_dabases/optimize_results\")\n",
    "\n",
    "if not os.path.exists(results_folder):\n",
    "    os.mkdir(results_folder)\n",
    "\n",
    "df = pd.read_csv(\"dataset.csv\")\n",
    "df_to_test = df[0:500]\n",
    "\n",
    "langchain_docs = convert_knowledge_base_to_langchain_docs(df)\n",
    "\n",
    "fine_tune_rag(df_to_test, \n",
    "              langchain_docs, \n",
    "              parameters_dict,\n",
    "              results_fodler=results_folder, \n",
    "              vector_db_folder=vector_db_folder)"
   ]
  }
 ],
 "metadata": {
  "kernelspec": {
   "display_name": ".venv",
   "language": "python",
   "name": "python3"
  },
  "language_info": {
   "codemirror_mode": {
    "name": "ipython",
    "version": 3
   },
   "file_extension": ".py",
   "mimetype": "text/x-python",
   "name": "python",
   "nbconvert_exporter": "python",
   "pygments_lexer": "ipython3",
   "version": "3.12.2"
  }
 },
 "nbformat": 4,
 "nbformat_minor": 5
}
