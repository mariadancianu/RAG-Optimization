{
 "cells": [
  {
   "cell_type": "code",
   "execution_count": 104,
   "id": "b0accd0d-fb0b-4c5e-be02-8063d3b6a2c9",
   "metadata": {},
   "outputs": [],
   "source": [
    "import json\n",
    "import pandas as pd\n",
    "import numpy as np \n",
    "import seaborn as sns\n",
    "import matplotlib.pyplot as plt\n",
    "import os \n",
    "from tqdm.auto import tqdm\n",
    "sns.set_style(\"whitegrid\")"
   ]
  },
  {
   "cell_type": "code",
   "execution_count": null,
   "id": "6334ac8a",
   "metadata": {},
   "outputs": [],
   "source": []
  },
  {
   "cell_type": "code",
   "execution_count": 105,
   "id": "e47ba734-01d5-4765-a670-ba7f3296b84c",
   "metadata": {},
   "outputs": [
    {
     "data": {
      "text/plain": [
       "True"
      ]
     },
     "execution_count": 105,
     "metadata": {},
     "output_type": "execute_result"
    }
   ],
   "source": [
    "from dotenv import load_dotenv\n",
    "\n",
    "load_dotenv()"
   ]
  },
  {
   "cell_type": "code",
   "execution_count": null,
   "id": "e8b3823a",
   "metadata": {},
   "outputs": [],
   "source": []
  },
  {
   "cell_type": "code",
   "execution_count": 5,
   "id": "70533ea0-abd8-493c-82af-96f0dc381cd4",
   "metadata": {},
   "outputs": [
    {
     "data": {
      "text/plain": [
       "1"
      ]
     },
     "execution_count": 5,
     "metadata": {},
     "output_type": "execute_result"
    }
   ],
   "source": [
    "1"
   ]
  },
  {
   "cell_type": "code",
   "execution_count": 6,
   "id": "2e32f56f-2e8a-4522-b8ec-b4d2a314c637",
   "metadata": {},
   "outputs": [
    {
     "name": "stderr",
     "output_type": "stream",
     "text": [
      "967.79s - pydevd: Sending message related to process being replaced timed-out after 5 seconds\n"
     ]
    },
    {
     "name": "stdout",
     "output_type": "stream",
     "text": [
      "README.md                       exact_thresh_by_qid.json\n",
      "data.json                       f1_thresh_by_qid.json\n",
      "data_updated.json               hello.py\n",
      "data_updated_500.json           nb_experiments.ipynb\n",
      "\u001b[34mdb\u001b[m\u001b[m                              pred.json\n",
      "df_questions_all.csv            pred_2.json\n",
      "df_questions_not_impossible.csv pred_500.json\n",
      "eval.json                       pred_500_fixed_no_answer.json\n",
      "eval_2.json                     pyproject.toml\n",
      "eval_500.json                   uv.lock\n",
      "evaluation.py\n"
     ]
    }
   ],
   "source": [
    "!ls"
   ]
  },
  {
   "cell_type": "code",
   "execution_count": 7,
   "id": "f49d8df1-cea0-410b-9c27-985406ea208b",
   "metadata": {},
   "outputs": [],
   "source": [
    "filename = \"data.json\"\n",
    "with open(filename, \"rb\") as f:\n",
    "    dataset = json.load(f)"
   ]
  },
  {
   "cell_type": "code",
   "execution_count": 8,
   "id": "21964f98-628d-4fe2-8a30-80a0ca1ec3b2",
   "metadata": {},
   "outputs": [
    {
     "data": {
      "text/plain": [
       "dict_keys(['version', 'data'])"
      ]
     },
     "execution_count": 8,
     "metadata": {},
     "output_type": "execute_result"
    }
   ],
   "source": [
    "dataset.keys()"
   ]
  },
  {
   "cell_type": "code",
   "execution_count": 9,
   "id": "e146fafc-0fab-4ae6-9d7f-d2429b9e94ab",
   "metadata": {},
   "outputs": [
    {
     "data": {
      "text/plain": [
       "'v2.0'"
      ]
     },
     "execution_count": 9,
     "metadata": {},
     "output_type": "execute_result"
    }
   ],
   "source": [
    "dataset[\"version\"]"
   ]
  },
  {
   "cell_type": "code",
   "execution_count": 10,
   "id": "220f1d2e-e47c-48e3-bd3a-98b9b86a2a94",
   "metadata": {},
   "outputs": [
    {
     "data": {
      "text/plain": [
       "35"
      ]
     },
     "execution_count": 10,
     "metadata": {},
     "output_type": "execute_result"
    }
   ],
   "source": [
    "len(dataset[\"data\"])"
   ]
  },
  {
   "cell_type": "code",
   "execution_count": 11,
   "id": "b2abab09-0a62-435f-b0c6-a751e3f5eb69",
   "metadata": {},
   "outputs": [],
   "source": [
    "data = dataset[\"data\"]"
   ]
  },
  {
   "cell_type": "code",
   "execution_count": 12,
   "id": "75e91e24-5ece-4ac9-b2a5-b59ca2fbeb37",
   "metadata": {},
   "outputs": [
    {
     "data": {
      "text/plain": [
       "list"
      ]
     },
     "execution_count": 12,
     "metadata": {},
     "output_type": "execute_result"
    }
   ],
   "source": [
    "type(data)"
   ]
  },
  {
   "cell_type": "code",
   "execution_count": 13,
   "id": "5b2498f3-933e-4083-9fe3-e34e2a079400",
   "metadata": {},
   "outputs": [
    {
     "data": {
      "text/plain": [
       "{'qas': [{'question': 'In what country is Normandy located?',\n",
       "   'id': '56ddde6b9a695914005b9628',\n",
       "   'answers': [{'text': 'France', 'answer_start': 159},\n",
       "    {'text': 'France', 'answer_start': 159},\n",
       "    {'text': 'France', 'answer_start': 159},\n",
       "    {'text': 'France', 'answer_start': 159}],\n",
       "   'is_impossible': False},\n",
       "  {'question': 'When were the Normans in Normandy?',\n",
       "   'id': '56ddde6b9a695914005b9629',\n",
       "   'answers': [{'text': '10th and 11th centuries', 'answer_start': 94},\n",
       "    {'text': 'in the 10th and 11th centuries', 'answer_start': 87},\n",
       "    {'text': '10th and 11th centuries', 'answer_start': 94},\n",
       "    {'text': '10th and 11th centuries', 'answer_start': 94}],\n",
       "   'is_impossible': False},\n",
       "  {'question': 'From which countries did the Norse originate?',\n",
       "   'id': '56ddde6b9a695914005b962a',\n",
       "   'answers': [{'text': 'Denmark, Iceland and Norway', 'answer_start': 256},\n",
       "    {'text': 'Denmark, Iceland and Norway', 'answer_start': 256},\n",
       "    {'text': 'Denmark, Iceland and Norway', 'answer_start': 256},\n",
       "    {'text': 'Denmark, Iceland and Norway', 'answer_start': 256}],\n",
       "   'is_impossible': False},\n",
       "  {'question': 'Who was the Norse leader?',\n",
       "   'id': '56ddde6b9a695914005b962b',\n",
       "   'answers': [{'text': 'Rollo', 'answer_start': 308},\n",
       "    {'text': 'Rollo', 'answer_start': 308},\n",
       "    {'text': 'Rollo', 'answer_start': 308},\n",
       "    {'text': 'Rollo', 'answer_start': 308}],\n",
       "   'is_impossible': False},\n",
       "  {'question': 'What century did the Normans first gain their separate identity?',\n",
       "   'id': '56ddde6b9a695914005b962c',\n",
       "   'answers': [{'text': '10th century', 'answer_start': 671},\n",
       "    {'text': 'the first half of the 10th century', 'answer_start': 649},\n",
       "    {'text': '10th', 'answer_start': 671},\n",
       "    {'text': '10th', 'answer_start': 671}],\n",
       "   'is_impossible': False},\n",
       "  {'plausible_answers': [{'text': 'Normans', 'answer_start': 4}],\n",
       "   'question': \"Who gave their name to Normandy in the 1000's and 1100's\",\n",
       "   'id': '5ad39d53604f3c001a3fe8d1',\n",
       "   'answers': [],\n",
       "   'is_impossible': True},\n",
       "  {'plausible_answers': [{'text': 'Normandy', 'answer_start': 137}],\n",
       "   'question': 'What is France a region of?',\n",
       "   'id': '5ad39d53604f3c001a3fe8d2',\n",
       "   'answers': [],\n",
       "   'is_impossible': True},\n",
       "  {'plausible_answers': [{'text': 'Rollo', 'answer_start': 308}],\n",
       "   'question': 'Who did King Charles III swear fealty to?',\n",
       "   'id': '5ad39d53604f3c001a3fe8d3',\n",
       "   'answers': [],\n",
       "   'is_impossible': True},\n",
       "  {'plausible_answers': [{'text': '10th century', 'answer_start': 671}],\n",
       "   'question': 'When did the Frankish identity emerge?',\n",
       "   'id': '5ad39d53604f3c001a3fe8d4',\n",
       "   'answers': [],\n",
       "   'is_impossible': True}],\n",
       " 'context': 'The Normans (Norman: Nourmands; French: Normands; Latin: Normanni) were the people who in the 10th and 11th centuries gave their name to Normandy, a region in France. They were descended from Norse (\"Norman\" comes from \"Norseman\") raiders and pirates from Denmark, Iceland and Norway who, under their leader Rollo, agreed to swear fealty to King Charles III of West Francia. Through generations of assimilation and mixing with the native Frankish and Roman-Gaulish populations, their descendants would gradually merge with the Carolingian-based cultures of West Francia. The distinct cultural and ethnic identity of the Normans emerged initially in the first half of the 10th century, and it continued to evolve over the succeeding centuries.'}"
      ]
     },
     "execution_count": 13,
     "metadata": {},
     "output_type": "execute_result"
    }
   ],
   "source": [
    "data[0][\"paragraphs\"][0]"
   ]
  },
  {
   "cell_type": "markdown",
   "id": "d485880b-29c3-4ade-be1b-1ed276f8cd71",
   "metadata": {},
   "source": [
    "#Json structure:\n",
    "data = {\"version\": \"x\", \n",
    "         \"data\": [{\"title\": \"...\", \n",
    "                   \"paragraphs\": [\n",
    "                       \"qas\": [{\"question\": \"...\", \n",
    "                                \"id\": \"\", \n",
    "                                \"answers\"}], # note in case of is_impossible = True, we have plausible answers?\n",
    "                       \"is_impossible\": True, \n",
    "                       \"context\": \"...\"\n",
    "                   ]}] \n",
    "   }"
   ]
  },
  {
   "cell_type": "code",
   "execution_count": 14,
   "id": "25033c3b-e40e-40f5-9956-690b4e6cfbc1",
   "metadata": {},
   "outputs": [],
   "source": [
    "df_all_data = pd.DataFrame()\n",
    "\n",
    "for list_idx, list_item in enumerate(data):\n",
    "    title = list_item[\"title\"]\n",
    "    #print(title)\n",
    "    \n",
    "    paragraphs = list_item[\"paragraphs\"]\n",
    "    \n",
    "    #print(paragraphs)\n",
    "    \n",
    "    for p_idx, paragraph in enumerate(paragraphs):\n",
    "        paragraph_res = []\n",
    "        \n",
    "        context = paragraph[\"context\"]\n",
    "\n",
    "        for q_idx, qas in enumerate(paragraph[\"qas\"]):\n",
    "            question = qas[\"question\"]\n",
    "            is_impossible = qas[\"is_impossible\"]\n",
    "            answers = qas[\"answers\"]\n",
    "            question_id = qas[\"id\"]\n",
    "            \n",
    "            # TODO: add plausible answers\n",
    "            res = {\"question\": question, \n",
    "                   \"list_idx\": list_idx,\n",
    "                   \"paragraph_idx\": p_idx,\n",
    "                   \"question_idx\": q_idx,\n",
    "                   \"id\": question_id, \n",
    "                   \"is_impossible\": is_impossible,\n",
    "                   \"answer_0\": np.nan,\n",
    "                   \"answer_1\": np.nan,\n",
    "                   \"answer_2\": np.nan,\n",
    "                   \"answer_3\": np.nan\n",
    "            }\n",
    "            \n",
    "            if len(answers) > 0: \n",
    "                for idx, answer in enumerate(answers): \n",
    "                    #print(idx)\n",
    "                    res[f\"answer_{idx}\"] = answer[\"text\"]\n",
    "                \n",
    "            paragraph_res.append(res)\n",
    "\n",
    "        paragraph_df = pd.DataFrame(paragraph_res)\n",
    "        paragraph_df[\"context\"] = context\n",
    "        paragraph_df[\"title\"] = title\n",
    "        \n",
    "        df_all_data = pd.concat([df_all_data, paragraph_df], ignore_index=True)\n",
    "    "
   ]
  },
  {
   "cell_type": "code",
   "execution_count": null,
   "id": "a2501fe3",
   "metadata": {},
   "outputs": [],
   "source": []
  },
  {
   "cell_type": "code",
   "execution_count": null,
   "id": "266d9873",
   "metadata": {},
   "outputs": [],
   "source": []
  },
  {
   "cell_type": "code",
   "execution_count": 15,
   "id": "0f314101-0036-4f95-bed8-30477d7f2fb8",
   "metadata": {},
   "outputs": [
    {
     "data": {
      "text/html": [
       "<div>\n",
       "<style scoped>\n",
       "    .dataframe tbody tr th:only-of-type {\n",
       "        vertical-align: middle;\n",
       "    }\n",
       "\n",
       "    .dataframe tbody tr th {\n",
       "        vertical-align: top;\n",
       "    }\n",
       "\n",
       "    .dataframe thead th {\n",
       "        text-align: right;\n",
       "    }\n",
       "</style>\n",
       "<table border=\"1\" class=\"dataframe\">\n",
       "  <thead>\n",
       "    <tr style=\"text-align: right;\">\n",
       "      <th></th>\n",
       "      <th>question</th>\n",
       "      <th>list_idx</th>\n",
       "      <th>paragraph_idx</th>\n",
       "      <th>question_idx</th>\n",
       "      <th>id</th>\n",
       "      <th>is_impossible</th>\n",
       "      <th>answer_0</th>\n",
       "      <th>answer_1</th>\n",
       "      <th>answer_2</th>\n",
       "      <th>answer_3</th>\n",
       "      <th>context</th>\n",
       "      <th>title</th>\n",
       "      <th>answer_4</th>\n",
       "      <th>answer_5</th>\n",
       "    </tr>\n",
       "  </thead>\n",
       "  <tbody>\n",
       "    <tr>\n",
       "      <th>0</th>\n",
       "      <td>In what country is Normandy located?</td>\n",
       "      <td>0</td>\n",
       "      <td>0</td>\n",
       "      <td>0</td>\n",
       "      <td>56ddde6b9a695914005b9628</td>\n",
       "      <td>False</td>\n",
       "      <td>France</td>\n",
       "      <td>France</td>\n",
       "      <td>France</td>\n",
       "      <td>France</td>\n",
       "      <td>The Normans (Norman: Nourmands; French: Norman...</td>\n",
       "      <td>Normans</td>\n",
       "      <td>NaN</td>\n",
       "      <td>NaN</td>\n",
       "    </tr>\n",
       "    <tr>\n",
       "      <th>1</th>\n",
       "      <td>When were the Normans in Normandy?</td>\n",
       "      <td>0</td>\n",
       "      <td>0</td>\n",
       "      <td>1</td>\n",
       "      <td>56ddde6b9a695914005b9629</td>\n",
       "      <td>False</td>\n",
       "      <td>10th and 11th centuries</td>\n",
       "      <td>in the 10th and 11th centuries</td>\n",
       "      <td>10th and 11th centuries</td>\n",
       "      <td>10th and 11th centuries</td>\n",
       "      <td>The Normans (Norman: Nourmands; French: Norman...</td>\n",
       "      <td>Normans</td>\n",
       "      <td>NaN</td>\n",
       "      <td>NaN</td>\n",
       "    </tr>\n",
       "    <tr>\n",
       "      <th>2</th>\n",
       "      <td>From which countries did the Norse originate?</td>\n",
       "      <td>0</td>\n",
       "      <td>0</td>\n",
       "      <td>2</td>\n",
       "      <td>56ddde6b9a695914005b962a</td>\n",
       "      <td>False</td>\n",
       "      <td>Denmark, Iceland and Norway</td>\n",
       "      <td>Denmark, Iceland and Norway</td>\n",
       "      <td>Denmark, Iceland and Norway</td>\n",
       "      <td>Denmark, Iceland and Norway</td>\n",
       "      <td>The Normans (Norman: Nourmands; French: Norman...</td>\n",
       "      <td>Normans</td>\n",
       "      <td>NaN</td>\n",
       "      <td>NaN</td>\n",
       "    </tr>\n",
       "    <tr>\n",
       "      <th>3</th>\n",
       "      <td>Who was the Norse leader?</td>\n",
       "      <td>0</td>\n",
       "      <td>0</td>\n",
       "      <td>3</td>\n",
       "      <td>56ddde6b9a695914005b962b</td>\n",
       "      <td>False</td>\n",
       "      <td>Rollo</td>\n",
       "      <td>Rollo</td>\n",
       "      <td>Rollo</td>\n",
       "      <td>Rollo</td>\n",
       "      <td>The Normans (Norman: Nourmands; French: Norman...</td>\n",
       "      <td>Normans</td>\n",
       "      <td>NaN</td>\n",
       "      <td>NaN</td>\n",
       "    </tr>\n",
       "    <tr>\n",
       "      <th>4</th>\n",
       "      <td>What century did the Normans first gain their ...</td>\n",
       "      <td>0</td>\n",
       "      <td>0</td>\n",
       "      <td>4</td>\n",
       "      <td>56ddde6b9a695914005b962c</td>\n",
       "      <td>False</td>\n",
       "      <td>10th century</td>\n",
       "      <td>the first half of the 10th century</td>\n",
       "      <td>10th</td>\n",
       "      <td>10th</td>\n",
       "      <td>The Normans (Norman: Nourmands; French: Norman...</td>\n",
       "      <td>Normans</td>\n",
       "      <td>NaN</td>\n",
       "      <td>NaN</td>\n",
       "    </tr>\n",
       "  </tbody>\n",
       "</table>\n",
       "</div>"
      ],
      "text/plain": [
       "                                            question  list_idx  paragraph_idx  \\\n",
       "0               In what country is Normandy located?         0              0   \n",
       "1                 When were the Normans in Normandy?         0              0   \n",
       "2      From which countries did the Norse originate?         0              0   \n",
       "3                          Who was the Norse leader?         0              0   \n",
       "4  What century did the Normans first gain their ...         0              0   \n",
       "\n",
       "   question_idx                        id  is_impossible  \\\n",
       "0             0  56ddde6b9a695914005b9628          False   \n",
       "1             1  56ddde6b9a695914005b9629          False   \n",
       "2             2  56ddde6b9a695914005b962a          False   \n",
       "3             3  56ddde6b9a695914005b962b          False   \n",
       "4             4  56ddde6b9a695914005b962c          False   \n",
       "\n",
       "                      answer_0                            answer_1  \\\n",
       "0                       France                              France   \n",
       "1      10th and 11th centuries      in the 10th and 11th centuries   \n",
       "2  Denmark, Iceland and Norway         Denmark, Iceland and Norway   \n",
       "3                        Rollo                               Rollo   \n",
       "4                 10th century  the first half of the 10th century   \n",
       "\n",
       "                      answer_2                     answer_3  \\\n",
       "0                       France                       France   \n",
       "1      10th and 11th centuries      10th and 11th centuries   \n",
       "2  Denmark, Iceland and Norway  Denmark, Iceland and Norway   \n",
       "3                        Rollo                        Rollo   \n",
       "4                         10th                         10th   \n",
       "\n",
       "                                             context    title answer_4  \\\n",
       "0  The Normans (Norman: Nourmands; French: Norman...  Normans      NaN   \n",
       "1  The Normans (Norman: Nourmands; French: Norman...  Normans      NaN   \n",
       "2  The Normans (Norman: Nourmands; French: Norman...  Normans      NaN   \n",
       "3  The Normans (Norman: Nourmands; French: Norman...  Normans      NaN   \n",
       "4  The Normans (Norman: Nourmands; French: Norman...  Normans      NaN   \n",
       "\n",
       "  answer_5  \n",
       "0      NaN  \n",
       "1      NaN  \n",
       "2      NaN  \n",
       "3      NaN  \n",
       "4      NaN  "
      ]
     },
     "execution_count": 15,
     "metadata": {},
     "output_type": "execute_result"
    }
   ],
   "source": [
    "df_all_data.head()"
   ]
  },
  {
   "cell_type": "code",
   "execution_count": 16,
   "id": "87c5c7f9-f334-4772-b181-85e4616aa0fe",
   "metadata": {},
   "outputs": [
    {
     "data": {
      "text/plain": [
       "(11873, 14)"
      ]
     },
     "execution_count": 16,
     "metadata": {},
     "output_type": "execute_result"
    }
   ],
   "source": [
    "df_all_data.shape"
   ]
  },
  {
   "cell_type": "code",
   "execution_count": 17,
   "id": "ee901ba8-fd73-4f41-824e-56f959055aa2",
   "metadata": {},
   "outputs": [
    {
     "data": {
      "text/plain": [
       "35"
      ]
     },
     "execution_count": 17,
     "metadata": {},
     "output_type": "execute_result"
    }
   ],
   "source": [
    "len(df_all_data.title.unique())"
   ]
  },
  {
   "cell_type": "code",
   "execution_count": 18,
   "id": "53b7f5b5-9d7f-452f-bf7e-09a5b59498ac",
   "metadata": {},
   "outputs": [
    {
     "data": {
      "text/plain": [
       "1204"
      ]
     },
     "execution_count": 18,
     "metadata": {},
     "output_type": "execute_result"
    }
   ],
   "source": [
    "len(df_all_data.context.unique())"
   ]
  },
  {
   "cell_type": "code",
   "execution_count": 19,
   "id": "a130f4cc-0e5f-4396-9834-169d54c6b10b",
   "metadata": {},
   "outputs": [
    {
     "data": {
      "text/plain": [
       "is_impossible\n",
       "True     5945\n",
       "False    5928\n",
       "Name: count, dtype: int64"
      ]
     },
     "execution_count": 19,
     "metadata": {},
     "output_type": "execute_result"
    }
   ],
   "source": [
    "df_all_data.is_impossible.value_counts()"
   ]
  },
  {
   "cell_type": "code",
   "execution_count": null,
   "id": "2c2a5730-453f-403d-bf0e-fe4469e82a32",
   "metadata": {},
   "outputs": [],
   "source": []
  },
  {
   "cell_type": "code",
   "execution_count": 20,
   "id": "c2b50ea3-1e48-4764-a0fb-9a58400461ae",
   "metadata": {},
   "outputs": [],
   "source": [
    "# focus on the possible ones for now "
   ]
  },
  {
   "cell_type": "code",
   "execution_count": 21,
   "id": "5771778e-ae9e-49b4-9216-658bdefc8db8",
   "metadata": {},
   "outputs": [
    {
     "name": "stdout",
     "output_type": "stream",
     "text": [
      "(11873, 14)\n"
     ]
    }
   ],
   "source": [
    "df_selected = df_all_data.copy()#df_all_data[~df_all_data.is_impossible].copy()\n",
    "\n",
    "print(df_selected.shape)"
   ]
  },
  {
   "cell_type": "code",
   "execution_count": null,
   "id": "ff3fb688",
   "metadata": {},
   "outputs": [],
   "source": []
  },
  {
   "cell_type": "code",
   "execution_count": 22,
   "id": "81f2eebd-70b9-4118-b691-0c6c96e72a95",
   "metadata": {},
   "outputs": [],
   "source": [
    "# some rough statistics for the context length \n",
    "df_selected.loc[:, \"context_chars\"] = df_selected[\"context\"].apply(lambda x: len(x))\n",
    "df_selected.loc[:, \"context_words\"] = df_selected.loc[:, \"context\"].apply(lambda x: len(x.split(\" \")))"
   ]
  },
  {
   "cell_type": "code",
   "execution_count": null,
   "id": "3d3da6c9",
   "metadata": {},
   "outputs": [],
   "source": []
  },
  {
   "cell_type": "code",
   "execution_count": 23,
   "id": "80f66f8e-3eb9-4943-9b2e-40df68068a8f",
   "metadata": {},
   "outputs": [
    {
     "data": {
      "text/html": [
       "<div>\n",
       "<style scoped>\n",
       "    .dataframe tbody tr th:only-of-type {\n",
       "        vertical-align: middle;\n",
       "    }\n",
       "\n",
       "    .dataframe tbody tr th {\n",
       "        vertical-align: top;\n",
       "    }\n",
       "\n",
       "    .dataframe thead th {\n",
       "        text-align: right;\n",
       "    }\n",
       "</style>\n",
       "<table border=\"1\" class=\"dataframe\">\n",
       "  <thead>\n",
       "    <tr style=\"text-align: right;\">\n",
       "      <th></th>\n",
       "      <th>question</th>\n",
       "      <th>list_idx</th>\n",
       "      <th>paragraph_idx</th>\n",
       "      <th>question_idx</th>\n",
       "      <th>id</th>\n",
       "      <th>is_impossible</th>\n",
       "      <th>answer_0</th>\n",
       "      <th>answer_1</th>\n",
       "      <th>answer_2</th>\n",
       "      <th>answer_3</th>\n",
       "      <th>context</th>\n",
       "      <th>title</th>\n",
       "      <th>answer_4</th>\n",
       "      <th>answer_5</th>\n",
       "      <th>context_chars</th>\n",
       "      <th>context_words</th>\n",
       "    </tr>\n",
       "  </thead>\n",
       "  <tbody>\n",
       "    <tr>\n",
       "      <th>0</th>\n",
       "      <td>In what country is Normandy located?</td>\n",
       "      <td>0</td>\n",
       "      <td>0</td>\n",
       "      <td>0</td>\n",
       "      <td>56ddde6b9a695914005b9628</td>\n",
       "      <td>False</td>\n",
       "      <td>France</td>\n",
       "      <td>France</td>\n",
       "      <td>France</td>\n",
       "      <td>France</td>\n",
       "      <td>The Normans (Norman: Nourmands; French: Norman...</td>\n",
       "      <td>Normans</td>\n",
       "      <td>NaN</td>\n",
       "      <td>NaN</td>\n",
       "      <td>742</td>\n",
       "      <td>113</td>\n",
       "    </tr>\n",
       "    <tr>\n",
       "      <th>1</th>\n",
       "      <td>When were the Normans in Normandy?</td>\n",
       "      <td>0</td>\n",
       "      <td>0</td>\n",
       "      <td>1</td>\n",
       "      <td>56ddde6b9a695914005b9629</td>\n",
       "      <td>False</td>\n",
       "      <td>10th and 11th centuries</td>\n",
       "      <td>in the 10th and 11th centuries</td>\n",
       "      <td>10th and 11th centuries</td>\n",
       "      <td>10th and 11th centuries</td>\n",
       "      <td>The Normans (Norman: Nourmands; French: Norman...</td>\n",
       "      <td>Normans</td>\n",
       "      <td>NaN</td>\n",
       "      <td>NaN</td>\n",
       "      <td>742</td>\n",
       "      <td>113</td>\n",
       "    </tr>\n",
       "    <tr>\n",
       "      <th>2</th>\n",
       "      <td>From which countries did the Norse originate?</td>\n",
       "      <td>0</td>\n",
       "      <td>0</td>\n",
       "      <td>2</td>\n",
       "      <td>56ddde6b9a695914005b962a</td>\n",
       "      <td>False</td>\n",
       "      <td>Denmark, Iceland and Norway</td>\n",
       "      <td>Denmark, Iceland and Norway</td>\n",
       "      <td>Denmark, Iceland and Norway</td>\n",
       "      <td>Denmark, Iceland and Norway</td>\n",
       "      <td>The Normans (Norman: Nourmands; French: Norman...</td>\n",
       "      <td>Normans</td>\n",
       "      <td>NaN</td>\n",
       "      <td>NaN</td>\n",
       "      <td>742</td>\n",
       "      <td>113</td>\n",
       "    </tr>\n",
       "    <tr>\n",
       "      <th>3</th>\n",
       "      <td>Who was the Norse leader?</td>\n",
       "      <td>0</td>\n",
       "      <td>0</td>\n",
       "      <td>3</td>\n",
       "      <td>56ddde6b9a695914005b962b</td>\n",
       "      <td>False</td>\n",
       "      <td>Rollo</td>\n",
       "      <td>Rollo</td>\n",
       "      <td>Rollo</td>\n",
       "      <td>Rollo</td>\n",
       "      <td>The Normans (Norman: Nourmands; French: Norman...</td>\n",
       "      <td>Normans</td>\n",
       "      <td>NaN</td>\n",
       "      <td>NaN</td>\n",
       "      <td>742</td>\n",
       "      <td>113</td>\n",
       "    </tr>\n",
       "    <tr>\n",
       "      <th>4</th>\n",
       "      <td>What century did the Normans first gain their ...</td>\n",
       "      <td>0</td>\n",
       "      <td>0</td>\n",
       "      <td>4</td>\n",
       "      <td>56ddde6b9a695914005b962c</td>\n",
       "      <td>False</td>\n",
       "      <td>10th century</td>\n",
       "      <td>the first half of the 10th century</td>\n",
       "      <td>10th</td>\n",
       "      <td>10th</td>\n",
       "      <td>The Normans (Norman: Nourmands; French: Norman...</td>\n",
       "      <td>Normans</td>\n",
       "      <td>NaN</td>\n",
       "      <td>NaN</td>\n",
       "      <td>742</td>\n",
       "      <td>113</td>\n",
       "    </tr>\n",
       "  </tbody>\n",
       "</table>\n",
       "</div>"
      ],
      "text/plain": [
       "                                            question  list_idx  paragraph_idx  \\\n",
       "0               In what country is Normandy located?         0              0   \n",
       "1                 When were the Normans in Normandy?         0              0   \n",
       "2      From which countries did the Norse originate?         0              0   \n",
       "3                          Who was the Norse leader?         0              0   \n",
       "4  What century did the Normans first gain their ...         0              0   \n",
       "\n",
       "   question_idx                        id  is_impossible  \\\n",
       "0             0  56ddde6b9a695914005b9628          False   \n",
       "1             1  56ddde6b9a695914005b9629          False   \n",
       "2             2  56ddde6b9a695914005b962a          False   \n",
       "3             3  56ddde6b9a695914005b962b          False   \n",
       "4             4  56ddde6b9a695914005b962c          False   \n",
       "\n",
       "                      answer_0                            answer_1  \\\n",
       "0                       France                              France   \n",
       "1      10th and 11th centuries      in the 10th and 11th centuries   \n",
       "2  Denmark, Iceland and Norway         Denmark, Iceland and Norway   \n",
       "3                        Rollo                               Rollo   \n",
       "4                 10th century  the first half of the 10th century   \n",
       "\n",
       "                      answer_2                     answer_3  \\\n",
       "0                       France                       France   \n",
       "1      10th and 11th centuries      10th and 11th centuries   \n",
       "2  Denmark, Iceland and Norway  Denmark, Iceland and Norway   \n",
       "3                        Rollo                        Rollo   \n",
       "4                         10th                         10th   \n",
       "\n",
       "                                             context    title answer_4  \\\n",
       "0  The Normans (Norman: Nourmands; French: Norman...  Normans      NaN   \n",
       "1  The Normans (Norman: Nourmands; French: Norman...  Normans      NaN   \n",
       "2  The Normans (Norman: Nourmands; French: Norman...  Normans      NaN   \n",
       "3  The Normans (Norman: Nourmands; French: Norman...  Normans      NaN   \n",
       "4  The Normans (Norman: Nourmands; French: Norman...  Normans      NaN   \n",
       "\n",
       "  answer_5  context_chars  context_words  \n",
       "0      NaN            742            113  \n",
       "1      NaN            742            113  \n",
       "2      NaN            742            113  \n",
       "3      NaN            742            113  \n",
       "4      NaN            742            113  "
      ]
     },
     "execution_count": 23,
     "metadata": {},
     "output_type": "execute_result"
    }
   ],
   "source": [
    "df_selected.head()"
   ]
  },
  {
   "cell_type": "code",
   "execution_count": null,
   "id": "9f891a6c",
   "metadata": {},
   "outputs": [],
   "source": []
  },
  {
   "cell_type": "code",
   "execution_count": null,
   "id": "449ea126-bcde-4faf-914d-15cfe7e4c9bc",
   "metadata": {},
   "outputs": [],
   "source": []
  },
  {
   "cell_type": "code",
   "execution_count": 24,
   "id": "f8cab993-b3ab-4947-acb5-016382d1321b",
   "metadata": {},
   "outputs": [
    {
     "data": {
      "text/plain": [
       "<Axes: xlabel='context_chars', ylabel='Count'>"
      ]
     },
     "execution_count": 24,
     "metadata": {},
     "output_type": "execute_result"
    },
    {
     "data": {
      "image/png": "[encoded data removed]",
      "text/plain": [
       "<Figure size 800x500 with 1 Axes>"
      ]
     },
     "metadata": {},
     "output_type": "display_data"
    }
   ],
   "source": [
    "plt.figure(figsize=[8, 5])\n",
    "sns.histplot(df_selected.drop_duplicates(subset=\"context\")[\"context_chars\"])"
   ]
  },
  {
   "cell_type": "code",
   "execution_count": null,
   "id": "f09f3ebd",
   "metadata": {},
   "outputs": [],
   "source": []
  },
  {
   "cell_type": "code",
   "execution_count": null,
   "id": "5918b1ba-3809-459b-820c-7a7bd3596f38",
   "metadata": {},
   "outputs": [],
   "source": []
  },
  {
   "cell_type": "code",
   "execution_count": 25,
   "id": "6cfb1095-e0d8-4f06-b203-08ff1689aeaa",
   "metadata": {},
   "outputs": [
    {
     "data": {
      "text/plain": [
       "<Axes: xlabel='context_words', ylabel='Count'>"
      ]
     },
     "execution_count": 25,
     "metadata": {},
     "output_type": "execute_result"
    },
    {
     "data": {
      "image/png": "[encoded data removed]",
      "text/plain": [
       "<Figure size 800x500 with 1 Axes>"
      ]
     },
     "metadata": {},
     "output_type": "display_data"
    }
   ],
   "source": [
    "plt.figure(figsize=[8, 5])\n",
    "sns.histplot(df_selected.drop_duplicates(subset=\"context\")[\"context_words\"])"
   ]
  },
  {
   "cell_type": "code",
   "execution_count": null,
   "id": "db54ef0a",
   "metadata": {},
   "outputs": [],
   "source": []
  },
  {
   "cell_type": "code",
   "execution_count": null,
   "id": "dea01b17-65ab-43ea-9db3-06b25fc1013a",
   "metadata": {},
   "outputs": [],
   "source": [
    "df_all_data.to_csv(\"df_questions_all.csv\", index=False)"
   ]
  },
  {
   "cell_type": "code",
   "execution_count": null,
   "id": "eab8ded3-659e-4ba5-b7bf-505c37a2b424",
   "metadata": {},
   "outputs": [],
   "source": [
    "df_selected.to_csv(\"df_questions_not_impossible.csv\", index=False)"
   ]
  },
  {
   "cell_type": "markdown",
   "id": "ef7c8057-750e-44d6-81c8-d8ad6717b311",
   "metadata": {},
   "source": [
    "# Build the RAG architecture"
   ]
  },
  {
   "cell_type": "markdown",
   "id": "8caf8664-3381-4701-b297-bbcfa5176872",
   "metadata": {},
   "source": [
    "Steps:\n",
    "\n",
    "**Data Indexing**\n",
    "\n",
    "Converting text data into a searchable database of vector embeddings, which represent the meaning of the text in a format that computers can easily understand.\n",
    "- **Documents Chunking**: The collection of documents is split into smaller chunks of text. This allows for more precise and relevant pieces of information to be fed into the language model when needed, avoiding information overload.\n",
    "- **Vector Embeddings**: The chunks of text are then transformed into vector embeddings. These embeddings encode the meaning of natural language text into numerical representations.\n",
    "- **Vector Database**: Finally, the vector embeddings are stored in a vector database, making them easily searchable.\n",
    "\n",
    "**Documents -> Text chunks -> Vector Embeddings -> Vector DB**\n",
    "\n",
    "**Load -> Split -> Embed -> Store**"
   ]
  },
  {
   "cell_type": "code",
   "execution_count": 26,
   "id": "a177143c-984b-4c30-89ae-a85f5d840e1b",
   "metadata": {},
   "outputs": [],
   "source": [
    "from typing import Optional, List, Tuple\n",
    "from langchain.docstore.document import Document as LangchainDocument\n",
    "from langchain.text_splitter import RecursiveCharacterTextSplitter"
   ]
  },
  {
   "cell_type": "code",
   "execution_count": 27,
   "id": "957f241f-d54c-452e-94ad-cfcc8a81a836",
   "metadata": {},
   "outputs": [
    {
     "name": "stdout",
     "output_type": "stream",
     "text": [
      "The Normans (Norman: Nourmands; French: Normands; Latin: Normanni) were the people who in the 10th and 11th centuries gave their name to Normandy, a region in France. They were descended from Norse (\"Norman\" comes from \"Norseman\") raiders and pirates from Denmark, Iceland and Norway who, under their leader Rollo, agreed to swear fealty to King Charles III of West Francia. Through generations of assimilation and mixing with the native Frankish and Roman-Gaulish populations, their descendants would gradually merge with the Carolingian-based cultures of West Francia. The distinct cultural and ethnic identity of the Normans emerged initially in the first half of the 10th century, and it continued to evolve over the succeeding centuries.\n",
      "Normans\n"
     ]
    }
   ],
   "source": [
    "langchain_docs = []\n",
    "\n",
    "for i, row in df_selected.drop_duplicates(subset=\"context\").iterrows():\n",
    "    context = row.context\n",
    "    title = row.title\n",
    "    if i == 0:\n",
    "        print(context)\n",
    "        print(title)\n",
    "    document = LangchainDocument(\n",
    "        page_content=context,\n",
    "        metadata={\"title\": title})\n",
    "\n",
    "    langchain_docs.append(document)"
   ]
  },
  {
   "cell_type": "code",
   "execution_count": 28,
   "id": "46d8e92a-9322-4359-b18b-f4217fb78003",
   "metadata": {},
   "outputs": [
    {
     "data": {
      "text/plain": [
       "1204"
      ]
     },
     "execution_count": 28,
     "metadata": {},
     "output_type": "execute_result"
    }
   ],
   "source": [
    "len(langchain_docs)"
   ]
  },
  {
   "cell_type": "code",
   "execution_count": null,
   "id": "b62af41b-b25b-4374-aa75-870aa9219636",
   "metadata": {},
   "outputs": [
    {
     "data": {
      "text/plain": [
       "Document(metadata={'title': 'Normans'}, page_content='The Normans (Norman: Nourmands; French: Normands; Latin: Normanni) were the people who in the 10th and 11th centuries gave their name to Normandy, a region in France. They were descended from Norse (\"Norman\" comes from \"Norseman\") raiders and pirates from Denmark, Iceland and Norway who, under their leader Rollo, agreed to swear fealty to King Charles III of West Francia. Through generations of assimilation and mixing with the native Frankish and Roman-Gaulish populations, their descendants would gradually merge with the Carolingian-based cultures of West Francia. The distinct cultural and ethnic identity of the Normans emerged initially in the first half of the 10th century, and it continued to evolve over the succeeding centuries.')"
      ]
     },
     "execution_count": 29,
     "metadata": {},
     "output_type": "execute_result"
    }
   ],
   "source": [
    "langchain_docs[0]"
   ]
  },
  {
   "cell_type": "code",
   "execution_count": null,
   "id": "dac85ace-5d15-4ea3-b3e7-0789ac155f7f",
   "metadata": {},
   "outputs": [
    {
     "data": {
      "text/plain": [
       "Document(metadata={'title': 'Normans'}, page_content='The Norman dynasty had a major political, cultural and military impact on medieval Europe and even the Near East. The Normans were famed for their martial spirit and eventually for their Christian piety, becoming exponents of the Catholic orthodoxy into which they assimilated. They adopted the Gallo-Romance language of the Frankish land they settled, their dialect becoming known as Norman, Normaund or Norman French, an important literary language. The Duchy of Normandy, which they formed by treaty with the French crown, was a great fief of medieval France, and under Richard I of Normandy was forged into a cohesive and formidable principality in feudal tenure. The Normans are noted both for their culture, such as their unique Romanesque architecture and musical traditions, and for their significant military accomplishments and innovations. Norman adventurers founded the Kingdom of Sicily under Roger II after conquering southern Italy on the Saracens and Byzantines, and an expedition on behalf of their duke, William the Conqueror, led to the Norman conquest of England at the Battle of Hastings in 1066. Norman cultural and military influence spread from these new European centres to the Crusader states of the Near East, where their prince Bohemond I founded the Principality of Antioch in the Levant, to Scotland and Wales in Great Britain, to Ireland, and to the coasts of north Africa and the Canary Islands.')"
      ]
     },
     "execution_count": 30,
     "metadata": {},
     "output_type": "execute_result"
    }
   ],
   "source": [
    "langchain_docs[1]"
   ]
  },
  {
   "cell_type": "markdown",
   "id": "b4d6909e-58ce-46df-8b68-1c2c5c34c0bf",
   "metadata": {},
   "source": [
    "### Chunking"
   ]
  },
  {
   "cell_type": "code",
   "execution_count": 86,
   "id": "73993038-817b-408b-9141-688c8c59f5d0",
   "metadata": {},
   "outputs": [],
   "source": [
    "def split_documents(\n",
    "    chunk_size: int,\n",
    "    knowledge_base: List[LangchainDocument],\n",
    "    #tokenizer_name: str,\n",
    "    ) -> List[LangchainDocument]:\n",
    "\n",
    "    text_splitter = RecursiveCharacterTextSplitter(\n",
    "        chunk_size=chunk_size,\n",
    "        chunk_overlap=int(chunk_size / 15),\n",
    "        add_start_index=True,\n",
    "        separators=[\"\\n\\n\", \"\\n\", \".\", \" \", \"\"],\n",
    "    )\n",
    "    \n",
    "    docs_processed = []\n",
    "    \n",
    "    for doc in knowledge_base:\n",
    "        docs_processed += text_splitter.split_documents([doc])\n",
    "\n",
    "    \"\"\"\n",
    "    # Remove duplicates\n",
    "    unique_texts = {}\n",
    "    docs_processed_unique = []\n",
    "    for doc in docs_processed:\n",
    "        if doc.page_content not in unique_texts:\n",
    "            unique_texts[doc.page_content] = True\n",
    "            docs_processed_unique.append(doc)\"\"\"\n",
    "\n",
    "    return docs_processed "
   ]
  },
  {
   "cell_type": "code",
   "execution_count": 71,
   "id": "b3a2da0f-13c8-4c42-8099-da9b490cfd3b",
   "metadata": {},
   "outputs": [],
   "source": [
    "docs_processed = split_documents(200, langchain_docs)"
   ]
  },
  {
   "cell_type": "code",
   "execution_count": 85,
   "id": "5991ef72",
   "metadata": {},
   "outputs": [
    {
     "name": "stdout",
     "output_type": "stream",
     "text": [
      ". Norman adventurers founded the Kingdom of Sicily under Roger II after conquering southern Italy on the Saracens and Byzantines, and an expedition on behalf of their duke, William the Conqueror, led\n"
     ]
    }
   ],
   "source": [
    "print(docs_processed[11].page_content)"
   ]
  },
  {
   "cell_type": "code",
   "execution_count": null,
   "id": "8d6260f4",
   "metadata": {},
   "outputs": [],
   "source": []
  },
  {
   "cell_type": "code",
   "execution_count": null,
   "id": "1f462a26",
   "metadata": {},
   "outputs": [],
   "source": []
  },
  {
   "cell_type": "code",
   "execution_count": null,
   "id": "9e99974a",
   "metadata": {},
   "outputs": [],
   "source": []
  },
  {
   "cell_type": "code",
   "execution_count": null,
   "id": "84761aad",
   "metadata": {},
   "outputs": [],
   "source": []
  },
  {
   "cell_type": "code",
   "execution_count": null,
   "id": "5bcf2eec",
   "metadata": {},
   "outputs": [],
   "source": []
  },
  {
   "cell_type": "code",
   "execution_count": null,
   "id": "9d0d103d",
   "metadata": {},
   "outputs": [],
   "source": []
  },
  {
   "cell_type": "code",
   "execution_count": null,
   "id": "ffd44c33",
   "metadata": {},
   "outputs": [],
   "source": []
  },
  {
   "cell_type": "code",
   "execution_count": null,
   "id": "cd86b2f6",
   "metadata": {},
   "outputs": [],
   "source": []
  },
  {
   "cell_type": "code",
   "execution_count": null,
   "id": "f3e5cd1d",
   "metadata": {},
   "outputs": [],
   "source": []
  },
  {
   "cell_type": "code",
   "execution_count": null,
   "id": "50e07154",
   "metadata": {},
   "outputs": [],
   "source": []
  },
  {
   "cell_type": "code",
   "execution_count": null,
   "id": "47d0b032",
   "metadata": {},
   "outputs": [],
   "source": []
  },
  {
   "cell_type": "code",
   "execution_count": null,
   "id": "ea673f15",
   "metadata": {},
   "outputs": [],
   "source": []
  },
  {
   "cell_type": "code",
   "execution_count": null,
   "id": "17d0fa2d",
   "metadata": {},
   "outputs": [],
   "source": [
    "print()"
   ]
  },
  {
   "cell_type": "code",
   "execution_count": null,
   "id": "c0b7249f",
   "metadata": {},
   "outputs": [],
   "source": []
  },
  {
   "cell_type": "code",
   "execution_count": null,
   "id": "f1f88926",
   "metadata": {},
   "outputs": [],
   "source": []
  },
  {
   "cell_type": "markdown",
   "id": "24468688-3d1b-4086-a601-d9fb30c70c84",
   "metadata": {},
   "source": [
    "len(docs_processed)"
   ]
  },
  {
   "cell_type": "markdown",
   "id": "b690ce53-95f5-4af5-9f79-65c997b28fd1",
   "metadata": {},
   "source": [
    "docs_processed[2]"
   ]
  },
  {
   "cell_type": "markdown",
   "id": "2e5df07d-e041-4045-b73c-3844b3d15421",
   "metadata": {},
   "source": [
    "### Embeddings & Vector DB"
   ]
  },
  {
   "cell_type": "code",
   "execution_count": 125,
   "id": "e637a0f6-f204-4c5f-a30b-31f662b16086",
   "metadata": {},
   "outputs": [],
   "source": [
    "def create_vector_store(docs, embeddings, store_name, db_dir, chunk_size=200):\n",
    "    \n",
    "    docs_processed = split_documents(chunk_size, docs)\n",
    "\n",
    "    persistent_directory = os.path.join(db_dir, store_name)\n",
    "    \n",
    "    if not os.path.exists(persistent_directory):\n",
    "        print(f\"\\n--- Creating vector store {store_name} ---\")\n",
    "        Chroma.from_documents(\n",
    "            docs_processed, embeddings, persist_directory=persistent_directory)\n",
    "        print(f\"--- Finished creating vector store {store_name} ---\")\n",
    "    else:\n",
    "        print(\n",
    "            f\"Vector store {store_name} already exists. No need to initialize.\")"
   ]
  },
  {
   "cell_type": "code",
   "execution_count": null,
   "id": "1b933699",
   "metadata": {},
   "outputs": [],
   "source": []
  },
  {
   "cell_type": "code",
   "execution_count": 32,
   "id": "7361942a-4cd4-429f-878d-f36bc846419d",
   "metadata": {},
   "outputs": [],
   "source": [
    "current_dir = !pwd"
   ]
  },
  {
   "cell_type": "code",
   "execution_count": 33,
   "id": "83d6cd95-6f02-405d-9d36-9bbb6649d10a",
   "metadata": {},
   "outputs": [
    {
     "data": {
      "text/plain": [
       "['/Users/mariadancianu/Desktop/Git Projects/SQuAD_RAG_experiments']"
      ]
     },
     "execution_count": 33,
     "metadata": {},
     "output_type": "execute_result"
    }
   ],
   "source": [
    "current_dir"
   ]
  },
  {
   "cell_type": "code",
   "execution_count": null,
   "id": "430c2628-b823-4124-9622-1d6fd8fec1d7",
   "metadata": {},
   "outputs": [],
   "source": []
  },
  {
   "cell_type": "code",
   "execution_count": 35,
   "id": "82d3d18a-eb48-4f53-af4a-4af9dda06724",
   "metadata": {},
   "outputs": [],
   "source": [
    "from langchain.embeddings import HuggingFaceEmbeddings\n",
    "from langchain_community.vectorstores import Chroma\n",
    "from langchain_openai import OpenAIEmbeddings"
   ]
  },
  {
   "cell_type": "code",
   "execution_count": null,
   "id": "fb7b9d53-1b1e-4c4b-9c44-47ebfad42db6",
   "metadata": {},
   "outputs": [
    {
     "name": "stdout",
     "output_type": "stream",
     "text": [
      "Vector store chroma_db_openai already exists. No need to initialize.\n"
     ]
    }
   ],
   "source": [
    "openai_embeddings = OpenAIEmbeddings(model=\"text-embedding-ada-002\", openai_api_key=\"\")\n",
    "\n",
    "\n",
    "create_vector_store(langchain_docs, openai_embeddings, \"chroma_db_openai\", db_dir, chunk_size=200)\n",
    "#create_vector_store(docs_processed, huggingface_embeddings, \"chroma_db_huggingface\", db_dir)"
   ]
  },
  {
   "cell_type": "code",
   "execution_count": 126,
   "id": "602adb96-f357-471e-89c9-ce6eb0c61409",
   "metadata": {},
   "outputs": [],
   "source": [
    "def query_vector_store(store_name, query, embedding_function, db_dir, k=3):\n",
    "    persistent_directory = os.path.join(db_dir, store_name)\n",
    "\n",
    "    relevant_docs = []\n",
    "    \n",
    "    if os.path.exists(persistent_directory):\n",
    "        db = Chroma(\n",
    "            persist_directory=persistent_directory,\n",
    "            embedding_function=embedding_function,\n",
    "        )\n",
    "        retriever = db.as_retriever(\n",
    "            search_type=\"similarity_score_threshold\",\n",
    "            search_kwargs={\"k\": k, \"score_threshold\": 0.1},\n",
    "        )\n",
    "        relevant_docs = retriever.invoke(query)\n",
    "        \n",
    "        # Display the relevant results with metadata\n",
    "        #print(f\"\\n--- Relevant Documents for {store_name} ---\")\n",
    "        #for i, doc in enumerate(relevant_docs, 1):\n",
    "         #   print(f\"Document {i}:\\n{doc.page_content}\\n\")\n",
    "\n",
    "    else:\n",
    "        print(f\"Vector store {store_name} does not exist.\")\n",
    "\n",
    "    return relevant_docs"
   ]
  },
  {
   "cell_type": "code",
   "execution_count": 38,
   "id": "9492a823-ac2f-4e8c-bc3b-26c34880c5bb",
   "metadata": {},
   "outputs": [
    {
     "name": "stderr",
     "output_type": "stream",
     "text": [
      "/var/folders/pc/6l_3sl_n1k55rpgz6bh80h080000gn/T/ipykernel_4727/128558175.py:7: LangChainDeprecationWarning: The class `Chroma` was deprecated in LangChain 0.2.9 and will be removed in 1.0. An updated version of the class exists in the :class:`~langchain-chroma package and should be used instead. To use it run `pip install -U :class:`~langchain-chroma` and import as `from :class:`~langchain_chroma import Chroma``.\n",
      "  db = Chroma(\n"
     ]
    },
    {
     "data": {
      "text/plain": [
       "[Document(metadata={'start_index': 363, 'title': 'Computational_complexity_theory'}, page_content='of the problem, such as asking for a round trip through all sites in Milan whose total length is at most 10 km'),\n",
       " Document(metadata={'start_index': 0, 'title': 'Jacksonville,_Florida'}, page_content='Mean monthly temperatures range from around 53 F in January to 82 F in July. High temperatures average 64 to 92 °F (18 to 33 °C) throughout the year'),\n",
       " Document(metadata={'start_index': 473, 'title': 'Jacksonville,_Florida'}, page_content='. Summers can be hot and wet, and summer thunderstorms with torrential but brief downpours are common.')]"
      ]
     },
     "execution_count": 38,
     "metadata": {},
     "output_type": "execute_result"
    }
   ],
   "source": [
    "query = \"How is the weather today in Milan\"\n",
    "\n",
    "# Query each vector store\n",
    "relevant_docs = query_vector_store(\"chroma_db_openai\", query, openai_embeddings, db_dir)\n",
    "relevant_docs"
   ]
  },
  {
   "cell_type": "code",
   "execution_count": null,
   "id": "bcf15bf9",
   "metadata": {},
   "outputs": [],
   "source": []
  },
  {
   "cell_type": "markdown",
   "id": "4e8f2a67-6829-43d1-8ff4-c949cc880c12",
   "metadata": {},
   "source": [
    "# Use LLM with retrieved content "
   ]
  },
  {
   "cell_type": "markdown",
   "id": "8fcb87ce-4265-44a8-aadc-676c5072b9b1",
   "metadata": {},
   "source": [
    "filename = \"data.json\"\n",
    "with open(filename, \"rb\") as f:\n",
    "    dataset = json.load(f)"
   ]
  },
  {
   "cell_type": "markdown",
   "id": "6392054e-3fec-4845-9863-d5c0b2338acf",
   "metadata": {},
   "source": [
    "questions"
   ]
  },
  {
   "cell_type": "code",
   "execution_count": null,
   "id": "c7086c9d-a7e4-4f99-86d7-d6803c3a7ec9",
   "metadata": {},
   "outputs": [],
   "source": [
    "# check this for eval guidelines: \n",
    "# https://worksheets.codalab.org/worksheets/0x8212d84ca41c4150b555a075b19ccc05/\n",
    "# https://rajpurkar.github.io/SQuAD-explorer/"
   ]
  },
  {
   "cell_type": "code",
   "execution_count": null,
   "id": "20c5fcd1-6677-4a48-823c-7b899bfee9fc",
   "metadata": {},
   "outputs": [],
   "source": []
  },
  {
   "cell_type": "code",
   "execution_count": 127,
   "id": "c2d8e847-9edd-439f-85ab-3fea9eb9bbf9",
   "metadata": {},
   "outputs": [],
   "source": [
    "from openai import OpenAI\n",
    "from langchain_community.embeddings import VoyageEmbeddings\n",
    "from sentence_transformers import SentenceTransformer\n",
    "\n",
    "client = OpenAI(api_key=os.environ.get(\"OPENAI_API_KEY\"))\n",
    "\n",
    "def save_chatbot_preds(df, \n",
    "                       docs, \n",
    "                       embeddings,\n",
    "                       embeddings_name=\"text-embedding-ada-002\", \n",
    "                       model_name=\"gpt-3.5-turbo\",\n",
    "                       chunk_size=200, \n",
    "                       num_context_documents=3,\n",
    "                       filename=\"pred_500.json\"):\n",
    "\n",
    "    df_to_test = df.copy()\n",
    "    \n",
    "    cwd = os.getcwd()\n",
    "    db_dir = os.path.join(cwd, f\"db_{chunk_size}_{embeddings_name}\")\n",
    "\n",
    "    create_vector_store(docs, embeddings, \"chroma_db_openai\", db_dir, chunk_size=chunk_size)\n",
    "\n",
    "    answers = []\n",
    "    contexts = []\n",
    "\n",
    "    for question in tqdm(df_to_test.question):\n",
    "\n",
    "        relevant_docs = query_vector_store(\"chroma_db_openai\", query, embeddings, db_dir, k=num_context_documents)\n",
    "\n",
    "        # Concatenate all relevant documents with numbering\n",
    "        context = \"\\n\\n\".join([f\"Source {i+1}: {doc.page_content}\" for i, doc in enumerate(relevant_docs)])\n",
    "\n",
    "        # Create improved structured prompt\n",
    "        prompt = f\"\"\"\n",
    "        You are a highly accurate and reliable assistant. Answer the user's question using **only** the provided context. \n",
    "        If the answer is not in the context, return an empty response (**\"\"**) without making up information.\n",
    "\n",
    "        Context:\n",
    "        {context}\n",
    "\n",
    "        Instructions:\n",
    "        - Answer concisely and precisely.\n",
    "        - If the answer is explicitly stated in the context, extract it as-is.\n",
    "        - If the answer is not in the context, return **\"\"** (empty string).\n",
    "        - Do **not** infer, assume, or add external information.\n",
    "\n",
    "        Example:\n",
    "            **Question:** What is the capital of Italy?\n",
    "            **Answer:** Rome\n",
    "\n",
    "        Question: {question}\n",
    "        Answer (just the answer, no extra words, or \"\" if unknown):\n",
    "        \"\"\"\n",
    "\n",
    "        # Get response from OpenAI\n",
    "        response = client.chat.completions.create(\n",
    "            model=model_name,\n",
    "            messages=[\n",
    "                {\"role\": \"system\", \"content\": prompt},\n",
    "                {\"role\": \"user\", \"content\": question}\n",
    "            ]\n",
    "        )\n",
    "        \n",
    "        answer = response.choices[0].message.content\n",
    "        \n",
    "    # reference = context[0]  # Using first context as reference\n",
    "    # the reference is the GT?\n",
    "\n",
    "        answers.append(answer)\n",
    "        contexts.append(context)\n",
    "  \n",
    "    preds = dict(zip(df_to_test[\"id\"], answers))\n",
    "\n",
    "    with open(filename, \"w\") as f:\n",
    "        json.dump(preds, f, indent=4, sort_keys=True)\n"
   ]
  },
  {
   "cell_type": "code",
   "execution_count": null,
   "id": "2bbaf949",
   "metadata": {},
   "outputs": [],
   "source": []
  },
  {
   "cell_type": "code",
   "execution_count": null,
   "id": "a1d2c9fb",
   "metadata": {},
   "outputs": [],
   "source": []
  },
  {
   "cell_type": "code",
   "execution_count": null,
   "id": "24502914",
   "metadata": {},
   "outputs": [],
   "source": []
  },
  {
   "cell_type": "code",
   "execution_count": 50,
   "id": "a17b91c5",
   "metadata": {},
   "outputs": [
    {
     "data": {
      "text/plain": [
       "Index(['question', 'list_idx', 'paragraph_idx', 'question_idx', 'id',\n",
       "       'is_impossible', 'answer_0', 'answer_1', 'answer_2', 'answer_3',\n",
       "       'context', 'title', 'answer_4', 'answer_5'],\n",
       "      dtype='object')"
      ]
     },
     "execution_count": 50,
     "metadata": {},
     "output_type": "execute_result"
    }
   ],
   "source": [
    "df_to_test = pd.read_csv(\"df_questions_all.csv\")\n",
    "df_to_test = df_to_test[0:500]\n",
    "df_to_test.columns"
   ]
  },
  {
   "cell_type": "markdown",
   "id": "6b83d0ef",
   "metadata": {},
   "source": [
    "\n",
    "save_chatbot_preds(df_to_test, langchain_docs, openai_embeddings, model_name=\"gpt-3.5-turbo\", chunk_size=200, filename=\"pred_500_fixed_no_answer.json\")"
   ]
  },
  {
   "cell_type": "markdown",
   "id": "273535f0",
   "metadata": {},
   "source": [
    "Comments\n",
    "Peak distribution for number of characters in the documents is ~600 words. \n",
    "- smaller chunks: reduced noise from irrelevant content - works well with dense embeddings*\n",
    "- larger chunks: preserves context better; ideal if queries require full document context, works well with hybrid search*\n",
    "\n",
    "TEXT CHUNKING \n",
    "\n",
    "1. CHARACTER SPLITTING : divide the text into N-character sized chunks. Can split words in the middle. \n",
    "2. RECURSIVE CHARACTER SPLITTING: preserves sentences. Avoids splitting sentences midword (note that RecursiveCharacterTextSplitter with separator does exactly that). Split the\n",
    "document where a double new line is present, then, if the chunk size is still exceeded, split at new lines, and so on.\n",
    "3. SEMANTIC SPLITTING: keeps related content together. Use embeddings to split based on meaning.\n",
    "+ other techniques\n",
    "\n",
    "EMBEDDINGS \n",
    "Create fixed-length vector representation of text, focusing on semanting meaning for tasks like similarity comparison. \n",
    "Most up to date embedding models, both proprietary and open source, with performance metrics across different tasks: https://huggingface.co/spaces/mteb/leaderboard \n",
    "This contains also a \"retrieval\" column with performance metrics. Click on the column to sort the models.\n",
    "Interesting article: https://www.mongodb.com/developer/products/atlas/choose-embedding-model-rag/\n"
   ]
  },
  {
   "cell_type": "code",
   "execution_count": null,
   "id": "9beba48b",
   "metadata": {},
   "outputs": [
    {
     "name": "stdout",
     "output_type": "stream",
     "text": [
      "\n",
      "--- Creating vector store chroma_db_openai ---\n"
     ]
    },
    {
     "ename": "AttributeError",
     "evalue": "'SentenceTransformer' object has no attribute 'embed_documents'",
     "output_type": "error",
     "traceback": [
      "\u001b[31m---------------------------------------------------------------------------\u001b[39m",
      "\u001b[31mAttributeError\u001b[39m                            Traceback (most recent call last)",
      "\u001b[36mCell\u001b[39m\u001b[36m \u001b[39m\u001b[32mIn[123]\u001b[39m\u001b[32m, line 37\u001b[39m\n\u001b[32m     35\u001b[39m \u001b[38;5;28;01mfor\u001b[39;00m model_name \u001b[38;5;129;01min\u001b[39;00m models: \n\u001b[32m     36\u001b[39m     \u001b[38;5;28;01mfor\u001b[39;00m chunk_size \u001b[38;5;129;01min\u001b[39;00m chunk_sizes:\n\u001b[32m---> \u001b[39m\u001b[32m37\u001b[39m         \u001b[43msave_chatbot_preds\u001b[49m\u001b[43m(\u001b[49m\n\u001b[32m     38\u001b[39m \u001b[43m            \u001b[49m\u001b[43mdf_to_test\u001b[49m\u001b[43m,\u001b[49m\n\u001b[32m     39\u001b[39m \u001b[43m            \u001b[49m\u001b[43mlangchain_docs\u001b[49m\u001b[43m,\u001b[49m\n\u001b[32m     40\u001b[39m \u001b[43m            \u001b[49m\u001b[43membeddings\u001b[49m\u001b[43m,\u001b[49m\u001b[43m \u001b[49m\n\u001b[32m     41\u001b[39m \u001b[43m            \u001b[49m\u001b[43membeddings_name\u001b[49m\u001b[43m=\u001b[49m\u001b[43membeddings_name\u001b[49m\u001b[43m,\u001b[49m\n\u001b[32m     42\u001b[39m \u001b[43m            \u001b[49m\u001b[43mmodel_name\u001b[49m\u001b[43m=\u001b[49m\u001b[43mmodel_name\u001b[49m\u001b[43m,\u001b[49m\u001b[43m \u001b[49m\n\u001b[32m     43\u001b[39m \u001b[43m            \u001b[49m\u001b[43mchunk_size\u001b[49m\u001b[43m=\u001b[49m\u001b[43mchunk_size\u001b[49m\u001b[43m,\u001b[49m\u001b[43m \u001b[49m\n\u001b[32m     44\u001b[39m \u001b[43m            \u001b[49m\u001b[43mnum_context_documents\u001b[49m\u001b[43m=\u001b[49m\u001b[32;43m3\u001b[39;49m\u001b[43m,\u001b[49m\n\u001b[32m     45\u001b[39m \u001b[43m            \u001b[49m\u001b[43mfilename\u001b[49m\u001b[43m=\u001b[49m\u001b[33;43mf\u001b[39;49m\u001b[33;43m\"\u001b[39;49m\u001b[33;43mpred_500_fixed_no_answer_\u001b[39;49m\u001b[38;5;132;43;01m{\u001b[39;49;00m\u001b[43mchunk_size\u001b[49m\u001b[38;5;132;43;01m}\u001b[39;49;00m\u001b[33;43m_\u001b[39;49m\u001b[38;5;132;43;01m{\u001b[39;49;00m\u001b[43mmodel_name\u001b[49m\u001b[38;5;132;43;01m}\u001b[39;49;00m\u001b[33;43m_\u001b[39;49m\u001b[38;5;132;43;01m{\u001b[39;49;00m\u001b[43membeddings_name\u001b[49m\u001b[38;5;132;43;01m}\u001b[39;49;00m\u001b[33;43m.json\u001b[39;49m\u001b[33;43m\"\u001b[39;49m\n\u001b[32m     46\u001b[39m \u001b[43m        \u001b[49m\u001b[43m)\u001b[49m \n",
      "\u001b[36mCell\u001b[39m\u001b[36m \u001b[39m\u001b[32mIn[113]\u001b[39m\u001b[32m, line 21\u001b[39m, in \u001b[36msave_chatbot_preds\u001b[39m\u001b[34m(df, docs, embeddings, embeddings_name, model_name, chunk_size, num_context_documents, filename)\u001b[39m\n\u001b[32m     18\u001b[39m cwd = os.getcwd()\n\u001b[32m     19\u001b[39m db_dir = os.path.join(cwd, \u001b[33mf\u001b[39m\u001b[33m\"\u001b[39m\u001b[33mdb_\u001b[39m\u001b[38;5;132;01m{\u001b[39;00mchunk_size\u001b[38;5;132;01m}\u001b[39;00m\u001b[33m_\u001b[39m\u001b[38;5;132;01m{\u001b[39;00membeddings_name\u001b[38;5;132;01m}\u001b[39;00m\u001b[33m\"\u001b[39m)\n\u001b[32m---> \u001b[39m\u001b[32m21\u001b[39m \u001b[43mcreate_vector_store\u001b[49m\u001b[43m(\u001b[49m\u001b[43mdocs\u001b[49m\u001b[43m,\u001b[49m\u001b[43m \u001b[49m\u001b[43membeddings\u001b[49m\u001b[43m,\u001b[49m\u001b[43m \u001b[49m\u001b[33;43m\"\u001b[39;49m\u001b[33;43mchroma_db_openai\u001b[39;49m\u001b[33;43m\"\u001b[39;49m\u001b[43m,\u001b[49m\u001b[43m \u001b[49m\u001b[43mdb_dir\u001b[49m\u001b[43m,\u001b[49m\u001b[43m \u001b[49m\u001b[43mchunk_size\u001b[49m\u001b[43m=\u001b[49m\u001b[43mchunk_size\u001b[49m\u001b[43m)\u001b[49m\n\u001b[32m     23\u001b[39m answers = []\n\u001b[32m     24\u001b[39m contexts = []\n",
      "\u001b[36mCell\u001b[39m\u001b[36m \u001b[39m\u001b[32mIn[31]\u001b[39m\u001b[32m, line 9\u001b[39m, in \u001b[36mcreate_vector_store\u001b[39m\u001b[34m(docs, embeddings, store_name, db_dir, chunk_size)\u001b[39m\n\u001b[32m      7\u001b[39m \u001b[38;5;28;01mif\u001b[39;00m \u001b[38;5;129;01mnot\u001b[39;00m os.path.exists(persistent_directory):\n\u001b[32m      8\u001b[39m     \u001b[38;5;28mprint\u001b[39m(\u001b[33mf\u001b[39m\u001b[33m\"\u001b[39m\u001b[38;5;130;01m\\n\u001b[39;00m\u001b[33m--- Creating vector store \u001b[39m\u001b[38;5;132;01m{\u001b[39;00mstore_name\u001b[38;5;132;01m}\u001b[39;00m\u001b[33m ---\u001b[39m\u001b[33m\"\u001b[39m)\n\u001b[32m----> \u001b[39m\u001b[32m9\u001b[39m     \u001b[43mChroma\u001b[49m\u001b[43m.\u001b[49m\u001b[43mfrom_documents\u001b[49m\u001b[43m(\u001b[49m\n\u001b[32m     10\u001b[39m \u001b[43m        \u001b[49m\u001b[43mdocs\u001b[49m\u001b[43m,\u001b[49m\u001b[43m \u001b[49m\u001b[43membeddings\u001b[49m\u001b[43m,\u001b[49m\u001b[43m \u001b[49m\u001b[43mpersist_directory\u001b[49m\u001b[43m=\u001b[49m\u001b[43mpersistent_directory\u001b[49m\u001b[43m)\u001b[49m\n\u001b[32m     11\u001b[39m     \u001b[38;5;28mprint\u001b[39m(\u001b[33mf\u001b[39m\u001b[33m\"\u001b[39m\u001b[33m--- Finished creating vector store \u001b[39m\u001b[38;5;132;01m{\u001b[39;00mstore_name\u001b[38;5;132;01m}\u001b[39;00m\u001b[33m ---\u001b[39m\u001b[33m\"\u001b[39m)\n\u001b[32m     12\u001b[39m \u001b[38;5;28;01melse\u001b[39;00m:\n",
      "\u001b[36mFile \u001b[39m\u001b[32m~/Desktop/Git Projects/SQuAD_RAG_experiments/.venv/lib/python3.12/site-packages/langchain_community/vectorstores/chroma.py:887\u001b[39m, in \u001b[36mChroma.from_documents\u001b[39m\u001b[34m(cls, documents, embedding, ids, collection_name, persist_directory, client_settings, client, collection_metadata, **kwargs)\u001b[39m\n\u001b[32m    885\u001b[39m texts = [doc.page_content \u001b[38;5;28;01mfor\u001b[39;00m doc \u001b[38;5;129;01min\u001b[39;00m documents]\n\u001b[32m    886\u001b[39m metadatas = [doc.metadata \u001b[38;5;28;01mfor\u001b[39;00m doc \u001b[38;5;129;01min\u001b[39;00m documents]\n\u001b[32m--> \u001b[39m\u001b[32m887\u001b[39m \u001b[38;5;28;01mreturn\u001b[39;00m \u001b[38;5;28;43mcls\u001b[39;49m\u001b[43m.\u001b[49m\u001b[43mfrom_texts\u001b[49m\u001b[43m(\u001b[49m\n\u001b[32m    888\u001b[39m \u001b[43m    \u001b[49m\u001b[43mtexts\u001b[49m\u001b[43m=\u001b[49m\u001b[43mtexts\u001b[49m\u001b[43m,\u001b[49m\n\u001b[32m    889\u001b[39m \u001b[43m    \u001b[49m\u001b[43membedding\u001b[49m\u001b[43m=\u001b[49m\u001b[43membedding\u001b[49m\u001b[43m,\u001b[49m\n\u001b[32m    890\u001b[39m \u001b[43m    \u001b[49m\u001b[43mmetadatas\u001b[49m\u001b[43m=\u001b[49m\u001b[43mmetadatas\u001b[49m\u001b[43m,\u001b[49m\n\u001b[32m    891\u001b[39m \u001b[43m    \u001b[49m\u001b[43mids\u001b[49m\u001b[43m=\u001b[49m\u001b[43mids\u001b[49m\u001b[43m,\u001b[49m\n\u001b[32m    892\u001b[39m \u001b[43m    \u001b[49m\u001b[43mcollection_name\u001b[49m\u001b[43m=\u001b[49m\u001b[43mcollection_name\u001b[49m\u001b[43m,\u001b[49m\n\u001b[32m    893\u001b[39m \u001b[43m    \u001b[49m\u001b[43mpersist_directory\u001b[49m\u001b[43m=\u001b[49m\u001b[43mpersist_directory\u001b[49m\u001b[43m,\u001b[49m\n\u001b[32m    894\u001b[39m \u001b[43m    \u001b[49m\u001b[43mclient_settings\u001b[49m\u001b[43m=\u001b[49m\u001b[43mclient_settings\u001b[49m\u001b[43m,\u001b[49m\n\u001b[32m    895\u001b[39m \u001b[43m    \u001b[49m\u001b[43mclient\u001b[49m\u001b[43m=\u001b[49m\u001b[43mclient\u001b[49m\u001b[43m,\u001b[49m\n\u001b[32m    896\u001b[39m \u001b[43m    \u001b[49m\u001b[43mcollection_metadata\u001b[49m\u001b[43m=\u001b[49m\u001b[43mcollection_metadata\u001b[49m\u001b[43m,\u001b[49m\n\u001b[32m    897\u001b[39m \u001b[43m    \u001b[49m\u001b[43m*\u001b[49m\u001b[43m*\u001b[49m\u001b[43mkwargs\u001b[49m\u001b[43m,\u001b[49m\n\u001b[32m    898\u001b[39m \u001b[43m\u001b[49m\u001b[43m)\u001b[49m\n",
      "\u001b[36mFile \u001b[39m\u001b[32m~/Desktop/Git Projects/SQuAD_RAG_experiments/.venv/lib/python3.12/site-packages/langchain_community/vectorstores/chroma.py:843\u001b[39m, in \u001b[36mChroma.from_texts\u001b[39m\u001b[34m(cls, texts, embedding, metadatas, ids, collection_name, persist_directory, client_settings, client, collection_metadata, **kwargs)\u001b[39m\n\u001b[32m    835\u001b[39m     \u001b[38;5;28;01mfrom\u001b[39;00m\u001b[38;5;250m \u001b[39m\u001b[34;01mchromadb\u001b[39;00m\u001b[34;01m.\u001b[39;00m\u001b[34;01mutils\u001b[39;00m\u001b[34;01m.\u001b[39;00m\u001b[34;01mbatch_utils\u001b[39;00m\u001b[38;5;250m \u001b[39m\u001b[38;5;28;01mimport\u001b[39;00m create_batches\n\u001b[32m    837\u001b[39m     \u001b[38;5;28;01mfor\u001b[39;00m batch \u001b[38;5;129;01min\u001b[39;00m create_batches(\n\u001b[32m    838\u001b[39m         api=chroma_collection._client,  \u001b[38;5;66;03m# type: ignore[has-type]\u001b[39;00m\n\u001b[32m    839\u001b[39m         ids=ids,\n\u001b[32m    840\u001b[39m         metadatas=metadatas,  \u001b[38;5;66;03m# type: ignore[arg-type]\u001b[39;00m\n\u001b[32m    841\u001b[39m         documents=texts,\n\u001b[32m    842\u001b[39m     ):\n\u001b[32m--> \u001b[39m\u001b[32m843\u001b[39m         \u001b[43mchroma_collection\u001b[49m\u001b[43m.\u001b[49m\u001b[43madd_texts\u001b[49m\u001b[43m(\u001b[49m\n\u001b[32m    844\u001b[39m \u001b[43m            \u001b[49m\u001b[43mtexts\u001b[49m\u001b[43m=\u001b[49m\u001b[43mbatch\u001b[49m\u001b[43m[\u001b[49m\u001b[32;43m3\u001b[39;49m\u001b[43m]\u001b[49m\u001b[43m \u001b[49m\u001b[38;5;28;43;01mif\u001b[39;49;00m\u001b[43m \u001b[49m\u001b[43mbatch\u001b[49m\u001b[43m[\u001b[49m\u001b[32;43m3\u001b[39;49m\u001b[43m]\u001b[49m\u001b[43m \u001b[49m\u001b[38;5;28;43;01melse\u001b[39;49;00m\u001b[43m \u001b[49m\u001b[43m[\u001b[49m\u001b[43m]\u001b[49m\u001b[43m,\u001b[49m\n\u001b[32m    845\u001b[39m \u001b[43m            \u001b[49m\u001b[43mmetadatas\u001b[49m\u001b[43m=\u001b[49m\u001b[43mbatch\u001b[49m\u001b[43m[\u001b[49m\u001b[32;43m2\u001b[39;49m\u001b[43m]\u001b[49m\u001b[43m \u001b[49m\u001b[38;5;28;43;01mif\u001b[39;49;00m\u001b[43m \u001b[49m\u001b[43mbatch\u001b[49m\u001b[43m[\u001b[49m\u001b[32;43m2\u001b[39;49m\u001b[43m]\u001b[49m\u001b[43m \u001b[49m\u001b[38;5;28;43;01melse\u001b[39;49;00m\u001b[43m \u001b[49m\u001b[38;5;28;43;01mNone\u001b[39;49;00m\u001b[43m,\u001b[49m\u001b[43m  \u001b[49m\u001b[38;5;66;43;03m# type: ignore[arg-type]\u001b[39;49;00m\n\u001b[32m    846\u001b[39m \u001b[43m            \u001b[49m\u001b[43mids\u001b[49m\u001b[43m=\u001b[49m\u001b[43mbatch\u001b[49m\u001b[43m[\u001b[49m\u001b[32;43m0\u001b[39;49m\u001b[43m]\u001b[49m\u001b[43m,\u001b[49m\n\u001b[32m    847\u001b[39m \u001b[43m        \u001b[49m\u001b[43m)\u001b[49m\n\u001b[32m    848\u001b[39m \u001b[38;5;28;01melse\u001b[39;00m:\n\u001b[32m    849\u001b[39m     chroma_collection.add_texts(texts=texts, metadatas=metadatas, ids=ids)\n",
      "\u001b[36mFile \u001b[39m\u001b[32m~/Desktop/Git Projects/SQuAD_RAG_experiments/.venv/lib/python3.12/site-packages/langchain_community/vectorstores/chroma.py:277\u001b[39m, in \u001b[36mChroma.add_texts\u001b[39m\u001b[34m(self, texts, metadatas, ids, **kwargs)\u001b[39m\n\u001b[32m    275\u001b[39m texts = \u001b[38;5;28mlist\u001b[39m(texts)\n\u001b[32m    276\u001b[39m \u001b[38;5;28;01mif\u001b[39;00m \u001b[38;5;28mself\u001b[39m._embedding_function \u001b[38;5;129;01mis\u001b[39;00m \u001b[38;5;129;01mnot\u001b[39;00m \u001b[38;5;28;01mNone\u001b[39;00m:\n\u001b[32m--> \u001b[39m\u001b[32m277\u001b[39m     embeddings = \u001b[38;5;28;43mself\u001b[39;49m\u001b[43m.\u001b[49m\u001b[43m_embedding_function\u001b[49m\u001b[43m.\u001b[49m\u001b[43membed_documents\u001b[49m(texts)\n\u001b[32m    278\u001b[39m \u001b[38;5;28;01mif\u001b[39;00m metadatas:\n\u001b[32m    279\u001b[39m     \u001b[38;5;66;03m# fill metadatas with empty dicts if somebody\u001b[39;00m\n\u001b[32m    280\u001b[39m     \u001b[38;5;66;03m# did not specify metadata for all texts\u001b[39;00m\n\u001b[32m    281\u001b[39m     length_diff = \u001b[38;5;28mlen\u001b[39m(texts) - \u001b[38;5;28mlen\u001b[39m(metadatas)\n",
      "\u001b[36mFile \u001b[39m\u001b[32m~/Desktop/Git Projects/SQuAD_RAG_experiments/.venv/lib/python3.12/site-packages/torch/nn/modules/module.py:1928\u001b[39m, in \u001b[36mModule.__getattr__\u001b[39m\u001b[34m(self, name)\u001b[39m\n\u001b[32m   1926\u001b[39m     \u001b[38;5;28;01mif\u001b[39;00m name \u001b[38;5;129;01min\u001b[39;00m modules:\n\u001b[32m   1927\u001b[39m         \u001b[38;5;28;01mreturn\u001b[39;00m modules[name]\n\u001b[32m-> \u001b[39m\u001b[32m1928\u001b[39m \u001b[38;5;28;01mraise\u001b[39;00m \u001b[38;5;167;01mAttributeError\u001b[39;00m(\n\u001b[32m   1929\u001b[39m     \u001b[33mf\u001b[39m\u001b[33m\"\u001b[39m\u001b[33m'\u001b[39m\u001b[38;5;132;01m{\u001b[39;00m\u001b[38;5;28mtype\u001b[39m(\u001b[38;5;28mself\u001b[39m).\u001b[34m__name__\u001b[39m\u001b[38;5;132;01m}\u001b[39;00m\u001b[33m'\u001b[39m\u001b[33m object has no attribute \u001b[39m\u001b[33m'\u001b[39m\u001b[38;5;132;01m{\u001b[39;00mname\u001b[38;5;132;01m}\u001b[39;00m\u001b[33m'\u001b[39m\u001b[33m\"\u001b[39m\n\u001b[32m   1930\u001b[39m )\n",
      "\u001b[31mAttributeError\u001b[39m: 'SentenceTransformer' object has no attribute 'embed_documents'"
     ]
    }
   ],
   "source": [
    "# TODO: try different text splitters\n",
    "# TODO: improve num of documents retrieved and the retrieval threshold \n",
    "\n",
    "#chunk_sizes = [100, 200, 300, 400, 500, 800, 1200, 1600]\n",
    "chunk_sizes =  [100] #[600, 800]\n",
    "\n",
    "models = [\"gpt-3.5-turbo\"]\n",
    "embeddings_names = [#\"text-embedding-ada-002\", # poor performance OpenAI\n",
    "                    \"text-embedding-3-small\" # OpenAI\n",
    "                    # \"text-embedding-3-large\" # OpenAI\n",
    "                 #   \"voyageai/voyage-3-m-exp\" # HuggingFace - best retrieval model mar 2025 based on HuggingFace MTEB leaderboard\n",
    "                  # \"Snowflake/snowflake-arctic-embed-l-v2.0\" # ranked 6th, 568M params\n",
    "                 ]\n",
    "\n",
    "                    \n",
    "embeddings_platform = \"OpenAI\"    \n",
    "    \n",
    "for embeddings_name in embeddings_names: \n",
    "    \n",
    "    if embeddings_platform == \"OpenAI\": \n",
    "        embeddings = OpenAIEmbeddings(model=embeddings_name, openai_api_key=\"\")\n",
    "    elif embeddings_platform == \"HuggingFace\":\n",
    "        embeddings = HuggingFaceEmbeddings(\n",
    "         model_name=embeddings_name, show_progress=True \n",
    "    )\n",
    "    \n",
    "    # only paid?\n",
    "    elif embeddings_platform == \"custom\":\n",
    "        cache_dir = './model_cache'\n",
    "        #embeddings = VoyageEmbeddings(voyage_api_key=\"\", model=\"voyage-3\")\n",
    "       # embeddings = SentenceTransformer(\"Linq-AI-Research/Linq-Embed-Mistral\") # heavy 7B parameters  \n",
    "        embeddings = SentenceTransformer(\"Snowflake/snowflake-arctic-embed-l-v2.0\", cache_folder=cache_dir) \n",
    "    else:\n",
    "        print(\"Embeddings error\")\n",
    "       \n",
    "    for model_name in models: \n",
    "        for chunk_size in chunk_sizes:\n",
    "            save_chatbot_preds(\n",
    "                df_to_test,\n",
    "                langchain_docs,\n",
    "                embeddings, \n",
    "                embeddings_name=embeddings_name,\n",
    "                model_name=model_name, \n",
    "                chunk_size=chunk_size, \n",
    "                num_context_documents=3,\n",
    "                filename=f\"pred_500_fixed_no_answer_{chunk_size}_{model_name}_{embeddings_name}.json\"\n",
    "            ) "
   ]
  },
  {
   "cell_type": "code",
   "execution_count": null,
   "id": "f0830832",
   "metadata": {},
   "outputs": [],
   "source": []
  },
  {
   "cell_type": "code",
   "execution_count": null,
   "id": "db5f14cc",
   "metadata": {},
   "outputs": [],
   "source": []
  },
  {
   "cell_type": "code",
   "execution_count": null,
   "id": "bdecf198",
   "metadata": {},
   "outputs": [],
   "source": []
  },
  {
   "cell_type": "code",
   "execution_count": null,
   "id": "f93f4890",
   "metadata": {},
   "outputs": [],
   "source": []
  },
  {
   "cell_type": "code",
   "execution_count": null,
   "id": "d54a5ec2",
   "metadata": {},
   "outputs": [],
   "source": []
  },
  {
   "cell_type": "code",
   "execution_count": null,
   "id": "82b9bca7",
   "metadata": {},
   "outputs": [],
   "source": []
  },
  {
   "cell_type": "code",
   "execution_count": null,
   "id": "a83a9001",
   "metadata": {},
   "outputs": [],
   "source": []
  },
  {
   "cell_type": "markdown",
   "id": "f7a4b5c2-8b1a-4345-b41b-352ed66d2d83",
   "metadata": {},
   "source": [
    "# Evaluation"
   ]
  },
  {
   "cell_type": "code",
   "execution_count": null,
   "id": "0b1bc883-8fee-4874-925d-6a9ec9665ec9",
   "metadata": {},
   "outputs": [
    {
     "data": {
      "text/html": [
       "<div>\n",
       "<style scoped>\n",
       "    .dataframe tbody tr th:only-of-type {\n",
       "        vertical-align: middle;\n",
       "    }\n",
       "\n",
       "    .dataframe tbody tr th {\n",
       "        vertical-align: top;\n",
       "    }\n",
       "\n",
       "    .dataframe thead th {\n",
       "        text-align: right;\n",
       "    }\n",
       "</style>\n",
       "<table border=\"1\" class=\"dataframe\">\n",
       "  <thead>\n",
       "    <tr style=\"text-align: right;\">\n",
       "      <th></th>\n",
       "      <th>question</th>\n",
       "      <th>list_idx</th>\n",
       "      <th>paragraph_idx</th>\n",
       "      <th>question_idx</th>\n",
       "      <th>id</th>\n",
       "      <th>is_impossible</th>\n",
       "      <th>answer_0</th>\n",
       "      <th>answer_1</th>\n",
       "      <th>answer_2</th>\n",
       "      <th>answer_3</th>\n",
       "      <th>context</th>\n",
       "      <th>title</th>\n",
       "      <th>answer_4</th>\n",
       "      <th>answer_5</th>\n",
       "    </tr>\n",
       "  </thead>\n",
       "  <tbody>\n",
       "    <tr>\n",
       "      <th>0</th>\n",
       "      <td>In what country is Normandy located?</td>\n",
       "      <td>0</td>\n",
       "      <td>0</td>\n",
       "      <td>0</td>\n",
       "      <td>56ddde6b9a695914005b9628</td>\n",
       "      <td>False</td>\n",
       "      <td>France</td>\n",
       "      <td>France</td>\n",
       "      <td>France</td>\n",
       "      <td>France</td>\n",
       "      <td>The Normans (Norman: Nourmands; French: Norman...</td>\n",
       "      <td>Normans</td>\n",
       "      <td>NaN</td>\n",
       "      <td>NaN</td>\n",
       "    </tr>\n",
       "    <tr>\n",
       "      <th>1</th>\n",
       "      <td>When were the Normans in Normandy?</td>\n",
       "      <td>0</td>\n",
       "      <td>0</td>\n",
       "      <td>1</td>\n",
       "      <td>56ddde6b9a695914005b9629</td>\n",
       "      <td>False</td>\n",
       "      <td>10th and 11th centuries</td>\n",
       "      <td>in the 10th and 11th centuries</td>\n",
       "      <td>10th and 11th centuries</td>\n",
       "      <td>10th and 11th centuries</td>\n",
       "      <td>The Normans (Norman: Nourmands; French: Norman...</td>\n",
       "      <td>Normans</td>\n",
       "      <td>NaN</td>\n",
       "      <td>NaN</td>\n",
       "    </tr>\n",
       "    <tr>\n",
       "      <th>2</th>\n",
       "      <td>From which countries did the Norse originate?</td>\n",
       "      <td>0</td>\n",
       "      <td>0</td>\n",
       "      <td>2</td>\n",
       "      <td>56ddde6b9a695914005b962a</td>\n",
       "      <td>False</td>\n",
       "      <td>Denmark, Iceland and Norway</td>\n",
       "      <td>Denmark, Iceland and Norway</td>\n",
       "      <td>Denmark, Iceland and Norway</td>\n",
       "      <td>Denmark, Iceland and Norway</td>\n",
       "      <td>The Normans (Norman: Nourmands; French: Norman...</td>\n",
       "      <td>Normans</td>\n",
       "      <td>NaN</td>\n",
       "      <td>NaN</td>\n",
       "    </tr>\n",
       "    <tr>\n",
       "      <th>3</th>\n",
       "      <td>Who was the Norse leader?</td>\n",
       "      <td>0</td>\n",
       "      <td>0</td>\n",
       "      <td>3</td>\n",
       "      <td>56ddde6b9a695914005b962b</td>\n",
       "      <td>False</td>\n",
       "      <td>Rollo</td>\n",
       "      <td>Rollo</td>\n",
       "      <td>Rollo</td>\n",
       "      <td>Rollo</td>\n",
       "      <td>The Normans (Norman: Nourmands; French: Norman...</td>\n",
       "      <td>Normans</td>\n",
       "      <td>NaN</td>\n",
       "      <td>NaN</td>\n",
       "    </tr>\n",
       "    <tr>\n",
       "      <th>4</th>\n",
       "      <td>What century did the Normans first gain their ...</td>\n",
       "      <td>0</td>\n",
       "      <td>0</td>\n",
       "      <td>4</td>\n",
       "      <td>56ddde6b9a695914005b962c</td>\n",
       "      <td>False</td>\n",
       "      <td>10th century</td>\n",
       "      <td>the first half of the 10th century</td>\n",
       "      <td>10th</td>\n",
       "      <td>10th</td>\n",
       "      <td>The Normans (Norman: Nourmands; French: Norman...</td>\n",
       "      <td>Normans</td>\n",
       "      <td>NaN</td>\n",
       "      <td>NaN</td>\n",
       "    </tr>\n",
       "  </tbody>\n",
       "</table>\n",
       "</div>"
      ],
      "text/plain": [
       "                                            question  list_idx  paragraph_idx  \\\n",
       "0               In what country is Normandy located?         0              0   \n",
       "1                 When were the Normans in Normandy?         0              0   \n",
       "2      From which countries did the Norse originate?         0              0   \n",
       "3                          Who was the Norse leader?         0              0   \n",
       "4  What century did the Normans first gain their ...         0              0   \n",
       "\n",
       "   question_idx                        id  is_impossible  \\\n",
       "0             0  56ddde6b9a695914005b9628          False   \n",
       "1             1  56ddde6b9a695914005b9629          False   \n",
       "2             2  56ddde6b9a695914005b962a          False   \n",
       "3             3  56ddde6b9a695914005b962b          False   \n",
       "4             4  56ddde6b9a695914005b962c          False   \n",
       "\n",
       "                      answer_0                            answer_1  \\\n",
       "0                       France                              France   \n",
       "1      10th and 11th centuries      in the 10th and 11th centuries   \n",
       "2  Denmark, Iceland and Norway         Denmark, Iceland and Norway   \n",
       "3                        Rollo                               Rollo   \n",
       "4                 10th century  the first half of the 10th century   \n",
       "\n",
       "                      answer_2                     answer_3  \\\n",
       "0                       France                       France   \n",
       "1      10th and 11th centuries      10th and 11th centuries   \n",
       "2  Denmark, Iceland and Norway  Denmark, Iceland and Norway   \n",
       "3                        Rollo                        Rollo   \n",
       "4                         10th                         10th   \n",
       "\n",
       "                                             context    title answer_4  \\\n",
       "0  The Normans (Norman: Nourmands; French: Norman...  Normans      NaN   \n",
       "1  The Normans (Norman: Nourmands; French: Norman...  Normans      NaN   \n",
       "2  The Normans (Norman: Nourmands; French: Norman...  Normans      NaN   \n",
       "3  The Normans (Norman: Nourmands; French: Norman...  Normans      NaN   \n",
       "4  The Normans (Norman: Nourmands; French: Norman...  Normans      NaN   \n",
       "\n",
       "  answer_5  \n",
       "0      NaN  \n",
       "1      NaN  \n",
       "2      NaN  \n",
       "3      NaN  \n",
       "4      NaN  "
      ]
     },
     "execution_count": 90,
     "metadata": {},
     "output_type": "execute_result"
    }
   ],
   "source": [
    "df = pd.read_csv(\"df_questions_all.csv\")\n",
    "df.head()"
   ]
  },
  {
   "cell_type": "code",
   "execution_count": null,
   "id": "86ea5442-faab-4283-87bd-31c4227fc445",
   "metadata": {},
   "outputs": [
    {
     "name": "stdout",
     "output_type": "stream",
     "text": [
      "11873\n",
      "500\n"
     ]
    }
   ],
   "source": [
    "print(len(df))\n",
    "df_sel = df[df[\"id\"].isin(qids)]\n",
    "print(len(df_sel))"
   ]
  },
  {
   "cell_type": "code",
   "execution_count": null,
   "id": "8800830b-d7da-44a8-8ae3-848209f24184",
   "metadata": {},
   "outputs": [
    {
     "name": "stdout",
     "output_type": "stream",
     "text": [
      "0\n",
      "title Normans\n",
      "{0, 1, 2, 3, 4, 5, 6, 7, 8, 9, 10, 11, 12, 13, 14, 15, 16, 17, 18, 19, 20, 21, 22, 23, 24, 25, 26, 27, 28, 29, 30, 31, 32, 33, 34, 35, 36, 37, 38}\n",
      "1\n",
      "title Computational_complexity_theory\n",
      "{0, 1, 2, 3, 4, 5, 6, 7, 8, 9, 10, 11, 12, 13, 14, 15, 16, 17, 18, 19, 20, 21, 22, 23, 24, 25, 26, 27, 28, 29, 30, 31, 32, 33}\n"
     ]
    }
   ],
   "source": [
    "all_res = {\"version\": \"v2.0\", \"data\": []}\n",
    "\n",
    "all_res_list = []\n",
    "\n",
    "for list_idx in set(df_sel.list_idx):\n",
    "    print(list_idx)\n",
    "\n",
    "    df_idx = df_sel[df_sel.list_idx == list_idx]\n",
    "\n",
    "    title = df_idx.title.iloc[0]\n",
    "\n",
    "    print(\"title\", title)\n",
    "\n",
    "    paragraphs = []\n",
    "    \n",
    "    list_res = {\"title\": title, \n",
    "                \"paragraphs\": paragraphs}\n",
    "    \n",
    "    paragraphs_idx = set(df_idx.paragraph_idx)\n",
    "    \n",
    "    print(paragraphs_idx)\n",
    "\n",
    "    paragraphs_res = []\n",
    "\n",
    "    for p_idx in paragraphs_idx:\n",
    "        paragraph_df = df_idx[df_idx.paragraph_idx == p_idx]\n",
    "\n",
    "        context = paragraph_df.context.iloc[0]\n",
    "\n",
    "        paragraph_res = {\"context\": context, \"qas\": []}\n",
    "\n",
    "        questions_df = paragraph_df[paragraph_df[\"id\"].isin(qids)]\n",
    "\n",
    "        if not questions_df.empty:\n",
    "            question_idx = set(questions_df.question_idx)\n",
    "\n",
    "            questions_list = []\n",
    "        \n",
    "            for q_idx in question_idx:\n",
    "                question_df = questions_df[questions_df.question_idx == q_idx]\n",
    "\n",
    "                question = question_df.question.iloc[0]\n",
    "                question_id = question_df[\"id\"].iloc[0]\n",
    "                is_impossible = question_df.is_impossible.iloc[0]\n",
    "\n",
    "                answers = []\n",
    "\n",
    "                for i in range(0,3):\n",
    "                    answer = question_df[f\"answer_{i}\"].iloc[0]\n",
    "\n",
    "                    if answer == answer:\n",
    "                    \n",
    "                        answers.append({\"text\": answer})\n",
    "                \n",
    "                if is_impossible:\n",
    "                    impossible_str = \"true\"\n",
    "                else:\n",
    "                    impossible_str = \"false\"\n",
    "                \n",
    "                question_res = {\"question\": question,  \n",
    "                                \"id\": question_id,\n",
    "                                \"answers\": answers,\n",
    "                                \"is_impossible\": impossible_str\n",
    "                               }\n",
    "                \n",
    "                questions_list.append(question_res)\n",
    "\n",
    "            paragraph_res[\"qas\"] = questions_list\n",
    "                \n",
    "        \n",
    "        paragraphs.append(paragraph_res)\n",
    "\n",
    "    all_res_list.append(list_res)\n",
    "        \n",
    "    "
   ]
  },
  {
   "cell_type": "code",
   "execution_count": null,
   "id": "5757c809-4f8f-4d44-891f-e4fde053bc42",
   "metadata": {},
   "outputs": [],
   "source": [
    "all_res[\"data\"] = all_res_list"
   ]
  },
  {
   "cell_type": "code",
   "execution_count": null,
   "id": "d19fcbe5-a330-406c-b392-1b32244d712f",
   "metadata": {},
   "outputs": [],
   "source": []
  },
  {
   "cell_type": "code",
   "execution_count": null,
   "id": "b8b556b7-759c-40de-aded-f3d1aeac3e2c",
   "metadata": {},
   "outputs": [],
   "source": [
    "with open(\"data_updated_500.json\", \"w\") as f:\n",
    "    json.dump(all_res, f)"
   ]
  },
  {
   "cell_type": "code",
   "execution_count": null,
   "id": "c971fe98-ec1f-4b53-9d21-5cd682a29511",
   "metadata": {},
   "outputs": [],
   "source": []
  },
  {
   "cell_type": "code",
   "execution_count": null,
   "id": "e3652255-072b-48e6-a1db-6b4eac157ab7",
   "metadata": {},
   "outputs": [],
   "source": []
  },
  {
   "cell_type": "code",
   "execution_count": null,
   "id": "a354e63b-3e00-4d34-9064-07258025cf4e",
   "metadata": {},
   "outputs": [],
   "source": []
  },
  {
   "cell_type": "code",
   "execution_count": null,
   "id": "9e2c5a6c-c848-458a-bc50-59c521e0c9ae",
   "metadata": {},
   "outputs": [],
   "source": []
  },
  {
   "cell_type": "code",
   "execution_count": null,
   "id": "f6af88b2-065a-45f7-b45f-3cfbffbf7c91",
   "metadata": {},
   "outputs": [],
   "source": []
  },
  {
   "cell_type": "code",
   "execution_count": null,
   "id": "c2b675a8-630b-45a2-a639-cc3f46376fbf",
   "metadata": {},
   "outputs": [],
   "source": []
  },
  {
   "cell_type": "code",
   "execution_count": null,
   "id": "2ab68dc7-3ab2-41b5-b3c0-28d7c02196d3",
   "metadata": {},
   "outputs": [],
   "source": []
  },
  {
   "cell_type": "code",
   "execution_count": null,
   "id": "ac14a52b-8ea4-4abc-bd75-ef184dea65c8",
   "metadata": {},
   "outputs": [],
   "source": []
  },
  {
   "cell_type": "markdown",
   "id": "7363fbcf-27b5-4118-9e98-2c8156722dad",
   "metadata": {},
   "source": [
    "# Inspect the eval results "
   ]
  },
  {
   "cell_type": "code",
   "execution_count": null,
   "id": "810ca796-aeea-4796-8547-7ea83106ac10",
   "metadata": {},
   "outputs": [
    {
     "data": {
      "text/html": [
       "<div>\n",
       "<style scoped>\n",
       "    .dataframe tbody tr th:only-of-type {\n",
       "        vertical-align: middle;\n",
       "    }\n",
       "\n",
       "    .dataframe tbody tr th {\n",
       "        vertical-align: top;\n",
       "    }\n",
       "\n",
       "    .dataframe thead th {\n",
       "        text-align: right;\n",
       "    }\n",
       "</style>\n",
       "<table border=\"1\" class=\"dataframe\">\n",
       "  <thead>\n",
       "    <tr style=\"text-align: right;\">\n",
       "      <th></th>\n",
       "      <th>id</th>\n",
       "      <th>f1_score</th>\n",
       "    </tr>\n",
       "  </thead>\n",
       "  <tbody>\n",
       "    <tr>\n",
       "      <th>0</th>\n",
       "      <td>56ddde6b9a695914005b9628</td>\n",
       "      <td>0.333333</td>\n",
       "    </tr>\n",
       "    <tr>\n",
       "      <th>1</th>\n",
       "      <td>56ddde6b9a695914005b9629</td>\n",
       "      <td>0.571429</td>\n",
       "    </tr>\n",
       "    <tr>\n",
       "      <th>2</th>\n",
       "      <td>56ddde6b9a695914005b962a</td>\n",
       "      <td>0.461538</td>\n",
       "    </tr>\n",
       "    <tr>\n",
       "      <th>3</th>\n",
       "      <td>56ddde6b9a695914005b962b</td>\n",
       "      <td>0.000000</td>\n",
       "    </tr>\n",
       "    <tr>\n",
       "      <th>4</th>\n",
       "      <td>56ddde6b9a695914005b962c</td>\n",
       "      <td>0.428571</td>\n",
       "    </tr>\n",
       "  </tbody>\n",
       "</table>\n",
       "</div>"
      ],
      "text/plain": [
       "                         id  f1_score\n",
       "0  56ddde6b9a695914005b9628  0.333333\n",
       "1  56ddde6b9a695914005b9629  0.571429\n",
       "2  56ddde6b9a695914005b962a  0.461538\n",
       "3  56ddde6b9a695914005b962b  0.000000\n",
       "4  56ddde6b9a695914005b962c  0.428571"
      ]
     },
     "execution_count": 43,
     "metadata": {},
     "output_type": "execute_result"
    }
   ],
   "source": [
    "import json\n",
    "import pandas as pd \n",
    "\n",
    "\n",
    "filename = \"f1_thresh_by_qid.json\"\n",
    "with open(filename, \"rb\") as f:\n",
    "    f1_scores = json.load(f)\n",
    "    \n",
    "df_scores = pd.DataFrame.from_dict(f1_scores, orient=\"index\", columns=[\"f1_score\"])\n",
    "df_scores.index.name = \"id\"\n",
    "df_scores.reset_index(inplace=True, drop=False)\n",
    "df_scores.head()"
   ]
  },
  {
   "cell_type": "code",
   "execution_count": null,
   "id": "815f1708",
   "metadata": {},
   "outputs": [
    {
     "data": {
      "text/html": [
       "<div>\n",
       "<style scoped>\n",
       "    .dataframe tbody tr th:only-of-type {\n",
       "        vertical-align: middle;\n",
       "    }\n",
       "\n",
       "    .dataframe tbody tr th {\n",
       "        vertical-align: top;\n",
       "    }\n",
       "\n",
       "    .dataframe thead th {\n",
       "        text-align: right;\n",
       "    }\n",
       "</style>\n",
       "<table border=\"1\" class=\"dataframe\">\n",
       "  <thead>\n",
       "    <tr style=\"text-align: right;\">\n",
       "      <th></th>\n",
       "      <th>id</th>\n",
       "      <th>exact_score</th>\n",
       "    </tr>\n",
       "  </thead>\n",
       "  <tbody>\n",
       "    <tr>\n",
       "      <th>0</th>\n",
       "      <td>56ddde6b9a695914005b9628</td>\n",
       "      <td>0</td>\n",
       "    </tr>\n",
       "    <tr>\n",
       "      <th>1</th>\n",
       "      <td>56ddde6b9a695914005b9629</td>\n",
       "      <td>0</td>\n",
       "    </tr>\n",
       "    <tr>\n",
       "      <th>2</th>\n",
       "      <td>56ddde6b9a695914005b962a</td>\n",
       "      <td>0</td>\n",
       "    </tr>\n",
       "    <tr>\n",
       "      <th>3</th>\n",
       "      <td>56ddde6b9a695914005b962b</td>\n",
       "      <td>0</td>\n",
       "    </tr>\n",
       "    <tr>\n",
       "      <th>4</th>\n",
       "      <td>56ddde6b9a695914005b962c</td>\n",
       "      <td>0</td>\n",
       "    </tr>\n",
       "  </tbody>\n",
       "</table>\n",
       "</div>"
      ],
      "text/plain": [
       "                         id  exact_score\n",
       "0  56ddde6b9a695914005b9628            0\n",
       "1  56ddde6b9a695914005b9629            0\n",
       "2  56ddde6b9a695914005b962a            0\n",
       "3  56ddde6b9a695914005b962b            0\n",
       "4  56ddde6b9a695914005b962c            0"
      ]
     },
     "execution_count": 37,
     "metadata": {},
     "output_type": "execute_result"
    }
   ],
   "source": [
    "filename = \"exact_thresh_by_qid.json\"\n",
    "with open(filename, \"rb\") as f:\n",
    "    exact_scores = json.load(f)\n",
    "    \n",
    "df_scores_exact = pd.DataFrame.from_dict(exact_scores, orient=\"index\", columns=[\"exact_score\"])\n",
    "df_scores_exact.index.name = \"id\"\n",
    "df_scores_exact.reset_index(inplace=True, drop=False)\n",
    "df_scores_exact.head()"
   ]
  },
  {
   "cell_type": "code",
   "execution_count": null,
   "id": "a5039acb",
   "metadata": {},
   "outputs": [
    {
     "data": {
      "text/html": [
       "<div>\n",
       "<style scoped>\n",
       "    .dataframe tbody tr th:only-of-type {\n",
       "        vertical-align: middle;\n",
       "    }\n",
       "\n",
       "    .dataframe tbody tr th {\n",
       "        vertical-align: top;\n",
       "    }\n",
       "\n",
       "    .dataframe thead th {\n",
       "        text-align: right;\n",
       "    }\n",
       "</style>\n",
       "<table border=\"1\" class=\"dataframe\">\n",
       "  <thead>\n",
       "    <tr style=\"text-align: right;\">\n",
       "      <th></th>\n",
       "      <th>id</th>\n",
       "      <th>pred</th>\n",
       "    </tr>\n",
       "  </thead>\n",
       "  <tbody>\n",
       "    <tr>\n",
       "      <th>0</th>\n",
       "      <td>56ddde6b9a695914005b9628</td>\n",
       "      <td>Normandy is located in France.</td>\n",
       "    </tr>\n",
       "    <tr>\n",
       "      <th>1</th>\n",
       "      <td>56ddde6b9a695914005b9629</td>\n",
       "      <td>The Normans were in Normandy from the 10th to ...</td>\n",
       "    </tr>\n",
       "    <tr>\n",
       "      <th>2</th>\n",
       "      <td>56ddde6b9a695914005b962a</td>\n",
       "      <td>The Norse people originated from modern-day De...</td>\n",
       "    </tr>\n",
       "    <tr>\n",
       "      <th>3</th>\n",
       "      <td>56ddde6b9a695914005b962b</td>\n",
       "      <td>I'm sorry, but I can't provide an accurate ans...</td>\n",
       "    </tr>\n",
       "    <tr>\n",
       "      <th>4</th>\n",
       "      <td>56ddde6b9a695914005b962c</td>\n",
       "      <td>The Normans first gained their separate identi...</td>\n",
       "    </tr>\n",
       "  </tbody>\n",
       "</table>\n",
       "</div>"
      ],
      "text/plain": [
       "                         id                                               pred\n",
       "0  56ddde6b9a695914005b9628                     Normandy is located in France.\n",
       "1  56ddde6b9a695914005b9629  The Normans were in Normandy from the 10th to ...\n",
       "2  56ddde6b9a695914005b962a  The Norse people originated from modern-day De...\n",
       "3  56ddde6b9a695914005b962b  I'm sorry, but I can't provide an accurate ans...\n",
       "4  56ddde6b9a695914005b962c  The Normans first gained their separate identi..."
      ]
     },
     "execution_count": 44,
     "metadata": {},
     "output_type": "execute_result"
    }
   ],
   "source": [
    "\n",
    "filename = \"pred.json\"\n",
    "with open(filename, \"rb\") as f:\n",
    "    pred = json.load(f)\n",
    "    \n",
    "df_pred = pd.DataFrame.from_dict(pred, orient=\"index\", columns=[\"pred\"])\n",
    "df_pred.index.name = \"id\"\n",
    "df_pred.reset_index(inplace=True, drop=False)\n",
    "df_pred.head()"
   ]
  },
  {
   "cell_type": "code",
   "execution_count": null,
   "id": "143f1105",
   "metadata": {},
   "outputs": [],
   "source": [
    "df = pd.read_csv(\"df_questions_all.csv\")\n",
    "df = df.merge(df_scores, how=\"left\", on=\"id\")\n",
    "df = df.merge(df_scores_exact, how=\"left\", on=\"id\")\n",
    "df = df.merge(df_pred, how=\"left\", on=\"id\")\n"
   ]
  },
  {
   "cell_type": "code",
   "execution_count": null,
   "id": "d69b8f38",
   "metadata": {},
   "outputs": [
    {
     "data": {
      "text/html": [
       "<div>\n",
       "<style scoped>\n",
       "    .dataframe tbody tr th:only-of-type {\n",
       "        vertical-align: middle;\n",
       "    }\n",
       "\n",
       "    .dataframe tbody tr th {\n",
       "        vertical-align: top;\n",
       "    }\n",
       "\n",
       "    .dataframe thead th {\n",
       "        text-align: right;\n",
       "    }\n",
       "</style>\n",
       "<table border=\"1\" class=\"dataframe\">\n",
       "  <thead>\n",
       "    <tr style=\"text-align: right;\">\n",
       "      <th></th>\n",
       "      <th>id</th>\n",
       "      <th>question</th>\n",
       "      <th>f1_score</th>\n",
       "      <th>exact_score</th>\n",
       "      <th>answer_0</th>\n",
       "      <th>answer_1</th>\n",
       "      <th>answer_3</th>\n",
       "      <th>pred</th>\n",
       "    </tr>\n",
       "  </thead>\n",
       "  <tbody>\n",
       "    <tr>\n",
       "      <th>0</th>\n",
       "      <td>56ddde6b9a695914005b9628</td>\n",
       "      <td>In what country is Normandy located?</td>\n",
       "      <td>0.333333</td>\n",
       "      <td>0.0</td>\n",
       "      <td>France</td>\n",
       "      <td>France</td>\n",
       "      <td>France</td>\n",
       "      <td>Normandy is located in France.</td>\n",
       "    </tr>\n",
       "    <tr>\n",
       "      <th>1</th>\n",
       "      <td>56ddde6b9a695914005b9629</td>\n",
       "      <td>When were the Normans in Normandy?</td>\n",
       "      <td>0.571429</td>\n",
       "      <td>0.0</td>\n",
       "      <td>10th and 11th centuries</td>\n",
       "      <td>in the 10th and 11th centuries</td>\n",
       "      <td>10th and 11th centuries</td>\n",
       "      <td>The Normans were in Normandy from the 10th to ...</td>\n",
       "    </tr>\n",
       "    <tr>\n",
       "      <th>2</th>\n",
       "      <td>56ddde6b9a695914005b962a</td>\n",
       "      <td>From which countries did the Norse originate?</td>\n",
       "      <td>0.461538</td>\n",
       "      <td>0.0</td>\n",
       "      <td>Denmark, Iceland and Norway</td>\n",
       "      <td>Denmark, Iceland and Norway</td>\n",
       "      <td>Denmark, Iceland and Norway</td>\n",
       "      <td>The Norse people originated from modern-day De...</td>\n",
       "    </tr>\n",
       "    <tr>\n",
       "      <th>3</th>\n",
       "      <td>56ddde6b9a695914005b962b</td>\n",
       "      <td>Who was the Norse leader?</td>\n",
       "      <td>0.000000</td>\n",
       "      <td>0.0</td>\n",
       "      <td>Rollo</td>\n",
       "      <td>Rollo</td>\n",
       "      <td>Rollo</td>\n",
       "      <td>I'm sorry, but I can't provide an accurate ans...</td>\n",
       "    </tr>\n",
       "    <tr>\n",
       "      <th>4</th>\n",
       "      <td>56ddde6b9a695914005b962c</td>\n",
       "      <td>What century did the Normans first gain their ...</td>\n",
       "      <td>0.428571</td>\n",
       "      <td>0.0</td>\n",
       "      <td>10th century</td>\n",
       "      <td>the first half of the 10th century</td>\n",
       "      <td>10th</td>\n",
       "      <td>The Normans first gained their separate identi...</td>\n",
       "    </tr>\n",
       "  </tbody>\n",
       "</table>\n",
       "</div>"
      ],
      "text/plain": [
       "                         id  \\\n",
       "0  56ddde6b9a695914005b9628   \n",
       "1  56ddde6b9a695914005b9629   \n",
       "2  56ddde6b9a695914005b962a   \n",
       "3  56ddde6b9a695914005b962b   \n",
       "4  56ddde6b9a695914005b962c   \n",
       "\n",
       "                                            question  f1_score  exact_score  \\\n",
       "0               In what country is Normandy located?  0.333333          0.0   \n",
       "1                 When were the Normans in Normandy?  0.571429          0.0   \n",
       "2      From which countries did the Norse originate?  0.461538          0.0   \n",
       "3                          Who was the Norse leader?  0.000000          0.0   \n",
       "4  What century did the Normans first gain their ...  0.428571          0.0   \n",
       "\n",
       "                      answer_0                            answer_1  \\\n",
       "0                       France                              France   \n",
       "1      10th and 11th centuries      in the 10th and 11th centuries   \n",
       "2  Denmark, Iceland and Norway         Denmark, Iceland and Norway   \n",
       "3                        Rollo                               Rollo   \n",
       "4                 10th century  the first half of the 10th century   \n",
       "\n",
       "                      answer_3  \\\n",
       "0                       France   \n",
       "1      10th and 11th centuries   \n",
       "2  Denmark, Iceland and Norway   \n",
       "3                        Rollo   \n",
       "4                         10th   \n",
       "\n",
       "                                                pred  \n",
       "0                     Normandy is located in France.  \n",
       "1  The Normans were in Normandy from the 10th to ...  \n",
       "2  The Norse people originated from modern-day De...  \n",
       "3  I'm sorry, but I can't provide an accurate ans...  \n",
       "4  The Normans first gained their separate identi...  "
      ]
     },
     "execution_count": 46,
     "metadata": {},
     "output_type": "execute_result"
    }
   ],
   "source": [
    "df[[\"id\", \"question\", \"f1_score\", \"exact_score\", \"answer_0\", \"answer_1\", \"answer_3\", \"pred\"]].head()"
   ]
  },
  {
   "cell_type": "code",
   "execution_count": null,
   "id": "31595334",
   "metadata": {},
   "outputs": [
    {
     "data": {
      "text/html": [
       "<div>\n",
       "<style scoped>\n",
       "    .dataframe tbody tr th:only-of-type {\n",
       "        vertical-align: middle;\n",
       "    }\n",
       "\n",
       "    .dataframe tbody tr th {\n",
       "        vertical-align: top;\n",
       "    }\n",
       "\n",
       "    .dataframe thead th {\n",
       "        text-align: right;\n",
       "    }\n",
       "</style>\n",
       "<table border=\"1\" class=\"dataframe\">\n",
       "  <thead>\n",
       "    <tr style=\"text-align: right;\">\n",
       "      <th></th>\n",
       "      <th>question</th>\n",
       "      <th>pred</th>\n",
       "      <th>answer_0</th>\n",
       "      <th>answer_1</th>\n",
       "      <th>answer_2</th>\n",
       "      <th>f1_score</th>\n",
       "      <th>exact_score</th>\n",
       "    </tr>\n",
       "  </thead>\n",
       "  <tbody>\n",
       "    <tr>\n",
       "      <th>95</th>\n",
       "      <td>Where did Harold II die?</td>\n",
       "      <td>Battle of Hastings</td>\n",
       "      <td>Battle of Hastings</td>\n",
       "      <td>the Battle of Hastings</td>\n",
       "      <td>at the Battle of Hastings</td>\n",
       "      <td>1.0</td>\n",
       "      <td>1.0</td>\n",
       "    </tr>\n",
       "    <tr>\n",
       "      <th>97</th>\n",
       "      <td>When was the Battle of Hastings?</td>\n",
       "      <td>1066.</td>\n",
       "      <td>1066</td>\n",
       "      <td>In 1066</td>\n",
       "      <td>1066</td>\n",
       "      <td>1.0</td>\n",
       "      <td>1.0</td>\n",
       "    </tr>\n",
       "  </tbody>\n",
       "</table>\n",
       "</div>"
      ],
      "text/plain": [
       "                            question                pred            answer_0  \\\n",
       "95          Where did Harold II die?  Battle of Hastings  Battle of Hastings   \n",
       "97  When was the Battle of Hastings?               1066.                1066   \n",
       "\n",
       "                  answer_1                   answer_2  f1_score  exact_score  \n",
       "95  the Battle of Hastings  at the Battle of Hastings       1.0          1.0  \n",
       "97                 In 1066                       1066       1.0          1.0  "
      ]
     },
     "execution_count": 49,
     "metadata": {},
     "output_type": "execute_result"
    }
   ],
   "source": [
    "df[df.exact_score > 0][[\"question\", \"pred\", \"answer_0\", \"answer_1\", \"answer_2\", \"f1_score\", \"exact_score\"]]"
   ]
  },
  {
   "cell_type": "code",
   "execution_count": null,
   "id": "44233b42",
   "metadata": {},
   "outputs": [
    {
     "data": {
      "text/html": [
       "<div>\n",
       "<style scoped>\n",
       "    .dataframe tbody tr th:only-of-type {\n",
       "        vertical-align: middle;\n",
       "    }\n",
       "\n",
       "    .dataframe tbody tr th {\n",
       "        vertical-align: top;\n",
       "    }\n",
       "\n",
       "    .dataframe thead th {\n",
       "        text-align: right;\n",
       "    }\n",
       "</style>\n",
       "<table border=\"1\" class=\"dataframe\">\n",
       "  <thead>\n",
       "    <tr style=\"text-align: right;\">\n",
       "      <th></th>\n",
       "      <th>question</th>\n",
       "      <th>pred</th>\n",
       "      <th>answer_0</th>\n",
       "      <th>answer_1</th>\n",
       "      <th>answer_2</th>\n",
       "      <th>f1_score</th>\n",
       "      <th>exact_score</th>\n",
       "    </tr>\n",
       "  </thead>\n",
       "  <tbody>\n",
       "    <tr>\n",
       "      <th>97</th>\n",
       "      <td>When was the Battle of Hastings?</td>\n",
       "      <td>1066.</td>\n",
       "      <td>1066</td>\n",
       "      <td>In 1066</td>\n",
       "      <td>1066</td>\n",
       "      <td>1.000000</td>\n",
       "      <td>1.0</td>\n",
       "    </tr>\n",
       "    <tr>\n",
       "      <th>95</th>\n",
       "      <td>Where did Harold II die?</td>\n",
       "      <td>Battle of Hastings</td>\n",
       "      <td>Battle of Hastings</td>\n",
       "      <td>the Battle of Hastings</td>\n",
       "      <td>at the Battle of Hastings</td>\n",
       "      <td>1.000000</td>\n",
       "      <td>1.0</td>\n",
       "    </tr>\n",
       "    <tr>\n",
       "      <th>1</th>\n",
       "      <td>When were the Normans in Normandy?</td>\n",
       "      <td>The Normans were in Normandy from the 10th to ...</td>\n",
       "      <td>10th and 11th centuries</td>\n",
       "      <td>in the 10th and 11th centuries</td>\n",
       "      <td>10th and 11th centuries</td>\n",
       "      <td>0.571429</td>\n",
       "      <td>0.0</td>\n",
       "    </tr>\n",
       "    <tr>\n",
       "      <th>2</th>\n",
       "      <td>From which countries did the Norse originate?</td>\n",
       "      <td>The Norse people originated from modern-day De...</td>\n",
       "      <td>Denmark, Iceland and Norway</td>\n",
       "      <td>Denmark, Iceland and Norway</td>\n",
       "      <td>Denmark, Iceland and Norway</td>\n",
       "      <td>0.461538</td>\n",
       "      <td>0.0</td>\n",
       "    </tr>\n",
       "    <tr>\n",
       "      <th>4</th>\n",
       "      <td>What century did the Normans first gain their ...</td>\n",
       "      <td>The Normans first gained their separate identi...</td>\n",
       "      <td>10th century</td>\n",
       "      <td>the first half of the 10th century</td>\n",
       "      <td>10th</td>\n",
       "      <td>0.428571</td>\n",
       "      <td>0.0</td>\n",
       "    </tr>\n",
       "  </tbody>\n",
       "</table>\n",
       "</div>"
      ],
      "text/plain": [
       "                                             question  \\\n",
       "97                   When was the Battle of Hastings?   \n",
       "95                           Where did Harold II die?   \n",
       "1                  When were the Normans in Normandy?   \n",
       "2       From which countries did the Norse originate?   \n",
       "4   What century did the Normans first gain their ...   \n",
       "\n",
       "                                                 pred  \\\n",
       "97                                              1066.   \n",
       "95                                 Battle of Hastings   \n",
       "1   The Normans were in Normandy from the 10th to ...   \n",
       "2   The Norse people originated from modern-day De...   \n",
       "4   The Normans first gained their separate identi...   \n",
       "\n",
       "                       answer_0                            answer_1  \\\n",
       "97                         1066                             In 1066   \n",
       "95           Battle of Hastings              the Battle of Hastings   \n",
       "1       10th and 11th centuries      in the 10th and 11th centuries   \n",
       "2   Denmark, Iceland and Norway         Denmark, Iceland and Norway   \n",
       "4                  10th century  the first half of the 10th century   \n",
       "\n",
       "                       answer_2  f1_score  exact_score  \n",
       "97                         1066  1.000000          1.0  \n",
       "95    at the Battle of Hastings  1.000000          1.0  \n",
       "1       10th and 11th centuries  0.571429          0.0  \n",
       "2   Denmark, Iceland and Norway  0.461538          0.0  \n",
       "4                          10th  0.428571          0.0  "
      ]
     },
     "execution_count": 51,
     "metadata": {},
     "output_type": "execute_result"
    }
   ],
   "source": [
    "df.sort_values(by=\"f1_score\", ascending=False)[[\"question\", \"pred\", \"answer_0\", \"answer_1\", \"answer_2\", \"f1_score\", \"exact_score\"]].head()"
   ]
  },
  {
   "cell_type": "code",
   "execution_count": null,
   "id": "1b0b6eb3",
   "metadata": {},
   "outputs": [
    {
     "data": {
      "text/plain": [
       "'The Normans first gained their separate identity in the 10th century.'"
      ]
     },
     "execution_count": 52,
     "metadata": {},
     "output_type": "execute_result"
    }
   ],
   "source": [
    "# Note that this is a good answer but the f1 score is low because the model wraps the information \n",
    "# in a phrase -> these words are used to compute the f1 score \n",
    "df.loc[4][\"pred\"]"
   ]
  },
  {
   "cell_type": "code",
   "execution_count": null,
   "id": "238d4953",
   "metadata": {},
   "outputs": [],
   "source": []
  },
  {
   "cell_type": "code",
   "execution_count": null,
   "id": "bd8c87de",
   "metadata": {},
   "outputs": [],
   "source": []
  },
  {
   "cell_type": "code",
   "execution_count": null,
   "id": "c9b811f5",
   "metadata": {},
   "outputs": [],
   "source": []
  },
  {
   "cell_type": "code",
   "execution_count": null,
   "id": "cea93b86",
   "metadata": {},
   "outputs": [],
   "source": []
  },
  {
   "cell_type": "code",
   "execution_count": null,
   "id": "8e1eeda2",
   "metadata": {},
   "outputs": [],
   "source": []
  },
  {
   "cell_type": "code",
   "execution_count": null,
   "id": "96c6c7a6",
   "metadata": {},
   "outputs": [],
   "source": []
  },
  {
   "cell_type": "code",
   "execution_count": null,
   "id": "d91ef717",
   "metadata": {},
   "outputs": [],
   "source": []
  },
  {
   "cell_type": "code",
   "execution_count": null,
   "id": "f6c91c17",
   "metadata": {},
   "outputs": [],
   "source": []
  },
  {
   "cell_type": "code",
   "execution_count": null,
   "id": "da84cc4f",
   "metadata": {},
   "outputs": [],
   "source": []
  },
  {
   "cell_type": "code",
   "execution_count": null,
   "id": "119c89c5",
   "metadata": {},
   "outputs": [],
   "source": []
  },
  {
   "cell_type": "code",
   "execution_count": null,
   "id": "3c60fda8",
   "metadata": {},
   "outputs": [
    {
     "data": {
      "text/plain": [
       "{'56ddde6b9a695914005b9628': 0.33333333333333337,\n",
       " '56ddde6b9a695914005b9629': 0.5714285714285714,\n",
       " '56ddde6b9a695914005b962a': 0.46153846153846156,\n",
       " '56ddde6b9a695914005b962b': 0,\n",
       " '56ddde6b9a695914005b962c': 0.42857142857142855,\n",
       " '5ad39d53604f3c001a3fe8d1': 0,\n",
       " '5ad39d53604f3c001a3fe8d2': 0,\n",
       " '5ad39d53604f3c001a3fe8d3': 0,\n",
       " '5ad39d53604f3c001a3fe8d4': 0,\n",
       " '56dddf4066d3e219004dad5f': 0.4,\n",
       " '56dddf4066d3e219004dad60': 0,\n",
       " '56dddf4066d3e219004dad61': 0,\n",
       " '5ad3a266604f3c001a3fea27': 0,\n",
       " '5ad3a266604f3c001a3fea28': 0,\n",
       " '5ad3a266604f3c001a3fea29': 0,\n",
       " '5ad3a266604f3c001a3fea2a': 0,\n",
       " '5ad3a266604f3c001a3fea2b': 0,\n",
       " '56dde0379a695914005b9636': 0.07999999999999999,\n",
       " '56dde0379a695914005b9637': 0.15384615384615385,\n",
       " '5ad3ab70604f3c001a3feb89': 0,\n",
       " '5ad3ab70604f3c001a3feb8a': 0,\n",
       " '56dde0ba66d3e219004dad75': 0.25,\n",
       " '56dde0ba66d3e219004dad76': 0.28571428571428575,\n",
       " '56dde0ba66d3e219004dad77': 0,\n",
       " '5ad3ad61604f3c001a3fec0d': 0,\n",
       " '5ad3ad61604f3c001a3fec0e': 0,\n",
       " '5ad3ad61604f3c001a3fec0f': 0,\n",
       " '5ad3ad61604f3c001a3fec10': 0,\n",
       " '56dde1d966d3e219004dad8d': 0,\n",
       " '5ad3ae14604f3c001a3fec39': 0,\n",
       " '5ad3ae14604f3c001a3fec3a': 0,\n",
       " '56dde27d9a695914005b9651': 0,\n",
       " '56dde27d9a695914005b9652': 0,\n",
       " '5ad3af11604f3c001a3fec63': 0,\n",
       " '5ad3af11604f3c001a3fec64': 0,\n",
       " '5ad3af11604f3c001a3fec65': 0,\n",
       " '56dde2fa66d3e219004dad9b': 0,\n",
       " '5ad3c626604f3c001a3ff011': 0,\n",
       " '5ad3c626604f3c001a3ff012': 0,\n",
       " '5ad3c626604f3c001a3ff013': 0,\n",
       " '56de0f6a4396321400ee257f': 0.1111111111111111,\n",
       " '5ad3dbc6604f3c001a3ff3e9': 0,\n",
       " '5ad3dbc6604f3c001a3ff3ea': 0,\n",
       " '5ad3dbc6604f3c001a3ff3eb': 0,\n",
       " '5ad3dbc6604f3c001a3ff3ec': 0,\n",
       " '56de0ffd4396321400ee258d': 0.2,\n",
       " '56de0ffd4396321400ee258e': 0,\n",
       " '56de0ffd4396321400ee258f': 0,\n",
       " '5ad3de8b604f3c001a3ff467': 0,\n",
       " '5ad3de8b604f3c001a3ff468': 0,\n",
       " '5ad3de8b604f3c001a3ff469': 0,\n",
       " '5ad3de8b604f3c001a3ff46a': 0,\n",
       " '56de10b44396321400ee2593': 0,\n",
       " '56de10b44396321400ee2594': 0,\n",
       " '56de10b44396321400ee2595': 0,\n",
       " '5ad3e96b604f3c001a3ff689': 0,\n",
       " '5ad3e96b604f3c001a3ff68a': 0,\n",
       " '5ad3e96b604f3c001a3ff68b': 0,\n",
       " '5ad3e96b604f3c001a3ff68c': 0,\n",
       " '56de11154396321400ee25aa': 0,\n",
       " '5ad3ea79604f3c001a3ff6e9': 0,\n",
       " '5ad3ea79604f3c001a3ff6ea': 0,\n",
       " '5ad3ea79604f3c001a3ff6eb': 0,\n",
       " '56de148dcffd8e1900b4b5bc': 0,\n",
       " '56de148dcffd8e1900b4b5bd': 0,\n",
       " '56de148dcffd8e1900b4b5be': 0,\n",
       " '5ad3ed26604f3c001a3ff799': 0,\n",
       " '5ad3ed26604f3c001a3ff79a': 0,\n",
       " '5ad3ed26604f3c001a3ff79b': 0,\n",
       " '5ad3ed26604f3c001a3ff79c': 0,\n",
       " '56de15104396321400ee25b7': 0,\n",
       " '56de15104396321400ee25b8': 0,\n",
       " '56de15104396321400ee25b9': 0,\n",
       " '5ad3ee2d604f3c001a3ff7e1': 0,\n",
       " '5ad3ee2d604f3c001a3ff7e2': 0,\n",
       " '5ad3ee2d604f3c001a3ff7e3': 0,\n",
       " '56de1563cffd8e1900b4b5c2': 0,\n",
       " '56de1563cffd8e1900b4b5c3': 0,\n",
       " '56de1563cffd8e1900b4b5c4': 0,\n",
       " '5ad3f028604f3c001a3ff823': 0,\n",
       " '5ad3f028604f3c001a3ff824': 0,\n",
       " '5ad3f028604f3c001a3ff825': 0,\n",
       " '56de15dbcffd8e1900b4b5c8': 0,\n",
       " '56de15dbcffd8e1900b4b5c9': 0,\n",
       " '56de15dbcffd8e1900b4b5ca': 0.4,\n",
       " '56de15dbcffd8e1900b4b5cb': 0.2222222222222222,\n",
       " '5ad3f187604f3c001a3ff86f': 0,\n",
       " '5ad3f187604f3c001a3ff870': 0,\n",
       " '5ad3f187604f3c001a3ff871': 0,\n",
       " '56de1645cffd8e1900b4b5d0': 0,\n",
       " '56de1645cffd8e1900b4b5d1': 0,\n",
       " '56de1645cffd8e1900b4b5d2': 0.2222222222222222,\n",
       " '5ad3f350604f3c001a3ff8ef': 0,\n",
       " '5ad3f350604f3c001a3ff8f0': 0,\n",
       " '5ad3f350604f3c001a3ff8f1': 0,\n",
       " '56de16ca4396321400ee25c5': 1.0,\n",
       " '56de16ca4396321400ee25c6': 0,\n",
       " '56de16ca4396321400ee25c7': 1.0,\n",
       " '56de16ca4396321400ee25c8': 0,\n",
       " '5ad3f4b1604f3c001a3ff951': 0}"
      ]
     },
     "execution_count": 3,
     "metadata": {},
     "output_type": "execute_result"
    }
   ],
   "source": [
    "f1_scores"
   ]
  },
  {
   "cell_type": "code",
   "execution_count": null,
   "id": "575c468b",
   "metadata": {},
   "outputs": [],
   "source": []
  },
  {
   "cell_type": "code",
   "execution_count": null,
   "id": "11065522-8c9d-49b5-84c5-24c3ddef9fc5",
   "metadata": {},
   "outputs": [],
   "source": []
  },
  {
   "cell_type": "code",
   "execution_count": null,
   "id": "a6802a3c-b96d-441d-bbcb-35c0104f473b",
   "metadata": {},
   "outputs": [],
   "source": []
  },
  {
   "cell_type": "code",
   "execution_count": null,
   "id": "dfe04436-1a08-466b-b357-e96f2e6117b5",
   "metadata": {},
   "outputs": [],
   "source": []
  },
  {
   "cell_type": "code",
   "execution_count": null,
   "id": "64fb6ea3-5e53-4edf-b7c9-67055cdacd56",
   "metadata": {},
   "outputs": [],
   "source": []
  },
  {
   "cell_type": "code",
   "execution_count": null,
   "id": "ba1dd1ea-74aa-451a-9358-3ef1dad03941",
   "metadata": {},
   "outputs": [],
   "source": []
  },
  {
   "cell_type": "code",
   "execution_count": null,
   "id": "c4752753-c7fa-435e-a788-27643232fcb0",
   "metadata": {},
   "outputs": [],
   "source": []
  }
 ],
 "metadata": {
  "kernelspec": {
   "display_name": ".venv",
   "language": "python",
   "name": "python3"
  },
  "language_info": {
   "codemirror_mode": {
    "name": "ipython",
    "version": 3
   },
   "file_extension": ".py",
   "mimetype": "text/x-python",
   "name": "python",
   "nbconvert_exporter": "python",
   "pygments_lexer": "ipython3",
   "version": "3.12.2"
  }
 },
 "nbformat": 4,
 "nbformat_minor": 5
}
