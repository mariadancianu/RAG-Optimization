{
 "cells": [
  {
   "cell_type": "code",
   "execution_count": 1,
   "id": "b0accd0d-fb0b-4c5e-be02-8063d3b6a2c9",
   "metadata": {},
   "outputs": [
    {
     "data": {
      "text/plain": [
       "True"
      ]
     },
     "execution_count": 1,
     "metadata": {},
     "output_type": "execute_result"
    }
   ],
   "source": [
    "import json\n",
    "import os \n",
    "import pandas as pd\n",
    "import numpy as np \n",
    "import seaborn as sns\n",
    "import matplotlib.pyplot as plt\n",
    "from tqdm.auto import tqdm\n",
    "from rag_fine_tuning import create_vector_store, convert_context_to_langchain_docs\n",
    "from rag_fine_tuning import query_vector_store, save_llm_answers, fine_tune_rag\n",
    "from data_utils import convert_json_to_dataframe, create_json_subset, collect_all_results, merge_results\n",
    "sns.set_style(\"whitegrid\")\n",
    "from langchain.embeddings import HuggingFaceEmbeddings\n",
    "from langchain_openai import OpenAIEmbeddings\n",
    "from dotenv import load_dotenv\n",
    "load_dotenv()"
   ]
  },
  {
   "cell_type": "code",
   "execution_count": 2,
   "id": "953814b1",
   "metadata": {},
   "outputs": [],
   "source": [
    "%load_ext autoreload"
   ]
  },
  {
   "cell_type": "markdown",
   "id": "1ece24fd",
   "metadata": {},
   "source": [
    "# Useful material \n",
    "# SQuAD Evaluation guidelines: \n",
    "# https://worksheets.codalab.org/worksheets/0x8212d84ca41c4150b555a075b19ccc05/\n",
    "# https://rajpurkar.github.io/SQuAD-explorer/"
   ]
  },
  {
   "cell_type": "markdown",
   "id": "868b749b",
   "metadata": {},
   "source": [
    "# Convert json data to pandas dataframe "
   ]
  },
  {
   "cell_type": "code",
   "execution_count": 2,
   "id": "f49d8df1-cea0-410b-9c27-985406ea208b",
   "metadata": {},
   "outputs": [
    {
     "name": "stdout",
     "output_type": "stream",
     "text": [
      "Saving dataframe of shape:  (11873, 14)\n"
     ]
    }
   ],
   "source": [
    "convert_json_to_dataframe()"
   ]
  },
  {
   "cell_type": "code",
   "execution_count": 6,
   "id": "a2a6d356",
   "metadata": {},
   "outputs": [
    {
     "data": {
      "text/plain": [
       "(11873, 14)"
      ]
     },
     "execution_count": 6,
     "metadata": {},
     "output_type": "execute_result"
    }
   ],
   "source": [
    "df_all_data = pd.read_csv(\"dataset.csv\")\n",
    "df_all_data.shape"
   ]
  },
  {
   "cell_type": "code",
   "execution_count": 9,
   "id": "5771778e-ae9e-49b4-9216-658bdefc8db8",
   "metadata": {},
   "outputs": [],
   "source": [
    "df_selected = df_all_data.copy()"
   ]
  },
  {
   "cell_type": "code",
   "execution_count": 10,
   "id": "81f2eebd-70b9-4118-b691-0c6c96e72a95",
   "metadata": {},
   "outputs": [],
   "source": [
    "# some rough statistics for the context length \n",
    "df_selected.loc[:, \"context_chars\"] = df_selected[\"context\"].apply(lambda x: len(x))\n",
    "df_selected.loc[:, \"context_words\"] = df_selected.loc[:, \"context\"].apply(lambda x: len(x.split(\" \")))"
   ]
  },
  {
   "cell_type": "code",
   "execution_count": 12,
   "id": "80f66f8e-3eb9-4943-9b2e-40df68068a8f",
   "metadata": {},
   "outputs": [
    {
     "data": {
      "text/html": [
       "<div>\n",
       "<style scoped>\n",
       "    .dataframe tbody tr th:only-of-type {\n",
       "        vertical-align: middle;\n",
       "    }\n",
       "\n",
       "    .dataframe tbody tr th {\n",
       "        vertical-align: top;\n",
       "    }\n",
       "\n",
       "    .dataframe thead th {\n",
       "        text-align: right;\n",
       "    }\n",
       "</style>\n",
       "<table border=\"1\" class=\"dataframe\">\n",
       "  <thead>\n",
       "    <tr style=\"text-align: right;\">\n",
       "      <th></th>\n",
       "      <th>question</th>\n",
       "      <th>list_idx</th>\n",
       "      <th>paragraph_idx</th>\n",
       "      <th>question_idx</th>\n",
       "      <th>id</th>\n",
       "      <th>is_impossible</th>\n",
       "      <th>answer_0</th>\n",
       "      <th>answer_1</th>\n",
       "      <th>answer_2</th>\n",
       "      <th>answer_3</th>\n",
       "      <th>context</th>\n",
       "      <th>title</th>\n",
       "      <th>answer_4</th>\n",
       "      <th>answer_5</th>\n",
       "      <th>context_chars</th>\n",
       "      <th>context_words</th>\n",
       "    </tr>\n",
       "  </thead>\n",
       "  <tbody>\n",
       "    <tr>\n",
       "      <th>0</th>\n",
       "      <td>In what country is Normandy located?</td>\n",
       "      <td>0</td>\n",
       "      <td>0</td>\n",
       "      <td>0</td>\n",
       "      <td>56ddde6b9a695914005b9628</td>\n",
       "      <td>False</td>\n",
       "      <td>France</td>\n",
       "      <td>France</td>\n",
       "      <td>France</td>\n",
       "      <td>France</td>\n",
       "      <td>The Normans (Norman: Nourmands; French: Norman...</td>\n",
       "      <td>Normans</td>\n",
       "      <td>NaN</td>\n",
       "      <td>NaN</td>\n",
       "      <td>742</td>\n",
       "      <td>113</td>\n",
       "    </tr>\n",
       "    <tr>\n",
       "      <th>1</th>\n",
       "      <td>When were the Normans in Normandy?</td>\n",
       "      <td>0</td>\n",
       "      <td>0</td>\n",
       "      <td>1</td>\n",
       "      <td>56ddde6b9a695914005b9629</td>\n",
       "      <td>False</td>\n",
       "      <td>10th and 11th centuries</td>\n",
       "      <td>in the 10th and 11th centuries</td>\n",
       "      <td>10th and 11th centuries</td>\n",
       "      <td>10th and 11th centuries</td>\n",
       "      <td>The Normans (Norman: Nourmands; French: Norman...</td>\n",
       "      <td>Normans</td>\n",
       "      <td>NaN</td>\n",
       "      <td>NaN</td>\n",
       "      <td>742</td>\n",
       "      <td>113</td>\n",
       "    </tr>\n",
       "  </tbody>\n",
       "</table>\n",
       "</div>"
      ],
      "text/plain": [
       "                               question  list_idx  paragraph_idx  \\\n",
       "0  In what country is Normandy located?         0              0   \n",
       "1    When were the Normans in Normandy?         0              0   \n",
       "\n",
       "   question_idx                        id  is_impossible  \\\n",
       "0             0  56ddde6b9a695914005b9628          False   \n",
       "1             1  56ddde6b9a695914005b9629          False   \n",
       "\n",
       "                  answer_0                        answer_1  \\\n",
       "0                   France                          France   \n",
       "1  10th and 11th centuries  in the 10th and 11th centuries   \n",
       "\n",
       "                  answer_2                 answer_3  \\\n",
       "0                   France                   France   \n",
       "1  10th and 11th centuries  10th and 11th centuries   \n",
       "\n",
       "                                             context    title answer_4  \\\n",
       "0  The Normans (Norman: Nourmands; French: Norman...  Normans      NaN   \n",
       "1  The Normans (Norman: Nourmands; French: Norman...  Normans      NaN   \n",
       "\n",
       "  answer_5  context_chars  context_words  \n",
       "0      NaN            742            113  \n",
       "1      NaN            742            113  "
      ]
     },
     "execution_count": 12,
     "metadata": {},
     "output_type": "execute_result"
    }
   ],
   "source": [
    "df_selected.head(2)"
   ]
  },
  {
   "cell_type": "code",
   "execution_count": 13,
   "id": "f8cab993-b3ab-4947-acb5-016382d1321b",
   "metadata": {},
   "outputs": [
    {
     "data": {
      "text/plain": [
       "<Axes: xlabel='context_chars', ylabel='Count'>"
      ]
     },
     "execution_count": 13,
     "metadata": {},
     "output_type": "execute_result"
    },
    {
     "data": {
      "image/png": "[encoded data removed]",
      "text/plain": [
       "<Figure size 800x500 with 1 Axes>"
      ]
     },
     "metadata": {},
     "output_type": "display_data"
    }
   ],
   "source": [
    "plt.figure(figsize=[8, 5])\n",
    "sns.histplot(df_selected.drop_duplicates(subset=\"context\")[\"context_chars\"])"
   ]
  },
  {
   "cell_type": "code",
   "execution_count": 14,
   "id": "6cfb1095-e0d8-4f06-b203-08ff1689aeaa",
   "metadata": {},
   "outputs": [
    {
     "data": {
      "text/plain": [
       "<Axes: xlabel='context_words', ylabel='Count'>"
      ]
     },
     "execution_count": 14,
     "metadata": {},
     "output_type": "execute_result"
    },
    {
     "data": {
      "image/png": "[encoded data removed]",
      "text/plain": [
       "<Figure size 800x500 with 1 Axes>"
      ]
     },
     "metadata": {},
     "output_type": "display_data"
    }
   ],
   "source": [
    "plt.figure(figsize=[8, 5])\n",
    "sns.histplot(df_selected.drop_duplicates(subset=\"context\")[\"context_words\"])"
   ]
  },
  {
   "cell_type": "code",
   "execution_count": null,
   "id": "6a9848fc",
   "metadata": {},
   "outputs": [],
   "source": [
    "# create original json structure for only a subset of questions, used for tests and fine-tuning \n",
    "# this file will be used by the evaluation.py file \n",
    "\n",
    "df = pd.read_csv(\"dataset.csv\")\n",
    "df_sel = df[0:500]\n",
    "df_sel.head(2)\n",
    "\n",
    "create_json_subset(df_sel)"
   ]
  },
  {
   "cell_type": "markdown",
   "id": "ef7c8057-750e-44d6-81c8-d8ad6717b311",
   "metadata": {},
   "source": [
    "# RAG architecture"
   ]
  },
  {
   "cell_type": "markdown",
   "id": "8caf8664-3381-4701-b297-bbcfa5176872",
   "metadata": {},
   "source": [
    "Steps:\n",
    "\n",
    "**Data Indexing**\n",
    "\n",
    "Converting text data into a searchable database of vector embeddings, which represent the meaning of the text in a format that computers can easily understand.\n",
    "- **Documents Chunking**: The collection of documents is split into smaller chunks of text. This allows for more precise and relevant pieces of information to be fed into the language model when needed, avoiding information overload.\n",
    "- **Vector Embeddings**: The chunks of text are then transformed into vector embeddings. These embeddings encode the meaning of natural language text into numerical representations.\n",
    "- **Vector Database**: Finally, the vector embeddings are stored in a vector database, making them easily searchable.\n",
    "\n",
    "**Documents -> Text chunks -> Vector Embeddings -> Vector DB**\n",
    "\n",
    "**Load -> Split -> Embed -> Store**"
   ]
  },
  {
   "cell_type": "markdown",
   "id": "f9dfc599",
   "metadata": {},
   "source": [
    "## Convert the pandas context to Langchain documents "
   ]
  },
  {
   "cell_type": "code",
   "execution_count": 2,
   "id": "957f241f-d54c-452e-94ad-cfcc8a81a836",
   "metadata": {},
   "outputs": [],
   "source": [
    "df = pd.read_csv(\"dataset.csv\")\n",
    "\n",
    "langchain_docs = convert_context_to_langchain_docs(df)"
   ]
  },
  {
   "cell_type": "code",
   "execution_count": 3,
   "id": "46d8e92a-9322-4359-b18b-f4217fb78003",
   "metadata": {},
   "outputs": [
    {
     "name": "stdout",
     "output_type": "stream",
     "text": [
      "1204\n",
      "page_content='The Normans (Norman: Nourmands; French: Normands; Latin: Normanni) were the people who in the 10th and 11th centuries gave their name to Normandy, a region in France. They were descended from Norse (\"Norman\" comes from \"Norseman\") raiders and pirates from Denmark, Iceland and Norway who, under their leader Rollo, agreed to swear fealty to King Charles III of West Francia. Through generations of assimilation and mixing with the native Frankish and Roman-Gaulish populations, their descendants would gradually merge with the Carolingian-based cultures of West Francia. The distinct cultural and ethnic identity of the Normans emerged initially in the first half of the 10th century, and it continued to evolve over the succeeding centuries.' metadata={'title': 'Normans'}\n",
      "page_content='The Norman dynasty had a major political, cultural and military impact on medieval Europe and even the Near East. The Normans were famed for their martial spirit and eventually for their Christian piety, becoming exponents of the Catholic orthodoxy into which they assimilated. They adopted the Gallo-Romance language of the Frankish land they settled, their dialect becoming known as Norman, Normaund or Norman French, an important literary language. The Duchy of Normandy, which they formed by treaty with the French crown, was a great fief of medieval France, and under Richard I of Normandy was forged into a cohesive and formidable principality in feudal tenure. The Normans are noted both for their culture, such as their unique Romanesque architecture and musical traditions, and for their significant military accomplishments and innovations. Norman adventurers founded the Kingdom of Sicily under Roger II after conquering southern Italy on the Saracens and Byzantines, and an expedition on behalf of their duke, William the Conqueror, led to the Norman conquest of England at the Battle of Hastings in 1066. Norman cultural and military influence spread from these new European centres to the Crusader states of the Near East, where their prince Bohemond I founded the Principality of Antioch in the Levant, to Scotland and Wales in Great Britain, to Ireland, and to the coasts of north Africa and the Canary Islands.' metadata={'title': 'Normans'}\n"
     ]
    }
   ],
   "source": [
    "print(len(langchain_docs))\n",
    "print(langchain_docs[0])\n",
    "print(langchain_docs[1])"
   ]
  },
  {
   "cell_type": "markdown",
   "id": "d2075d54",
   "metadata": {},
   "source": [
    "## Vector database"
   ]
  },
  {
   "cell_type": "code",
   "execution_count": 3,
   "id": "6e9878b4",
   "metadata": {},
   "outputs": [],
   "source": [
    "embeddings_model = \"text-embedding-3-small\"\n",
    "embeddings = OpenAIEmbeddings(model=embeddings_model)\n",
    "\n",
    "db_dir = os.path.join(os.getcwd(), \"vector_databases\")\n"
   ]
  },
  {
   "cell_type": "code",
   "execution_count": 12,
   "id": "c7086c9d-a7e4-4f99-86d7-d6803c3a7ec9",
   "metadata": {},
   "outputs": [
    {
     "name": "stdout",
     "output_type": "stream",
     "text": [
      "Vector store test_vector_store already exists. No need to initialize.\n"
     ]
    }
   ],
   "source": [
    "create_vector_store(langchain_docs, embeddings, store_name=\"test_vector_store\", db_dir=db_dir, chunk_size=200, chunk_overlap=15)"
   ]
  },
  {
   "cell_type": "markdown",
   "id": "b0571139",
   "metadata": {},
   "source": [
    "## Querying the vector database "
   ]
  },
  {
   "cell_type": "code",
   "execution_count": null,
   "id": "20c5fcd1-6677-4a48-823c-7b899bfee9fc",
   "metadata": {},
   "outputs": [
    {
     "name": "stderr",
     "output_type": "stream",
     "text": [
      "/Users/mariadancianu/Desktop/Git Projects/SQuAD_RAG_experiments/rag_fine_tuning.py:90: LangChainDeprecationWarning: The class `Chroma` was deprecated in LangChain 0.2.9 and will be removed in 1.0. An updated version of the class exists in the :class:`~langchain-chroma package and should be used instead. To use it run `pip install -U :class:`~langchain-chroma` and import as `from :class:`~langchain_chroma import Chroma``.\n",
      "  db = Chroma(\n",
      "No relevant docs were retrieved using the relevance score threshold 0.1\n"
     ]
    },
    {
     "name": "stdout",
     "output_type": "stream",
     "text": [
      "[]\n"
     ]
    }
   ],
   "source": [
    "query = \"How is the weather today in Milan?\"\n",
    "store_name =  \"test_vector_store\"\n",
    "relevant_docs = query_vector_store(store_name, query, embeddings, db_dir, k=3, score_threshold=0.1)\n",
    "\n",
    "print(relevant_docs)"
   ]
  },
  {
   "cell_type": "code",
   "execution_count": 6,
   "id": "d473dd71",
   "metadata": {},
   "outputs": [
    {
     "name": "stderr",
     "output_type": "stream",
     "text": [
      "/Users/mariadancianu/Desktop/Git Projects/SQuAD_RAG_experiments/rag_fine_tuning.py:91: LangChainDeprecationWarning: The class `Chroma` was deprecated in LangChain 0.2.9 and will be removed in 1.0. An updated version of the class exists in the :class:`~langchain-chroma package and should be used instead. To use it run `pip install -U :class:`~langchain-chroma` and import as `from :class:`~langchain_chroma import Chroma``.\n",
      "  db = Chroma(\n"
     ]
    },
    {
     "name": "stdout",
     "output_type": "stream",
     "text": [
      "3\n",
      "The Normans (Norman: Nourmands; French: Normands; Latin: Normanni) were the people who in the 10th and 11th centuries gave their name to Normandy, a region in France\n",
      ". The distinct cultural and ethnic identity of the Normans emerged initially in the first half of the 10th century, and it continued to evolve over the succeeding centuries.\n",
      ". The Normans were famed for their martial spirit and eventually for their Christian piety, becoming exponents of the Catholic orthodoxy into which they assimilated\n"
     ]
    }
   ],
   "source": [
    "query = \"Who were the normans?\"\n",
    "store_name =  \"test_vector_store\"\n",
    "relevant_docs = query_vector_store(store_name, query, embeddings, db_dir, k=3, score_threshold=0.1)\n",
    "\n",
    "print(len(relevant_docs))\n",
    "\n",
    "for doc in relevant_docs:\n",
    "    print(doc.page_content)"
   ]
  },
  {
   "cell_type": "markdown",
   "id": "2e5aa673",
   "metadata": {},
   "source": [
    "## Run the RAG over a subset of questions and save the answers "
   ]
  },
  {
   "cell_type": "code",
   "execution_count": 5,
   "id": "bb0a1187",
   "metadata": {},
   "outputs": [],
   "source": [
    "df_to_test = pd.read_csv(\"dataset.csv\")\n",
    "df_to_test = df_to_test[0:500]"
   ]
  },
  {
   "cell_type": "code",
   "execution_count": null,
   "id": "ff098d54",
   "metadata": {},
   "outputs": [
    {
     "name": "stdout",
     "output_type": "stream",
     "text": [
      "/Users/mariadancianu/Desktop/Git Projects/SQuAD_RAG_experiments/vector_databases/db_150_text-embedding-3-small\n",
      "Vector store chroma_db_openai already exists. No need to initialize.\n"
     ]
    },
    {
     "name": "stderr",
     "output_type": "stream",
     "text": [
      "  0%|          | 0/500 [00:00<?, ?it/s]/Users/mariadancianu/Desktop/Git Projects/SQuAD_RAG_experiments/rag_fine_tuning.py:91: LangChainDeprecationWarning: The class `Chroma` was deprecated in LangChain 0.2.9 and will be removed in 1.0. An updated version of the class exists in the :class:`~langchain-chroma package and should be used instead. To use it run `pip install -U :class:`~langchain-chroma` and import as `from :class:`~langchain_chroma import Chroma``.\n",
      "  db = Chroma(\n",
      " 24%|██▍       | 120/500 [03:47<05:11,  1.22it/s] No relevant docs were retrieved using the relevance score threshold 0.1\n",
      " 81%|████████  | 403/500 [08:27<03:06,  1.92s/it]/Users/mariadancianu/Desktop/Git Projects/SQuAD_RAG_experiments/.venv/lib/python3.12/site-packages/langchain_core/vectorstores/base.py:1076: UserWarning: Relevance scores must be between 0 and 1, got [(Document(metadata={'start_index': 451, 'title': 'Force'}, page_content='from ordered to more random conditions as entropy increases'), -0.10112879189601554), (Document(metadata={'start_index': 103, 'title': 'Force'}, page_content='. This is often due to macrophysical considerations that yield forces as arising from a macroscopic statistical average of microstates'), -0.15138979590236068), (Document(metadata={'start_index': 1085, 'title': 'Force'}, page_content='how complicated the machine'), -0.15391167569041775)]\n",
      "  self.vectorstore.similarity_search_with_relevance_scores(\n",
      "No relevant docs were retrieved using the relevance score threshold 0.1\n",
      "100%|██████████| 500/500 [10:17<00:00,  1.23s/it]\n"
     ]
    }
   ],
   "source": [
    "embeddings_model = \"text-embedding-3-small\"\n",
    "embeddings = OpenAIEmbeddings(model=embeddings_model)\n",
    "\n",
    "save_llm_answers(df_to_test, langchain_docs, embeddings, embeddings_model, chunk_size=150, filename=\"test_predictions.json\")"
   ]
  },
  {
   "cell_type": "markdown",
   "id": "e11654ce",
   "metadata": {},
   "source": []
  },
  {
   "cell_type": "markdown",
   "id": "b204b4fa",
   "metadata": {},
   "source": [
    "## RAG Fine-tuning "
   ]
  },
  {
   "cell_type": "markdown",
   "id": "273535f0",
   "metadata": {},
   "source": [
    "Comments\n",
    "Peak distribution for number of characters in the documents is ~600 words. \n",
    "- smaller chunks: reduced noise from irrelevant content - works well with dense embeddings*\n",
    "- larger chunks: preserves context better; ideal if queries require full document context, works well with hybrid search*\n",
    "\n",
    "TEXT CHUNKING \n",
    "\n",
    "1. CHARACTER SPLITTING : divide the text into N-character sized chunks. Can split words in the middle. \n",
    "2. RECURSIVE CHARACTER SPLITTING: preserves sentences. Avoids splitting sentences midword (note that RecursiveCharacterTextSplitter with separator does exactly that). Split the\n",
    "document where a double new line is present, then, if the chunk size is still exceeded, split at new lines, and so on.\n",
    "3. SEMANTIC SPLITTING: keeps related content together. Use embeddings to split based on meaning.\n",
    "+ other techniques\n",
    "\n",
    "EMBEDDINGS \n",
    "Create fixed-length vector representation of text, focusing on semanting meaning for tasks like similarity comparison. \n",
    "Most up to date embedding models, both proprietary and open source, with performance metrics across different tasks: https://huggingface.co/spaces/mteb/leaderboard \n",
    "This contains also a \"retrieval\" column with performance metrics. Click on the column to sort the models.\n",
    "Interesting article: https://www.mongodb.com/developer/products/atlas/choose-embedding-model-rag/\n"
   ]
  },
  {
   "cell_type": "code",
   "execution_count": 2,
   "id": "f0830832",
   "metadata": {},
   "outputs": [
    {
     "name": "stdout",
     "output_type": "stream",
     "text": [
      "Running gpt-3.5-turbo - 100 - text-embedding-3-small\n",
      "Results already exist for these settings: skipping!\n",
      "Running gpt-3.5-turbo - 200 - text-embedding-3-small\n",
      "Results already exist for these settings: skipping!\n",
      "Running gpt-3.5-turbo - 400 - text-embedding-3-small\n",
      "Results already exist for these settings: skipping!\n",
      "Running gpt-3.5-turbo - 500 - text-embedding-3-small\n",
      "Results already exist for these settings: skipping!\n",
      "Running gpt-3.5-turbo - 600 - text-embedding-3-small\n",
      "Results already exist for these settings: skipping!\n",
      "Running gpt-3.5-turbo - 100 - text-embedding-3-large\n",
      "Results already exist for these settings: skipping!\n",
      "Running gpt-3.5-turbo - 200 - text-embedding-3-large\n",
      "/Users/mariadancianu/Desktop/Git Projects/SQuAD_RAG_experiments/vector_databases/db_200_text-embedding-3-large\n",
      "Vector store chroma_db_openai already exists. No need to initialize.\n"
     ]
    },
    {
     "name": "stderr",
     "output_type": "stream",
     "text": [
      "  0%|          | 0/500 [00:00<?, ?it/s]/Users/mariadancianu/Desktop/Git Projects/SQuAD_RAG_experiments/rag_fine_tuning.py:96: LangChainDeprecationWarning: The class `Chroma` was deprecated in LangChain 0.2.9 and will be removed in 1.0. An updated version of the class exists in the :class:`~langchain-chroma package and should be used instead. To use it run `pip install -U :class:`~langchain-chroma` and import as `from :class:`~langchain_chroma import Chroma``.\n",
      "  db = Chroma(\n",
      " 17%|█▋        | 83/500 [01:30<06:23,  1.09it/s]/Users/mariadancianu/Desktop/Git Projects/SQuAD_RAG_experiments/.venv/lib/python3.12/site-packages/langchain_core/vectorstores/base.py:1076: UserWarning: Relevance scores must be between 0 and 1, got [(Document(metadata={'start_index': 226, 'title': 'Normans'}, page_content='. This relationship eventually produced closer ties of blood through the marriage of Emma, sister of Duke Richard II of Normandy, and King Ethelred II of England'), 0.14839595185433918), (Document(metadata={'start_index': 495, 'title': 'Normans'}, page_content=\". His stay in Normandy (until 1016) influenced him and his sons by Emma, who stayed in Normandy after Cnut the Great's conquest of the isle.\"), 0.05226050768753632), (Document(metadata={'start_index': 193, 'title': 'Normans'}, page_content='and Hugh Lupus in Cheshire'), -0.049796484401350094)]\n",
      "  self.vectorstore.similarity_search_with_relevance_scores(\n",
      " 23%|██▎       | 116/500 [02:12<09:18,  1.46s/it]/Users/mariadancianu/Desktop/Git Projects/SQuAD_RAG_experiments/.venv/lib/python3.12/site-packages/langchain_core/vectorstores/base.py:1076: UserWarning: Relevance scores must be between 0 and 1, got [(Document(metadata={'start_index': 327, 'title': 'Islamism'}, page_content='dozens of European tourists and Egyptian bystanders, and over 100 Egyptian police'), 0.02815967530355179), (Document(metadata={'start_index': 184, 'title': 'Islamism'}, page_content='making peace with Israel – released Islamists from prison and welcomed home exiles in tacit exchange for political support in his struggle against leftists'), -0.016565127343359576), (Document(metadata={'start_index': 126, 'title': '1973_oil_crisis'}, page_content=\". This renewal of hostilities in the Arab–Israeli conflict released the underlying economic pressure on oil prices. At the time, Iran was the world's second-largest oil exporter and a close US ally\"), -0.027815638497463713)]\n",
      "  self.vectorstore.similarity_search_with_relevance_scores(\n",
      "No relevant docs were retrieved using the relevance score threshold 0.1\n",
      " 24%|██▍       | 120/500 [02:15<06:22,  1.01s/it]/Users/mariadancianu/Desktop/Git Projects/SQuAD_RAG_experiments/.venv/lib/python3.12/site-packages/langchain_core/vectorstores/base.py:1076: UserWarning: Relevance scores must be between 0 and 1, got [(Document(metadata={'start_index': 478, 'title': 'Yuan_dynasty'}, page_content='. The surnames of his Jurchen wives were Mo-nien and Na-ho; the surname of his Korean wife was Li; and the surname of his Han Chinese wife was Shi'), -0.035529860474109665), (Document(metadata={'start_index': 428, 'title': 'Normans'}, page_content=\". Having spent time at the court of Henry I of England (married to David's sister Maud of Scotland), and needing them to wrestle the kingdom from his half-brother Máel Coluim mac Alaxandair, David had\"), -0.045474240792861), (Document(metadata={'start_index': 290, 'title': 'Yuan_dynasty'}, page_content='. The Mongol custom of long standing quda/marriage alliance with Mongol clans, the Onggirat, and the Ikeres, kept the imperial blood purely Mongol until the reign of Tugh Temur, whose mother was a'), -0.06122409661289696)]\n",
      "  self.vectorstore.similarity_search_with_relevance_scores(\n",
      "No relevant docs were retrieved using the relevance score threshold 0.1\n",
      " 31%|███       | 156/500 [02:51<05:35,  1.02it/s]/Users/mariadancianu/Desktop/Git Projects/SQuAD_RAG_experiments/.venv/lib/python3.12/site-packages/langchain_core/vectorstores/base.py:1076: UserWarning: Relevance scores must be between 0 and 1, got [(Document(metadata={'start_index': 653, 'title': 'French_and_Indian_War'}, page_content='and slaves'), 0.05955570569628699), (Document(metadata={'start_index': 1802, 'title': 'Pharmacy'}, page_content='. He made clear distinction between sodium carbonate and potassium carbonate, and drew attention to the poisonous nature of copper compounds, especially copper vitriol, and also lead compounds'), 0.010163898220067247), (Document(metadata={'start_index': 909, 'title': 'French_and_Indian_War'}, page_content='Crown, was broken'), -0.008252420117858872)]\n",
      "  self.vectorstore.similarity_search_with_relevance_scores(\n",
      "No relevant docs were retrieved using the relevance score threshold 0.1\n",
      " 49%|████▊     | 243/500 [04:18<04:24,  1.03s/it]No relevant docs were retrieved using the relevance score threshold 0.1\n",
      " 86%|████████▋ | 432/500 [07:37<01:04,  1.06it/s]No relevant docs were retrieved using the relevance score threshold 0.1\n",
      "100%|██████████| 500/500 [08:45<00:00,  1.05s/it]\n"
     ]
    },
    {
     "name": "stdout",
     "output_type": "stream",
     "text": [
      "Running gpt-3.5-turbo - 400 - text-embedding-3-large\n",
      "/Users/mariadancianu/Desktop/Git Projects/SQuAD_RAG_experiments/vector_databases/db_400_text-embedding-3-large\n",
      "\n",
      "--- Creating vector store chroma_db_openai ---\n",
      "--- Finished creating vector store chroma_db_openai ---\n"
     ]
    },
    {
     "name": "stderr",
     "output_type": "stream",
     "text": [
      "  3%|▎         | 13/500 [00:15<10:49,  1.33s/it]/Users/mariadancianu/Desktop/Git Projects/SQuAD_RAG_experiments/.venv/lib/python3.12/site-packages/langchain_core/vectorstores/base.py:1076: UserWarning: Relevance scores must be between 0 and 1, got [(Document(metadata={'start_index': 315, 'title': 'Huguenot'}, page_content='. Andrew Lortie (born André Lortie), a leading Huguenot theologian and writer who led the exiled community in London, became known for articulating their criticism of the Pope and the doctrine of transubstantiation during Mass.'), 0.017011918166117357), (Document(metadata={'start_index': 347, 'title': 'Harvard_University'}, page_content='. Derived from William Ellery Channing and Ralph Waldo Emerson, these convictions were focused on the dignity and worth of human nature, the right and ability of each person to perceive truth, and the indwelling God in each person.'), -0.007391950058660557), (Document(metadata={'start_index': 334, 'title': 'Huguenot'}, page_content=\". He was regarded by the Gallicans and Protestants as a noble man who respected people's dignity and lives. Janet Gray and other supporters of the hypothesis suggest that the name huguenote would be roughly equivalent to little Hugos, or those who want Hugo.\"), -0.014413699314272499)]\n",
      "  self.vectorstore.similarity_search_with_relevance_scores(\n",
      "No relevant docs were retrieved using the relevance score threshold 0.1\n",
      " 13%|█▎        | 67/500 [01:11<06:19,  1.14it/s]No relevant docs were retrieved using the relevance score threshold 0.1\n",
      " 14%|█▍        | 72/500 [01:19<11:56,  1.67s/it]No relevant docs were retrieved using the relevance score threshold 0.1\n",
      " 16%|█▋        | 82/500 [01:28<07:01,  1.01s/it]/Users/mariadancianu/Desktop/Git Projects/SQuAD_RAG_experiments/.venv/lib/python3.12/site-packages/langchain_core/vectorstores/base.py:1076: UserWarning: Relevance scores must be between 0 and 1, got [(Document(metadata={'start_index': 0, 'title': 'Normans'}, page_content='The Normans were in contact with England from an early date. Not only were their original Viking brethren still ravaging the English coasts, they occupied most of the important ports opposite England across the English Channel. This relationship eventually produced closer ties of blood through the marriage of Emma, sister of Duke Richard II of Normandy, and King Ethelred II of England'), 0.07866188365063942), (Document(metadata={'start_index': 691, 'title': 'Huguenot'}, page_content='. They were very successful at marriage and property speculation. After petitioning the British Crown in 1697 for the right to own land in the Baronies, they prospered as slave owners on the Cooper, Ashepoo, Ashley and Santee River plantations they purchased from the British Landgrave Edmund Bellinger'), -0.0032815365107869976), (Document(metadata={'start_index': 387, 'title': 'Normans'}, page_content=\". Because of this, Ethelred fled to Normandy in 1013, when he was forced from his kingdom by Sweyn Forkbeard. His stay in Normandy (until 1016) influenced him and his sons by Emma, who stayed in Normandy after Cnut the Great's conquest of the isle.\"), -0.020752669624007902)]\n",
      "  self.vectorstore.similarity_search_with_relevance_scores(\n",
      "No relevant docs were retrieved using the relevance score threshold 0.1\n",
      " 17%|█▋        | 83/500 [01:29<06:53,  1.01it/s]/Users/mariadancianu/Desktop/Git Projects/SQuAD_RAG_experiments/.venv/lib/python3.12/site-packages/langchain_core/vectorstores/base.py:1076: UserWarning: Relevance scores must be between 0 and 1, got [(Document(metadata={'start_index': 0, 'title': 'Normans'}, page_content='The Normans were in contact with England from an early date. Not only were their original Viking brethren still ravaging the English coasts, they occupied most of the important ports opposite England across the English Channel. This relationship eventually produced closer ties of blood through the marriage of Emma, sister of Duke Richard II of Normandy, and King Ethelred II of England'), 0.09244525181285412), (Document(metadata={'start_index': 387, 'title': 'Normans'}, page_content=\". Because of this, Ethelred fled to Normandy in 1013, when he was forced from his kingdom by Sweyn Forkbeard. His stay in Normandy (until 1016) influenced him and his sons by Emma, who stayed in Normandy after Cnut the Great's conquest of the isle.\"), 0.013722188052447959), (Document(metadata={'start_index': 0, 'title': 'Normans'}, page_content=\"One of the claimants of the English throne opposing William the Conqueror, Edgar Atheling, eventually fled to Scotland. King Malcolm III of Scotland married Edgar's sister Margaret, and came into opposition to William who had already disputed Scotland's southern borders. William invaded Scotland in 1072, riding as far as Abernethy where he met up with his fleet of ships\"), -0.05104554840381903)]\n",
      "  self.vectorstore.similarity_search_with_relevance_scores(\n",
      "No relevant docs were retrieved using the relevance score threshold 0.1\n",
      " 21%|██        | 106/500 [01:50<05:46,  1.14it/s]No relevant docs were retrieved using the relevance score threshold 0.1\n",
      " 23%|██▎       | 116/500 [02:00<06:24,  1.00s/it]/Users/mariadancianu/Desktop/Git Projects/SQuAD_RAG_experiments/.venv/lib/python3.12/site-packages/langchain_core/vectorstores/base.py:1076: UserWarning: Relevance scores must be between 0 and 1, got [(Document(metadata={'start_index': 133, 'title': 'Islamism'}, page_content='. Victims of their campaign against the Egyptian state in the 1990s included the head of the counter-terrorism police (Major General Raouf Khayrat), a parliamentary speaker (Rifaat al-Mahgoub), dozens of European tourists and Egyptian bystanders, and over 100 Egyptian police'), 0.00429612967668358), (Document(metadata={'start_index': 878, 'title': 'Harvard_University'}, page_content='. S. Secretary of Housing and Urban Development Shaun Donovan; Canadian political leader Michael Ignatieff; Pakistani Members of Provincial Assembly Murtaza Bhutto and Sanam Bhutto; Bangladesh Minister of Finance Abul Maal Abdul Muhith; President of Puntland Abdiweli Mohamed Ali; U.S. Ambassador to the European Union Anthony Luzzatto Gardner.'), -0.013948398106712334), (Document(metadata={'start_index': 548, 'title': 'French_and_Indian_War'}, page_content=\". His objective was to punish the Miami people of Pickawillany for not following Céloron's orders to cease trading with the British. On June 21, the French war party attacked the trading centre at Pickawillany, capturing three traders and killing 14 people of the Miami nation, including Old Briton. He was reportedly ritually cannibalized by some aboriginal members of the expedition.\"), -0.030139447136960262)]\n",
      "  self.vectorstore.similarity_search_with_relevance_scores(\n",
      "No relevant docs were retrieved using the relevance score threshold 0.1\n",
      " 24%|██▍       | 120/500 [02:03<06:08,  1.03it/s]/Users/mariadancianu/Desktop/Git Projects/SQuAD_RAG_experiments/.venv/lib/python3.12/site-packages/langchain_core/vectorstores/base.py:1076: UserWarning: Relevance scores must be between 0 and 1, got [(Document(metadata={'start_index': 199, 'title': 'Normans'}, page_content='. King David I of Scotland, whose elder brother Alexander I had married Sybilla of Normandy, was instrumental in introducing Normans and Norman culture to Scotland, part of the process some scholars call the \"Davidian Revolution\"'), -0.07247620934724441), (Document(metadata={'start_index': 290, 'title': 'Yuan_dynasty'}, page_content='. The Mongol custom of long standing quda/marriage alliance with Mongol clans, the Onggirat, and the Ikeres, kept the imperial blood purely Mongol until the reign of Tugh Temur, whose mother was a Tangut concubine. The Mongol Emperors had built large palaces and pavilions, but some still continued to live as nomads at times'), -0.08854031206977764), (Document(metadata={'start_index': 428, 'title': 'Normans'}, page_content=\". Having spent time at the court of Henry I of England (married to David's sister Maud of Scotland), and needing them to wrestle the kingdom from his half-brother Máel Coluim mac Alaxandair, David had to reward many with lands. The process was continued under David's successors, most intensely of all under William the Lion\"), -0.08907110947992392)]\n",
      "  self.vectorstore.similarity_search_with_relevance_scores(\n",
      "No relevant docs were retrieved using the relevance score threshold 0.1\n",
      " 25%|██▌       | 126/500 [02:09<05:38,  1.10it/s]/Users/mariadancianu/Desktop/Git Projects/SQuAD_RAG_experiments/.venv/lib/python3.12/site-packages/langchain_core/vectorstores/base.py:1076: UserWarning: Relevance scores must be between 0 and 1, got [(Document(metadata={'start_index': 0, 'title': 'Huguenot'}, page_content='Paul Revere was descended from Huguenot refugees, as was Henry Laurens, who signed the Articles of Confederation for South Carolina; Jack Jouett, who made the ride from Cuckoo Tavern to warn Thomas Jefferson and others that Tarleton and his men were on their way to arrest him for crimes against the king; Francis Marion, and a number of other leaders of the American Revolution and later statesmen'), 0.01735583644996619), (Document(metadata={'start_index': 0, 'title': 'Harvard_University'}, page_content='Other: Civil rights leader W. E. B. Du Bois; philosopher Henry David Thoreau; authors Ralph Waldo Emerson and William S. Burroughs; educators Werner Baer, Harlan Hanson; poets Wallace Stevens, T. S. Eliot and E. E'), 0.005581187087780659), (Document(metadata={'start_index': 367, 'title': 'Normans'}, page_content='. He appointed Robert of Jumièges archbishop of Canterbury and made Ralph the Timid earl of Hereford. He invited his brother-in-law Eustace II, Count of Boulogne to his court in 1051, an event which resulted in the greatest of early conflicts between Saxon and Norman and ultimately resulted in the exile of Earl Godwin of Wessex.'), -0.03250321098884523)]\n",
      "  self.vectorstore.similarity_search_with_relevance_scores(\n",
      "No relevant docs were retrieved using the relevance score threshold 0.1\n",
      " 31%|███       | 153/500 [02:44<05:17,  1.09it/s]No relevant docs were retrieved using the relevance score threshold 0.1\n",
      " 31%|███       | 154/500 [02:45<05:06,  1.13it/s]/Users/mariadancianu/Desktop/Git Projects/SQuAD_RAG_experiments/.venv/lib/python3.12/site-packages/langchain_core/vectorstores/base.py:1076: UserWarning: Relevance scores must be between 0 and 1, got [(Document(metadata={'start_index': 382, 'title': 'Normans'}, page_content='. But Isaac changed his mind and tried to escape. Richard then proceeded to conquer the whole island, his troops being led by Guy de Lusignan. Isaac surrendered and was confined with silver chains, because Richard had promised that he would not place him in irons. By 1 June, Richard had conquered the whole island'), 0.25592908397024616), (Document(metadata={'start_index': 0, 'title': 'Force'}, page_content='Tension forces can be modeled using ideal strings that are massless, frictionless, unbreakable, and unstretchable. They can be combined with ideal pulleys, which allow ideal strings to switch physical direction'), -0.029117401693032674), (Document(metadata={'start_index': 0, 'title': 'Normans'}, page_content='Various princes of the Holy Land arrived in Limassol at the same time, in particular Guy de Lusignan. All declared their support for Richard provided that he support Guy against his rival Conrad of Montferrat. The local barons abandoned Isaac, who considered making peace with Richard, joining him on the crusade, and offering his daughter in marriage to the person named by Richard'), -0.04784002769347451)]\n",
      "  self.vectorstore.similarity_search_with_relevance_scores(\n",
      " 31%|███       | 156/500 [02:47<05:18,  1.08it/s]/Users/mariadancianu/Desktop/Git Projects/SQuAD_RAG_experiments/.venv/lib/python3.12/site-packages/langchain_core/vectorstores/base.py:1076: UserWarning: Relevance scores must be between 0 and 1, got [(Document(metadata={'start_index': 382, 'title': 'Normans'}, page_content='. But Isaac changed his mind and tried to escape. Richard then proceeded to conquer the whole island, his troops being led by Guy de Lusignan. Isaac surrendered and was confined with silver chains, because Richard had promised that he would not place him in irons. By 1 June, Richard had conquered the whole island'), 0.015923855124960085), (Document(metadata={'start_index': 1802, 'title': 'Pharmacy'}, page_content='. He made clear distinction between sodium carbonate and potassium carbonate, and drew attention to the poisonous nature of copper compounds, especially copper vitriol, and also lead compounds. He also describes the distillation of sea-water for drinking.[verification needed]'), 0.006946323511048624), (Document(metadata={'start_index': 723, 'title': 'French_and_Indian_War'}, page_content='. When Clinton did not respond to his satisfaction, Chief Hendrick said that the \"Covenant Chain\", a long-standing friendly relationship between the Iroquois Confederacy and the British Crown, was broken.'), -0.04103171007872164)]\n",
      "  self.vectorstore.similarity_search_with_relevance_scores(\n",
      "No relevant docs were retrieved using the relevance score threshold 0.1\n",
      " 32%|███▏      | 158/500 [02:49<05:15,  1.08it/s]/Users/mariadancianu/Desktop/Git Projects/SQuAD_RAG_experiments/.venv/lib/python3.12/site-packages/langchain_core/vectorstores/base.py:1076: UserWarning: Relevance scores must be between 0 and 1, got [(Document(metadata={'start_index': 0, 'title': 'Normans'}, page_content='Various princes of the Holy Land arrived in Limassol at the same time, in particular Guy de Lusignan. All declared their support for Richard provided that he support Guy against his rival Conrad of Montferrat. The local barons abandoned Isaac, who considered making peace with Richard, joining him on the crusade, and offering his daughter in marriage to the person named by Richard'), 0.15730824014675582), (Document(metadata={'start_index': 382, 'title': 'Normans'}, page_content='. But Isaac changed his mind and tried to escape. Richard then proceeded to conquer the whole island, his troops being led by Guy de Lusignan. Isaac surrendered and was confined with silver chains, because Richard had promised that he would not place him in irons. By 1 June, Richard had conquered the whole island'), 0.12500057342073), (Document(metadata={'start_index': 583, 'title': 'French_and_Indian_War'}, page_content='. Traders married daughters of chiefs, creating high-ranking unions.'), -0.04787526245882967)]\n",
      "  self.vectorstore.similarity_search_with_relevance_scores(\n",
      " 32%|███▏      | 159/500 [02:50<05:35,  1.02it/s]/Users/mariadancianu/Desktop/Git Projects/SQuAD_RAG_experiments/.venv/lib/python3.12/site-packages/langchain_core/vectorstores/base.py:1076: UserWarning: Relevance scores must be between 0 and 1, got [(Document(metadata={'start_index': 0, 'title': 'Normans'}, page_content='Between 1402 and 1405, the expedition led by the Norman noble Jean de Bethencourt and the Poitevine Gadifer de la Salle conquered the Canarian islands of Lanzarote, Fuerteventura and El Hierro off the Atlantic coast of Africa. Their troops were gathered in Normandy, Gascony and were later reinforced by Castilian colonists.'), 0.17102231889001862), (Document(metadata={'start_index': 0, 'title': 'Normans'}, page_content=\"Bethencourt took the title of King of the Canary Islands, as vassal to Henry III of Castile. In 1418, Jean's nephew Maciot de Bethencourt sold the rights to the islands to Enrique Pérez de Guzmán, 2nd Count de Niebla.\"), 0.10458261695332438), (Document(metadata={'start_index': 1116, 'title': 'Normans'}, page_content='. Norman cultural and military influence spread from these new European centres to the Crusader states of the Near East, where their prince Bohemond I founded the Principality of Antioch in the Levant, to Scotland and Wales in Great Britain, to Ireland, and to the coasts of north Africa and the Canary Islands.'), -0.03836651196628682)]\n",
      "  self.vectorstore.similarity_search_with_relevance_scores(\n",
      " 32%|███▏      | 161/500 [02:52<05:51,  1.04s/it]No relevant docs were retrieved using the relevance score threshold 0.1\n",
      " 33%|███▎      | 167/500 [02:58<06:02,  1.09s/it]/Users/mariadancianu/Desktop/Git Projects/SQuAD_RAG_experiments/.venv/lib/python3.12/site-packages/langchain_core/vectorstores/base.py:1076: UserWarning: Relevance scores must be between 0 and 1, got [(Document(metadata={'start_index': 0, 'title': 'Normans'}, page_content='The customary law of Normandy was developed between the 10th and 13th centuries and survives today through the legal systems of Jersey and Guernsey in the Channel Islands'), 0.22228502497163682), (Document(metadata={'start_index': 220, 'title': 'French_and_Indian_War'}, page_content='. The British offered France the choice of surrendering either its continental North American possessions east of the Mississippi or the Caribbean islands of Guadeloupe and Martinique, which had been occupied by the British. France chose to cede the former, but was able to negotiate the retention of Saint Pierre and Miquelon, two small islands in the Gulf of St'), 0.0005560183398267693), (Document(metadata={'start_index': 0, 'title': 'Huguenot'}, page_content='The bulk of Huguenot émigrés relocated to Protestant European nations such as England, Wales, Scotland, Denmark, Sweden, Switzerland, the Dutch Republic, the Electorate of Brandenburg and Electorate of the Palatinate in the Holy Roman Empire, the Duchy of Prussia, the Channel Islands, and Ireland'), -0.027832665824262026)]\n",
      "  self.vectorstore.similarity_search_with_relevance_scores(\n",
      " 49%|████▊     | 243/500 [04:46<04:02,  1.06it/s]/Users/mariadancianu/Desktop/Git Projects/SQuAD_RAG_experiments/.venv/lib/python3.12/site-packages/langchain_core/vectorstores/base.py:1076: UserWarning: Relevance scores must be between 0 and 1, got [(Document(metadata={'start_index': 653, 'title': 'Computational_complexity_theory'}, page_content='. Stated another way, the instance is a particular input to the problem, and the solution is the output corresponding to the given input.'), 0.08480461823370822), (Document(metadata={'start_index': 932, 'title': 'Scottish_Parliament'}, page_content='. The four general questions available to opposition leaders are:'), 0.001015166107504517), (Document(metadata={'start_index': 545, 'title': 'Computational_complexity_theory'}, page_content='. If the algorithm deciding this problem returns the answer yes, the algorithm is said to accept the input string, otherwise it is said to reject the input.'), -0.01890107427522736)]\n",
      "  self.vectorstore.similarity_search_with_relevance_scores(\n",
      "No relevant docs were retrieved using the relevance score threshold 0.1\n",
      " 56%|█████▌    | 278/500 [05:19<03:31,  1.05it/s]No relevant docs were retrieved using the relevance score threshold 0.1\n",
      " 59%|█████▉    | 297/500 [05:37<03:12,  1.05it/s]/Users/mariadancianu/Desktop/Git Projects/SQuAD_RAG_experiments/.venv/lib/python3.12/site-packages/langchain_core/vectorstores/base.py:1076: UserWarning: Relevance scores must be between 0 and 1, got [(Document(metadata={'start_index': 276, 'title': 'Computational_complexity_theory'}, page_content='. Thus the time required to solve a problem (or the space required, or any measure of complexity) is calculated as a function of the size of the instance. This is usually taken to be the size of the input in bits. Complexity theory is interested in how algorithms scale with an increase in the input size'), 0.12100075320334913), (Document(metadata={'start_index': 653, 'title': 'Computational_complexity_theory'}, page_content='. Stated another way, the instance is a particular input to the problem, and the solution is the output corresponding to the given input.'), -0.026179666425664827), (Document(metadata={'start_index': 0, 'title': 'Force'}, page_content='where  is the relevant cross-sectional area for the volume for which the stress-tensor is being calculated. This formalism includes pressure terms associated with forces that act normal to the cross-sectional area (the matrix diagonals of the tensor) as well as shear terms associated with forces that act parallel to the cross-sectional area (the off-diagonal elements)'), -0.030996253985034805)]\n",
      "  self.vectorstore.similarity_search_with_relevance_scores(\n",
      " 74%|███████▍  | 369/500 [06:45<01:59,  1.09it/s]/Users/mariadancianu/Desktop/Git Projects/SQuAD_RAG_experiments/.venv/lib/python3.12/site-packages/langchain_core/vectorstores/base.py:1076: UserWarning: Relevance scores must be between 0 and 1, got [(Document(metadata={'start_index': 270, 'title': 'Computational_complexity_theory'}, page_content='. Other complexity measures used in complexity theory include communication complexity, circuit complexity, and decision tree complexity.'), 0.13105884571938287), (Document(metadata={'start_index': 0, 'title': 'Computational_complexity_theory'}, page_content='Analogous definitions can be made for space requirements. Although time and space are the most well-known complexity resources, any complexity measure can be viewed as a computational resource. Complexity measures are very generally defined by the Blum complexity axioms'), -0.017884576582841705), (Document(metadata={'start_index': 0, 'title': 'Computational_complexity_theory'}, page_content='An example of a decision problem is the following. The input is an arbitrary graph. The problem consists in deciding whether the given graph is connected, or not. The formal language associated with this decision problem is then the set of all connected graphs—of course, to obtain a precise definition of this language, one has to decide how graphs are encoded as binary strings.'), -0.026165926553050278)]\n",
      "  self.vectorstore.similarity_search_with_relevance_scores(\n",
      "100%|██████████| 500/500 [09:17<00:00,  1.12s/it]\n"
     ]
    },
    {
     "name": "stdout",
     "output_type": "stream",
     "text": [
      "Running gpt-3.5-turbo - 500 - text-embedding-3-large\n",
      "/Users/mariadancianu/Desktop/Git Projects/SQuAD_RAG_experiments/vector_databases/db_500_text-embedding-3-large\n",
      "\n",
      "--- Creating vector store chroma_db_openai ---\n",
      "--- Finished creating vector store chroma_db_openai ---\n"
     ]
    },
    {
     "name": "stderr",
     "output_type": "stream",
     "text": [
      "  3%|▎         | 13/500 [00:15<09:47,  1.21s/it]/Users/mariadancianu/Desktop/Git Projects/SQuAD_RAG_experiments/.venv/lib/python3.12/site-packages/langchain_core/vectorstores/base.py:1076: UserWarning: Relevance scores must be between 0 and 1, got [(Document(metadata={'start_index': 315, 'title': 'Huguenot'}, page_content='. Andrew Lortie (born André Lortie), a leading Huguenot theologian and writer who led the exiled community in London, became known for articulating their criticism of the Pope and the doctrine of transubstantiation during Mass.'), 0.017036363338253646), (Document(metadata={'start_index': 347, 'title': 'Harvard_University'}, page_content='. Derived from William Ellery Channing and Ralph Waldo Emerson, these convictions were focused on the dignity and worth of human nature, the right and ability of each person to perceive truth, and the indwelling God in each person.'), -0.007391950058660557), (Document(metadata={'start_index': 310, 'title': 'Huguenot'}, page_content='. During the Protestant Reformation, Lefevre, a professor at the University of Paris, published his French translation of the New Testament in 1523, followed by the whole Bible in the French language in 1530. William Farel was a student of Lefevre who went on to become a leader of the Swiss Reformation, establishing a Protestant government in Geneva. Jean Cauvin (John Calvin), another student at the University of Paris, also converted to Protestantism'), -0.016783279431251907)]\n",
      "  self.vectorstore.similarity_search_with_relevance_scores(\n",
      "No relevant docs were retrieved using the relevance score threshold 0.1\n",
      " 13%|█▎        | 67/500 [01:20<06:50,  1.06it/s]No relevant docs were retrieved using the relevance score threshold 0.1\n",
      " 14%|█▍        | 72/500 [01:24<05:49,  1.23it/s]No relevant docs were retrieved using the relevance score threshold 0.1\n",
      " 16%|█▋        | 82/500 [01:34<06:31,  1.07it/s]/Users/mariadancianu/Desktop/Git Projects/SQuAD_RAG_experiments/.venv/lib/python3.12/site-packages/langchain_core/vectorstores/base.py:1076: UserWarning: Relevance scores must be between 0 and 1, got [(Document(metadata={'start_index': 0, 'title': 'Normans'}, page_content='The Normans were in contact with England from an early date. Not only were their original Viking brethren still ravaging the English coasts, they occupied most of the important ports opposite England across the English Channel. This relationship eventually produced closer ties of blood through the marriage of Emma, sister of Duke Richard II of Normandy, and King Ethelred II of England. Because of this, Ethelred fled to Normandy in 1013, when he was forced from his kingdom by Sweyn Forkbeard'), 0.06582825257276925), (Document(metadata={'start_index': 495, 'title': 'Normans'}, page_content=\". His stay in Normandy (until 1016) influenced him and his sons by Emma, who stayed in Normandy after Cnut the Great's conquest of the isle.\"), 0.055474120592794884), (Document(metadata={'start_index': 0, 'title': 'Normans'}, page_content=\"One of the claimants of the English throne opposing William the Conqueror, Edgar Atheling, eventually fled to Scotland. King Malcolm III of Scotland married Edgar's sister Margaret, and came into opposition to William who had already disputed Scotland's southern borders. William invaded Scotland in 1072, riding as far as Abernethy where he met up with his fleet of ships\"), -0.05595456043727687)]\n",
      "  self.vectorstore.similarity_search_with_relevance_scores(\n",
      "No relevant docs were retrieved using the relevance score threshold 0.1\n",
      " 17%|█▋        | 83/500 [01:34<06:18,  1.10it/s]/Users/mariadancianu/Desktop/Git Projects/SQuAD_RAG_experiments/.venv/lib/python3.12/site-packages/langchain_core/vectorstores/base.py:1076: UserWarning: Relevance scores must be between 0 and 1, got [(Document(metadata={'start_index': 0, 'title': 'Normans'}, page_content='The Normans were in contact with England from an early date. Not only were their original Viking brethren still ravaging the English coasts, they occupied most of the important ports opposite England across the English Channel. This relationship eventually produced closer ties of blood through the marriage of Emma, sister of Duke Richard II of Normandy, and King Ethelred II of England. Because of this, Ethelred fled to Normandy in 1013, when he was forced from his kingdom by Sweyn Forkbeard'), 0.08437918794483923), (Document(metadata={'start_index': 495, 'title': 'Normans'}, page_content=\". His stay in Normandy (until 1016) influenced him and his sons by Emma, who stayed in Normandy after Cnut the Great's conquest of the isle.\"), 0.05227450044124193), (Document(metadata={'start_index': 467, 'title': 'Normans'}, page_content='. He invited his brother-in-law Eustace II, Count of Boulogne to his court in 1051, an event which resulted in the greatest of early conflicts between Saxon and Norman and ultimately resulted in the exile of Earl Godwin of Wessex.'), -0.0017155282075163036)]\n",
      "  self.vectorstore.similarity_search_with_relevance_scores(\n",
      "No relevant docs were retrieved using the relevance score threshold 0.1\n",
      " 21%|██        | 106/500 [01:56<07:03,  1.08s/it]/Users/mariadancianu/Desktop/Git Projects/SQuAD_RAG_experiments/.venv/lib/python3.12/site-packages/langchain_core/vectorstores/base.py:1076: UserWarning: Relevance scores must be between 0 and 1, got [(Document(metadata={'start_index': 0, 'title': 'Normans'}, page_content=\"Eventually, the Normans merged with the natives, combining languages and traditions. In the course of the Hundred Years' War, the Norman aristocracy often identified themselves as English. The Anglo-Norman language became distinct from the Latin language, something that was the subject of some humour by Geoffrey Chaucer\"), 0.03138154899111856), (Document(metadata={'start_index': 0, 'title': 'Black_Death'}, page_content='Gasquet (1908) claimed that the Latin name atra mors (Black Death) for the 14th-century epidemic first appeared in modern times in 1631 in a book on Danish history by J.I. Pontanus: \"Vulgo & ab effectu atram mortem vocatibant. (\"Commonly and from its effects, they called it the black death\"). The name spread through Scandinavia and then Germany, gradually becoming attached to the mid 14th-century epidemic as a proper name'), 0.014614774010211717), (Document(metadata={'start_index': 307, 'title': 'Pharmacy'}, page_content='. The Latin translation De Materia Medica (Concerning medical substances) was used a basis for many medieval texts, and was built upon by many middle eastern scientists during the Islamic Golden Age. The title coined the term materia medica.'), -0.021394481833131973)]\n",
      "  self.vectorstore.similarity_search_with_relevance_scores(\n",
      "No relevant docs were retrieved using the relevance score threshold 0.1\n",
      " 23%|██▎       | 116/500 [02:11<08:16,  1.29s/it]/Users/mariadancianu/Desktop/Git Projects/SQuAD_RAG_experiments/.venv/lib/python3.12/site-packages/langchain_core/vectorstores/base.py:1076: UserWarning: Relevance scores must be between 0 and 1, got [(Document(metadata={'start_index': 428, 'title': '1973_oil_crisis'}, page_content='. They arranged for Israel to pull back from the Sinai Peninsula and the Golan Heights. By January 18, 1974, US Secretary of State Henry Kissinger had negotiated an Israeli troop withdrawal from parts of the Sinai Peninsula. The promise of a negotiated settlement between Israel and Syria was enough to convince Arab oil producers to lift the embargo in March 1974.'), -0.03993639777962055), (Document(metadata={'start_index': 0, 'title': '1973_oil_crisis'}, page_content='The crisis had a major impact on international relations and created a rift within NATO. Some European nations and Japan sought to disassociate themselves from United States foreign policy in the Middle East to avoid being targeted by the boycott. Arab oil producers linked any future policy changes to peace between the belligerents. To address this, the Nixon Administration began multilateral negotiations with the combatants'), -0.040776637351533696), (Document(metadata={'start_index': 852, 'title': '1973_oil_crisis'}, page_content='. At their Kuwait meeting, OAPEC proclaimed the embargo that curbed exports to various countries and blocked all oil deliveries to the US as a \"principal hostile country\".'), -0.042885749944715945)]\n",
      "  self.vectorstore.similarity_search_with_relevance_scores(\n",
      "No relevant docs were retrieved using the relevance score threshold 0.1\n",
      " 24%|██▍       | 120/500 [02:15<06:43,  1.06s/it]/Users/mariadancianu/Desktop/Git Projects/SQuAD_RAG_experiments/.venv/lib/python3.12/site-packages/langchain_core/vectorstores/base.py:1076: UserWarning: Relevance scores must be between 0 and 1, got [(Document(metadata={'start_index': 478, 'title': 'Yuan_dynasty'}, page_content='. The surnames of his Jurchen wives were Mo-nien and Na-ho; the surname of his Korean wife was Li; and the surname of his Han Chinese wife was Shi. Shi Tianze defected to Mongol forces upon their invasion of the Jin dynasty. His son Shi Gang married a Kerait woman; the Kerait were Mongolified Turkic people and were considered part of the \"Mongol nation\"'), -0.07707645356851156), (Document(metadata={'start_index': 482, 'title': 'French_and_Indian_War'}, page_content='. Lawrence and Mississippi watersheds, did business with local tribes, and often married Indian women. Traders married daughters of chiefs, creating high-ranking unions.'), -0.08592847186755748), (Document(metadata={'start_index': 290, 'title': 'Yuan_dynasty'}, page_content='. The Mongol custom of long standing quda/marriage alliance with Mongol clans, the Onggirat, and the Ikeres, kept the imperial blood purely Mongol until the reign of Tugh Temur, whose mother was a Tangut concubine. The Mongol Emperors had built large palaces and pavilions, but some still continued to live as nomads at times'), -0.08847658603482911)]\n",
      "  self.vectorstore.similarity_search_with_relevance_scores(\n",
      "No relevant docs were retrieved using the relevance score threshold 0.1\n",
      " 25%|██▌       | 126/500 [02:21<06:08,  1.02it/s]/Users/mariadancianu/Desktop/Git Projects/SQuAD_RAG_experiments/.venv/lib/python3.12/site-packages/langchain_core/vectorstores/base.py:1076: UserWarning: Relevance scores must be between 0 and 1, got [(Document(metadata={'start_index': 0, 'title': 'Huguenot'}, page_content='Paul Revere was descended from Huguenot refugees, as was Henry Laurens, who signed the Articles of Confederation for South Carolina; Jack Jouett, who made the ride from Cuckoo Tavern to warn Thomas Jefferson and others that Tarleton and his men were on their way to arrest him for crimes against the king; Francis Marion, and a number of other leaders of the American Revolution and later statesmen'), 0.017354403457116807), (Document(metadata={'start_index': 0, 'title': 'Harvard_University'}, page_content='Other: Civil rights leader W. E. B. Du Bois; philosopher Henry David Thoreau; authors Ralph Waldo Emerson and William S. Burroughs; educators Werner Baer, Harlan Hanson; poets Wallace Stevens, T. S. Eliot and E. E'), 0.005581187087780659), (Document(metadata={'start_index': 309, 'title': 'Geology'}, page_content=\". The results of his unaided labours were submitted to the American Philosophical Society in a memoir entitled Observations on the Geology of the United States explanatory of a Geological Map, and published in the Society's Transactions, together with the nation's first geological map. This antedates William Smith's geological map of England by six years, although it was constructed using a different classification of rocks.\"), -0.00936164087696878)]\n",
      "  self.vectorstore.similarity_search_with_relevance_scores(\n",
      "No relevant docs were retrieved using the relevance score threshold 0.1\n",
      " 31%|███       | 154/500 [02:55<11:40,  2.03s/it]/Users/mariadancianu/Desktop/Git Projects/SQuAD_RAG_experiments/.venv/lib/python3.12/site-packages/langchain_core/vectorstores/base.py:1076: UserWarning: Relevance scores must be between 0 and 1, got [(Document(metadata={'start_index': 430, 'title': 'Normans'}, page_content='. Richard then proceeded to conquer the whole island, his troops being led by Guy de Lusignan. Isaac surrendered and was confined with silver chains, because Richard had promised that he would not place him in irons. By 1 June, Richard had conquered the whole island. His exploit was well publicized and contributed to his reputation; he also derived significant financial gains from the conquest of the island. Richard left for Acre on 5 June, with his allies'), 0.15438316456640278), (Document(metadata={'start_index': 210, 'title': 'Force'}, page_content='. Ideal strings transmit tension forces instantaneously in action-reaction pairs so that if two objects are connected by an ideal string, any force directed along the string by the first object is accompanied by a force directed along the string in the opposite direction by the second object. By connecting the same string multiple times to the same object through the use of a set-up that uses movable pulleys, the tension force on a load can be multiplied'), -0.02768499859838003), (Document(metadata={'start_index': 0, 'title': 'Force'}, page_content='Tension forces can be modeled using ideal strings that are massless, frictionless, unbreakable, and unstretchable. They can be combined with ideal pulleys, which allow ideal strings to switch physical direction'), -0.029101728876264277)]\n",
      "  self.vectorstore.similarity_search_with_relevance_scores(\n",
      " 31%|███       | 156/500 [02:56<08:17,  1.45s/it]/Users/mariadancianu/Desktop/Git Projects/SQuAD_RAG_experiments/.venv/lib/python3.12/site-packages/langchain_core/vectorstores/base.py:1076: UserWarning: Relevance scores must be between 0 and 1, got [(Document(metadata={'start_index': 479, 'title': 'French_and_Indian_War'}, page_content='. They met at Albany, New York with Governor Clinton and officials from some of the other American colonies. Mohawk Chief Hendrick, Speaker of their tribal council, insisted that the British abide by their obligations and block French expansion. When Clinton did not respond to his satisfaction, Chief Hendrick said that the \"Covenant Chain\", a long-standing friendly relationship between the Iroquois Confederacy and the British Crown, was broken.'), 0.0015602934461443896), (Document(metadata={'start_index': 430, 'title': 'Normans'}, page_content='. Richard then proceeded to conquer the whole island, his troops being led by Guy de Lusignan. Isaac surrendered and was confined with silver chains, because Richard had promised that he would not place him in irons. By 1 June, Richard had conquered the whole island. His exploit was well publicized and contributed to his reputation; he also derived significant financial gains from the conquest of the island. Richard left for Acre on 5 June, with his allies'), -0.02186366055075517), (Document(metadata={'start_index': 1630, 'title': 'Pharmacy'}, page_content='. Living in the 10th century, he wrote The foundations of the true properties of Remedies, amongst others describing arsenious oxide, and being acquainted with silicic acid. He made clear distinction between sodium carbonate and potassium carbonate, and drew attention to the poisonous nature of copper compounds, especially copper vitriol, and also lead compounds. He also describes the distillation of sea-water for drinking.[verification needed]'), -0.032369942653853734)]\n",
      "  self.vectorstore.similarity_search_with_relevance_scores(\n",
      "No relevant docs were retrieved using the relevance score threshold 0.1\n",
      " 32%|███▏      | 158/500 [02:58<06:26,  1.13s/it]/Users/mariadancianu/Desktop/Git Projects/SQuAD_RAG_experiments/.venv/lib/python3.12/site-packages/langchain_core/vectorstores/base.py:1076: UserWarning: Relevance scores must be between 0 and 1, got [(Document(metadata={'start_index': 0, 'title': 'Normans'}, page_content='Various princes of the Holy Land arrived in Limassol at the same time, in particular Guy de Lusignan. All declared their support for Richard provided that he support Guy against his rival Conrad of Montferrat. The local barons abandoned Isaac, who considered making peace with Richard, joining him on the crusade, and offering his daughter in marriage to the person named by Richard. But Isaac changed his mind and tried to escape'), 0.18408885345276005), (Document(metadata={'start_index': 430, 'title': 'Normans'}, page_content='. Richard then proceeded to conquer the whole island, his troops being led by Guy de Lusignan. Isaac surrendered and was confined with silver chains, because Richard had promised that he would not place him in irons. By 1 June, Richard had conquered the whole island. His exploit was well publicized and contributed to his reputation; he also derived significant financial gains from the conquest of the island. Richard left for Acre on 5 June, with his allies'), 0.03705594779353427), (Document(metadata={'start_index': 482, 'title': 'French_and_Indian_War'}, page_content='. Lawrence and Mississippi watersheds, did business with local tribes, and often married Indian women. Traders married daughters of chiefs, creating high-ranking unions.'), -0.03654905556480004)]\n",
      "  self.vectorstore.similarity_search_with_relevance_scores(\n",
      " 32%|███▏      | 159/500 [02:59<06:15,  1.10s/it]/Users/mariadancianu/Desktop/Git Projects/SQuAD_RAG_experiments/.venv/lib/python3.12/site-packages/langchain_core/vectorstores/base.py:1076: UserWarning: Relevance scores must be between 0 and 1, got [(Document(metadata={'start_index': 0, 'title': 'Normans'}, page_content='Between 1402 and 1405, the expedition led by the Norman noble Jean de Bethencourt and the Poitevine Gadifer de la Salle conquered the Canarian islands of Lanzarote, Fuerteventura and El Hierro off the Atlantic coast of Africa. Their troops were gathered in Normandy, Gascony and were later reinforced by Castilian colonists.'), 0.1710177670303794), (Document(metadata={'start_index': 0, 'title': 'Normans'}, page_content=\"Bethencourt took the title of King of the Canary Islands, as vassal to Henry III of Castile. In 1418, Jean's nephew Maciot de Bethencourt sold the rights to the islands to Enrique Pérez de Guzmán, 2nd Count de Niebla.\"), 0.10401624760303496), (Document(metadata={'start_index': 572, 'title': 'Rhine'}, page_content='. Several microplates were caught in the squeeze and rotated or were pushed laterally, generating the individual features of Mediterranean geography: Iberia pushed up the Pyrenees; Italy, the Alps, and Anatolia, moving west, the mountains of Greece and the islands. The compression and orogeny continue today, as shown by the ongoing raising of the mountains a small amount each year and the active volcanoes.'), -0.03412611753760575)]\n",
      "  self.vectorstore.similarity_search_with_relevance_scores(\n",
      " 32%|███▏      | 161/500 [03:01<05:58,  1.06s/it]No relevant docs were retrieved using the relevance score threshold 0.1\n",
      " 32%|███▏      | 162/500 [03:02<05:45,  1.02s/it]/Users/mariadancianu/Desktop/Git Projects/SQuAD_RAG_experiments/.venv/lib/python3.12/site-packages/langchain_core/vectorstores/base.py:1076: UserWarning: Relevance scores must be between 0 and 1, got [(Document(metadata={'start_index': 0, 'title': 'Normans'}, page_content=\"Bethencourt took the title of King of the Canary Islands, as vassal to Henry III of Castile. In 1418, Jean's nephew Maciot de Bethencourt sold the rights to the islands to Enrique Pérez de Guzmán, 2nd Count de Niebla.\"), 0.5765835718465833), (Document(metadata={'start_index': 0, 'title': 'Normans'}, page_content='Between 1402 and 1405, the expedition led by the Norman noble Jean de Bethencourt and the Poitevine Gadifer de la Salle conquered the Canarian islands of Lanzarote, Fuerteventura and El Hierro off the Atlantic coast of Africa. Their troops were gathered in Normandy, Gascony and were later reinforced by Castilian colonists.'), 0.26966347749449116), (Document(metadata={'start_index': 430, 'title': 'Normans'}, page_content='. Richard then proceeded to conquer the whole island, his troops being led by Guy de Lusignan. Isaac surrendered and was confined with silver chains, because Richard had promised that he would not place him in irons. By 1 June, Richard had conquered the whole island. His exploit was well publicized and contributed to his reputation; he also derived significant financial gains from the conquest of the island. Richard left for Acre on 5 June, with his allies'), -0.004591966324687835)]\n",
      "  self.vectorstore.similarity_search_with_relevance_scores(\n",
      " 33%|███▎      | 167/500 [03:07<05:59,  1.08s/it]/Users/mariadancianu/Desktop/Git Projects/SQuAD_RAG_experiments/.venv/lib/python3.12/site-packages/langchain_core/vectorstores/base.py:1076: UserWarning: Relevance scores must be between 0 and 1, got [(Document(metadata={'start_index': 0, 'title': 'Normans'}, page_content='The customary law of Normandy was developed between the 10th and 13th centuries and survives today through the legal systems of Jersey and Guernsey in the Channel Islands'), 0.225481273375309), (Document(metadata={'start_index': 451, 'title': 'Huguenot'}, page_content='. A small group of Huguenots also settled on the south shore of Staten Island along the New York Harbor, for which the current neighborhood of Huguenot was named.'), -0.023097804568851243), (Document(metadata={'start_index': 0, 'title': 'Normans'}, page_content='Before Rollo\\'s arrival, its populations did not differ from Picardy or the Île-de-France, which were considered \"Frankish\". Earlier Viking settlers had begun arriving in the 880s, but were divided between colonies in the east (Roumois and Pays de Caux) around the low Seine valley and in the west in the Cotentin Peninsula, and were separated by traditional pagii, where the population remained about the same with almost no foreign settlers'), -0.026187252858396626)]\n",
      "  self.vectorstore.similarity_search_with_relevance_scores(\n",
      " 43%|████▎     | 215/500 [03:52<04:53,  1.03s/it]No relevant docs were retrieved using the relevance score threshold 0.1\n",
      " 45%|████▌     | 225/500 [04:27<10:23,  2.27s/it]No relevant docs were retrieved using the relevance score threshold 0.1\n",
      " 49%|████▊     | 243/500 [04:45<04:22,  1.02s/it]/Users/mariadancianu/Desktop/Git Projects/SQuAD_RAG_experiments/.venv/lib/python3.12/site-packages/langchain_core/vectorstores/base.py:1076: UserWarning: Relevance scores must be between 0 and 1, got [(Document(metadata={'start_index': 473, 'title': 'Computational_complexity_theory'}, page_content='. For example, consider the problem of primality testing. The instance is a number (e.g. 15) and the solution is \"yes\" if the number is prime and \"no\" otherwise (in this case \"no\"). Stated another way, the instance is a particular input to the problem, and the solution is the output corresponding to the given input.'), 0.055324246399490185), (Document(metadata={'start_index': 932, 'title': 'Scottish_Parliament'}, page_content='. The four general questions available to opposition leaders are:'), 0.0009699846859008154), (Document(metadata={'start_index': 0, 'title': 'Computational_complexity_theory'}, page_content=\"A function problem is a computational problem where a single output (of a total function) is expected for every input, but the output is more complex than that of a decision problem, that is, it isn't just yes or no. Notable examples include the traveling salesman problem and the integer factorization problem.\"), -0.03577195197195615)]\n",
      "  self.vectorstore.similarity_search_with_relevance_scores(\n",
      "No relevant docs were retrieved using the relevance score threshold 0.1\n",
      " 49%|████▉     | 244/500 [04:46<04:15,  1.00it/s]No relevant docs were retrieved using the relevance score threshold 0.1\n",
      " 59%|█████▉    | 297/500 [05:41<03:06,  1.09it/s]/Users/mariadancianu/Desktop/Git Projects/SQuAD_RAG_experiments/.venv/lib/python3.12/site-packages/langchain_core/vectorstores/base.py:1076: UserWarning: Relevance scores must be between 0 and 1, got [(Document(metadata={'start_index': 0, 'title': 'Computational_complexity_theory'}, page_content='To measure the difficulty of solving a computational problem, one may wish to see how much time the best algorithm requires to solve the problem. However, the running time may, in general, depend on the instance. In particular, larger instances will require more time to solve. Thus the time required to solve a problem (or the space required, or any measure of complexity) is calculated as a function of the size of the instance. This is usually taken to be the size of the input in bits'), 0.090568115473876), (Document(metadata={'start_index': 377, 'title': 'Force'}, page_content='. The kilogram-force is not a part of the modern SI system, and is generally deprecated; however it still sees use for some purposes as expressing aircraft weight, jet thrust, bicycle spoke tension, torque wrench settings and engine output torque. Other arcane units of force include the sthène, which is equivalent to 1000 N, and the kip, which is equivalent to 1000 lbf.'), -0.05232209117549913), (Document(metadata={'start_index': 0, 'title': 'Force'}, page_content='Since forces are perceived as pushes or pulls, this can provide an intuitive understanding for describing forces. As with other physical concepts (e.g. temperature), the intuitive understanding of forces is quantified using precise operational definitions that are consistent with direct observations and compared to a standard measurement scale'), -0.05558999019765776)]\n",
      "  self.vectorstore.similarity_search_with_relevance_scores(\n",
      "No relevant docs were retrieved using the relevance score threshold 0.1\n",
      " 69%|██████▉   | 344/500 [07:11<03:18,  1.28s/it]/Users/mariadancianu/Desktop/Git Projects/SQuAD_RAG_experiments/.venv/lib/python3.12/site-packages/langchain_core/vectorstores/base.py:1076: UserWarning: Relevance scores must be between 0 and 1, got [(Document(metadata={'start_index': 0, 'title': 'Computational_complexity_theory'}, page_content='Many machine models different from the standard multi-tape Turing machines have been proposed in the literature, for example random access machines. Perhaps surprisingly, each of these models can be converted to another without providing any extra computational power. The time and memory consumption of these alternate models may vary. What all these models have in common is that the machines operate deterministically.'), 0.1384062215265901), (Document(metadata={'start_index': 668, 'title': 'Force'}, page_content='. For every string that acts on a load, another factor of the tension force in the string acts on the load. However, even though such machines allow for an increase in force, there is a corresponding increase in the length of string that must be displaced in order to move the load. These tandem effects result ultimately in the conservation of mechanical energy since the work done on the load is the same no matter how complicated the machine.'), 0.004623887151874673), (Document(metadata={'start_index': 345, 'title': 'Force'}, page_content='. Through experimentation, it is determined that laboratory measurements of forces are fully consistent with the conceptual definition of force offered by Newtonian mechanics.'), -0.0025787799587164706)]\n",
      "  self.vectorstore.similarity_search_with_relevance_scores(\n",
      " 74%|███████▍  | 369/500 [07:39<02:08,  1.02it/s]/Users/mariadancianu/Desktop/Git Projects/SQuAD_RAG_experiments/.venv/lib/python3.12/site-packages/langchain_core/vectorstores/base.py:1076: UserWarning: Relevance scores must be between 0 and 1, got [(Document(metadata={'start_index': 0, 'title': 'Computational_complexity_theory'}, page_content='Analogous definitions can be made for space requirements. Although time and space are the most well-known complexity resources, any complexity measure can be viewed as a computational resource. Complexity measures are very generally defined by the Blum complexity axioms. Other complexity measures used in complexity theory include communication complexity, circuit complexity, and decision tree complexity.'), 0.05371583836661742), (Document(metadata={'start_index': 0, 'title': 'Computational_complexity_theory'}, page_content='An example of a decision problem is the following. The input is an arbitrary graph. The problem consists in deciding whether the given graph is connected, or not. The formal language associated with this decision problem is then the set of all connected graphs—of course, to obtain a precise definition of this language, one has to decide how graphs are encoded as binary strings.'), -0.026173850160570167), (Document(metadata={'start_index': 0, 'title': 'Computational_complexity_theory'}, page_content='To measure the difficulty of solving a computational problem, one may wish to see how much time the best algorithm requires to solve the problem. However, the running time may, in general, depend on the instance. In particular, larger instances will require more time to solve. Thus the time required to solve a problem (or the space required, or any measure of complexity) is calculated as a function of the size of the instance. This is usually taken to be the size of the input in bits'), -0.037477803518586095)]\n",
      "  self.vectorstore.similarity_search_with_relevance_scores(\n",
      "No relevant docs were retrieved using the relevance score threshold 0.1\n",
      " 74%|███████▍  | 370/500 [07:40<02:05,  1.04it/s]/Users/mariadancianu/Desktop/Git Projects/SQuAD_RAG_experiments/.venv/lib/python3.12/site-packages/langchain_core/vectorstores/base.py:1076: UserWarning: Relevance scores must be between 0 and 1, got [(Document(metadata={'start_index': 0, 'title': 'Computational_complexity_theory'}, page_content='Analogous definitions can be made for space requirements. Although time and space are the most well-known complexity resources, any complexity measure can be viewed as a computational resource. Complexity measures are very generally defined by the Blum complexity axioms. Other complexity measures used in complexity theory include communication complexity, circuit complexity, and decision tree complexity.'), 0.06708195272857431), (Document(metadata={'start_index': 0, 'title': 'Computational_complexity_theory'}, page_content='The time and space hierarchy theorems form the basis for most separation results of complexity classes. For instance, the time hierarchy theorem tells us that P is strictly contained in EXPTIME, and the space hierarchy theorem tells us that L is strictly contained in PSPACE.'), -0.0047559175653952845), (Document(metadata={'start_index': 0, 'title': 'Computational_complexity_theory'}, page_content='Similarly, it is not known if L (the set of all problems that can be solved in logarithmic space) is strictly contained in P or equal to P. Again, there are many complexity classes between the two, such as NL and NC, and it is not known if they are distinct or equal classes.'), -0.005734145919332967)]\n",
      "  self.vectorstore.similarity_search_with_relevance_scores(\n",
      "No relevant docs were retrieved using the relevance score threshold 0.1\n",
      " 77%|███████▋  | 383/500 [07:53<01:47,  1.09it/s]/Users/mariadancianu/Desktop/Git Projects/SQuAD_RAG_experiments/.venv/lib/python3.12/site-packages/langchain_core/vectorstores/base.py:1076: UserWarning: Relevance scores must be between 0 and 1, got [(Document(metadata={'start_index': 0, 'title': 'Computational_complexity_theory'}, page_content='For example, consider the deterministic sorting algorithm quicksort. This solves the problem of sorting a list of integers that is given as the input. The worst-case is when the input is sorted or sorted in reverse order, and the algorithm takes time O(n2) for this case. If we assume that all possible permutations of the input list are equally likely, the average time taken for sorting is O(n log n). The best case occurs when each pivoting divides the list in half, also needing O(n log n) time.'), 0.30779402637023656), (Document(metadata={'start_index': 473, 'title': 'Computational_complexity_theory'}, page_content='. For example, consider the problem of primality testing. The instance is a number (e.g. 15) and the solution is \"yes\" if the number is prime and \"no\" otherwise (in this case \"no\"). Stated another way, the instance is a particular input to the problem, and the solution is the output corresponding to the given input.'), 0.07439207072169784), (Document(metadata={'start_index': 0, 'title': 'Computational_complexity_theory'}, page_content='The integer factorization problem is the computational problem of determining the prime factorization of a given integer. Phrased as a decision problem, it is the problem of deciding whether the input has a factor less than k. No efficient integer factorization algorithm is known, and this fact forms the basis of several modern cryptographic systems, such as the RSA algorithm. The integer factorization problem is in NP and in co-NP (and even in UP and co-UP)'), -0.006554829353537128)]\n",
      "  self.vectorstore.similarity_search_with_relevance_scores(\n",
      " 85%|████████▍ | 424/500 [08:31<01:19,  1.04s/it]/Users/mariadancianu/Desktop/Git Projects/SQuAD_RAG_experiments/.venv/lib/python3.12/site-packages/langchain_core/vectorstores/base.py:1076: UserWarning: Relevance scores must be between 0 and 1, got [(Document(metadata={'start_index': 0, 'title': 'Computational_complexity_theory'}, page_content='When considering computational problems, a problem instance is a string over an alphabet. Usually, the alphabet is taken to be the binary alphabet (i.e., the set {0,1}), and thus the strings are bitstrings. As in a real-world computer, mathematical objects other than bitstrings must be suitably encoded. For example, integers can be represented in binary notation, and graphs can be encoded directly via their adjacency matrices, or by encoding their adjacency lists in binary.'), 0.14103921944676268), (Document(metadata={'start_index': 440, 'title': 'Prime_number'}, page_content='. Some of the largest primes not known to have any particular form (that is, no simple formula such as that of Mersenne primes) have been found by taking a piece of semi-random binary data, converting it to a number n, multiplying it by 256k for some positive integer k, and searching for possible primes within the interval [256kn + 1, 256k(n + 1) − 1].[citation needed]'), 0.014920507249309711), (Document(metadata={'start_index': 0, 'title': 'Computational_complexity_theory'}, page_content='An example of a decision problem is the following. The input is an arbitrary graph. The problem consists in deciding whether the given graph is connected, or not. The formal language associated with this decision problem is then the set of all connected graphs—of course, to obtain a precise definition of this language, one has to decide how graphs are encoded as binary strings.'), -0.027607348772122897)]\n",
      "  self.vectorstore.similarity_search_with_relevance_scores(\n",
      "100%|██████████| 500/500 [09:52<00:00,  1.18s/it]\n"
     ]
    },
    {
     "name": "stdout",
     "output_type": "stream",
     "text": [
      "Running gpt-3.5-turbo - 600 - text-embedding-3-large\n",
      "/Users/mariadancianu/Desktop/Git Projects/SQuAD_RAG_experiments/vector_databases/db_600_text-embedding-3-large\n",
      "\n",
      "--- Creating vector store chroma_db_openai ---\n",
      "--- Finished creating vector store chroma_db_openai ---\n"
     ]
    },
    {
     "name": "stderr",
     "output_type": "stream",
     "text": [
      "  3%|▎         | 13/500 [00:12<07:29,  1.08it/s]/Users/mariadancianu/Desktop/Git Projects/SQuAD_RAG_experiments/.venv/lib/python3.12/site-packages/langchain_core/vectorstores/base.py:1076: UserWarning: Relevance scores must be between 0 and 1, got [(Document(metadata={'start_index': 517, 'title': 'Huguenot'}, page_content='. William Farel was a student of Lefevre who went on to become a leader of the Swiss Reformation, establishing a Protestant government in Geneva. Jean Cauvin (John Calvin), another student at the University of Paris, also converted to Protestantism. Long after the sect was suppressed by Francis I, the remaining French Waldensians, then mostly in the Luberon region, sought to join William Farel, Calvin and the Reformation, and Olivetan published a French Bible for them. The French Confession of 1559 shows a decidedly Calvinistic influence'), 0.0005437957537586247), (Document(metadata={'start_index': 0, 'title': 'Harvard_University'}, page_content='Charles W. Eliot, president 1869–1909, eliminated the favored position of Christianity from the curriculum while opening it to student self-direction. While Eliot was the most crucial figure in the secularization of American higher education, he was motivated not by a desire to secularize education, but by Transcendentalist Unitarian convictions. Derived from William Ellery Channing and Ralph Waldo Emerson, these convictions were focused on the dignity and worth of human nature, the right and ability of each person to perceive truth, and the indwelling God in each person.'), -0.013064241518650821), (Document(metadata={'start_index': 585, 'title': 'Huguenot'}, page_content='. Some Huguenot families have kept alive various traditions, such as the celebration and feast of their patron Saint Nicolas, similar to the Dutch Sint Nicolaas (Sinterklaas) feast.'), -0.019214393947057484)]\n",
      "  self.vectorstore.similarity_search_with_relevance_scores(\n",
      "No relevant docs were retrieved using the relevance score threshold 0.1\n",
      " 13%|█▎        | 67/500 [01:43<36:05,  5.00s/it]  /Users/mariadancianu/Desktop/Git Projects/SQuAD_RAG_experiments/.venv/lib/python3.12/site-packages/langchain_core/vectorstores/base.py:1076: UserWarning: Relevance scores must be between 0 and 1, got [(Document(metadata={'start_index': 0, 'title': 'Warsaw'}, page_content='John Paul II\\'s visits to his native country in 1979 and 1983 brought support to the budding solidarity movement and encouraged the growing anti-communist fervor there. In 1979, less than a year after becoming pope, John Paul celebrated Mass in Victory Square in Warsaw and ended his sermon with a call to \"renew the face\" of Poland: Let Thy Spirit descend! Let Thy Spirit descend and renew the face of the land! This land! These words were very meaningful for the Polish citizens who understood them as the incentive for the democratic changes.'), 0.11650950073233124), (Document(metadata={'start_index': 0, 'title': 'Normans'}, page_content='Robert Guiscard, an other Norman adventurer previously elevated to the dignity of count of Apulia as the result of his military successes, ultimately drove the Byzantines out of southern Italy. Having obtained the consent of pope Gregory VII and acting as his vassal, Robert continued his campaign conquering the Balkan peninsula as a foothold for western feudal lords and the Catholic Church'), 0.07731478607853426), (Document(metadata={'start_index': 562, 'title': 'University_of_Chicago'}, page_content='Braun, United States Senator from Vermont and 2016 Democratic Presidential Candidate Bernie Sanders, and former World Bank President Paul Wolfowitz'), -0.035054781197694895)]\n",
      "  self.vectorstore.similarity_search_with_relevance_scores(\n",
      " 14%|█▍        | 69/500 [01:45<21:05,  2.94s/it]No relevant docs were retrieved using the relevance score threshold 0.1\n",
      " 14%|█▍        | 72/500 [01:47<11:06,  1.56s/it]No relevant docs were retrieved using the relevance score threshold 0.1\n",
      " 16%|█▋        | 82/500 [01:57<06:53,  1.01it/s]/Users/mariadancianu/Desktop/Git Projects/SQuAD_RAG_experiments/.venv/lib/python3.12/site-packages/langchain_core/vectorstores/base.py:1076: UserWarning: Relevance scores must be between 0 and 1, got [(Document(metadata={'start_index': 0, 'title': 'Normans'}, page_content='The Normans were in contact with England from an early date. Not only were their original Viking brethren still ravaging the English coasts, they occupied most of the important ports opposite England across the English Channel. This relationship eventually produced closer ties of blood through the marriage of Emma, sister of Duke Richard II of Normandy, and King Ethelred II of England. Because of this, Ethelred fled to Normandy in 1013, when he was forced from his kingdom by Sweyn Forkbeard'), 0.06591448502482256), (Document(metadata={'start_index': 495, 'title': 'Normans'}, page_content=\". His stay in Normandy (until 1016) influenced him and his sons by Emma, who stayed in Normandy after Cnut the Great's conquest of the isle.\"), 0.05526456646199873), (Document(metadata={'start_index': 467, 'title': 'Normans'}, page_content='. He invited his brother-in-law Eustace II, Count of Boulogne to his court in 1051, an event which resulted in the greatest of early conflicts between Saxon and Norman and ultimately resulted in the exile of Earl Godwin of Wessex.'), -0.059253900032406825)]\n",
      "  self.vectorstore.similarity_search_with_relevance_scores(\n",
      "No relevant docs were retrieved using the relevance score threshold 0.1\n",
      " 17%|█▋        | 83/500 [01:57<06:25,  1.08it/s]/Users/mariadancianu/Desktop/Git Projects/SQuAD_RAG_experiments/.venv/lib/python3.12/site-packages/langchain_core/vectorstores/base.py:1076: UserWarning: Relevance scores must be between 0 and 1, got [(Document(metadata={'start_index': 0, 'title': 'Normans'}, page_content='The Normans were in contact with England from an early date. Not only were their original Viking brethren still ravaging the English coasts, they occupied most of the important ports opposite England across the English Channel. This relationship eventually produced closer ties of blood through the marriage of Emma, sister of Duke Richard II of Normandy, and King Ethelred II of England. Because of this, Ethelred fled to Normandy in 1013, when he was forced from his kingdom by Sweyn Forkbeard'), 0.08452670191462741), (Document(metadata={'start_index': 495, 'title': 'Normans'}, page_content=\". His stay in Normandy (until 1016) influenced him and his sons by Emma, who stayed in Normandy after Cnut the Great's conquest of the isle.\"), 0.05211383665471836), (Document(metadata={'start_index': 467, 'title': 'Normans'}, page_content='. He invited his brother-in-law Eustace II, Count of Boulogne to his court in 1051, an event which resulted in the greatest of early conflicts between Saxon and Norman and ultimately resulted in the exile of Earl Godwin of Wessex.'), -0.0017011139853255752)]\n",
      "  self.vectorstore.similarity_search_with_relevance_scores(\n",
      "No relevant docs were retrieved using the relevance score threshold 0.1\n",
      " 21%|██        | 106/500 [02:21<09:06,  1.39s/it]No relevant docs were retrieved using the relevance score threshold 0.1\n",
      " 23%|██▎       | 116/500 [02:34<09:18,  1.46s/it]/Users/mariadancianu/Desktop/Git Projects/SQuAD_RAG_experiments/.venv/lib/python3.12/site-packages/langchain_core/vectorstores/base.py:1076: UserWarning: Relevance scores must be between 0 and 1, got [(Document(metadata={'start_index': 548, 'title': 'French_and_Indian_War'}, page_content=\". His objective was to punish the Miami people of Pickawillany for not following Céloron's orders to cease trading with the British. On June 21, the French war party attacked the trading centre at Pickawillany, capturing three traders and killing 14 people of the Miami nation, including Old Briton. He was reportedly ritually cannibalized by some aboriginal members of the expedition.\"), -0.029088473322492536), (Document(metadata={'start_index': 0, 'title': '1973_oil_crisis'}, page_content='The crisis had a major impact on international relations and created a rift within NATO. Some European nations and Japan sought to disassociate themselves from United States foreign policy in the Middle East to avoid being targeted by the boycott. Arab oil producers linked any future policy changes to peace between the belligerents. To address this, the Nixon Administration began multilateral negotiations with the combatants. They arranged for Israel to pull back from the Sinai Peninsula and the Golan Heights'), -0.03192782221297463), (Document(metadata={'start_index': 680, 'title': 'Harvard_University'}, page_content='. Noli; Canadian Prime Ministers Mackenzie King and Pierre Trudeau; Greek Prime Minister Antonis Samaras; Israeli Prime Minister Benjamin Netanyahu; former Pakistani Prime Minister Benazir Bhutto; U. S. Secretary of Housing and Urban Development Shaun Donovan; Canadian political leader Michael Ignatieff; Pakistani Members of Provincial Assembly Murtaza Bhutto and Sanam Bhutto; Bangladesh Minister of Finance Abul Maal Abdul Muhith; President of Puntland Abdiweli Mohamed Ali; U.S. Ambassador to the European Union Anthony Luzzatto Gardner.'), -0.033969584142236275)]\n",
      "  self.vectorstore.similarity_search_with_relevance_scores(\n",
      "No relevant docs were retrieved using the relevance score threshold 0.1\n",
      " 24%|██▍       | 120/500 [02:38<06:45,  1.07s/it]/Users/mariadancianu/Desktop/Git Projects/SQuAD_RAG_experiments/.venv/lib/python3.12/site-packages/langchain_core/vectorstores/base.py:1076: UserWarning: Relevance scores must be between 0 and 1, got [(Document(metadata={'start_index': 478, 'title': 'Yuan_dynasty'}, page_content='. The surnames of his Jurchen wives were Mo-nien and Na-ho; the surname of his Korean wife was Li; and the surname of his Han Chinese wife was Shi. Shi Tianze defected to Mongol forces upon their invasion of the Jin dynasty. His son Shi Gang married a Kerait woman; the Kerait were Mongolified Turkic people and were considered part of the \"Mongol nation\". Shi Tianze (Shih T\\'ien-tse), Zhang Rou (Chang Jou, 張柔), and Yan Shi (Yen Shih, 嚴實) and other high ranking Chinese who served in the Jin dynasty and defected to the Mongols helped build the structure for the administration of the new state'), -0.08163716404587529), (Document(metadata={'start_index': 583, 'title': 'French_and_Indian_War'}, page_content='. Traders married daughters of chiefs, creating high-ranking unions.'), -0.10893904957426215), (Document(metadata={'start_index': 428, 'title': 'Normans'}, page_content=\". Having spent time at the court of Henry I of England (married to David's sister Maud of Scotland), and needing them to wrestle the kingdom from his half-brother Máel Coluim mac Alaxandair, David had to reward many with lands. The process was continued under David's successors, most intensely of all under William the Lion. The Norman-derived feudal system was applied in varying degrees to most of Scotland\"), -0.11435921858646014)]\n",
      "  self.vectorstore.similarity_search_with_relevance_scores(\n",
      "No relevant docs were retrieved using the relevance score threshold 0.1\n",
      " 25%|██▌       | 126/500 [02:43<05:40,  1.10it/s]/Users/mariadancianu/Desktop/Git Projects/SQuAD_RAG_experiments/.venv/lib/python3.12/site-packages/langchain_core/vectorstores/base.py:1076: UserWarning: Relevance scores must be between 0 and 1, got [(Document(metadata={'start_index': 0, 'title': 'Harvard_University'}, page_content='Other: Civil rights leader W. E. B. Du Bois; philosopher Henry David Thoreau; authors Ralph Waldo Emerson and William S. Burroughs; educators Werner Baer, Harlan Hanson; poets Wallace Stevens, T. S. Eliot and E. E'), 0.006031568310968072), (Document(metadata={'start_index': 0, 'title': 'Huguenot'}, page_content='Paul Revere was descended from Huguenot refugees, as was Henry Laurens, who signed the Articles of Confederation for South Carolina; Jack Jouett, who made the ride from Cuckoo Tavern to warn Thomas Jefferson and others that Tarleton and his men were on their way to arrest him for crimes against the king; Francis Marion, and a number of other leaders of the American Revolution and later statesmen. The last active Huguenot congregation in North America worships in Charleston, South Carolina, at a church that dates to 1844'), 0.004839486847685981), (Document(metadata={'start_index': 0, 'title': 'Normans'}, page_content='By far the most famous work of Norman art is the Bayeux Tapestry, which is not a tapestry but a work of embroidery. It was commissioned by Odo, the Bishop of Bayeux and first Earl of Kent, employing natives from Kent who were learned in the Nordic traditions imported in the previous half century by the Danish Vikings.'), -0.03684644372789281)]\n",
      "  self.vectorstore.similarity_search_with_relevance_scores(\n",
      "No relevant docs were retrieved using the relevance score threshold 0.1\n",
      " 31%|███       | 154/500 [03:10<05:10,  1.11it/s]/Users/mariadancianu/Desktop/Git Projects/SQuAD_RAG_experiments/.venv/lib/python3.12/site-packages/langchain_core/vectorstores/base.py:1076: UserWarning: Relevance scores must be between 0 and 1, got [(Document(metadata={'start_index': 523, 'title': 'Normans'}, page_content='. Isaac surrendered and was confined with silver chains, because Richard had promised that he would not place him in irons. By 1 June, Richard had conquered the whole island. His exploit was well publicized and contributed to his reputation; he also derived significant financial gains from the conquest of the island. Richard left for Acre on 5 June, with his allies. Before his departure, he named two of his Norman generals, Richard de Camville and Robert de Thornham, as governors of Cyprus.'), 0.11919821678623521), (Document(metadata={'start_index': 0, 'title': 'Normans'}, page_content='Various princes of the Holy Land arrived in Limassol at the same time, in particular Guy de Lusignan. All declared their support for Richard provided that he support Guy against his rival Conrad of Montferrat. The local barons abandoned Isaac, who considered making peace with Richard, joining him on the crusade, and offering his daughter in marriage to the person named by Richard. But Isaac changed his mind and tried to escape. Richard then proceeded to conquer the whole island, his troops being led by Guy de Lusignan'), -0.03403659763136857), (Document(metadata={'start_index': 0, 'title': 'Force'}, page_content='Tension forces can be modeled using ideal strings that are massless, frictionless, unbreakable, and unstretchable. They can be combined with ideal pulleys, which allow ideal strings to switch physical direction. Ideal strings transmit tension forces instantaneously in action-reaction pairs so that if two objects are connected by an ideal string, any force directed along the string by the first object is accompanied by a force directed along the string in the opposite direction by the second object'), -0.044340659155311934)]\n",
      "  self.vectorstore.similarity_search_with_relevance_scores(\n",
      " 31%|███       | 156/500 [03:12<05:27,  1.05it/s]/Users/mariadancianu/Desktop/Git Projects/SQuAD_RAG_experiments/.venv/lib/python3.12/site-packages/langchain_core/vectorstores/base.py:1076: UserWarning: Relevance scores must be between 0 and 1, got [(Document(metadata={'start_index': 586, 'title': 'French_and_Indian_War'}, page_content='. Mohawk Chief Hendrick, Speaker of their tribal council, insisted that the British abide by their obligations and block French expansion. When Clinton did not respond to his satisfaction, Chief Hendrick said that the \"Covenant Chain\", a long-standing friendly relationship between the Iroquois Confederacy and the British Crown, was broken.'), -0.0039140764132385986), (Document(metadata={'start_index': 1630, 'title': 'Pharmacy'}, page_content='. Living in the 10th century, he wrote The foundations of the true properties of Remedies, amongst others describing arsenious oxide, and being acquainted with silicic acid. He made clear distinction between sodium carbonate and potassium carbonate, and drew attention to the poisonous nature of copper compounds, especially copper vitriol, and also lead compounds. He also describes the distillation of sea-water for drinking.[verification needed]'), -0.03174372477867893), (Document(metadata={'start_index': 523, 'title': 'Normans'}, page_content='. Isaac surrendered and was confined with silver chains, because Richard had promised that he would not place him in irons. By 1 June, Richard had conquered the whole island. His exploit was well publicized and contributed to his reputation; he also derived significant financial gains from the conquest of the island. Richard left for Acre on 5 June, with his allies. Before his departure, he named two of his Norman generals, Richard de Camville and Robert de Thornham, as governors of Cyprus.'), -0.04067371474747006)]\n",
      "  self.vectorstore.similarity_search_with_relevance_scores(\n",
      "No relevant docs were retrieved using the relevance score threshold 0.1\n",
      " 32%|███▏      | 159/500 [03:14<04:58,  1.14it/s]/Users/mariadancianu/Desktop/Git Projects/SQuAD_RAG_experiments/.venv/lib/python3.12/site-packages/langchain_core/vectorstores/base.py:1076: UserWarning: Relevance scores must be between 0 and 1, got [(Document(metadata={'start_index': 0, 'title': 'Normans'}, page_content='Between 1402 and 1405, the expedition led by the Norman noble Jean de Bethencourt and the Poitevine Gadifer de la Salle conquered the Canarian islands of Lanzarote, Fuerteventura and El Hierro off the Atlantic coast of Africa. Their troops were gathered in Normandy, Gascony and were later reinforced by Castilian colonists.'), 0.17102231889001862), (Document(metadata={'start_index': 0, 'title': 'Normans'}, page_content=\"Bethencourt took the title of King of the Canary Islands, as vassal to Henry III of Castile. In 1418, Jean's nephew Maciot de Bethencourt sold the rights to the islands to Enrique Pérez de Guzmán, 2nd Count de Niebla.\"), 0.10393313401777149), (Document(metadata={'start_index': 572, 'title': 'Rhine'}, page_content='. Several microplates were caught in the squeeze and rotated or were pushed laterally, generating the individual features of Mediterranean geography: Iberia pushed up the Pyrenees; Italy, the Alps, and Anatolia, moving west, the mountains of Greece and the islands. The compression and orogeny continue today, as shown by the ongoing raising of the mountains a small amount each year and the active volcanoes.'), -0.03445444148750565)]\n",
      "  self.vectorstore.similarity_search_with_relevance_scores(\n",
      " 33%|███▎      | 167/500 [03:23<05:45,  1.04s/it]/Users/mariadancianu/Desktop/Git Projects/SQuAD_RAG_experiments/.venv/lib/python3.12/site-packages/langchain_core/vectorstores/base.py:1076: UserWarning: Relevance scores must be between 0 and 1, got [(Document(metadata={'start_index': 0, 'title': 'Normans'}, page_content='The customary law of Normandy was developed between the 10th and 13th centuries and survives today through the legal systems of Jersey and Guernsey in the Channel Islands. Norman customary law was transcribed in two customaries in Latin by two judges for use by them and their colleagues: These are the Très ancien coutumier (Very ancient customary), authored between 1200 and 1245; and the Grand coutumier de Normandie (Great customary of Normandy, originally Summa de legibus Normanniae in curia laïcali), authored between 1235 and 1245.'), 0.035866057966374654), (Document(metadata={'start_index': 0, 'title': 'Huguenot'}, page_content='The bulk of Huguenot émigrés relocated to Protestant European nations such as England, Wales, Scotland, Denmark, Sweden, Switzerland, the Dutch Republic, the Electorate of Brandenburg and Electorate of the Palatinate in the Holy Roman Empire, the Duchy of Prussia, the Channel Islands, and Ireland. They also spread beyond Europe to the Dutch Cape Colony in South Africa, the Dutch East Indies, the Caribbean, and several of the English colonies of North America, and Quebec, where they were accepted and allowed to worship freely.'), -0.013305911548012084), (Document(metadata={'start_index': 451, 'title': 'Huguenot'}, page_content='. A small group of Huguenots also settled on the south shore of Staten Island along the New York Harbor, for which the current neighborhood of Huguenot was named.'), -0.023097804568851243)]\n",
      "  self.vectorstore.similarity_search_with_relevance_scores(\n",
      "No relevant docs were retrieved using the relevance score threshold 0.1\n",
      " 43%|████▎     | 215/500 [04:10<06:47,  1.43s/it]No relevant docs were retrieved using the relevance score threshold 0.1\n",
      " 45%|████▌     | 225/500 [04:20<04:22,  1.05it/s]No relevant docs were retrieved using the relevance score threshold 0.1\n",
      " 49%|████▊     | 243/500 [04:37<04:24,  1.03s/it]/Users/mariadancianu/Desktop/Git Projects/SQuAD_RAG_experiments/.venv/lib/python3.12/site-packages/langchain_core/vectorstores/base.py:1076: UserWarning: Relevance scores must be between 0 and 1, got [(Document(metadata={'start_index': 529, 'title': 'Computational_complexity_theory'}, page_content='. The instance is a number (e.g. 15) and the solution is \"yes\" if the number is prime and \"no\" otherwise (in this case \"no\"). Stated another way, the instance is a particular input to the problem, and the solution is the output corresponding to the given input.'), 0.06683353920345114), (Document(metadata={'start_index': 545, 'title': 'Computational_complexity_theory'}, page_content='. If the algorithm deciding this problem returns the answer yes, the algorithm is said to accept the input string, otherwise it is said to reject the input.'), -0.01894237818676814), (Document(metadata={'start_index': 0, 'title': 'Computational_complexity_theory'}, page_content=\"A function problem is a computational problem where a single output (of a total function) is expected for every input, but the output is more complex than that of a decision problem, that is, it isn't just yes or no. Notable examples include the traveling salesman problem and the integer factorization problem.\"), -0.03574152194733138)]\n",
      "  self.vectorstore.similarity_search_with_relevance_scores(\n",
      "No relevant docs were retrieved using the relevance score threshold 0.1\n",
      " 49%|████▉     | 244/500 [04:37<04:03,  1.05it/s]/Users/mariadancianu/Desktop/Git Projects/SQuAD_RAG_experiments/.venv/lib/python3.12/site-packages/langchain_core/vectorstores/base.py:1076: UserWarning: Relevance scores must be between 0 and 1, got [(Document(metadata={'start_index': 0, 'title': 'Computational_complexity_theory'}, page_content='To measure the difficulty of solving a computational problem, one may wish to see how much time the best algorithm requires to solve the problem. However, the running time may, in general, depend on the instance. In particular, larger instances will require more time to solve. Thus the time required to solve a problem (or the space required, or any measure of complexity) is calculated as a function of the size of the instance. This is usually taken to be the size of the input in bits. Complexity theory is interested in how algorithms scale with an increase in the input size'), 0.0422296420356405), (Document(metadata={'start_index': 0, 'title': 'Computational_complexity_theory'}, page_content='Analogous definitions can be made for space requirements. Although time and space are the most well-known complexity resources, any complexity measure can be viewed as a computational resource. Complexity measures are very generally defined by the Blum complexity axioms. Other complexity measures used in complexity theory include communication complexity, circuit complexity, and decision tree complexity.'), 0.03438299466097339), (Document(metadata={'start_index': 0, 'title': 'Computational_complexity_theory'}, page_content='A problem is regarded as inherently difficult if its solution requires significant resources, whatever the algorithm used. The theory formalizes this intuition, by introducing mathematical models of computation to study these problems and quantifying the amount of resources needed to solve them, such as time and storage. Other complexity measures are also used, such as the amount of communication (used in communication complexity), the number of gates in a circuit (used in circuit complexity) and the number of processors (used in parallel computing)'), -0.011435687292189689)]\n",
      "  self.vectorstore.similarity_search_with_relevance_scores(\n",
      "No relevant docs were retrieved using the relevance score threshold 0.1\n",
      " 50%|████▉     | 248/500 [04:41<04:20,  1.03s/it]/Users/mariadancianu/Desktop/Git Projects/SQuAD_RAG_experiments/.venv/lib/python3.12/site-packages/langchain_core/vectorstores/base.py:1076: UserWarning: Relevance scores must be between 0 and 1, got [(Document(metadata={'start_index': 0, 'title': 'Computational_complexity_theory'}, page_content=\"To further highlight the difference between a problem and an instance, consider the following instance of the decision version of the traveling salesman problem: Is there a route of at most 2000 kilometres passing through all of Germany's 15 largest cities? The quantitative answer to this particular problem instance is of little use for solving other instances of the problem, such as asking for a round trip through all sites in Milan whose total length is at most 10 km. For this reason, complexity theory addresses computational problems and not particular problem instances.\"), 0.4488833413056075), (Document(metadata={'start_index': 0, 'title': 'Rhine'}, page_content='Until 1932 the generally accepted length of the Rhine was 1,230 kilometres (764 miles). In 1932 the German encyclopedia Knaurs Lexikon stated the length as 1,320 kilometres (820 miles), presumably a typographical error. After this number was placed into the authoritative Brockhaus Enzyklopädie, it became generally accepted and found its way into numerous textbooks and official publications. The error was discovered in 2010, and the Dutch Rijkswaterstaat confirms the length at 1,232 kilometres (766 miles).[note 1]'), 0.03713442522546151), (Document(metadata={'start_index': 0, 'title': 'Rhine'}, page_content='The length of the Rhine is conventionally measured in \"Rhine-kilometers\" (Rheinkilometer), a scale introduced in 1939 which runs from the Old Rhine Bridge at Constance (0 km) to Hoek van Holland (1036.20 km). The river length is significantly shortened from the river\\'s natural course due to number of canalisation projects completed in the 19th and 20th century.[note 7] The \"total length of the Rhine\", to the inclusion of Lake Constance and the Alpine Rhine is more difficult to measure objectively; it was cited as 1,232 kilometres (766 miles) by the Dutch Rijkswaterstaat in 2010.[note 1]'), -0.020301445463850376)]\n",
      "  self.vectorstore.similarity_search_with_relevance_scores(\n",
      " 56%|█████▌    | 278/500 [05:09<03:39,  1.01it/s]No relevant docs were retrieved using the relevance score threshold 0.1\n",
      " 59%|█████▉    | 297/500 [05:27<03:21,  1.01it/s]/Users/mariadancianu/Desktop/Git Projects/SQuAD_RAG_experiments/.venv/lib/python3.12/site-packages/langchain_core/vectorstores/base.py:1076: UserWarning: Relevance scores must be between 0 and 1, got [(Document(metadata={'start_index': 0, 'title': 'Computational_complexity_theory'}, page_content='To measure the difficulty of solving a computational problem, one may wish to see how much time the best algorithm requires to solve the problem. However, the running time may, in general, depend on the instance. In particular, larger instances will require more time to solve. Thus the time required to solve a problem (or the space required, or any measure of complexity) is calculated as a function of the size of the instance. This is usually taken to be the size of the input in bits. Complexity theory is interested in how algorithms scale with an increase in the input size'), 0.06510088226116828), (Document(metadata={'start_index': 377, 'title': 'Force'}, page_content='. The kilogram-force is not a part of the modern SI system, and is generally deprecated; however it still sees use for some purposes as expressing aircraft weight, jet thrust, bicycle spoke tension, torque wrench settings and engine output torque. Other arcane units of force include the sthène, which is equivalent to 1000 N, and the kip, which is equivalent to 1000 lbf.'), -0.05214876163861337), (Document(metadata={'start_index': 0, 'title': 'Force'}, page_content='Since forces are perceived as pushes or pulls, this can provide an intuitive understanding for describing forces. As with other physical concepts (e.g. temperature), the intuitive understanding of forces is quantified using precise operational definitions that are consistent with direct observations and compared to a standard measurement scale. Through experimentation, it is determined that laboratory measurements of forces are fully consistent with the conceptual definition of force offered by Newtonian mechanics.'), -0.05304019015644568)]\n",
      "  self.vectorstore.similarity_search_with_relevance_scores(\n",
      "No relevant docs were retrieved using the relevance score threshold 0.1\n",
      " 64%|██████▍   | 319/500 [05:48<02:50,  1.06it/s]/Users/mariadancianu/Desktop/Git Projects/SQuAD_RAG_experiments/.venv/lib/python3.12/site-packages/langchain_core/vectorstores/base.py:1076: UserWarning: Relevance scores must be between 0 and 1, got [(Document(metadata={'start_index': 0, 'title': 'Computational_complexity_theory'}, page_content='A Turing machine is a mathematical model of a general computing machine. It is a theoretical device that manipulates symbols contained on a strip of tape. Turing machines are not intended as a practical computing technology, but rather as a thought experiment representing a computing machine—anything from an advanced supercomputer to a mathematician with a pencil and paper. It is believed that if a problem can be solved by an algorithm, there exists a Turing machine that solves the problem. Indeed, this is the statement of the Church–Turing thesis'), 0.2520064767793372), (Document(metadata={'start_index': 0, 'title': 'Computational_complexity_theory'}, page_content='Many machine models different from the standard multi-tape Turing machines have been proposed in the literature, for example random access machines. Perhaps surprisingly, each of these models can be converted to another without providing any extra computational power. The time and memory consumption of these alternate models may vary. What all these models have in common is that the machines operate deterministically.'), 0.11827595944711977), (Document(metadata={'start_index': 553, 'title': 'Computational_complexity_theory'}, page_content=\". Furthermore, it is known that everything that can be computed on other models of computation known to us today, such as a RAM machine, Conway's Game of Life, cellular automata or any programming language can be computed on a Turing machine. Since Turing machines are easy to analyze mathematically, and are believed to be as powerful as any other model of computation, the Turing machine is the most commonly used model in complexity theory.\"), -0.006119620995813646)]\n",
      "  self.vectorstore.similarity_search_with_relevance_scores(\n",
      " 69%|██████▉   | 344/500 [06:15<02:14,  1.16it/s]/Users/mariadancianu/Desktop/Git Projects/SQuAD_RAG_experiments/.venv/lib/python3.12/site-packages/langchain_core/vectorstores/base.py:1076: UserWarning: Relevance scores must be between 0 and 1, got [(Document(metadata={'start_index': 0, 'title': 'Computational_complexity_theory'}, page_content='Many machine models different from the standard multi-tape Turing machines have been proposed in the literature, for example random access machines. Perhaps surprisingly, each of these models can be converted to another without providing any extra computational power. The time and memory consumption of these alternate models may vary. What all these models have in common is that the machines operate deterministically.'), 0.1384062215265901), (Document(metadata={'start_index': 949, 'title': 'Force'}, page_content='. These tandem effects result ultimately in the conservation of mechanical energy since the work done on the load is the same no matter how complicated the machine.'), 0.0048163060810050284), (Document(metadata={'start_index': 0, 'title': 'Computational_complexity_theory'}, page_content='For a precise definition of what it means to solve a problem using a given amount of time and space, a computational model such as the deterministic Turing machine is used. The time required by a deterministic Turing machine M on input x is the total number of state transitions, or steps, the machine makes before it halts and outputs the answer (\"yes\" or \"no\"). A Turing machine M is said to operate within time f(n), if the time required by M on each input of length n is at most f(n)'), -0.02584325028085077)]\n",
      "  self.vectorstore.similarity_search_with_relevance_scores(\n",
      " 74%|███████▍  | 369/500 [06:40<01:54,  1.14it/s]/Users/mariadancianu/Desktop/Git Projects/SQuAD_RAG_experiments/.venv/lib/python3.12/site-packages/langchain_core/vectorstores/base.py:1076: UserWarning: Relevance scores must be between 0 and 1, got [(Document(metadata={'start_index': 0, 'title': 'Computational_complexity_theory'}, page_content='Analogous definitions can be made for space requirements. Although time and space are the most well-known complexity resources, any complexity measure can be viewed as a computational resource. Complexity measures are very generally defined by the Blum complexity axioms. Other complexity measures used in complexity theory include communication complexity, circuit complexity, and decision tree complexity.'), 0.05371583836661742), (Document(metadata={'start_index': 598, 'title': 'Computational_complexity_theory'}, page_content='. One way to view non-determinism is that the Turing machine branches into many possible computational paths at each step, and if it solves the problem in any of these branches, it is said to have solved the problem. Clearly, this model is not meant to be a physically realizable model, it is just a theoretically interesting abstract machine that gives rise to particularly interesting complexity classes. For examples, see non-deterministic algorithm.'), -0.021526485762668024), (Document(metadata={'start_index': 0, 'title': 'Computational_complexity_theory'}, page_content='However, some computational problems are easier to analyze in terms of more unusual resources. For example, a non-deterministic Turing machine is a computational model that is allowed to branch out to check many different possibilities at once. The non-deterministic Turing machine has very little to do with how we physically want to compute algorithms, but its branching exactly captures many of the mathematical models we want to analyze, so that non-deterministic time is a very important resource in analyzing computational problems.'), -0.026091832393368097)]\n",
      "  self.vectorstore.similarity_search_with_relevance_scores(\n",
      "No relevant docs were retrieved using the relevance score threshold 0.1\n",
      " 74%|███████▍  | 370/500 [06:40<01:49,  1.18it/s]No relevant docs were retrieved using the relevance score threshold 0.1\n",
      " 77%|███████▋  | 383/500 [06:54<01:51,  1.05it/s]/Users/mariadancianu/Desktop/Git Projects/SQuAD_RAG_experiments/.venv/lib/python3.12/site-packages/langchain_core/vectorstores/base.py:1076: UserWarning: Relevance scores must be between 0 and 1, got [(Document(metadata={'start_index': 0, 'title': 'Computational_complexity_theory'}, page_content='For example, consider the deterministic sorting algorithm quicksort. This solves the problem of sorting a list of integers that is given as the input. The worst-case is when the input is sorted or sorted in reverse order, and the algorithm takes time O(n2) for this case. If we assume that all possible permutations of the input list are equally likely, the average time taken for sorting is O(n log n). The best case occurs when each pivoting divides the list in half, also needing O(n log n) time.'), 0.30777885350477263), (Document(metadata={'start_index': 529, 'title': 'Computational_complexity_theory'}, page_content='. The instance is a number (e.g. 15) and the solution is \"yes\" if the number is prime and \"no\" otherwise (in this case \"no\"). Stated another way, the instance is a particular input to the problem, and the solution is the output corresponding to the given input.'), 0.05192855910866445), (Document(metadata={'start_index': 0, 'title': 'Computational_complexity_theory'}, page_content='The integer factorization problem is the computational problem of determining the prime factorization of a given integer. Phrased as a decision problem, it is the problem of deciding whether the input has a factor less than k. No efficient integer factorization algorithm is known, and this fact forms the basis of several modern cryptographic systems, such as the RSA algorithm. The integer factorization problem is in NP and in co-NP (and even in UP and co-UP). If the problem is NP-complete, the polynomial time hierarchy will collapse to its first level (i.e., NP will equal co-NP)'), -0.0042339709934362535)]\n",
      "  self.vectorstore.similarity_search_with_relevance_scores(\n",
      " 85%|████████▍ | 424/500 [07:39<01:18,  1.04s/it]/Users/mariadancianu/Desktop/Git Projects/SQuAD_RAG_experiments/.venv/lib/python3.12/site-packages/langchain_core/vectorstores/base.py:1076: UserWarning: Relevance scores must be between 0 and 1, got [(Document(metadata={'start_index': 0, 'title': 'Computational_complexity_theory'}, page_content='When considering computational problems, a problem instance is a string over an alphabet. Usually, the alphabet is taken to be the binary alphabet (i.e., the set {0,1}), and thus the strings are bitstrings. As in a real-world computer, mathematical objects other than bitstrings must be suitably encoded. For example, integers can be represented in binary notation, and graphs can be encoded directly via their adjacency matrices, or by encoding their adjacency lists in binary.'), 0.14103921944676268), (Document(metadata={'start_index': 440, 'title': 'Prime_number'}, page_content='. Some of the largest primes not known to have any particular form (that is, no simple formula such as that of Mersenne primes) have been found by taking a piece of semi-random binary data, converting it to a number n, multiplying it by 256k for some positive integer k, and searching for possible primes within the interval [256kn + 1, 256k(n + 1) − 1].[citation needed]'), 0.014796005458808548), (Document(metadata={'start_index': 0, 'title': 'Computational_complexity_theory'}, page_content='An example of a decision problem is the following. The input is an arbitrary graph. The problem consists in deciding whether the given graph is connected, or not. The formal language associated with this decision problem is then the set of all connected graphs—of course, to obtain a precise definition of this language, one has to decide how graphs are encoded as binary strings.'), -0.02753789076577684)]\n",
      "  self.vectorstore.similarity_search_with_relevance_scores(\n",
      "100%|██████████| 500/500 [09:11<00:00,  1.10s/it]\n"
     ]
    },
    {
     "name": "stdout",
     "output_type": "stream",
     "text": [
      "Running gpt-3.5-turbo - 100 - text-embedding-ada-002\n",
      "/Users/mariadancianu/Desktop/Git Projects/SQuAD_RAG_experiments/vector_databases/db_100_text-embedding-ada-002\n",
      "\n",
      "--- Creating vector store chroma_db_openai ---\n",
      "--- Finished creating vector store chroma_db_openai ---\n"
     ]
    },
    {
     "name": "stderr",
     "output_type": "stream",
     "text": [
      "100%|██████████| 500/500 [07:02<00:00,  1.18it/s]\n"
     ]
    },
    {
     "name": "stdout",
     "output_type": "stream",
     "text": [
      "Running gpt-3.5-turbo - 200 - text-embedding-ada-002\n",
      "/Users/mariadancianu/Desktop/Git Projects/SQuAD_RAG_experiments/vector_databases/db_200_text-embedding-ada-002\n",
      "\n",
      "--- Creating vector store chroma_db_openai ---\n",
      "--- Finished creating vector store chroma_db_openai ---\n"
     ]
    },
    {
     "name": "stderr",
     "output_type": "stream",
     "text": [
      "100%|██████████| 500/500 [07:02<00:00,  1.18it/s]\n"
     ]
    },
    {
     "name": "stdout",
     "output_type": "stream",
     "text": [
      "Running gpt-3.5-turbo - 400 - text-embedding-ada-002\n",
      "/Users/mariadancianu/Desktop/Git Projects/SQuAD_RAG_experiments/vector_databases/db_400_text-embedding-ada-002\n",
      "\n",
      "--- Creating vector store chroma_db_openai ---\n",
      "--- Finished creating vector store chroma_db_openai ---\n"
     ]
    },
    {
     "name": "stderr",
     "output_type": "stream",
     "text": [
      "100%|██████████| 500/500 [08:01<00:00,  1.04it/s] \n"
     ]
    },
    {
     "name": "stdout",
     "output_type": "stream",
     "text": [
      "Running gpt-3.5-turbo - 500 - text-embedding-ada-002\n",
      "/Users/mariadancianu/Desktop/Git Projects/SQuAD_RAG_experiments/vector_databases/db_500_text-embedding-ada-002\n",
      "\n",
      "--- Creating vector store chroma_db_openai ---\n",
      "--- Finished creating vector store chroma_db_openai ---\n"
     ]
    },
    {
     "name": "stderr",
     "output_type": "stream",
     "text": [
      "100%|██████████| 500/500 [07:17<00:00,  1.14it/s]\n"
     ]
    },
    {
     "name": "stdout",
     "output_type": "stream",
     "text": [
      "Running gpt-3.5-turbo - 600 - text-embedding-ada-002\n",
      "/Users/mariadancianu/Desktop/Git Projects/SQuAD_RAG_experiments/vector_databases/db_600_text-embedding-ada-002\n",
      "\n",
      "--- Creating vector store chroma_db_openai ---\n",
      "--- Finished creating vector store chroma_db_openai ---\n"
     ]
    },
    {
     "name": "stderr",
     "output_type": "stream",
     "text": [
      "100%|██████████| 500/500 [07:02<00:00,  1.18it/s]\n"
     ]
    }
   ],
   "source": [
    "df = pd.read_csv(\"dataset.csv\")\n",
    "df_to_test = df[0:500]\n",
    "\n",
    "langchain_docs = convert_context_to_langchain_docs(df)\n",
    "\n",
    "fine_tune_rag(df_to_test, langchain_docs)"
   ]
  },
  {
   "cell_type": "code",
   "execution_count": 2,
   "id": "d407aed2",
   "metadata": {},
   "outputs": [],
   "source": [
    "df_all_res = collect_all_results('/Users/mariadancianu/Desktop/Git Projects/SQuAD_RAG_experiments/eval_results/initial_eval_results')\n",
    "df_all_res.sort_values(by=\"HasAns_f1\", ascending=False, inplace=True)\n",
    "df_all_res.to_csv(\"eval_results/initial_eval_results/df_all_results.csv\", index=False)"
   ]
  },
  {
   "cell_type": "code",
   "execution_count": 3,
   "id": "f78f94bb",
   "metadata": {},
   "outputs": [
    {
     "data": {
      "text/html": [
       "<div>\n",
       "<style scoped>\n",
       "    .dataframe tbody tr th:only-of-type {\n",
       "        vertical-align: middle;\n",
       "    }\n",
       "\n",
       "    .dataframe tbody tr th {\n",
       "        vertical-align: top;\n",
       "    }\n",
       "\n",
       "    .dataframe thead th {\n",
       "        text-align: right;\n",
       "    }\n",
       "</style>\n",
       "<table border=\"1\" class=\"dataframe\">\n",
       "  <thead>\n",
       "    <tr style=\"text-align: right;\">\n",
       "      <th></th>\n",
       "      <th>exact</th>\n",
       "      <th>f1</th>\n",
       "      <th>total</th>\n",
       "      <th>HasAns_exact</th>\n",
       "      <th>HasAns_f1</th>\n",
       "      <th>HasAns_total</th>\n",
       "      <th>NoAns_exact</th>\n",
       "      <th>NoAns_f1</th>\n",
       "      <th>NoAns_total</th>\n",
       "      <th>experiment</th>\n",
       "    </tr>\n",
       "  </thead>\n",
       "  <tbody>\n",
       "    <tr>\n",
       "      <th>13</th>\n",
       "      <td>44.2</td>\n",
       "      <td>49.137730</td>\n",
       "      <td>500</td>\n",
       "      <td>62.869198</td>\n",
       "      <td>73.286351</td>\n",
       "      <td>237</td>\n",
       "      <td>27.376426</td>\n",
       "      <td>27.376426</td>\n",
       "      <td>263</td>\n",
       "      <td>eval_pred_500_400_text-embedding-3-large_gpt-3...</td>\n",
       "    </tr>\n",
       "    <tr>\n",
       "      <th>9</th>\n",
       "      <td>42.8</td>\n",
       "      <td>48.107636</td>\n",
       "      <td>500</td>\n",
       "      <td>61.603376</td>\n",
       "      <td>72.800920</td>\n",
       "      <td>237</td>\n",
       "      <td>25.855513</td>\n",
       "      <td>25.855513</td>\n",
       "      <td>263</td>\n",
       "      <td>eval_pred_500_500_text-embedding-ada-002_gpt-3...</td>\n",
       "    </tr>\n",
       "    <tr>\n",
       "      <th>0</th>\n",
       "      <td>45.4</td>\n",
       "      <td>50.499295</td>\n",
       "      <td>500</td>\n",
       "      <td>62.025316</td>\n",
       "      <td>72.783323</td>\n",
       "      <td>237</td>\n",
       "      <td>30.418251</td>\n",
       "      <td>30.418251</td>\n",
       "      <td>263</td>\n",
       "      <td>eval_pred_500_400_text-embedding-ada-002_gpt-3...</td>\n",
       "    </tr>\n",
       "    <tr>\n",
       "      <th>8</th>\n",
       "      <td>47.6</td>\n",
       "      <td>53.473288</td>\n",
       "      <td>500</td>\n",
       "      <td>59.071730</td>\n",
       "      <td>71.462632</td>\n",
       "      <td>237</td>\n",
       "      <td>37.262357</td>\n",
       "      <td>37.262357</td>\n",
       "      <td>263</td>\n",
       "      <td>eval_pred_500_200_text-embedding-3-large_gpt-3...</td>\n",
       "    </tr>\n",
       "    <tr>\n",
       "      <th>5</th>\n",
       "      <td>42.6</td>\n",
       "      <td>48.644239</td>\n",
       "      <td>500</td>\n",
       "      <td>58.649789</td>\n",
       "      <td>71.401349</td>\n",
       "      <td>237</td>\n",
       "      <td>28.136882</td>\n",
       "      <td>28.136882</td>\n",
       "      <td>263</td>\n",
       "      <td>eval_pred_500_500_text-embedding-3-large_gpt-3...</td>\n",
       "    </tr>\n",
       "    <tr>\n",
       "      <th>12</th>\n",
       "      <td>41.4</td>\n",
       "      <td>47.387078</td>\n",
       "      <td>500</td>\n",
       "      <td>58.227848</td>\n",
       "      <td>70.858814</td>\n",
       "      <td>237</td>\n",
       "      <td>26.235741</td>\n",
       "      <td>26.235741</td>\n",
       "      <td>263</td>\n",
       "      <td>eval_pred_500_600_text-embedding-ada-002_gpt-3...</td>\n",
       "    </tr>\n",
       "    <tr>\n",
       "      <th>11</th>\n",
       "      <td>43.0</td>\n",
       "      <td>48.190065</td>\n",
       "      <td>500</td>\n",
       "      <td>58.649789</td>\n",
       "      <td>69.599294</td>\n",
       "      <td>237</td>\n",
       "      <td>28.897338</td>\n",
       "      <td>28.897338</td>\n",
       "      <td>263</td>\n",
       "      <td>eval_pred_500_600_text-embedding-3-small_gpt-3...</td>\n",
       "    </tr>\n",
       "    <tr>\n",
       "      <th>1</th>\n",
       "      <td>45.2</td>\n",
       "      <td>50.103369</td>\n",
       "      <td>500</td>\n",
       "      <td>58.649789</td>\n",
       "      <td>68.994450</td>\n",
       "      <td>237</td>\n",
       "      <td>33.079848</td>\n",
       "      <td>33.079848</td>\n",
       "      <td>263</td>\n",
       "      <td>eval_pred_500_400_text-embedding-3-small_gpt-3...</td>\n",
       "    </tr>\n",
       "    <tr>\n",
       "      <th>4</th>\n",
       "      <td>41.8</td>\n",
       "      <td>47.506821</td>\n",
       "      <td>500</td>\n",
       "      <td>56.118143</td>\n",
       "      <td>68.157851</td>\n",
       "      <td>237</td>\n",
       "      <td>28.897338</td>\n",
       "      <td>28.897338</td>\n",
       "      <td>263</td>\n",
       "      <td>eval_pred_500_600_text-embedding-3-large_gpt-3...</td>\n",
       "    </tr>\n",
       "    <tr>\n",
       "      <th>10</th>\n",
       "      <td>42.4</td>\n",
       "      <td>47.814628</td>\n",
       "      <td>500</td>\n",
       "      <td>55.274262</td>\n",
       "      <td>66.697528</td>\n",
       "      <td>237</td>\n",
       "      <td>30.798479</td>\n",
       "      <td>30.798479</td>\n",
       "      <td>263</td>\n",
       "      <td>eval_pred_500_500_text-embedding-3-small_gpt-3...</td>\n",
       "    </tr>\n",
       "    <tr>\n",
       "      <th>6</th>\n",
       "      <td>49.0</td>\n",
       "      <td>53.962417</td>\n",
       "      <td>500</td>\n",
       "      <td>56.118143</td>\n",
       "      <td>66.587377</td>\n",
       "      <td>237</td>\n",
       "      <td>42.585551</td>\n",
       "      <td>42.585551</td>\n",
       "      <td>263</td>\n",
       "      <td>eval_pred_500_200_text-embedding-ada-002_gpt-3...</td>\n",
       "    </tr>\n",
       "    <tr>\n",
       "      <th>14</th>\n",
       "      <td>48.4</td>\n",
       "      <td>53.228057</td>\n",
       "      <td>500</td>\n",
       "      <td>50.210970</td>\n",
       "      <td>60.396745</td>\n",
       "      <td>237</td>\n",
       "      <td>46.768061</td>\n",
       "      <td>46.768061</td>\n",
       "      <td>263</td>\n",
       "      <td>eval_pred_500_100_text-embedding-3-large_gpt-3...</td>\n",
       "    </tr>\n",
       "    <tr>\n",
       "      <th>2</th>\n",
       "      <td>46.6</td>\n",
       "      <td>51.265821</td>\n",
       "      <td>500</td>\n",
       "      <td>43.459916</td>\n",
       "      <td>53.303419</td>\n",
       "      <td>237</td>\n",
       "      <td>49.429658</td>\n",
       "      <td>49.429658</td>\n",
       "      <td>263</td>\n",
       "      <td>eval_pred_500_100_text-embedding-3-small_gpt-3...</td>\n",
       "    </tr>\n",
       "    <tr>\n",
       "      <th>3</th>\n",
       "      <td>45.4</td>\n",
       "      <td>48.784713</td>\n",
       "      <td>500</td>\n",
       "      <td>32.067511</td>\n",
       "      <td>39.208255</td>\n",
       "      <td>237</td>\n",
       "      <td>57.414449</td>\n",
       "      <td>57.414449</td>\n",
       "      <td>263</td>\n",
       "      <td>eval_pred_500_100_text-embedding-ada-002_gpt-3...</td>\n",
       "    </tr>\n",
       "    <tr>\n",
       "      <th>7</th>\n",
       "      <td>46.2</td>\n",
       "      <td>48.043590</td>\n",
       "      <td>500</td>\n",
       "      <td>8.438819</td>\n",
       "      <td>12.328248</td>\n",
       "      <td>237</td>\n",
       "      <td>80.228137</td>\n",
       "      <td>80.228137</td>\n",
       "      <td>263</td>\n",
       "      <td>eval_pred_500_200_text-embedding-3-small_gpt-3...</td>\n",
       "    </tr>\n",
       "  </tbody>\n",
       "</table>\n",
       "</div>"
      ],
      "text/plain": [
       "    exact         f1  total  HasAns_exact  HasAns_f1  HasAns_total  \\\n",
       "13   44.2  49.137730    500     62.869198  73.286351           237   \n",
       "9    42.8  48.107636    500     61.603376  72.800920           237   \n",
       "0    45.4  50.499295    500     62.025316  72.783323           237   \n",
       "8    47.6  53.473288    500     59.071730  71.462632           237   \n",
       "5    42.6  48.644239    500     58.649789  71.401349           237   \n",
       "12   41.4  47.387078    500     58.227848  70.858814           237   \n",
       "11   43.0  48.190065    500     58.649789  69.599294           237   \n",
       "1    45.2  50.103369    500     58.649789  68.994450           237   \n",
       "4    41.8  47.506821    500     56.118143  68.157851           237   \n",
       "10   42.4  47.814628    500     55.274262  66.697528           237   \n",
       "6    49.0  53.962417    500     56.118143  66.587377           237   \n",
       "14   48.4  53.228057    500     50.210970  60.396745           237   \n",
       "2    46.6  51.265821    500     43.459916  53.303419           237   \n",
       "3    45.4  48.784713    500     32.067511  39.208255           237   \n",
       "7    46.2  48.043590    500      8.438819  12.328248           237   \n",
       "\n",
       "    NoAns_exact   NoAns_f1  NoAns_total  \\\n",
       "13    27.376426  27.376426          263   \n",
       "9     25.855513  25.855513          263   \n",
       "0     30.418251  30.418251          263   \n",
       "8     37.262357  37.262357          263   \n",
       "5     28.136882  28.136882          263   \n",
       "12    26.235741  26.235741          263   \n",
       "11    28.897338  28.897338          263   \n",
       "1     33.079848  33.079848          263   \n",
       "4     28.897338  28.897338          263   \n",
       "10    30.798479  30.798479          263   \n",
       "6     42.585551  42.585551          263   \n",
       "14    46.768061  46.768061          263   \n",
       "2     49.429658  49.429658          263   \n",
       "3     57.414449  57.414449          263   \n",
       "7     80.228137  80.228137          263   \n",
       "\n",
       "                                           experiment  \n",
       "13  eval_pred_500_400_text-embedding-3-large_gpt-3...  \n",
       "9   eval_pred_500_500_text-embedding-ada-002_gpt-3...  \n",
       "0   eval_pred_500_400_text-embedding-ada-002_gpt-3...  \n",
       "8   eval_pred_500_200_text-embedding-3-large_gpt-3...  \n",
       "5   eval_pred_500_500_text-embedding-3-large_gpt-3...  \n",
       "12  eval_pred_500_600_text-embedding-ada-002_gpt-3...  \n",
       "11  eval_pred_500_600_text-embedding-3-small_gpt-3...  \n",
       "1   eval_pred_500_400_text-embedding-3-small_gpt-3...  \n",
       "4   eval_pred_500_600_text-embedding-3-large_gpt-3...  \n",
       "10  eval_pred_500_500_text-embedding-3-small_gpt-3...  \n",
       "6   eval_pred_500_200_text-embedding-ada-002_gpt-3...  \n",
       "14  eval_pred_500_100_text-embedding-3-large_gpt-3...  \n",
       "2   eval_pred_500_100_text-embedding-3-small_gpt-3...  \n",
       "3   eval_pred_500_100_text-embedding-ada-002_gpt-3...  \n",
       "7   eval_pred_500_200_text-embedding-3-small_gpt-3...  "
      ]
     },
     "execution_count": 3,
     "metadata": {},
     "output_type": "execute_result"
    }
   ],
   "source": [
    "df_all_res"
   ]
  },
  {
   "cell_type": "code",
   "execution_count": null,
   "id": "9835179f",
   "metadata": {},
   "outputs": [],
   "source": []
  },
  {
   "cell_type": "markdown",
   "id": "1c923406",
   "metadata": {},
   "source": [
    "# Investigate the results"
   ]
  },
  {
   "cell_type": "code",
   "execution_count": null,
   "id": "008528cb",
   "metadata": {},
   "outputs": [],
   "source": [
    "# Pick the best results and merge the scores by question id to the original df in order to inspect the errors.\n",
    "# The idea is to understand why the results are so poor for the NoAns questions, when the HasAns questions have \n",
    "# a high f1 score, in order to understand how the workflow can be optimized"
   ]
  },
  {
   "cell_type": "code",
   "execution_count": 4,
   "id": "4aeaa4a6",
   "metadata": {},
   "outputs": [
    {
     "data": {
      "text/plain": [
       "'/Users/mariadancianu/Desktop/Git Projects/SQuAD_RAG_experiments/eval_results/initial_eval_results/pred_500_400_text-embedding-3-large_gpt-3.5-turbo.json'"
      ]
     },
     "execution_count": 4,
     "metadata": {},
     "output_type": "execute_result"
    }
   ],
   "source": [
    "best_result_path = os.path.join(os.getcwd(), \"eval_results/initial_eval_results\", df_all_res.experiment.iloc[0])\n",
    "split_path = best_result_path.split(\"/\")\n",
    "split_path[-1] = split_path[-1].replace(\"eval_\", \"\")\n",
    "best_result_path = \"/\".join(split_path)\n",
    "best_result_path"
   ]
  },
  {
   "cell_type": "code",
   "execution_count": 5,
   "id": "e460bb44",
   "metadata": {},
   "outputs": [],
   "source": [
    "# run the RAG with best parameters, and save also the context\n",
    "parameters_dict = {\n",
    "    \"chunk_sizes\": [400],\n",
    "    \"embed_options\": { \n",
    "        \"text-embedding-3-large\": \"OpenAI\", \n",
    "        },\n",
    "    \"models\": [\"gpt-3.5-turbo\"]\n",
    "}"
   ]
  },
  {
   "cell_type": "code",
   "execution_count": 6,
   "id": "f033e29f",
   "metadata": {},
   "outputs": [],
   "source": [
    "results_folder = os.path.join(os.getcwd(), \"eval_results/debugging_eval_results\")\n",
    "results_folder\n",
    "\n",
    "if not os.path.exists(results_folder):\n",
    "    os.mkdir(results_folder)"
   ]
  },
  {
   "cell_type": "code",
   "execution_count": 7,
   "id": "979903fa",
   "metadata": {},
   "outputs": [
    {
     "name": "stdout",
     "output_type": "stream",
     "text": [
      "Fine tuning RAG with the following parameters: \n",
      "{'chunk_sizes': [400],\n",
      " 'embed_options': {'text-embedding-3-large': 'OpenAI'},\n",
      " 'models': ['gpt-3.5-turbo']}\n",
      "Running gpt-3.5-turbo - 400 - text-embedding-3-large\n",
      "/Users/mariadancianu/Desktop/Git Projects/SQuAD_RAG_experiments/vector_databases/db_400_text-embedding-3-large\n",
      "Vector store chroma_db_openai already exists. No need to initialize.\n"
     ]
    },
    {
     "name": "stderr",
     "output_type": "stream",
     "text": [
      "  0%|          | 0/500 [00:00<?, ?it/s]/Users/mariadancianu/Desktop/Git Projects/SQuAD_RAG_experiments/rag_fine_tuning.py:96: LangChainDeprecationWarning: The class `Chroma` was deprecated in LangChain 0.2.9 and will be removed in 1.0. An updated version of the class exists in the :class:`~langchain-chroma package and should be used instead. To use it run `pip install -U :class:`~langchain-chroma` and import as `from :class:`~langchain_chroma import Chroma``.\n",
      "  db = Chroma(\n",
      "  3%|▎         | 13/500 [00:13<07:33,  1.07it/s]/Users/mariadancianu/Desktop/Git Projects/SQuAD_RAG_experiments/.venv/lib/python3.12/site-packages/langchain_core/vectorstores/base.py:1076: UserWarning: Relevance scores must be between 0 and 1, got [(Document(metadata={'start_index': 315, 'title': 'Huguenot'}, page_content='. Andrew Lortie (born André Lortie), a leading Huguenot theologian and writer who led the exiled community in London, became known for articulating their criticism of the Pope and the doctrine of transubstantiation during Mass.'), 0.017011918166117357), (Document(metadata={'start_index': 347, 'title': 'Harvard_University'}, page_content='. Derived from William Ellery Channing and Ralph Waldo Emerson, these convictions were focused on the dignity and worth of human nature, the right and ability of each person to perceive truth, and the indwelling God in each person.'), -0.007391950058660557), (Document(metadata={'start_index': 334, 'title': 'Huguenot'}, page_content=\". He was regarded by the Gallicans and Protestants as a noble man who respected people's dignity and lives. Janet Gray and other supporters of the hypothesis suggest that the name huguenote would be roughly equivalent to little Hugos, or those who want Hugo.\"), -0.014413699314272499)]\n",
      "  self.vectorstore.similarity_search_with_relevance_scores(\n",
      "No relevant docs were retrieved using the relevance score threshold 0.1\n",
      " 13%|█▎        | 67/500 [01:38<06:42,  1.08it/s]  No relevant docs were retrieved using the relevance score threshold 0.1\n",
      " 14%|█▍        | 72/500 [01:43<06:47,  1.05it/s]No relevant docs were retrieved using the relevance score threshold 0.1\n",
      " 16%|█▋        | 82/500 [01:53<06:52,  1.01it/s]/Users/mariadancianu/Desktop/Git Projects/SQuAD_RAG_experiments/.venv/lib/python3.12/site-packages/langchain_core/vectorstores/base.py:1076: UserWarning: Relevance scores must be between 0 and 1, got [(Document(metadata={'start_index': 0, 'title': 'Normans'}, page_content='The Normans were in contact with England from an early date. Not only were their original Viking brethren still ravaging the English coasts, they occupied most of the important ports opposite England across the English Channel. This relationship eventually produced closer ties of blood through the marriage of Emma, sister of Duke Richard II of Normandy, and King Ethelred II of England'), 0.07866188365063942), (Document(metadata={'start_index': 691, 'title': 'Huguenot'}, page_content='. They were very successful at marriage and property speculation. After petitioning the British Crown in 1697 for the right to own land in the Baronies, they prospered as slave owners on the Cooper, Ashepoo, Ashley and Santee River plantations they purchased from the British Landgrave Edmund Bellinger'), -0.0032815365107869976), (Document(metadata={'start_index': 387, 'title': 'Normans'}, page_content=\". Because of this, Ethelred fled to Normandy in 1013, when he was forced from his kingdom by Sweyn Forkbeard. His stay in Normandy (until 1016) influenced him and his sons by Emma, who stayed in Normandy after Cnut the Great's conquest of the isle.\"), -0.020752669624007902)]\n",
      "  self.vectorstore.similarity_search_with_relevance_scores(\n",
      "No relevant docs were retrieved using the relevance score threshold 0.1\n",
      " 17%|█▋        | 83/500 [01:53<06:11,  1.12it/s]/Users/mariadancianu/Desktop/Git Projects/SQuAD_RAG_experiments/.venv/lib/python3.12/site-packages/langchain_core/vectorstores/base.py:1076: UserWarning: Relevance scores must be between 0 and 1, got [(Document(metadata={'start_index': 0, 'title': 'Normans'}, page_content='The Normans were in contact with England from an early date. Not only were their original Viking brethren still ravaging the English coasts, they occupied most of the important ports opposite England across the English Channel. This relationship eventually produced closer ties of blood through the marriage of Emma, sister of Duke Richard II of Normandy, and King Ethelred II of England'), 0.09237284352711239), (Document(metadata={'start_index': 387, 'title': 'Normans'}, page_content=\". Because of this, Ethelred fled to Normandy in 1013, when he was forced from his kingdom by Sweyn Forkbeard. His stay in Normandy (until 1016) influenced him and his sons by Emma, who stayed in Normandy after Cnut the Great's conquest of the isle.\"), 0.013666891387201674), (Document(metadata={'start_index': 0, 'title': 'Normans'}, page_content=\"One of the claimants of the English throne opposing William the Conqueror, Edgar Atheling, eventually fled to Scotland. King Malcolm III of Scotland married Edgar's sister Margaret, and came into opposition to William who had already disputed Scotland's southern borders. William invaded Scotland in 1072, riding as far as Abernethy where he met up with his fleet of ships\"), -0.05106029980079785)]\n",
      "  self.vectorstore.similarity_search_with_relevance_scores(\n",
      "No relevant docs were retrieved using the relevance score threshold 0.1\n",
      " 21%|██        | 106/500 [02:15<05:59,  1.10it/s]No relevant docs were retrieved using the relevance score threshold 0.1\n",
      " 23%|██▎       | 116/500 [02:24<05:53,  1.09it/s]/Users/mariadancianu/Desktop/Git Projects/SQuAD_RAG_experiments/.venv/lib/python3.12/site-packages/langchain_core/vectorstores/base.py:1076: UserWarning: Relevance scores must be between 0 and 1, got [(Document(metadata={'start_index': 133, 'title': 'Islamism'}, page_content='. Victims of their campaign against the Egyptian state in the 1990s included the head of the counter-terrorism police (Major General Raouf Khayrat), a parliamentary speaker (Rifaat al-Mahgoub), dozens of European tourists and Egyptian bystanders, and over 100 Egyptian police'), 0.004366177738908683), (Document(metadata={'start_index': 878, 'title': 'Harvard_University'}, page_content='. S. Secretary of Housing and Urban Development Shaun Donovan; Canadian political leader Michael Ignatieff; Pakistani Members of Provincial Assembly Murtaza Bhutto and Sanam Bhutto; Bangladesh Minister of Finance Abul Maal Abdul Muhith; President of Puntland Abdiweli Mohamed Ali; U.S. Ambassador to the European Union Anthony Luzzatto Gardner.'), -0.014009848211841147), (Document(metadata={'start_index': 548, 'title': 'French_and_Indian_War'}, page_content=\". His objective was to punish the Miami people of Pickawillany for not following Céloron's orders to cease trading with the British. On June 21, the French war party attacked the trading centre at Pickawillany, capturing three traders and killing 14 people of the Miami nation, including Old Briton. He was reportedly ritually cannibalized by some aboriginal members of the expedition.\"), -0.030147455038177284)]\n",
      "  self.vectorstore.similarity_search_with_relevance_scores(\n",
      "No relevant docs were retrieved using the relevance score threshold 0.1\n",
      " 24%|██▍       | 120/500 [02:28<05:57,  1.06it/s]/Users/mariadancianu/Desktop/Git Projects/SQuAD_RAG_experiments/.venv/lib/python3.12/site-packages/langchain_core/vectorstores/base.py:1076: UserWarning: Relevance scores must be between 0 and 1, got [(Document(metadata={'start_index': 199, 'title': 'Normans'}, page_content='. King David I of Scotland, whose elder brother Alexander I had married Sybilla of Normandy, was instrumental in introducing Normans and Norman culture to Scotland, part of the process some scholars call the \"Davidian Revolution\"'), -0.07243692848443217), (Document(metadata={'start_index': 290, 'title': 'Yuan_dynasty'}, page_content='. The Mongol custom of long standing quda/marriage alliance with Mongol clans, the Onggirat, and the Ikeres, kept the imperial blood purely Mongol until the reign of Tugh Temur, whose mother was a Tangut concubine. The Mongol Emperors had built large palaces and pavilions, but some still continued to live as nomads at times'), -0.08842238518764423), (Document(metadata={'start_index': 428, 'title': 'Normans'}, page_content=\". Having spent time at the court of Henry I of England (married to David's sister Maud of Scotland), and needing them to wrestle the kingdom from his half-brother Máel Coluim mac Alaxandair, David had to reward many with lands. The process was continued under David's successors, most intensely of all under William the Lion\"), -0.08895419412215455)]\n",
      "  self.vectorstore.similarity_search_with_relevance_scores(\n",
      "No relevant docs were retrieved using the relevance score threshold 0.1\n",
      " 25%|██▌       | 126/500 [02:36<07:12,  1.16s/it]/Users/mariadancianu/Desktop/Git Projects/SQuAD_RAG_experiments/.venv/lib/python3.12/site-packages/langchain_core/vectorstores/base.py:1076: UserWarning: Relevance scores must be between 0 and 1, got [(Document(metadata={'start_index': 0, 'title': 'Huguenot'}, page_content='Paul Revere was descended from Huguenot refugees, as was Henry Laurens, who signed the Articles of Confederation for South Carolina; Jack Jouett, who made the ride from Cuckoo Tavern to warn Thomas Jefferson and others that Tarleton and his men were on their way to arrest him for crimes against the king; Francis Marion, and a number of other leaders of the American Revolution and later statesmen'), 0.01735583644996619), (Document(metadata={'start_index': 0, 'title': 'Harvard_University'}, page_content='Other: Civil rights leader W. E. B. Du Bois; philosopher Henry David Thoreau; authors Ralph Waldo Emerson and William S. Burroughs; educators Werner Baer, Harlan Hanson; poets Wallace Stevens, T. S. Eliot and E. E'), 0.005581187087780659), (Document(metadata={'start_index': 367, 'title': 'Normans'}, page_content='. He appointed Robert of Jumièges archbishop of Canterbury and made Ralph the Timid earl of Hereford. He invited his brother-in-law Eustace II, Count of Boulogne to his court in 1051, an event which resulted in the greatest of early conflicts between Saxon and Norman and ultimately resulted in the exile of Earl Godwin of Wessex.'), -0.03250321098884523)]\n",
      "  self.vectorstore.similarity_search_with_relevance_scores(\n",
      "No relevant docs were retrieved using the relevance score threshold 0.1\n",
      " 31%|███       | 153/500 [03:04<04:33,  1.27it/s]No relevant docs were retrieved using the relevance score threshold 0.1\n",
      " 31%|███       | 154/500 [03:05<04:28,  1.29it/s]/Users/mariadancianu/Desktop/Git Projects/SQuAD_RAG_experiments/.venv/lib/python3.12/site-packages/langchain_core/vectorstores/base.py:1076: UserWarning: Relevance scores must be between 0 and 1, got [(Document(metadata={'start_index': 382, 'title': 'Normans'}, page_content='. But Isaac changed his mind and tried to escape. Richard then proceeded to conquer the whole island, his troops being led by Guy de Lusignan. Isaac surrendered and was confined with silver chains, because Richard had promised that he would not place him in irons. By 1 June, Richard had conquered the whole island'), 0.2559492301638343), (Document(metadata={'start_index': 0, 'title': 'Force'}, page_content='Tension forces can be modeled using ideal strings that are massless, frictionless, unbreakable, and unstretchable. They can be combined with ideal pulleys, which allow ideal strings to switch physical direction'), -0.02906354673509859), (Document(metadata={'start_index': 0, 'title': 'Normans'}, page_content='Various princes of the Holy Land arrived in Limassol at the same time, in particular Guy de Lusignan. All declared their support for Richard provided that he support Guy against his rival Conrad of Montferrat. The local barons abandoned Isaac, who considered making peace with Richard, joining him on the crusade, and offering his daughter in marriage to the person named by Richard'), -0.04782679358304209)]\n",
      "  self.vectorstore.similarity_search_with_relevance_scores(\n",
      " 31%|███       | 156/500 [03:07<04:42,  1.22it/s]/Users/mariadancianu/Desktop/Git Projects/SQuAD_RAG_experiments/.venv/lib/python3.12/site-packages/langchain_core/vectorstores/base.py:1076: UserWarning: Relevance scores must be between 0 and 1, got [(Document(metadata={'start_index': 1802, 'title': 'Pharmacy'}, page_content='. He made clear distinction between sodium carbonate and potassium carbonate, and drew attention to the poisonous nature of copper compounds, especially copper vitriol, and also lead compounds. He also describes the distillation of sea-water for drinking.[verification needed]'), 0.006946323511048624), (Document(metadata={'start_index': 723, 'title': 'French_and_Indian_War'}, page_content='. When Clinton did not respond to his satisfaction, Chief Hendrick said that the \"Covenant Chain\", a long-standing friendly relationship between the Iroquois Confederacy and the British Crown, was broken.'), -0.04103171007872164), (Document(metadata={'start_index': 0, 'title': 'Yuan_dynasty'}, page_content='One of the more notable applications of printing technology was the chao, the paper money of the Yuan. Chao were made from the bark of mulberry trees. The Yuan government used woodblocks to print paper money, but switched to bronze plates in 1275. The Mongols experimented with establishing the Chinese-style paper monetary system in Mongol-controlled territories outside of China'), -0.04615474380891782)]\n",
      "  self.vectorstore.similarity_search_with_relevance_scores(\n",
      "No relevant docs were retrieved using the relevance score threshold 0.1\n",
      " 32%|███▏      | 158/500 [03:09<04:36,  1.24it/s]/Users/mariadancianu/Desktop/Git Projects/SQuAD_RAG_experiments/.venv/lib/python3.12/site-packages/langchain_core/vectorstores/base.py:1076: UserWarning: Relevance scores must be between 0 and 1, got [(Document(metadata={'start_index': 0, 'title': 'Normans'}, page_content='Various princes of the Holy Land arrived in Limassol at the same time, in particular Guy de Lusignan. All declared their support for Richard provided that he support Guy against his rival Conrad of Montferrat. The local barons abandoned Isaac, who considered making peace with Richard, joining him on the crusade, and offering his daughter in marriage to the person named by Richard'), 0.15730824014675582), (Document(metadata={'start_index': 382, 'title': 'Normans'}, page_content='. But Isaac changed his mind and tried to escape. Richard then proceeded to conquer the whole island, his troops being led by Guy de Lusignan. Isaac surrendered and was confined with silver chains, because Richard had promised that he would not place him in irons. By 1 June, Richard had conquered the whole island'), 0.12500057342073), (Document(metadata={'start_index': 583, 'title': 'French_and_Indian_War'}, page_content='. Traders married daughters of chiefs, creating high-ranking unions.'), -0.04787526245882967)]\n",
      "  self.vectorstore.similarity_search_with_relevance_scores(\n",
      " 32%|███▏      | 159/500 [03:09<04:25,  1.29it/s]/Users/mariadancianu/Desktop/Git Projects/SQuAD_RAG_experiments/.venv/lib/python3.12/site-packages/langchain_core/vectorstores/base.py:1076: UserWarning: Relevance scores must be between 0 and 1, got [(Document(metadata={'start_index': 0, 'title': 'Normans'}, page_content='Between 1402 and 1405, the expedition led by the Norman noble Jean de Bethencourt and the Poitevine Gadifer de la Salle conquered the Canarian islands of Lanzarote, Fuerteventura and El Hierro off the Atlantic coast of Africa. Their troops were gathered in Normandy, Gascony and were later reinforced by Castilian colonists.'), 0.17102231889001862), (Document(metadata={'start_index': 0, 'title': 'Normans'}, page_content=\"Bethencourt took the title of King of the Canary Islands, as vassal to Henry III of Castile. In 1418, Jean's nephew Maciot de Bethencourt sold the rights to the islands to Enrique Pérez de Guzmán, 2nd Count de Niebla.\"), 0.10458261695332438), (Document(metadata={'start_index': 1116, 'title': 'Normans'}, page_content='. Norman cultural and military influence spread from these new European centres to the Crusader states of the Near East, where their prince Bohemond I founded the Principality of Antioch in the Levant, to Scotland and Wales in Great Britain, to Ireland, and to the coasts of north Africa and the Canary Islands.'), -0.03836651196628682)]\n",
      "  self.vectorstore.similarity_search_with_relevance_scores(\n",
      " 32%|███▏      | 161/500 [03:11<04:40,  1.21it/s]No relevant docs were retrieved using the relevance score threshold 0.1\n",
      " 33%|███▎      | 167/500 [03:21<09:54,  1.79s/it]/Users/mariadancianu/Desktop/Git Projects/SQuAD_RAG_experiments/.venv/lib/python3.12/site-packages/langchain_core/vectorstores/base.py:1076: UserWarning: Relevance scores must be between 0 and 1, got [(Document(metadata={'start_index': 0, 'title': 'Normans'}, page_content='The customary law of Normandy was developed between the 10th and 13th centuries and survives today through the legal systems of Jersey and Guernsey in the Channel Islands'), 0.22228502497163682), (Document(metadata={'start_index': 220, 'title': 'French_and_Indian_War'}, page_content='. The British offered France the choice of surrendering either its continental North American possessions east of the Mississippi or the Caribbean islands of Guadeloupe and Martinique, which had been occupied by the British. France chose to cede the former, but was able to negotiate the retention of Saint Pierre and Miquelon, two small islands in the Gulf of St'), 0.0005560183398267693), (Document(metadata={'start_index': 0, 'title': 'Huguenot'}, page_content='The bulk of Huguenot émigrés relocated to Protestant European nations such as England, Wales, Scotland, Denmark, Sweden, Switzerland, the Dutch Republic, the Electorate of Brandenburg and Electorate of the Palatinate in the Holy Roman Empire, the Duchy of Prussia, the Channel Islands, and Ireland'), -0.027832665824262026)]\n",
      "  self.vectorstore.similarity_search_with_relevance_scores(\n",
      " 49%|████▊     | 243/500 [04:33<03:41,  1.16it/s]/Users/mariadancianu/Desktop/Git Projects/SQuAD_RAG_experiments/.venv/lib/python3.12/site-packages/langchain_core/vectorstores/base.py:1076: UserWarning: Relevance scores must be between 0 and 1, got [(Document(metadata={'start_index': 653, 'title': 'Computational_complexity_theory'}, page_content='. Stated another way, the instance is a particular input to the problem, and the solution is the output corresponding to the given input.'), 0.08480461823370822), (Document(metadata={'start_index': 932, 'title': 'Scottish_Parliament'}, page_content='. The four general questions available to opposition leaders are:'), 0.001015166107504517), (Document(metadata={'start_index': 545, 'title': 'Computational_complexity_theory'}, page_content='. If the algorithm deciding this problem returns the answer yes, the algorithm is said to accept the input string, otherwise it is said to reject the input.'), -0.01890107427522736)]\n",
      "  self.vectorstore.similarity_search_with_relevance_scores(\n",
      "No relevant docs were retrieved using the relevance score threshold 0.1\n",
      " 56%|█████▌    | 278/500 [05:06<03:19,  1.11it/s]No relevant docs were retrieved using the relevance score threshold 0.1\n",
      " 59%|█████▉    | 297/500 [05:29<02:54,  1.16it/s]/Users/mariadancianu/Desktop/Git Projects/SQuAD_RAG_experiments/.venv/lib/python3.12/site-packages/langchain_core/vectorstores/base.py:1076: UserWarning: Relevance scores must be between 0 and 1, got [(Document(metadata={'start_index': 276, 'title': 'Computational_complexity_theory'}, page_content='. Thus the time required to solve a problem (or the space required, or any measure of complexity) is calculated as a function of the size of the instance. This is usually taken to be the size of the input in bits. Complexity theory is interested in how algorithms scale with an increase in the input size'), 0.12100075320334913), (Document(metadata={'start_index': 653, 'title': 'Computational_complexity_theory'}, page_content='. Stated another way, the instance is a particular input to the problem, and the solution is the output corresponding to the given input.'), -0.026179666425664827), (Document(metadata={'start_index': 0, 'title': 'Force'}, page_content='where  is the relevant cross-sectional area for the volume for which the stress-tensor is being calculated. This formalism includes pressure terms associated with forces that act normal to the cross-sectional area (the matrix diagonals of the tensor) as well as shear terms associated with forces that act parallel to the cross-sectional area (the off-diagonal elements)'), -0.030996253985034805)]\n",
      "  self.vectorstore.similarity_search_with_relevance_scores(\n",
      " 74%|███████▍  | 369/500 [06:36<01:58,  1.10it/s]/Users/mariadancianu/Desktop/Git Projects/SQuAD_RAG_experiments/.venv/lib/python3.12/site-packages/langchain_core/vectorstores/base.py:1076: UserWarning: Relevance scores must be between 0 and 1, got [(Document(metadata={'start_index': 270, 'title': 'Computational_complexity_theory'}, page_content='. Other complexity measures used in complexity theory include communication complexity, circuit complexity, and decision tree complexity.'), 0.13105884571938287), (Document(metadata={'start_index': 0, 'title': 'Computational_complexity_theory'}, page_content='Analogous definitions can be made for space requirements. Although time and space are the most well-known complexity resources, any complexity measure can be viewed as a computational resource. Complexity measures are very generally defined by the Blum complexity axioms'), -0.017884576582841705), (Document(metadata={'start_index': 0, 'title': 'Computational_complexity_theory'}, page_content='An example of a decision problem is the following. The input is an arbitrary graph. The problem consists in deciding whether the given graph is connected, or not. The formal language associated with this decision problem is then the set of all connected graphs—of course, to obtain a precise definition of this language, one has to decide how graphs are encoded as binary strings.'), -0.026165926553050278)]\n",
      "  self.vectorstore.similarity_search_with_relevance_scores(\n",
      "100%|██████████| 500/500 [09:06<00:00,  1.09s/it]\n"
     ]
    }
   ],
   "source": [
    "df = pd.read_csv(\"dataset.csv\")\n",
    "df_to_test = df[0:500]\n",
    "\n",
    "langchain_docs = convert_context_to_langchain_docs(df)\n",
    "\n",
    "fine_tune_rag(df_to_test, langchain_docs, parameters_dict, results_folder=results_folder, save_context=True)"
   ]
  },
  {
   "cell_type": "code",
   "execution_count": null,
   "id": "f1beec24",
   "metadata": {},
   "outputs": [],
   "source": [
    "! python eval_results/evaluation.py \"/Users/mariadancianu/Desktop/Git Projects/SQuAD_RAG_experiments/eval_results/data_updated_500.json\" \"/Users/mariadancianu/Desktop/Git Projects/SQuAD_RAG_experiments/eval_results/initial_eval_results/pred_500_400_text-embedding-3-large_gpt-3.5-turbo.json\""
   ]
  },
  {
   "cell_type": "code",
   "execution_count": null,
   "id": "44cd3a5f",
   "metadata": {},
   "outputs": [
    {
     "data": {
      "text/plain": [
       "(11873, 17)"
      ]
     },
     "execution_count": 32,
     "metadata": {},
     "output_type": "execute_result"
    }
   ],
   "source": [
    "df_merged = merge_results(f1_filepath=os.path.join(os.getcwd(), \"eval_results/f1_thresh_by_qid.json\"), \n",
    "                          exact_filepath=os.path.join(os.getcwd(), \"eval_results/exact_thresh_by_qid.json\"), \n",
    "                          pred_filepath=best_result_path, \n",
    "                          filepath_500=os.path.join(os.getcwd(), \"eval_results/debugging_eval_results\", \"pred_500_100_text-embedding-3-large_gpt-3.5-turbo.json\"),\n",
    "                          context_filepath=os.path.join(os.getcwd(), \"eval_results/debugging_eval_results\", \"context_500_100_text-embedding-3-large_gpt-3.5-turbo.json\"), \n",
    "                          df_questions_filepath=\"dataset.csv\", \n",
    "                          filter_500=True)\n",
    "\n",
    "df_merged.shape"
   ]
  },
  {
   "cell_type": "code",
   "execution_count": 34,
   "id": "585095c4",
   "metadata": {},
   "outputs": [
    {
     "data": {
      "text/plain": [
       "Index(['question', 'list_idx', 'paragraph_idx', 'question_idx', 'id',\n",
       "       'is_impossible', 'answer_0', 'answer_1', 'answer_2', 'answer_3',\n",
       "       'context', 'title', 'answer_4', 'answer_5', 'f1_score', 'exact_score',\n",
       "       'pred'],\n",
       "      dtype='object')"
      ]
     },
     "execution_count": 34,
     "metadata": {},
     "output_type": "execute_result"
    }
   ],
   "source": [
    "df_merged.columns"
   ]
  },
  {
   "cell_type": "code",
   "execution_count": 47,
   "id": "9e9391a9",
   "metadata": {},
   "outputs": [
    {
     "data": {
      "text/html": [
       "<div>\n",
       "<style scoped>\n",
       "    .dataframe tbody tr th:only-of-type {\n",
       "        vertical-align: middle;\n",
       "    }\n",
       "\n",
       "    .dataframe tbody tr th {\n",
       "        vertical-align: top;\n",
       "    }\n",
       "\n",
       "    .dataframe thead th {\n",
       "        text-align: right;\n",
       "    }\n",
       "</style>\n",
       "<table border=\"1\" class=\"dataframe\">\n",
       "  <thead>\n",
       "    <tr style=\"text-align: right;\">\n",
       "      <th></th>\n",
       "      <th>id</th>\n",
       "      <th>is_impossible</th>\n",
       "      <th>f1_score</th>\n",
       "      <th>exact_score</th>\n",
       "      <th>question</th>\n",
       "      <th>pred</th>\n",
       "    </tr>\n",
       "  </thead>\n",
       "  <tbody>\n",
       "    <tr>\n",
       "      <th>478</th>\n",
       "      <td>5ad5648b5b96ef001a10ad97</td>\n",
       "      <td>True</td>\n",
       "      <td>0.0</td>\n",
       "      <td>0.0</td>\n",
       "      <td>What does one not need to remain constant in a...</td>\n",
       "      <td>the input</td>\n",
       "    </tr>\n",
       "    <tr>\n",
       "      <th>479</th>\n",
       "      <td>5ad5648b5b96ef001a10ad98</td>\n",
       "      <td>True</td>\n",
       "      <td>0.0</td>\n",
       "      <td>0.0</td>\n",
       "      <td>What is more difficult that multiplication?</td>\n",
       "      <td>calculating the discrete logarithm</td>\n",
       "    </tr>\n",
       "    <tr>\n",
       "      <th>484</th>\n",
       "      <td>5ad565575b96ef001a10adb2</td>\n",
       "      <td>True</td>\n",
       "      <td>0.0</td>\n",
       "      <td>0.0</td>\n",
       "      <td>What does the complexity of problems not often...</td>\n",
       "      <td>the instance</td>\n",
       "    </tr>\n",
       "    <tr>\n",
       "      <th>485</th>\n",
       "      <td>5ad565575b96ef001a10adb3</td>\n",
       "      <td>True</td>\n",
       "      <td>0.0</td>\n",
       "      <td>0.0</td>\n",
       "      <td>What would not create a conflict between a pro...</td>\n",
       "      <td>An algorithm for X that solves any problem in C.</td>\n",
       "    </tr>\n",
       "    <tr>\n",
       "      <th>486</th>\n",
       "      <td>5ad565575b96ef001a10adb4</td>\n",
       "      <td>True</td>\n",
       "      <td>1.0</td>\n",
       "      <td>1.0</td>\n",
       "      <td>What problem in C is harder than X?</td>\n",
       "      <td>\"\"</td>\n",
       "    </tr>\n",
       "    <tr>\n",
       "      <th>487</th>\n",
       "      <td>5ad565575b96ef001a10adb5</td>\n",
       "      <td>True</td>\n",
       "      <td>0.0</td>\n",
       "      <td>0.0</td>\n",
       "      <td>How is a problem set that is hard for expressi...</td>\n",
       "      <td>Complete</td>\n",
       "    </tr>\n",
       "    <tr>\n",
       "      <th>492</th>\n",
       "      <td>5ad566375b96ef001a10adce</td>\n",
       "      <td>True</td>\n",
       "      <td>1.0</td>\n",
       "      <td>1.0</td>\n",
       "      <td>What happens if a problem X is in C, and soft ...</td>\n",
       "      <td>\"\"</td>\n",
       "    </tr>\n",
       "    <tr>\n",
       "      <th>493</th>\n",
       "      <td>5ad566375b96ef001a10adcf</td>\n",
       "      <td>True</td>\n",
       "      <td>1.0</td>\n",
       "      <td>1.0</td>\n",
       "      <td>What is the softest problem in C?</td>\n",
       "      <td>\"\"</td>\n",
       "    </tr>\n",
       "    <tr>\n",
       "      <th>494</th>\n",
       "      <td>5ad566375b96ef001a10add0</td>\n",
       "      <td>True</td>\n",
       "      <td>0.0</td>\n",
       "      <td>0.0</td>\n",
       "      <td>What is class contains the the least difficult...</td>\n",
       "      <td>NP-complete</td>\n",
       "    </tr>\n",
       "    <tr>\n",
       "      <th>495</th>\n",
       "      <td>5ad566375b96ef001a10add1</td>\n",
       "      <td>True</td>\n",
       "      <td>0.0</td>\n",
       "      <td>0.0</td>\n",
       "      <td>What would indicate that there is a known poly...</td>\n",
       "      <td>Being able to reduce a known NP-complete probl...</td>\n",
       "    </tr>\n",
       "  </tbody>\n",
       "</table>\n",
       "</div>"
      ],
      "text/plain": [
       "                           id  is_impossible  f1_score  exact_score  \\\n",
       "478  5ad5648b5b96ef001a10ad97           True       0.0          0.0   \n",
       "479  5ad5648b5b96ef001a10ad98           True       0.0          0.0   \n",
       "484  5ad565575b96ef001a10adb2           True       0.0          0.0   \n",
       "485  5ad565575b96ef001a10adb3           True       0.0          0.0   \n",
       "486  5ad565575b96ef001a10adb4           True       1.0          1.0   \n",
       "487  5ad565575b96ef001a10adb5           True       0.0          0.0   \n",
       "492  5ad566375b96ef001a10adce           True       1.0          1.0   \n",
       "493  5ad566375b96ef001a10adcf           True       1.0          1.0   \n",
       "494  5ad566375b96ef001a10add0           True       0.0          0.0   \n",
       "495  5ad566375b96ef001a10add1           True       0.0          0.0   \n",
       "\n",
       "                                              question  \\\n",
       "478  What does one not need to remain constant in a...   \n",
       "479        What is more difficult that multiplication?   \n",
       "484  What does the complexity of problems not often...   \n",
       "485  What would not create a conflict between a pro...   \n",
       "486                What problem in C is harder than X?   \n",
       "487  How is a problem set that is hard for expressi...   \n",
       "492  What happens if a problem X is in C, and soft ...   \n",
       "493                  What is the softest problem in C?   \n",
       "494  What is class contains the the least difficult...   \n",
       "495  What would indicate that there is a known poly...   \n",
       "\n",
       "                                                  pred  \n",
       "478                                          the input  \n",
       "479                 calculating the discrete logarithm  \n",
       "484                                       the instance  \n",
       "485   An algorithm for X that solves any problem in C.  \n",
       "486                                                 \"\"  \n",
       "487                                           Complete  \n",
       "492                                                 \"\"  \n",
       "493                                                 \"\"  \n",
       "494                                        NP-complete  \n",
       "495  Being able to reduce a known NP-complete probl...  "
      ]
     },
     "execution_count": 47,
     "metadata": {},
     "output_type": "execute_result"
    }
   ],
   "source": [
    "df_merged[df_merged.is_impossible][[\"id\", \"is_impossible\", \"f1_score\", \"exact_score\", \"question\", \"pred\"]].tail(10)"
   ]
  },
  {
   "cell_type": "code",
   "execution_count": 48,
   "id": "cf1c16c7",
   "metadata": {},
   "outputs": [
    {
     "name": "stdout",
     "output_type": "stream",
     "text": [
      "The most commonly used reduction is a polynomial-time reduction.\n",
      "This means that the reduction process takes polynomial time.\n",
      "For example, the problem of squaring an integer can be reduced to the problem of multiplying two integers.\n",
      "This means an algorithm for multiplying two integers can be used to square an integer.\n",
      "Indeed, this can be done by giving the same input to both inputs of the multiplication algorithm.\n",
      "Thus we see that squaring is not more difficult than multiplication, since squaring can be reduced to multiplication.\n"
     ]
    }
   ],
   "source": [
    "print(df_merged.loc[479, \"context\"].replace(\". \", \".\\n\"))"
   ]
  },
  {
   "cell_type": "code",
   "execution_count": null,
   "id": "91da5f32",
   "metadata": {},
   "outputs": [],
   "source": []
  }
 ],
 "metadata": {
  "kernelspec": {
   "display_name": ".venv",
   "language": "python",
   "name": "python3"
  },
  "language_info": {
   "codemirror_mode": {
    "name": "ipython",
    "version": 3
   },
   "file_extension": ".py",
   "mimetype": "text/x-python",
   "name": "python",
   "nbconvert_exporter": "python",
   "pygments_lexer": "ipython3",
   "version": "3.12.2"
  }
 },
 "nbformat": 4,
 "nbformat_minor": 5
}
